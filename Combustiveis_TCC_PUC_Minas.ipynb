{
 "cells": [
  {
   "cell_type": "markdown",
   "id": "4993c315",
   "metadata": {},
   "source": [
    "## AUMENTO DO PREÇO DOS COMBUSTÍVEIS AO LONGO DOS ANOS NO BRASIL "
   ]
  },
  {
   "cell_type": "markdown",
   "id": "b2fc2ecc",
   "metadata": {},
   "source": [
    "### Pós-graduação Lato Sensu em Ciência de Dados e Big Data\n",
    "#### Aluna: Jessica Rosa da Silva Salvador"
   ]
  },
  {
   "cell_type": "code",
   "execution_count": 108,
   "id": "9e86774a",
   "metadata": {},
   "outputs": [
    {
     "name": "stdout",
     "output_type": "stream",
     "text": [
      "Requirement already satisfied: plotly in c:\\users\\brain\\anaconda3\\lib\\site-packages (5.8.0)\n",
      "Requirement already satisfied: tenacity>=6.2.0 in c:\\users\\brain\\anaconda3\\lib\\site-packages (from plotly) (8.0.1)\n"
     ]
    }
   ],
   "source": [
    "import numpy as np\n",
    "import pandas as pd\n",
    "import requests\n",
    "\n",
    "!pip install plotly\n",
    "import plotly.express as px\n",
    "import plotly.graph_objects as go\n",
    "from plotly.subplots import make_subplots\n",
    "\n",
    "# SKLearning - Utilizada para treinar e testar a regressão linear executada no projeto\n",
    "from sklearn.model_selection import train_test_split\n",
    "from sklearn import preprocessing\n",
    "from sklearn.linear_model import LinearRegression\n",
    "from sklearn.metrics import r2_score\n",
    "from sklearn import linear_model\n",
    "from sklearn.ensemble import RandomForestRegressor\n",
    "\n",
    "import seaborn as sns\n",
    "import matplotlib.pyplot as plt\n",
    "plt.style.use('seaborn')"
   ]
  },
  {
   "cell_type": "code",
   "execution_count": 109,
   "id": "b0715e71",
   "metadata": {},
   "outputs": [],
   "source": [
    "def defDatasetTamanho(df):\n",
    "    shape = df.shape\n",
    "    print(\"O dataset apresenta \" + str(shape[1]) + \" colunas e \" + str(shape[0]) + \" registros.\\n\")\n",
    "    \n",
    "def deftiposeNulos(df):\n",
    "    print(\"A seguir a listagem da tipagem das colunas e seu nível de preenchimento:\\n\")\n",
    "    \n",
    "    #display(df.columns)\n",
    "    # info on variable types and filling factor\n",
    "    tab_info=pd.DataFrame(df.dtypes).T.rename(index={0:'column type'})\n",
    "    tab_info=tab_info.append(pd.DataFrame(df.isnull().sum()).T.rename(index={0:'null values'}))\n",
    "    tab_info=tab_info.append(pd.DataFrame(df.isnull().sum()/df.shape[0]*100).T.\n",
    "                         rename(index={0:'null values (%)'}))\n",
    "    display(tab_info.transpose())\n",
    "    "
   ]
  },
  {
   "cell_type": "markdown",
   "id": "e4eca704",
   "metadata": {},
   "source": [
    "### Importando a base de dados dos preços de combustíveis(período de 2011 até 2022)"
   ]
  },
  {
   "cell_type": "code",
   "execution_count": 110,
   "id": "c0be1df2",
   "metadata": {},
   "outputs": [],
   "source": [
    "base1 = pd.read_excel('mensal-estados-2001-a-2012.xlsx')"
   ]
  },
  {
   "cell_type": "code",
   "execution_count": 111,
   "id": "32cdba09",
   "metadata": {},
   "outputs": [],
   "source": [
    "base2 = pd.read_excel('mensal-estados-desde-jan2013.xlsx')"
   ]
  },
  {
   "cell_type": "markdown",
   "id": "ac0fe3fa",
   "metadata": {},
   "source": [
    "### Concatenação e Tratamento da base de dados de combustíveis"
   ]
  },
  {
   "cell_type": "code",
   "execution_count": 112,
   "id": "2889c669",
   "metadata": {},
   "outputs": [],
   "source": [
    "#União dos dois dataframes utilizando do concat\n",
    "base_df = pd.concat([base1, base2], axis=0)"
   ]
  },
  {
   "cell_type": "code",
   "execution_count": 113,
   "id": "bc6ac707",
   "metadata": {},
   "outputs": [
    {
     "name": "stdout",
     "output_type": "stream",
     "text": [
      "O dataset apresenta 17 colunas e 34813 registros.\n",
      "\n",
      "A seguir a listagem da tipagem das colunas e seu nível de preenchimento:\n",
      "\n"
     ]
    },
    {
     "data": {
      "text/html": [
       "<div>\n",
       "<style scoped>\n",
       "    .dataframe tbody tr th:only-of-type {\n",
       "        vertical-align: middle;\n",
       "    }\n",
       "\n",
       "    .dataframe tbody tr th {\n",
       "        vertical-align: top;\n",
       "    }\n",
       "\n",
       "    .dataframe thead th {\n",
       "        text-align: right;\n",
       "    }\n",
       "</style>\n",
       "<table border=\"1\" class=\"dataframe\">\n",
       "  <thead>\n",
       "    <tr style=\"text-align: right;\">\n",
       "      <th></th>\n",
       "      <th>column type</th>\n",
       "      <th>null values</th>\n",
       "      <th>null values (%)</th>\n",
       "    </tr>\n",
       "  </thead>\n",
       "  <tbody>\n",
       "    <tr>\n",
       "      <th>MÊS</th>\n",
       "      <td>datetime64[ns]</td>\n",
       "      <td>0</td>\n",
       "      <td>0.0</td>\n",
       "    </tr>\n",
       "    <tr>\n",
       "      <th>PRODUTO</th>\n",
       "      <td>object</td>\n",
       "      <td>0</td>\n",
       "      <td>0.0</td>\n",
       "    </tr>\n",
       "    <tr>\n",
       "      <th>REGIÃO</th>\n",
       "      <td>object</td>\n",
       "      <td>0</td>\n",
       "      <td>0.0</td>\n",
       "    </tr>\n",
       "    <tr>\n",
       "      <th>ESTADO</th>\n",
       "      <td>object</td>\n",
       "      <td>0</td>\n",
       "      <td>0.0</td>\n",
       "    </tr>\n",
       "    <tr>\n",
       "      <th>NÚMERO DE POSTOS PESQUISADOS</th>\n",
       "      <td>int64</td>\n",
       "      <td>0</td>\n",
       "      <td>0.0</td>\n",
       "    </tr>\n",
       "    <tr>\n",
       "      <th>UNIDADE DE MEDIDA</th>\n",
       "      <td>object</td>\n",
       "      <td>0</td>\n",
       "      <td>0.0</td>\n",
       "    </tr>\n",
       "    <tr>\n",
       "      <th>PREÇO MÉDIO REVENDA</th>\n",
       "      <td>float64</td>\n",
       "      <td>0</td>\n",
       "      <td>0.0</td>\n",
       "    </tr>\n",
       "    <tr>\n",
       "      <th>DESVIO PADRÃO REVENDA</th>\n",
       "      <td>float64</td>\n",
       "      <td>0</td>\n",
       "      <td>0.0</td>\n",
       "    </tr>\n",
       "    <tr>\n",
       "      <th>PREÇO MÍNIMO REVENDA</th>\n",
       "      <td>float64</td>\n",
       "      <td>0</td>\n",
       "      <td>0.0</td>\n",
       "    </tr>\n",
       "    <tr>\n",
       "      <th>PREÇO MÁXIMO REVENDA</th>\n",
       "      <td>float64</td>\n",
       "      <td>0</td>\n",
       "      <td>0.0</td>\n",
       "    </tr>\n",
       "    <tr>\n",
       "      <th>MARGEM MÉDIA REVENDA</th>\n",
       "      <td>object</td>\n",
       "      <td>0</td>\n",
       "      <td>0.0</td>\n",
       "    </tr>\n",
       "    <tr>\n",
       "      <th>COEF DE VARIAÇÃO REVENDA</th>\n",
       "      <td>float64</td>\n",
       "      <td>0</td>\n",
       "      <td>0.0</td>\n",
       "    </tr>\n",
       "    <tr>\n",
       "      <th>PREÇO MÉDIO DISTRIBUIÇÃO</th>\n",
       "      <td>object</td>\n",
       "      <td>0</td>\n",
       "      <td>0.0</td>\n",
       "    </tr>\n",
       "    <tr>\n",
       "      <th>DESVIO PADRÃO DISTRIBUIÇÃO</th>\n",
       "      <td>object</td>\n",
       "      <td>0</td>\n",
       "      <td>0.0</td>\n",
       "    </tr>\n",
       "    <tr>\n",
       "      <th>PREÇO MÍNIMO DISTRIBUIÇÃO</th>\n",
       "      <td>object</td>\n",
       "      <td>0</td>\n",
       "      <td>0.0</td>\n",
       "    </tr>\n",
       "    <tr>\n",
       "      <th>PREÇO MÁXIMO DISTRIBUIÇÃO</th>\n",
       "      <td>object</td>\n",
       "      <td>0</td>\n",
       "      <td>0.0</td>\n",
       "    </tr>\n",
       "    <tr>\n",
       "      <th>COEF DE VARIAÇÃO DISTRIBUIÇÃO</th>\n",
       "      <td>object</td>\n",
       "      <td>0</td>\n",
       "      <td>0.0</td>\n",
       "    </tr>\n",
       "  </tbody>\n",
       "</table>\n",
       "</div>"
      ],
      "text/plain": [
       "                                  column type null values null values (%)\n",
       "MÊS                            datetime64[ns]           0             0.0\n",
       "PRODUTO                                object           0             0.0\n",
       "REGIÃO                                 object           0             0.0\n",
       "ESTADO                                 object           0             0.0\n",
       "NÚMERO DE POSTOS PESQUISADOS            int64           0             0.0\n",
       "UNIDADE DE MEDIDA                      object           0             0.0\n",
       "PREÇO MÉDIO REVENDA                   float64           0             0.0\n",
       "DESVIO PADRÃO REVENDA                 float64           0             0.0\n",
       "PREÇO MÍNIMO REVENDA                  float64           0             0.0\n",
       "PREÇO MÁXIMO REVENDA                  float64           0             0.0\n",
       "MARGEM MÉDIA REVENDA                   object           0             0.0\n",
       "COEF DE VARIAÇÃO REVENDA              float64           0             0.0\n",
       "PREÇO MÉDIO DISTRIBUIÇÃO               object           0             0.0\n",
       "DESVIO PADRÃO DISTRIBUIÇÃO             object           0             0.0\n",
       "PREÇO MÍNIMO DISTRIBUIÇÃO              object           0             0.0\n",
       "PREÇO MÁXIMO DISTRIBUIÇÃO              object           0             0.0\n",
       "COEF DE VARIAÇÃO DISTRIBUIÇÃO          object           0             0.0"
      ]
     },
     "metadata": {},
     "output_type": "display_data"
    }
   ],
   "source": [
    "defDatasetTamanho(base_df)\n",
    "deftiposeNulos(base_df)"
   ]
  },
  {
   "cell_type": "markdown",
   "id": "cdd404f4",
   "metadata": {},
   "source": [
    "#### Correções de tipagem e valores errados"
   ]
  },
  {
   "cell_type": "code",
   "execution_count": 114,
   "id": "89b5e75d",
   "metadata": {},
   "outputs": [],
   "source": [
    "# Acertando a tipagem das colunas para poder unir os dois dataframes \n",
    "# Como tem valores com '-' os mesmos ficam nulos quando acontece a conversão\n",
    "base_df['PREÇO MÉDIO DISTRIBUIÇÃO'] = pd.to_numeric(base_df['PREÇO MÉDIO DISTRIBUIÇÃO'], errors='coerce')"
   ]
  },
  {
   "cell_type": "code",
   "execution_count": 115,
   "id": "410b9202",
   "metadata": {},
   "outputs": [
    {
     "data": {
      "text/plain": [
       "array(['ETANOL HIDRATADO', 'GASOLINA COMUM', 'GLP', 'GNV', 'ÓLEO DIESEL',\n",
       "       'ÓLEO DIESEL S10', 'OLEO DIESEL', 'OLEO DIESEL S10',\n",
       "       'GASOLINA ADITIVADA'], dtype=object)"
      ]
     },
     "execution_count": 115,
     "metadata": {},
     "output_type": "execute_result"
    }
   ],
   "source": [
    "#Temos produtos repetidos por falta de acento nas palavras\n",
    "base_df[\"PRODUTO\"].unique()"
   ]
  },
  {
   "cell_type": "code",
   "execution_count": 116,
   "id": "85a86fa1",
   "metadata": {},
   "outputs": [],
   "source": [
    "#Acertando os valores\n",
    "base_df = base_df.replace(\"OLEO DIESEL\", \"ÓLEO DIESEL\")\n",
    "base_df = base_df.replace(\"OLEO DIESEL S10\", \"ÓLEO DIESEL S10\")\n",
    "base_df = base_df.replace(\"AMAPA\", \"AMAPÁ\") \n",
    "base_df = base_df.replace(\"CEARA\", \"CEARÁ\")\n",
    "base_df = base_df.replace(\"ESPIRITO SANTO\", \"ESPÍRITO SANTO\")\n",
    "base_df = base_df.replace(\"GOIAS\", \"GOIÁS\")\n",
    "base_df = base_df.replace(\"MARANHAO\", \"MARANHÃO\")\n",
    "base_df = base_df.replace(\"PARA\", \"PARÁ\")\n",
    "base_df = base_df.replace(\"PARAIBA\", \"PARAÍBA\")\n",
    "base_df = base_df.replace(\"PARANA\", \"PARANÁ\")\n",
    "base_df = base_df.replace(\"PIAUI\", \"PIAUÍ\")\n",
    "base_df = base_df.replace(\"RONDONIA\", \"RONDÔNIA\")\n",
    "base_df = base_df.replace(\"SAO PAULO\", \"SÃO PAULO\")"
   ]
  },
  {
   "cell_type": "code",
   "execution_count": 117,
   "id": "381108c4",
   "metadata": {},
   "outputs": [
    {
     "data": {
      "text/plain": [
       "array(['ETANOL HIDRATADO', 'GASOLINA COMUM', 'GLP', 'GNV', 'ÓLEO DIESEL',\n",
       "       'ÓLEO DIESEL S10', 'GASOLINA ADITIVADA'], dtype=object)"
      ]
     },
     "execution_count": 117,
     "metadata": {},
     "output_type": "execute_result"
    }
   ],
   "source": [
    "#Conferindo os produtos após o tratamento\n",
    "base_df[\"PRODUTO\"].unique()"
   ]
  },
  {
   "cell_type": "code",
   "execution_count": 118,
   "id": "3ed884d5",
   "metadata": {},
   "outputs": [],
   "source": [
    "#Criando a coluna ano\n",
    "base_df['ANO'] = base_df['MÊS'].dt.year"
   ]
  },
  {
   "cell_type": "code",
   "execution_count": 119,
   "id": "6ca99782",
   "metadata": {},
   "outputs": [],
   "source": [
    "# Cria a coluna DATA removendo os dias\n",
    "base_df['MÊS'] = base_df['MÊS'].dt.to_period('M')"
   ]
  },
  {
   "cell_type": "code",
   "execution_count": 120,
   "id": "6fd5194d",
   "metadata": {},
   "outputs": [],
   "source": [
    "#excluindo colunas que não serão usadas do dataframe\n",
    "base_df = base_df.drop([\"NÚMERO DE POSTOS PESQUISADOS\",\"UNIDADE DE MEDIDA\",\"DESVIO PADRÃO REVENDA\",\"PREÇO MÍNIMO REVENDA\", \n",
    "                        \"PREÇO MÁXIMO REVENDA\",\"MARGEM MÉDIA REVENDA\",\"DESVIO PADRÃO DISTRIBUIÇÃO\",\"PREÇO MÍNIMO DISTRIBUIÇÃO\",\n",
    "                        \"PREÇO MÁXIMO DISTRIBUIÇÃO\",\"COEF DE VARIAÇÃO DISTRIBUIÇÃO\",\"COEF DE VARIAÇÃO REVENDA\"], axis=1)"
   ]
  },
  {
   "cell_type": "markdown",
   "id": "e709b670",
   "metadata": {},
   "source": [
    "#### Filtragem"
   ]
  },
  {
   "cell_type": "code",
   "execution_count": 121,
   "id": "5b5114d8",
   "metadata": {},
   "outputs": [
    {
     "data": {
      "text/plain": [
       "array(['ETANOL HIDRATADO', 'GASOLINA COMUM', 'GNV', 'ÓLEO DIESEL',\n",
       "       'ÓLEO DIESEL S10', 'GASOLINA ADITIVADA'], dtype=object)"
      ]
     },
     "execution_count": 121,
     "metadata": {},
     "output_type": "execute_result"
    }
   ],
   "source": [
    "#removendo 2011 para trás\n",
    "dfremove = base_df.loc[(base_df['MÊS']<= '2007-12')]\n",
    "base_df = base_df.drop(dfremove.index)\n",
    "\n",
    "#Removendo o combustível GLP\n",
    "dfremove_glp = base_df.loc[(base_df['PRODUTO'] == 'GLP')]\n",
    "base_df = base_df.drop(dfremove_glp.index)\n",
    "base_df['PRODUTO'].unique()"
   ]
  },
  {
   "cell_type": "markdown",
   "id": "8a4f6b9e",
   "metadata": {},
   "source": [
    "#### Tratamento de dados ausentes"
   ]
  },
  {
   "cell_type": "code",
   "execution_count": 122,
   "id": "773d46be",
   "metadata": {},
   "outputs": [
    {
     "name": "stdout",
     "output_type": "stream",
     "text": [
      "A seguir a listagem da tipagem das colunas e seu nível de preenchimento:\n",
      "\n"
     ]
    },
    {
     "data": {
      "text/html": [
       "<div>\n",
       "<style scoped>\n",
       "    .dataframe tbody tr th:only-of-type {\n",
       "        vertical-align: middle;\n",
       "    }\n",
       "\n",
       "    .dataframe tbody tr th {\n",
       "        vertical-align: top;\n",
       "    }\n",
       "\n",
       "    .dataframe thead th {\n",
       "        text-align: right;\n",
       "    }\n",
       "</style>\n",
       "<table border=\"1\" class=\"dataframe\">\n",
       "  <thead>\n",
       "    <tr style=\"text-align: right;\">\n",
       "      <th></th>\n",
       "      <th>column type</th>\n",
       "      <th>null values</th>\n",
       "      <th>null values (%)</th>\n",
       "    </tr>\n",
       "  </thead>\n",
       "  <tbody>\n",
       "    <tr>\n",
       "      <th>MÊS</th>\n",
       "      <td>period[M]</td>\n",
       "      <td>0</td>\n",
       "      <td>0.0</td>\n",
       "    </tr>\n",
       "    <tr>\n",
       "      <th>PRODUTO</th>\n",
       "      <td>object</td>\n",
       "      <td>0</td>\n",
       "      <td>0.0</td>\n",
       "    </tr>\n",
       "    <tr>\n",
       "      <th>REGIÃO</th>\n",
       "      <td>object</td>\n",
       "      <td>0</td>\n",
       "      <td>0.0</td>\n",
       "    </tr>\n",
       "    <tr>\n",
       "      <th>ESTADO</th>\n",
       "      <td>object</td>\n",
       "      <td>0</td>\n",
       "      <td>0.0</td>\n",
       "    </tr>\n",
       "    <tr>\n",
       "      <th>PREÇO MÉDIO REVENDA</th>\n",
       "      <td>float64</td>\n",
       "      <td>0</td>\n",
       "      <td>0.0</td>\n",
       "    </tr>\n",
       "    <tr>\n",
       "      <th>PREÇO MÉDIO DISTRIBUIÇÃO</th>\n",
       "      <td>float64</td>\n",
       "      <td>1952</td>\n",
       "      <td>19.056917</td>\n",
       "    </tr>\n",
       "    <tr>\n",
       "      <th>ANO</th>\n",
       "      <td>int64</td>\n",
       "      <td>0</td>\n",
       "      <td>0.0</td>\n",
       "    </tr>\n",
       "  </tbody>\n",
       "</table>\n",
       "</div>"
      ],
      "text/plain": [
       "                         column type null values null values (%)\n",
       "MÊS                        period[M]           0             0.0\n",
       "PRODUTO                       object           0             0.0\n",
       "REGIÃO                        object           0             0.0\n",
       "ESTADO                        object           0             0.0\n",
       "PREÇO MÉDIO REVENDA          float64           0             0.0\n",
       "PREÇO MÉDIO DISTRIBUIÇÃO     float64        1952       19.056917\n",
       "ANO                            int64           0             0.0"
      ]
     },
     "metadata": {},
     "output_type": "display_data"
    }
   ],
   "source": [
    "deftiposeNulos(base_df)"
   ]
  },
  {
   "cell_type": "code",
   "execution_count": 123,
   "id": "89a60c4b",
   "metadata": {},
   "outputs": [],
   "source": [
    "# Colocando o valor da mediana no lugar dos valores nulos\n",
    "base_df['PREÇO MÉDIO DISTRIBUIÇÃO'].fillna(base_df[\"PREÇO MÉDIO DISTRIBUIÇÃO\"].median(), inplace = True)"
   ]
  },
  {
   "cell_type": "code",
   "execution_count": 124,
   "id": "8be9a40e",
   "metadata": {},
   "outputs": [
    {
     "data": {
      "text/plain": [
       "(0, 7)"
      ]
     },
     "execution_count": 124,
     "metadata": {},
     "output_type": "execute_result"
    }
   ],
   "source": [
    "#Verificação de dados duplicados, resultado: 0\n",
    "linhas_dup_combs = base_df[base_df.duplicated(keep=False)]\n",
    "linhas_dup_combs.shape"
   ]
  },
  {
   "cell_type": "code",
   "execution_count": 125,
   "id": "b3d86829",
   "metadata": {},
   "outputs": [
    {
     "data": {
      "text/html": [
       "<div>\n",
       "<style scoped>\n",
       "    .dataframe tbody tr th:only-of-type {\n",
       "        vertical-align: middle;\n",
       "    }\n",
       "\n",
       "    .dataframe tbody tr th {\n",
       "        vertical-align: top;\n",
       "    }\n",
       "\n",
       "    .dataframe thead th {\n",
       "        text-align: right;\n",
       "    }\n",
       "</style>\n",
       "<table border=\"1\" class=\"dataframe\">\n",
       "  <thead>\n",
       "    <tr style=\"text-align: right;\">\n",
       "      <th></th>\n",
       "      <th>MÊS</th>\n",
       "      <th>PRODUTO</th>\n",
       "      <th>REGIÃO</th>\n",
       "      <th>ESTADO</th>\n",
       "      <th>PREÇO MÉDIO REVENDA</th>\n",
       "      <th>PREÇO MÉDIO DISTRIBUIÇÃO</th>\n",
       "      <th>ANO</th>\n",
       "    </tr>\n",
       "  </thead>\n",
       "  <tbody>\n",
       "    <tr>\n",
       "      <th>17604</th>\n",
       "      <td>2022-05</td>\n",
       "      <td>ÓLEO DIESEL S10</td>\n",
       "      <td>SUDESTE</td>\n",
       "      <td>ESPÍRITO SANTO</td>\n",
       "      <td>6.736</td>\n",
       "      <td>2.169</td>\n",
       "      <td>2022</td>\n",
       "    </tr>\n",
       "    <tr>\n",
       "      <th>17605</th>\n",
       "      <td>2022-05</td>\n",
       "      <td>ÓLEO DIESEL S10</td>\n",
       "      <td>CENTRO OESTE</td>\n",
       "      <td>GOIÁS</td>\n",
       "      <td>7.055</td>\n",
       "      <td>2.169</td>\n",
       "      <td>2022</td>\n",
       "    </tr>\n",
       "    <tr>\n",
       "      <th>17606</th>\n",
       "      <td>2022-05</td>\n",
       "      <td>ÓLEO DIESEL S10</td>\n",
       "      <td>NORDESTE</td>\n",
       "      <td>MARANHÃO</td>\n",
       "      <td>7.153</td>\n",
       "      <td>2.169</td>\n",
       "      <td>2022</td>\n",
       "    </tr>\n",
       "    <tr>\n",
       "      <th>17607</th>\n",
       "      <td>2022-05</td>\n",
       "      <td>ÓLEO DIESEL S10</td>\n",
       "      <td>CENTRO OESTE</td>\n",
       "      <td>MATO GROSSO</td>\n",
       "      <td>7.269</td>\n",
       "      <td>2.169</td>\n",
       "      <td>2022</td>\n",
       "    </tr>\n",
       "    <tr>\n",
       "      <th>17608</th>\n",
       "      <td>2022-05</td>\n",
       "      <td>ÓLEO DIESEL S10</td>\n",
       "      <td>CENTRO OESTE</td>\n",
       "      <td>MATO GROSSO DO SUL</td>\n",
       "      <td>6.938</td>\n",
       "      <td>2.169</td>\n",
       "      <td>2022</td>\n",
       "    </tr>\n",
       "    <tr>\n",
       "      <th>17609</th>\n",
       "      <td>2022-05</td>\n",
       "      <td>ÓLEO DIESEL S10</td>\n",
       "      <td>SUDESTE</td>\n",
       "      <td>MINAS GERAIS</td>\n",
       "      <td>6.936</td>\n",
       "      <td>2.169</td>\n",
       "      <td>2022</td>\n",
       "    </tr>\n",
       "    <tr>\n",
       "      <th>17610</th>\n",
       "      <td>2022-05</td>\n",
       "      <td>ÓLEO DIESEL S10</td>\n",
       "      <td>NORTE</td>\n",
       "      <td>PARÁ</td>\n",
       "      <td>7.229</td>\n",
       "      <td>2.169</td>\n",
       "      <td>2022</td>\n",
       "    </tr>\n",
       "    <tr>\n",
       "      <th>17611</th>\n",
       "      <td>2022-05</td>\n",
       "      <td>ÓLEO DIESEL S10</td>\n",
       "      <td>NORDESTE</td>\n",
       "      <td>PARAÍBA</td>\n",
       "      <td>7.011</td>\n",
       "      <td>2.169</td>\n",
       "      <td>2022</td>\n",
       "    </tr>\n",
       "    <tr>\n",
       "      <th>17612</th>\n",
       "      <td>2022-05</td>\n",
       "      <td>ÓLEO DIESEL S10</td>\n",
       "      <td>SUL</td>\n",
       "      <td>PARANÁ</td>\n",
       "      <td>6.887</td>\n",
       "      <td>2.169</td>\n",
       "      <td>2022</td>\n",
       "    </tr>\n",
       "    <tr>\n",
       "      <th>17613</th>\n",
       "      <td>2022-05</td>\n",
       "      <td>ÓLEO DIESEL S10</td>\n",
       "      <td>NORDESTE</td>\n",
       "      <td>PERNAMBUCO</td>\n",
       "      <td>6.797</td>\n",
       "      <td>2.169</td>\n",
       "      <td>2022</td>\n",
       "    </tr>\n",
       "    <tr>\n",
       "      <th>17614</th>\n",
       "      <td>2022-05</td>\n",
       "      <td>ÓLEO DIESEL S10</td>\n",
       "      <td>NORDESTE</td>\n",
       "      <td>PIAUÍ</td>\n",
       "      <td>7.368</td>\n",
       "      <td>2.169</td>\n",
       "      <td>2022</td>\n",
       "    </tr>\n",
       "    <tr>\n",
       "      <th>17615</th>\n",
       "      <td>2022-05</td>\n",
       "      <td>ÓLEO DIESEL S10</td>\n",
       "      <td>SUDESTE</td>\n",
       "      <td>RIO DE JANEIRO</td>\n",
       "      <td>6.868</td>\n",
       "      <td>2.169</td>\n",
       "      <td>2022</td>\n",
       "    </tr>\n",
       "    <tr>\n",
       "      <th>17616</th>\n",
       "      <td>2022-05</td>\n",
       "      <td>ÓLEO DIESEL S10</td>\n",
       "      <td>NORDESTE</td>\n",
       "      <td>RIO GRANDE DO NORTE</td>\n",
       "      <td>7.237</td>\n",
       "      <td>2.169</td>\n",
       "      <td>2022</td>\n",
       "    </tr>\n",
       "    <tr>\n",
       "      <th>17617</th>\n",
       "      <td>2022-05</td>\n",
       "      <td>ÓLEO DIESEL S10</td>\n",
       "      <td>SUL</td>\n",
       "      <td>RIO GRANDE DO SUL</td>\n",
       "      <td>6.705</td>\n",
       "      <td>2.169</td>\n",
       "      <td>2022</td>\n",
       "    </tr>\n",
       "    <tr>\n",
       "      <th>17618</th>\n",
       "      <td>2022-05</td>\n",
       "      <td>ÓLEO DIESEL S10</td>\n",
       "      <td>NORTE</td>\n",
       "      <td>RONDÔNIA</td>\n",
       "      <td>7.216</td>\n",
       "      <td>2.169</td>\n",
       "      <td>2022</td>\n",
       "    </tr>\n",
       "    <tr>\n",
       "      <th>17619</th>\n",
       "      <td>2022-05</td>\n",
       "      <td>ÓLEO DIESEL S10</td>\n",
       "      <td>NORTE</td>\n",
       "      <td>RORAIMA</td>\n",
       "      <td>7.186</td>\n",
       "      <td>2.169</td>\n",
       "      <td>2022</td>\n",
       "    </tr>\n",
       "    <tr>\n",
       "      <th>17620</th>\n",
       "      <td>2022-05</td>\n",
       "      <td>ÓLEO DIESEL S10</td>\n",
       "      <td>SUL</td>\n",
       "      <td>SANTA CATARINA</td>\n",
       "      <td>6.788</td>\n",
       "      <td>2.169</td>\n",
       "      <td>2022</td>\n",
       "    </tr>\n",
       "    <tr>\n",
       "      <th>17621</th>\n",
       "      <td>2022-05</td>\n",
       "      <td>ÓLEO DIESEL S10</td>\n",
       "      <td>SUDESTE</td>\n",
       "      <td>SÃO PAULO</td>\n",
       "      <td>6.847</td>\n",
       "      <td>2.169</td>\n",
       "      <td>2022</td>\n",
       "    </tr>\n",
       "    <tr>\n",
       "      <th>17622</th>\n",
       "      <td>2022-05</td>\n",
       "      <td>ÓLEO DIESEL S10</td>\n",
       "      <td>NORDESTE</td>\n",
       "      <td>SERGIPE</td>\n",
       "      <td>6.982</td>\n",
       "      <td>2.169</td>\n",
       "      <td>2022</td>\n",
       "    </tr>\n",
       "    <tr>\n",
       "      <th>17623</th>\n",
       "      <td>2022-05</td>\n",
       "      <td>ÓLEO DIESEL S10</td>\n",
       "      <td>NORTE</td>\n",
       "      <td>TOCANTINS</td>\n",
       "      <td>6.956</td>\n",
       "      <td>2.169</td>\n",
       "      <td>2022</td>\n",
       "    </tr>\n",
       "  </tbody>\n",
       "</table>\n",
       "</div>"
      ],
      "text/plain": [
       "           MÊS          PRODUTO        REGIÃO               ESTADO  \\\n",
       "17604  2022-05  ÓLEO DIESEL S10       SUDESTE       ESPÍRITO SANTO   \n",
       "17605  2022-05  ÓLEO DIESEL S10  CENTRO OESTE                GOIÁS   \n",
       "17606  2022-05  ÓLEO DIESEL S10      NORDESTE             MARANHÃO   \n",
       "17607  2022-05  ÓLEO DIESEL S10  CENTRO OESTE          MATO GROSSO   \n",
       "17608  2022-05  ÓLEO DIESEL S10  CENTRO OESTE   MATO GROSSO DO SUL   \n",
       "17609  2022-05  ÓLEO DIESEL S10       SUDESTE         MINAS GERAIS   \n",
       "17610  2022-05  ÓLEO DIESEL S10         NORTE                 PARÁ   \n",
       "17611  2022-05  ÓLEO DIESEL S10      NORDESTE              PARAÍBA   \n",
       "17612  2022-05  ÓLEO DIESEL S10           SUL               PARANÁ   \n",
       "17613  2022-05  ÓLEO DIESEL S10      NORDESTE           PERNAMBUCO   \n",
       "17614  2022-05  ÓLEO DIESEL S10      NORDESTE                PIAUÍ   \n",
       "17615  2022-05  ÓLEO DIESEL S10       SUDESTE       RIO DE JANEIRO   \n",
       "17616  2022-05  ÓLEO DIESEL S10      NORDESTE  RIO GRANDE DO NORTE   \n",
       "17617  2022-05  ÓLEO DIESEL S10           SUL    RIO GRANDE DO SUL   \n",
       "17618  2022-05  ÓLEO DIESEL S10         NORTE             RONDÔNIA   \n",
       "17619  2022-05  ÓLEO DIESEL S10         NORTE              RORAIMA   \n",
       "17620  2022-05  ÓLEO DIESEL S10           SUL       SANTA CATARINA   \n",
       "17621  2022-05  ÓLEO DIESEL S10       SUDESTE            SÃO PAULO   \n",
       "17622  2022-05  ÓLEO DIESEL S10      NORDESTE              SERGIPE   \n",
       "17623  2022-05  ÓLEO DIESEL S10         NORTE            TOCANTINS   \n",
       "\n",
       "       PREÇO MÉDIO REVENDA  PREÇO MÉDIO DISTRIBUIÇÃO   ANO  \n",
       "17604                6.736                     2.169  2022  \n",
       "17605                7.055                     2.169  2022  \n",
       "17606                7.153                     2.169  2022  \n",
       "17607                7.269                     2.169  2022  \n",
       "17608                6.938                     2.169  2022  \n",
       "17609                6.936                     2.169  2022  \n",
       "17610                7.229                     2.169  2022  \n",
       "17611                7.011                     2.169  2022  \n",
       "17612                6.887                     2.169  2022  \n",
       "17613                6.797                     2.169  2022  \n",
       "17614                7.368                     2.169  2022  \n",
       "17615                6.868                     2.169  2022  \n",
       "17616                7.237                     2.169  2022  \n",
       "17617                6.705                     2.169  2022  \n",
       "17618                7.216                     2.169  2022  \n",
       "17619                7.186                     2.169  2022  \n",
       "17620                6.788                     2.169  2022  \n",
       "17621                6.847                     2.169  2022  \n",
       "17622                6.982                     2.169  2022  \n",
       "17623                6.956                     2.169  2022  "
      ]
     },
     "execution_count": 125,
     "metadata": {},
     "output_type": "execute_result"
    }
   ],
   "source": [
    "base_df.tail(20)"
   ]
  },
  {
   "cell_type": "code",
   "execution_count": 126,
   "id": "e676340d",
   "metadata": {},
   "outputs": [
    {
     "data": {
      "text/plain": [
       "array(['ACRE', 'ALAGOAS', 'AMAPÁ', 'AMAZONAS', 'BAHIA', 'CEARÁ',\n",
       "       'DISTRITO FEDERAL', 'ESPÍRITO SANTO', 'GOIÁS', 'MARANHÃO',\n",
       "       'MATO GROSSO', 'MATO GROSSO DO SUL', 'MINAS GERAIS', 'PARÁ',\n",
       "       'PARAÍBA', 'PARANÁ', 'PERNAMBUCO', 'PIAUÍ', 'RIO DE JANEIRO',\n",
       "       'RIO GRANDE DO NORTE', 'RIO GRANDE DO SUL', 'RONDÔNIA', 'RORAIMA',\n",
       "       'SANTA CATARINA', 'SÃO PAULO', 'SERGIPE', 'TOCANTINS'],\n",
       "      dtype=object)"
      ]
     },
     "execution_count": 126,
     "metadata": {},
     "output_type": "execute_result"
    }
   ],
   "source": [
    "#Verificando 27 estados\n",
    "base_df['ESTADO'].unique()"
   ]
  },
  {
   "cell_type": "markdown",
   "id": "35e20bfd",
   "metadata": {},
   "source": [
    "# Dataset Municípios"
   ]
  },
  {
   "cell_type": "markdown",
   "id": "a8605522",
   "metadata": {},
   "source": [
    "### Importando o dataset da relação de municípios"
   ]
  },
  {
   "cell_type": "code",
   "execution_count": 127,
   "id": "85a28f28",
   "metadata": {},
   "outputs": [],
   "source": [
    "# https://servicodados.ibge.gov.br/api/docs/localidades\n",
    "ids_municipios = requests.get('https://servicodados.ibge.gov.br/api/v1/localidades/distritos').json()"
   ]
  },
  {
   "cell_type": "code",
   "execution_count": 128,
   "id": "6a0ea9c5",
   "metadata": {},
   "outputs": [
    {
     "name": "stdout",
     "output_type": "stream",
     "text": [
      "O dataset apresenta 2 colunas e 10649 registros.\n",
      "\n"
     ]
    }
   ],
   "source": [
    "#Importando todos os estados e UF\n",
    "siglas_estados = []\n",
    "nome_estados = []\n",
    "\n",
    "for state in ids_municipios:\n",
    "    siglas_estados.append(state['municipio']['microrregiao']['mesorregiao']['UF']['sigla'])\n",
    "    nome_estados.append(state['municipio']['microrregiao']['mesorregiao']['UF']['nome'])\n",
    "\n",
    "municipios = pd.DataFrame( {'SIGLA_UF':siglas_estados, 'ESTADO':nome_estados } )\n",
    "defDatasetTamanho(municipios)"
   ]
  },
  {
   "cell_type": "code",
   "execution_count": 129,
   "id": "6854a045",
   "metadata": {},
   "outputs": [
    {
     "name": "stdout",
     "output_type": "stream",
     "text": [
      "A seguir a listagem da tipagem das colunas e seu nível de preenchimento:\n",
      "\n"
     ]
    },
    {
     "data": {
      "text/html": [
       "<div>\n",
       "<style scoped>\n",
       "    .dataframe tbody tr th:only-of-type {\n",
       "        vertical-align: middle;\n",
       "    }\n",
       "\n",
       "    .dataframe tbody tr th {\n",
       "        vertical-align: top;\n",
       "    }\n",
       "\n",
       "    .dataframe thead th {\n",
       "        text-align: right;\n",
       "    }\n",
       "</style>\n",
       "<table border=\"1\" class=\"dataframe\">\n",
       "  <thead>\n",
       "    <tr style=\"text-align: right;\">\n",
       "      <th></th>\n",
       "      <th>column type</th>\n",
       "      <th>null values</th>\n",
       "      <th>null values (%)</th>\n",
       "    </tr>\n",
       "  </thead>\n",
       "  <tbody>\n",
       "    <tr>\n",
       "      <th>SIGLA_UF</th>\n",
       "      <td>object</td>\n",
       "      <td>0</td>\n",
       "      <td>0.0</td>\n",
       "    </tr>\n",
       "    <tr>\n",
       "      <th>ESTADO</th>\n",
       "      <td>object</td>\n",
       "      <td>0</td>\n",
       "      <td>0.0</td>\n",
       "    </tr>\n",
       "  </tbody>\n",
       "</table>\n",
       "</div>"
      ],
      "text/plain": [
       "         column type null values null values (%)\n",
       "SIGLA_UF      object           0             0.0\n",
       "ESTADO        object           0             0.0"
      ]
     },
     "metadata": {},
     "output_type": "display_data"
    }
   ],
   "source": [
    "deftiposeNulos(municipios)"
   ]
  },
  {
   "cell_type": "markdown",
   "id": "378613a2",
   "metadata": {},
   "source": [
    "# Tratamento da base de Municípios"
   ]
  },
  {
   "cell_type": "code",
   "execution_count": 130,
   "id": "3ac30e3f",
   "metadata": {},
   "outputs": [],
   "source": [
    "#Colocando todos os estados em maiusculos para o merge com a base principal\n",
    "municipios['ESTADO'] = municipios['ESTADO'].str.upper()"
   ]
  },
  {
   "cell_type": "markdown",
   "id": "c43348a1",
   "metadata": {},
   "source": [
    "#### Tratamento de dados duplicados"
   ]
  },
  {
   "cell_type": "code",
   "execution_count": 131,
   "id": "3824f176",
   "metadata": {},
   "outputs": [
    {
     "data": {
      "text/html": [
       "<div>\n",
       "<style scoped>\n",
       "    .dataframe tbody tr th:only-of-type {\n",
       "        vertical-align: middle;\n",
       "    }\n",
       "\n",
       "    .dataframe tbody tr th {\n",
       "        vertical-align: top;\n",
       "    }\n",
       "\n",
       "    .dataframe thead th {\n",
       "        text-align: right;\n",
       "    }\n",
       "</style>\n",
       "<table border=\"1\" class=\"dataframe\">\n",
       "  <thead>\n",
       "    <tr style=\"text-align: right;\">\n",
       "      <th></th>\n",
       "      <th>SIGLA_UF</th>\n",
       "      <th>ESTADO</th>\n",
       "    </tr>\n",
       "  </thead>\n",
       "  <tbody>\n",
       "    <tr>\n",
       "      <th>0</th>\n",
       "      <td>GO</td>\n",
       "      <td>GOIÁS</td>\n",
       "    </tr>\n",
       "    <tr>\n",
       "      <th>2</th>\n",
       "      <td>GO</td>\n",
       "      <td>GOIÁS</td>\n",
       "    </tr>\n",
       "    <tr>\n",
       "      <th>3</th>\n",
       "      <td>GO</td>\n",
       "      <td>GOIÁS</td>\n",
       "    </tr>\n",
       "    <tr>\n",
       "      <th>56</th>\n",
       "      <td>GO</td>\n",
       "      <td>GOIÁS</td>\n",
       "    </tr>\n",
       "    <tr>\n",
       "      <th>64</th>\n",
       "      <td>GO</td>\n",
       "      <td>GOIÁS</td>\n",
       "    </tr>\n",
       "    <tr>\n",
       "      <th>...</th>\n",
       "      <td>...</td>\n",
       "      <td>...</td>\n",
       "    </tr>\n",
       "    <tr>\n",
       "      <th>10504</th>\n",
       "      <td>GO</td>\n",
       "      <td>GOIÁS</td>\n",
       "    </tr>\n",
       "    <tr>\n",
       "      <th>10512</th>\n",
       "      <td>GO</td>\n",
       "      <td>GOIÁS</td>\n",
       "    </tr>\n",
       "    <tr>\n",
       "      <th>10542</th>\n",
       "      <td>GO</td>\n",
       "      <td>GOIÁS</td>\n",
       "    </tr>\n",
       "    <tr>\n",
       "      <th>10551</th>\n",
       "      <td>GO</td>\n",
       "      <td>GOIÁS</td>\n",
       "    </tr>\n",
       "    <tr>\n",
       "      <th>10552</th>\n",
       "      <td>GO</td>\n",
       "      <td>GOIÁS</td>\n",
       "    </tr>\n",
       "  </tbody>\n",
       "</table>\n",
       "<p>327 rows × 2 columns</p>\n",
       "</div>"
      ],
      "text/plain": [
       "      SIGLA_UF ESTADO\n",
       "0           GO  GOIÁS\n",
       "2           GO  GOIÁS\n",
       "3           GO  GOIÁS\n",
       "56          GO  GOIÁS\n",
       "64          GO  GOIÁS\n",
       "...        ...    ...\n",
       "10504       GO  GOIÁS\n",
       "10512       GO  GOIÁS\n",
       "10542       GO  GOIÁS\n",
       "10551       GO  GOIÁS\n",
       "10552       GO  GOIÁS\n",
       "\n",
       "[327 rows x 2 columns]"
      ]
     },
     "execution_count": 131,
     "metadata": {},
     "output_type": "execute_result"
    }
   ],
   "source": [
    "#Exemplo de município duplicado\n",
    "municipios.loc[(municipios['ESTADO'])=='GOIÁS']"
   ]
  },
  {
   "cell_type": "code",
   "execution_count": 132,
   "id": "5741f33a",
   "metadata": {},
   "outputs": [
    {
     "data": {
      "text/plain": [
       "(10648, 2)"
      ]
     },
     "execution_count": 132,
     "metadata": {},
     "output_type": "execute_result"
    }
   ],
   "source": [
    "#Verificação de dados duplicados: (ANTES): resultado: 7284\n",
    "linhas_dup_municipio = municipios[municipios.duplicated(keep=False)]\n",
    "linhas_dup_municipio.shape"
   ]
  },
  {
   "cell_type": "code",
   "execution_count": 133,
   "id": "8223dd71",
   "metadata": {},
   "outputs": [
    {
     "data": {
      "text/plain": [
       "(0, 2)"
      ]
     },
     "execution_count": 133,
     "metadata": {},
     "output_type": "execute_result"
    }
   ],
   "source": [
    "#Removendo linhas duplicadas do dataset de municipios\n",
    "municipios_df = municipios.drop_duplicates()\n",
    "\n",
    "#Após a remoção das duplicatas, resultado: 0\n",
    "linhas_dup_municipio = municipios_df[municipios_df.duplicated(keep=False)]\n",
    "linhas_dup_municipio.shape"
   ]
  },
  {
   "cell_type": "code",
   "execution_count": 134,
   "id": "236d104c",
   "metadata": {},
   "outputs": [
    {
     "data": {
      "text/html": [
       "<div>\n",
       "<style scoped>\n",
       "    .dataframe tbody tr th:only-of-type {\n",
       "        vertical-align: middle;\n",
       "    }\n",
       "\n",
       "    .dataframe tbody tr th {\n",
       "        vertical-align: top;\n",
       "    }\n",
       "\n",
       "    .dataframe thead th {\n",
       "        text-align: right;\n",
       "    }\n",
       "</style>\n",
       "<table border=\"1\" class=\"dataframe\">\n",
       "  <thead>\n",
       "    <tr style=\"text-align: right;\">\n",
       "      <th></th>\n",
       "      <th>SIGLA_UF</th>\n",
       "      <th>ESTADO</th>\n",
       "    </tr>\n",
       "  </thead>\n",
       "  <tbody>\n",
       "    <tr>\n",
       "      <th>0</th>\n",
       "      <td>GO</td>\n",
       "      <td>GOIÁS</td>\n",
       "    </tr>\n",
       "  </tbody>\n",
       "</table>\n",
       "</div>"
      ],
      "text/plain": [
       "  SIGLA_UF ESTADO\n",
       "0       GO  GOIÁS"
      ]
     },
     "execution_count": 134,
     "metadata": {},
     "output_type": "execute_result"
    }
   ],
   "source": [
    "#Exemplo inicial mostrando apenas 1 único registro\n",
    "municipios_df.loc[(municipios['ESTADO'])=='GOIÁS']"
   ]
  },
  {
   "cell_type": "code",
   "execution_count": 135,
   "id": "aaf9ee20",
   "metadata": {},
   "outputs": [
    {
     "data": {
      "text/html": [
       "<div>\n",
       "<style scoped>\n",
       "    .dataframe tbody tr th:only-of-type {\n",
       "        vertical-align: middle;\n",
       "    }\n",
       "\n",
       "    .dataframe tbody tr th {\n",
       "        vertical-align: top;\n",
       "    }\n",
       "\n",
       "    .dataframe thead th {\n",
       "        text-align: right;\n",
       "    }\n",
       "</style>\n",
       "<table border=\"1\" class=\"dataframe\">\n",
       "  <thead>\n",
       "    <tr style=\"text-align: right;\">\n",
       "      <th></th>\n",
       "      <th>SIGLA_UF</th>\n",
       "      <th>ESTADO</th>\n",
       "    </tr>\n",
       "  </thead>\n",
       "  <tbody>\n",
       "    <tr>\n",
       "      <th>0</th>\n",
       "      <td>GO</td>\n",
       "      <td>GOIÁS</td>\n",
       "    </tr>\n",
       "    <tr>\n",
       "      <th>1</th>\n",
       "      <td>MG</td>\n",
       "      <td>MINAS GERAIS</td>\n",
       "    </tr>\n",
       "    <tr>\n",
       "      <th>5</th>\n",
       "      <td>PA</td>\n",
       "      <td>PARÁ</td>\n",
       "    </tr>\n",
       "    <tr>\n",
       "      <th>7</th>\n",
       "      <td>CE</td>\n",
       "      <td>CEARÁ</td>\n",
       "    </tr>\n",
       "    <tr>\n",
       "      <th>12</th>\n",
       "      <td>BA</td>\n",
       "      <td>BAHIA</td>\n",
       "    </tr>\n",
       "    <tr>\n",
       "      <th>16</th>\n",
       "      <td>PR</td>\n",
       "      <td>PARANÁ</td>\n",
       "    </tr>\n",
       "    <tr>\n",
       "      <th>17</th>\n",
       "      <td>SC</td>\n",
       "      <td>SANTA CATARINA</td>\n",
       "    </tr>\n",
       "    <tr>\n",
       "      <th>22</th>\n",
       "      <td>PE</td>\n",
       "      <td>PERNAMBUCO</td>\n",
       "    </tr>\n",
       "    <tr>\n",
       "      <th>24</th>\n",
       "      <td>TO</td>\n",
       "      <td>TOCANTINS</td>\n",
       "    </tr>\n",
       "    <tr>\n",
       "      <th>26</th>\n",
       "      <td>MA</td>\n",
       "      <td>MARANHÃO</td>\n",
       "    </tr>\n",
       "    <tr>\n",
       "      <th>36</th>\n",
       "      <td>RN</td>\n",
       "      <td>RIO GRANDE DO NORTE</td>\n",
       "    </tr>\n",
       "    <tr>\n",
       "      <th>37</th>\n",
       "      <td>PI</td>\n",
       "      <td>PIAUÍ</td>\n",
       "    </tr>\n",
       "    <tr>\n",
       "      <th>38</th>\n",
       "      <td>RS</td>\n",
       "      <td>RIO GRANDE DO SUL</td>\n",
       "    </tr>\n",
       "    <tr>\n",
       "      <th>52</th>\n",
       "      <td>MT</td>\n",
       "      <td>MATO GROSSO</td>\n",
       "    </tr>\n",
       "    <tr>\n",
       "      <th>55</th>\n",
       "      <td>AC</td>\n",
       "      <td>ACRE</td>\n",
       "    </tr>\n",
       "    <tr>\n",
       "      <th>63</th>\n",
       "      <td>SP</td>\n",
       "      <td>SÃO PAULO</td>\n",
       "    </tr>\n",
       "    <tr>\n",
       "      <th>70</th>\n",
       "      <td>ES</td>\n",
       "      <td>ESPÍRITO SANTO</td>\n",
       "    </tr>\n",
       "    <tr>\n",
       "      <th>97</th>\n",
       "      <td>AL</td>\n",
       "      <td>ALAGOAS</td>\n",
       "    </tr>\n",
       "    <tr>\n",
       "      <th>99</th>\n",
       "      <td>PB</td>\n",
       "      <td>PARAÍBA</td>\n",
       "    </tr>\n",
       "    <tr>\n",
       "      <th>100</th>\n",
       "      <td>MS</td>\n",
       "      <td>MATO GROSSO DO SUL</td>\n",
       "    </tr>\n",
       "    <tr>\n",
       "      <th>251</th>\n",
       "      <td>RO</td>\n",
       "      <td>RONDÔNIA</td>\n",
       "    </tr>\n",
       "    <tr>\n",
       "      <th>279</th>\n",
       "      <td>RR</td>\n",
       "      <td>RORAIMA</td>\n",
       "    </tr>\n",
       "    <tr>\n",
       "      <th>331</th>\n",
       "      <td>AM</td>\n",
       "      <td>AMAZONAS</td>\n",
       "    </tr>\n",
       "    <tr>\n",
       "      <th>357</th>\n",
       "      <td>AP</td>\n",
       "      <td>AMAPÁ</td>\n",
       "    </tr>\n",
       "    <tr>\n",
       "      <th>400</th>\n",
       "      <td>SE</td>\n",
       "      <td>SERGIPE</td>\n",
       "    </tr>\n",
       "    <tr>\n",
       "      <th>458</th>\n",
       "      <td>RJ</td>\n",
       "      <td>RIO DE JANEIRO</td>\n",
       "    </tr>\n",
       "    <tr>\n",
       "      <th>1426</th>\n",
       "      <td>DF</td>\n",
       "      <td>DISTRITO FEDERAL</td>\n",
       "    </tr>\n",
       "  </tbody>\n",
       "</table>\n",
       "</div>"
      ],
      "text/plain": [
       "     SIGLA_UF               ESTADO\n",
       "0          GO                GOIÁS\n",
       "1          MG         MINAS GERAIS\n",
       "5          PA                 PARÁ\n",
       "7          CE                CEARÁ\n",
       "12         BA                BAHIA\n",
       "16         PR               PARANÁ\n",
       "17         SC       SANTA CATARINA\n",
       "22         PE           PERNAMBUCO\n",
       "24         TO            TOCANTINS\n",
       "26         MA             MARANHÃO\n",
       "36         RN  RIO GRANDE DO NORTE\n",
       "37         PI                PIAUÍ\n",
       "38         RS    RIO GRANDE DO SUL\n",
       "52         MT          MATO GROSSO\n",
       "55         AC                 ACRE\n",
       "63         SP            SÃO PAULO\n",
       "70         ES       ESPÍRITO SANTO\n",
       "97         AL              ALAGOAS\n",
       "99         PB              PARAÍBA\n",
       "100        MS   MATO GROSSO DO SUL\n",
       "251        RO             RONDÔNIA\n",
       "279        RR              RORAIMA\n",
       "331        AM             AMAZONAS\n",
       "357        AP                AMAPÁ\n",
       "400        SE              SERGIPE\n",
       "458        RJ       RIO DE JANEIRO\n",
       "1426       DF     DISTRITO FEDERAL"
      ]
     },
     "metadata": {},
     "output_type": "display_data"
    },
    {
     "name": "stdout",
     "output_type": "stream",
     "text": [
      "A seguir a listagem da tipagem das colunas e seu nível de preenchimento:\n",
      "\n"
     ]
    },
    {
     "data": {
      "text/html": [
       "<div>\n",
       "<style scoped>\n",
       "    .dataframe tbody tr th:only-of-type {\n",
       "        vertical-align: middle;\n",
       "    }\n",
       "\n",
       "    .dataframe tbody tr th {\n",
       "        vertical-align: top;\n",
       "    }\n",
       "\n",
       "    .dataframe thead th {\n",
       "        text-align: right;\n",
       "    }\n",
       "</style>\n",
       "<table border=\"1\" class=\"dataframe\">\n",
       "  <thead>\n",
       "    <tr style=\"text-align: right;\">\n",
       "      <th></th>\n",
       "      <th>column type</th>\n",
       "      <th>null values</th>\n",
       "      <th>null values (%)</th>\n",
       "    </tr>\n",
       "  </thead>\n",
       "  <tbody>\n",
       "    <tr>\n",
       "      <th>SIGLA_UF</th>\n",
       "      <td>object</td>\n",
       "      <td>0</td>\n",
       "      <td>0.0</td>\n",
       "    </tr>\n",
       "    <tr>\n",
       "      <th>ESTADO</th>\n",
       "      <td>object</td>\n",
       "      <td>0</td>\n",
       "      <td>0.0</td>\n",
       "    </tr>\n",
       "  </tbody>\n",
       "</table>\n",
       "</div>"
      ],
      "text/plain": [
       "         column type null values null values (%)\n",
       "SIGLA_UF      object           0             0.0\n",
       "ESTADO        object           0             0.0"
      ]
     },
     "metadata": {},
     "output_type": "display_data"
    }
   ],
   "source": [
    "display(municipios_df)\n",
    "deftiposeNulos(municipios_df)"
   ]
  },
  {
   "cell_type": "markdown",
   "id": "5e1909bb",
   "metadata": {},
   "source": [
    "#### Junção do dataframe com a base principal"
   ]
  },
  {
   "cell_type": "code",
   "execution_count": 136,
   "id": "0f3a2218",
   "metadata": {},
   "outputs": [
    {
     "data": {
      "text/html": [
       "<div>\n",
       "<style scoped>\n",
       "    .dataframe tbody tr th:only-of-type {\n",
       "        vertical-align: middle;\n",
       "    }\n",
       "\n",
       "    .dataframe tbody tr th {\n",
       "        vertical-align: top;\n",
       "    }\n",
       "\n",
       "    .dataframe thead th {\n",
       "        text-align: right;\n",
       "    }\n",
       "</style>\n",
       "<table border=\"1\" class=\"dataframe\">\n",
       "  <thead>\n",
       "    <tr style=\"text-align: right;\">\n",
       "      <th></th>\n",
       "      <th>MÊS</th>\n",
       "      <th>PRODUTO</th>\n",
       "      <th>REGIÃO</th>\n",
       "      <th>ESTADO</th>\n",
       "      <th>PREÇO MÉDIO REVENDA</th>\n",
       "      <th>PREÇO MÉDIO DISTRIBUIÇÃO</th>\n",
       "      <th>ANO</th>\n",
       "      <th>SIGLA_UF</th>\n",
       "    </tr>\n",
       "  </thead>\n",
       "  <tbody>\n",
       "    <tr>\n",
       "      <th>0</th>\n",
       "      <td>2008-01</td>\n",
       "      <td>ETANOL HIDRATADO</td>\n",
       "      <td>NORTE</td>\n",
       "      <td>ACRE</td>\n",
       "      <td>2.098</td>\n",
       "      <td>1.790</td>\n",
       "      <td>2008</td>\n",
       "      <td>AC</td>\n",
       "    </tr>\n",
       "    <tr>\n",
       "      <th>1</th>\n",
       "      <td>2008-01</td>\n",
       "      <td>ETANOL HIDRATADO</td>\n",
       "      <td>NORDESTE</td>\n",
       "      <td>ALAGOAS</td>\n",
       "      <td>1.701</td>\n",
       "      <td>1.502</td>\n",
       "      <td>2008</td>\n",
       "      <td>AL</td>\n",
       "    </tr>\n",
       "    <tr>\n",
       "      <th>2</th>\n",
       "      <td>2008-01</td>\n",
       "      <td>ETANOL HIDRATADO</td>\n",
       "      <td>NORTE</td>\n",
       "      <td>AMAPÁ</td>\n",
       "      <td>1.950</td>\n",
       "      <td>1.730</td>\n",
       "      <td>2008</td>\n",
       "      <td>AP</td>\n",
       "    </tr>\n",
       "    <tr>\n",
       "      <th>3</th>\n",
       "      <td>2008-01</td>\n",
       "      <td>ETANOL HIDRATADO</td>\n",
       "      <td>NORTE</td>\n",
       "      <td>AMAZONAS</td>\n",
       "      <td>1.749</td>\n",
       "      <td>1.559</td>\n",
       "      <td>2008</td>\n",
       "      <td>AM</td>\n",
       "    </tr>\n",
       "    <tr>\n",
       "      <th>4</th>\n",
       "      <td>2008-01</td>\n",
       "      <td>ETANOL HIDRATADO</td>\n",
       "      <td>NORDESTE</td>\n",
       "      <td>BAHIA</td>\n",
       "      <td>1.653</td>\n",
       "      <td>1.384</td>\n",
       "      <td>2008</td>\n",
       "      <td>BA</td>\n",
       "    </tr>\n",
       "    <tr>\n",
       "      <th>...</th>\n",
       "      <td>...</td>\n",
       "      <td>...</td>\n",
       "      <td>...</td>\n",
       "      <td>...</td>\n",
       "      <td>...</td>\n",
       "      <td>...</td>\n",
       "      <td>...</td>\n",
       "      <td>...</td>\n",
       "    </tr>\n",
       "    <tr>\n",
       "      <th>10238</th>\n",
       "      <td>2022-05</td>\n",
       "      <td>ÓLEO DIESEL S10</td>\n",
       "      <td>NORTE</td>\n",
       "      <td>RORAIMA</td>\n",
       "      <td>7.186</td>\n",
       "      <td>2.169</td>\n",
       "      <td>2022</td>\n",
       "      <td>RR</td>\n",
       "    </tr>\n",
       "    <tr>\n",
       "      <th>10239</th>\n",
       "      <td>2022-05</td>\n",
       "      <td>ÓLEO DIESEL S10</td>\n",
       "      <td>SUL</td>\n",
       "      <td>SANTA CATARINA</td>\n",
       "      <td>6.788</td>\n",
       "      <td>2.169</td>\n",
       "      <td>2022</td>\n",
       "      <td>SC</td>\n",
       "    </tr>\n",
       "    <tr>\n",
       "      <th>10240</th>\n",
       "      <td>2022-05</td>\n",
       "      <td>ÓLEO DIESEL S10</td>\n",
       "      <td>SUDESTE</td>\n",
       "      <td>SÃO PAULO</td>\n",
       "      <td>6.847</td>\n",
       "      <td>2.169</td>\n",
       "      <td>2022</td>\n",
       "      <td>SP</td>\n",
       "    </tr>\n",
       "    <tr>\n",
       "      <th>10241</th>\n",
       "      <td>2022-05</td>\n",
       "      <td>ÓLEO DIESEL S10</td>\n",
       "      <td>NORDESTE</td>\n",
       "      <td>SERGIPE</td>\n",
       "      <td>6.982</td>\n",
       "      <td>2.169</td>\n",
       "      <td>2022</td>\n",
       "      <td>SE</td>\n",
       "    </tr>\n",
       "    <tr>\n",
       "      <th>10242</th>\n",
       "      <td>2022-05</td>\n",
       "      <td>ÓLEO DIESEL S10</td>\n",
       "      <td>NORTE</td>\n",
       "      <td>TOCANTINS</td>\n",
       "      <td>6.956</td>\n",
       "      <td>2.169</td>\n",
       "      <td>2022</td>\n",
       "      <td>TO</td>\n",
       "    </tr>\n",
       "  </tbody>\n",
       "</table>\n",
       "<p>10243 rows × 8 columns</p>\n",
       "</div>"
      ],
      "text/plain": [
       "           MÊS           PRODUTO    REGIÃO          ESTADO  \\\n",
       "0      2008-01  ETANOL HIDRATADO     NORTE            ACRE   \n",
       "1      2008-01  ETANOL HIDRATADO  NORDESTE         ALAGOAS   \n",
       "2      2008-01  ETANOL HIDRATADO     NORTE           AMAPÁ   \n",
       "3      2008-01  ETANOL HIDRATADO     NORTE        AMAZONAS   \n",
       "4      2008-01  ETANOL HIDRATADO  NORDESTE           BAHIA   \n",
       "...        ...               ...       ...             ...   \n",
       "10238  2022-05   ÓLEO DIESEL S10     NORTE         RORAIMA   \n",
       "10239  2022-05   ÓLEO DIESEL S10       SUL  SANTA CATARINA   \n",
       "10240  2022-05   ÓLEO DIESEL S10   SUDESTE       SÃO PAULO   \n",
       "10241  2022-05   ÓLEO DIESEL S10  NORDESTE         SERGIPE   \n",
       "10242  2022-05   ÓLEO DIESEL S10     NORTE       TOCANTINS   \n",
       "\n",
       "       PREÇO MÉDIO REVENDA  PREÇO MÉDIO DISTRIBUIÇÃO   ANO SIGLA_UF  \n",
       "0                    2.098                     1.790  2008       AC  \n",
       "1                    1.701                     1.502  2008       AL  \n",
       "2                    1.950                     1.730  2008       AP  \n",
       "3                    1.749                     1.559  2008       AM  \n",
       "4                    1.653                     1.384  2008       BA  \n",
       "...                    ...                       ...   ...      ...  \n",
       "10238                7.186                     2.169  2022       RR  \n",
       "10239                6.788                     2.169  2022       SC  \n",
       "10240                6.847                     2.169  2022       SP  \n",
       "10241                6.982                     2.169  2022       SE  \n",
       "10242                6.956                     2.169  2022       TO  \n",
       "\n",
       "[10243 rows x 8 columns]"
      ]
     },
     "metadata": {},
     "output_type": "display_data"
    }
   ],
   "source": [
    "# merge dos dois dataframes em um único\n",
    "base_comb_df = pd.merge(base_df, municipios_df, how='left', on=['ESTADO'])\n",
    "display(base_comb_df)"
   ]
  },
  {
   "cell_type": "code",
   "execution_count": 137,
   "id": "e8a0cc4d",
   "metadata": {},
   "outputs": [
    {
     "data": {
      "text/plain": [
       "array(['AC', 'AL', 'AP', 'AM', 'BA', 'CE', 'DF', 'ES', 'GO', 'MA', 'MT',\n",
       "       'MS', 'MG', 'PA', 'PB', 'PR', 'PE', 'PI', 'RJ', 'RN', 'RS', 'RO',\n",
       "       'RR', 'SC', 'SP', 'SE', 'TO'], dtype=object)"
      ]
     },
     "execution_count": 137,
     "metadata": {},
     "output_type": "execute_result"
    }
   ],
   "source": [
    "#Verificando 27 estados\n",
    "base_comb_df['SIGLA_UF'].unique()"
   ]
  },
  {
   "cell_type": "markdown",
   "id": "782723a4",
   "metadata": {},
   "source": [
    "# Dataset do preço do Barril"
   ]
  },
  {
   "cell_type": "markdown",
   "id": "91487796",
   "metadata": {},
   "source": [
    "### Importando o dataset dos preços do Barril"
   ]
  },
  {
   "cell_type": "code",
   "execution_count": 138,
   "id": "1775abeb",
   "metadata": {},
   "outputs": [],
   "source": [
    "#base_prc_barril = pd.read_csv(\"ipeadata_preco_barril.csv\")"
   ]
  },
  {
   "cell_type": "code",
   "execution_count": 139,
   "id": "dd184677",
   "metadata": {},
   "outputs": [],
   "source": [
    "base_prc_barril = pd.read_csv(\"https://raw.githubusercontent.com/jrosasalvador/TCC_PUC_Minas_2022/main/Bases/ipeadata_preco_barril.csv\")"
   ]
  },
  {
   "cell_type": "code",
   "execution_count": 140,
   "id": "a4bb53e5",
   "metadata": {},
   "outputs": [
    {
     "data": {
      "text/html": [
       "<div>\n",
       "<style scoped>\n",
       "    .dataframe tbody tr th:only-of-type {\n",
       "        vertical-align: middle;\n",
       "    }\n",
       "\n",
       "    .dataframe tbody tr th {\n",
       "        vertical-align: top;\n",
       "    }\n",
       "\n",
       "    .dataframe thead th {\n",
       "        text-align: right;\n",
       "    }\n",
       "</style>\n",
       "<table border=\"1\" class=\"dataframe\">\n",
       "  <thead>\n",
       "    <tr style=\"text-align: right;\">\n",
       "      <th></th>\n",
       "      <th>Data</th>\n",
       "      <th>Preço - petróleo bruto - Brent (FOB) - US$ - Energy Information Administration (EIA) - EIA366_PBRENT366</th>\n",
       "      <th>Unnamed: 2</th>\n",
       "    </tr>\n",
       "  </thead>\n",
       "  <tbody>\n",
       "    <tr>\n",
       "      <th>9965</th>\n",
       "      <td>31/08/2014</td>\n",
       "      <td>100.40</td>\n",
       "      <td>NaN</td>\n",
       "    </tr>\n",
       "    <tr>\n",
       "      <th>6465</th>\n",
       "      <td>30/01/2005</td>\n",
       "      <td>45.94</td>\n",
       "      <td>NaN</td>\n",
       "    </tr>\n",
       "    <tr>\n",
       "      <th>3337</th>\n",
       "      <td>08/07/1996</td>\n",
       "      <td>19.62</td>\n",
       "      <td>NaN</td>\n",
       "    </tr>\n",
       "    <tr>\n",
       "      <th>8093</th>\n",
       "      <td>16/07/2009</td>\n",
       "      <td>62.02</td>\n",
       "      <td>NaN</td>\n",
       "    </tr>\n",
       "    <tr>\n",
       "      <th>11387</th>\n",
       "      <td>23/07/2018</td>\n",
       "      <td>73.45</td>\n",
       "      <td>NaN</td>\n",
       "    </tr>\n",
       "  </tbody>\n",
       "</table>\n",
       "</div>"
      ],
      "text/plain": [
       "             Data  \\\n",
       "9965   31/08/2014   \n",
       "6465   30/01/2005   \n",
       "3337   08/07/1996   \n",
       "8093   16/07/2009   \n",
       "11387  23/07/2018   \n",
       "\n",
       "       Preço - petróleo bruto - Brent (FOB) - US$ - Energy Information Administration (EIA) - EIA366_PBRENT366  \\\n",
       "9965                                              100.40                                                         \n",
       "6465                                               45.94                                                         \n",
       "3337                                               19.62                                                         \n",
       "8093                                               62.02                                                         \n",
       "11387                                              73.45                                                         \n",
       "\n",
       "       Unnamed: 2  \n",
       "9965          NaN  \n",
       "6465          NaN  \n",
       "3337          NaN  \n",
       "8093          NaN  \n",
       "11387         NaN  "
      ]
     },
     "execution_count": 140,
     "metadata": {},
     "output_type": "execute_result"
    }
   ],
   "source": [
    "base_prc_barril.sample(n=5)"
   ]
  },
  {
   "cell_type": "code",
   "execution_count": 141,
   "id": "0d6e450c",
   "metadata": {},
   "outputs": [
    {
     "name": "stdout",
     "output_type": "stream",
     "text": [
      "O dataset apresenta 3 colunas e 12767 registros.\n",
      "\n",
      "A seguir a listagem da tipagem das colunas e seu nível de preenchimento:\n",
      "\n"
     ]
    },
    {
     "data": {
      "text/html": [
       "<div>\n",
       "<style scoped>\n",
       "    .dataframe tbody tr th:only-of-type {\n",
       "        vertical-align: middle;\n",
       "    }\n",
       "\n",
       "    .dataframe tbody tr th {\n",
       "        vertical-align: top;\n",
       "    }\n",
       "\n",
       "    .dataframe thead th {\n",
       "        text-align: right;\n",
       "    }\n",
       "</style>\n",
       "<table border=\"1\" class=\"dataframe\">\n",
       "  <thead>\n",
       "    <tr style=\"text-align: right;\">\n",
       "      <th></th>\n",
       "      <th>column type</th>\n",
       "      <th>null values</th>\n",
       "      <th>null values (%)</th>\n",
       "    </tr>\n",
       "  </thead>\n",
       "  <tbody>\n",
       "    <tr>\n",
       "      <th>Data</th>\n",
       "      <td>object</td>\n",
       "      <td>0</td>\n",
       "      <td>0.0</td>\n",
       "    </tr>\n",
       "    <tr>\n",
       "      <th>Preço - petróleo bruto - Brent (FOB) - US$ - Energy Information Administration (EIA) - EIA366_PBRENT366</th>\n",
       "      <td>float64</td>\n",
       "      <td>2112</td>\n",
       "      <td>16.542649</td>\n",
       "    </tr>\n",
       "    <tr>\n",
       "      <th>Unnamed: 2</th>\n",
       "      <td>float64</td>\n",
       "      <td>12767</td>\n",
       "      <td>100.0</td>\n",
       "    </tr>\n",
       "  </tbody>\n",
       "</table>\n",
       "</div>"
      ],
      "text/plain": [
       "                                                   column type null values  \\\n",
       "Data                                                    object           0   \n",
       "Preço - petróleo bruto - Brent (FOB) - US$ - En...     float64        2112   \n",
       "Unnamed: 2                                             float64       12767   \n",
       "\n",
       "                                                   null values (%)  \n",
       "Data                                                           0.0  \n",
       "Preço - petróleo bruto - Brent (FOB) - US$ - En...       16.542649  \n",
       "Unnamed: 2                                                   100.0  "
      ]
     },
     "metadata": {},
     "output_type": "display_data"
    }
   ],
   "source": [
    "defDatasetTamanho(base_prc_barril)\n",
    "deftiposeNulos(base_prc_barril)"
   ]
  },
  {
   "cell_type": "markdown",
   "id": "721ed408",
   "metadata": {},
   "source": [
    "# Tratamento base do prc do barril"
   ]
  },
  {
   "cell_type": "code",
   "execution_count": 142,
   "id": "d95a950a",
   "metadata": {},
   "outputs": [],
   "source": [
    "#Renomeando a coluna\n",
    "base_prc_barril.rename(columns={'Preço - petróleo bruto - Brent (FOB) - US$ - Energy Information Administration (EIA) - EIA366_PBRENT366': 'PRC_BARRIL_BRUTO'}, inplace = True)\n",
    "\n",
    "#Deletando colunas desnecessárias\n",
    "prc_barril_df = base_prc_barril.drop([\"Unnamed: 2\"], axis=1)"
   ]
  },
  {
   "cell_type": "code",
   "execution_count": 143,
   "id": "aedd04bf",
   "metadata": {},
   "outputs": [],
   "source": [
    "# Cria a coluna DATA removendo os dias\n",
    "prc_barril_df['Data'] = pd.to_datetime(prc_barril_df['Data'])\n",
    "prc_barril_df['Data'] = prc_barril_df['Data'].dt.to_period('M')"
   ]
  },
  {
   "cell_type": "markdown",
   "id": "38b4d866",
   "metadata": {},
   "source": [
    "#### Filtragem"
   ]
  },
  {
   "cell_type": "code",
   "execution_count": 144,
   "id": "d0dca1b0",
   "metadata": {},
   "outputs": [],
   "source": [
    "# Agrupa também as datas pelo mês, fazendo a média do valor\n",
    "prc_barril_mes_df = prc_barril_df.groupby(['Data']).agg({'PRC_BARRIL_BRUTO': np.mean}).reset_index()"
   ]
  },
  {
   "cell_type": "code",
   "execution_count": 145,
   "id": "a9cf6f12",
   "metadata": {},
   "outputs": [],
   "source": [
    "# Define data como index da coluna para o merge posterior\n",
    "prc_barril_mes_df = prc_barril_mes_df.set_index('Data')"
   ]
  },
  {
   "cell_type": "code",
   "execution_count": 146,
   "id": "61831531",
   "metadata": {},
   "outputs": [
    {
     "data": {
      "text/plain": [
       "(0, 1)"
      ]
     },
     "execution_count": 146,
     "metadata": {},
     "output_type": "execute_result"
    }
   ],
   "source": [
    "#Verificando existencia de duplicatas: resultado: 0\n",
    "linhas_dup_barril = prc_barril_mes_df[prc_barril_mes_df.duplicated(keep=False)]\n",
    "linhas_dup_barril.shape"
   ]
  },
  {
   "cell_type": "code",
   "execution_count": 147,
   "id": "cb5ba4b1",
   "metadata": {},
   "outputs": [
    {
     "data": {
      "text/html": [
       "<div>\n",
       "<style scoped>\n",
       "    .dataframe tbody tr th:only-of-type {\n",
       "        vertical-align: middle;\n",
       "    }\n",
       "\n",
       "    .dataframe tbody tr th {\n",
       "        vertical-align: top;\n",
       "    }\n",
       "\n",
       "    .dataframe thead th {\n",
       "        text-align: right;\n",
       "    }\n",
       "</style>\n",
       "<table border=\"1\" class=\"dataframe\">\n",
       "  <thead>\n",
       "    <tr style=\"text-align: right;\">\n",
       "      <th></th>\n",
       "      <th>PRC_BARRIL_BRUTO</th>\n",
       "    </tr>\n",
       "    <tr>\n",
       "      <th>Data</th>\n",
       "      <th></th>\n",
       "    </tr>\n",
       "  </thead>\n",
       "  <tbody>\n",
       "    <tr>\n",
       "      <th>1987-01</th>\n",
       "      <td>18.442000</td>\n",
       "    </tr>\n",
       "    <tr>\n",
       "      <th>1987-02</th>\n",
       "      <td>18.551667</td>\n",
       "    </tr>\n",
       "    <tr>\n",
       "      <th>1987-03</th>\n",
       "      <td>18.920000</td>\n",
       "    </tr>\n",
       "    <tr>\n",
       "      <th>1987-04</th>\n",
       "      <td>18.698000</td>\n",
       "    </tr>\n",
       "    <tr>\n",
       "      <th>1987-05</th>\n",
       "      <td>18.643333</td>\n",
       "    </tr>\n",
       "  </tbody>\n",
       "</table>\n",
       "</div>"
      ],
      "text/plain": [
       "         PRC_BARRIL_BRUTO\n",
       "Data                     \n",
       "1987-01         18.442000\n",
       "1987-02         18.551667\n",
       "1987-03         18.920000\n",
       "1987-04         18.698000\n",
       "1987-05         18.643333"
      ]
     },
     "execution_count": 147,
     "metadata": {},
     "output_type": "execute_result"
    }
   ],
   "source": [
    "prc_barril_mes_df.head(5)"
   ]
  },
  {
   "cell_type": "markdown",
   "id": "8b0d7a15",
   "metadata": {},
   "source": [
    "# Dataset da Taxa de câmbio - Dólar americano"
   ]
  },
  {
   "cell_type": "markdown",
   "id": "e696a1ce",
   "metadata": {},
   "source": [
    "### Importando dataset da taxa de câmbio"
   ]
  },
  {
   "cell_type": "code",
   "execution_count": 148,
   "id": "dd396cb9",
   "metadata": {},
   "outputs": [],
   "source": [
    "#df_cambio = pd.read_csv(\"Cotação do Dólar por período.csv\")"
   ]
  },
  {
   "cell_type": "code",
   "execution_count": 149,
   "id": "246f3584",
   "metadata": {},
   "outputs": [],
   "source": [
    "df_cambio = pd.read_csv(\"https://raw.githubusercontent.com/jrosasalvador/TCC_PUC_Minas_2022/main/Bases/Cotacao%20do%20Dolar%20por%20periodo.csv\")"
   ]
  },
  {
   "cell_type": "code",
   "execution_count": 150,
   "id": "befc9b92",
   "metadata": {},
   "outputs": [
    {
     "name": "stdout",
     "output_type": "stream",
     "text": [
      "O dataset apresenta 3 colunas e 3633 registros.\n",
      "\n",
      "A seguir a listagem da tipagem das colunas e seu nível de preenchimento:\n",
      "\n"
     ]
    },
    {
     "data": {
      "text/html": [
       "<div>\n",
       "<style scoped>\n",
       "    .dataframe tbody tr th:only-of-type {\n",
       "        vertical-align: middle;\n",
       "    }\n",
       "\n",
       "    .dataframe tbody tr th {\n",
       "        vertical-align: top;\n",
       "    }\n",
       "\n",
       "    .dataframe thead th {\n",
       "        text-align: right;\n",
       "    }\n",
       "</style>\n",
       "<table border=\"1\" class=\"dataframe\">\n",
       "  <thead>\n",
       "    <tr style=\"text-align: right;\">\n",
       "      <th></th>\n",
       "      <th>column type</th>\n",
       "      <th>null values</th>\n",
       "      <th>null values (%)</th>\n",
       "    </tr>\n",
       "  </thead>\n",
       "  <tbody>\n",
       "    <tr>\n",
       "      <th>cotacaoCompra</th>\n",
       "      <td>object</td>\n",
       "      <td>0</td>\n",
       "      <td>0.0</td>\n",
       "    </tr>\n",
       "    <tr>\n",
       "      <th>cotacaoVenda</th>\n",
       "      <td>object</td>\n",
       "      <td>0</td>\n",
       "      <td>0.0</td>\n",
       "    </tr>\n",
       "    <tr>\n",
       "      <th>dataHoraCotacao</th>\n",
       "      <td>object</td>\n",
       "      <td>0</td>\n",
       "      <td>0.0</td>\n",
       "    </tr>\n",
       "  </tbody>\n",
       "</table>\n",
       "</div>"
      ],
      "text/plain": [
       "                column type null values null values (%)\n",
       "cotacaoCompra        object           0             0.0\n",
       "cotacaoVenda         object           0             0.0\n",
       "dataHoraCotacao      object           0             0.0"
      ]
     },
     "metadata": {},
     "output_type": "display_data"
    }
   ],
   "source": [
    "defDatasetTamanho(df_cambio)\n",
    "deftiposeNulos(df_cambio)"
   ]
  },
  {
   "cell_type": "code",
   "execution_count": 151,
   "id": "0fe0ea91",
   "metadata": {},
   "outputs": [
    {
     "data": {
      "text/html": [
       "<div>\n",
       "<style scoped>\n",
       "    .dataframe tbody tr th:only-of-type {\n",
       "        vertical-align: middle;\n",
       "    }\n",
       "\n",
       "    .dataframe tbody tr th {\n",
       "        vertical-align: top;\n",
       "    }\n",
       "\n",
       "    .dataframe thead th {\n",
       "        text-align: right;\n",
       "    }\n",
       "</style>\n",
       "<table border=\"1\" class=\"dataframe\">\n",
       "  <thead>\n",
       "    <tr style=\"text-align: right;\">\n",
       "      <th></th>\n",
       "      <th>cotacaoCompra</th>\n",
       "      <th>cotacaoVenda</th>\n",
       "      <th>dataHoraCotacao</th>\n",
       "    </tr>\n",
       "  </thead>\n",
       "  <tbody>\n",
       "    <tr>\n",
       "      <th>0</th>\n",
       "      <td>1,7714</td>\n",
       "      <td>1,7722</td>\n",
       "      <td>2008-01-02 17:33:00.0</td>\n",
       "    </tr>\n",
       "    <tr>\n",
       "      <th>1</th>\n",
       "      <td>1,7561</td>\n",
       "      <td>1,7569</td>\n",
       "      <td>2008-01-03 17:39:00.0</td>\n",
       "    </tr>\n",
       "    <tr>\n",
       "      <th>2</th>\n",
       "      <td>1,7566</td>\n",
       "      <td>1,7574</td>\n",
       "      <td>2008-01-04 17:33:00.0</td>\n",
       "    </tr>\n",
       "    <tr>\n",
       "      <th>3</th>\n",
       "      <td>1,7667</td>\n",
       "      <td>1,7675</td>\n",
       "      <td>2008-01-07 17:41:00.0</td>\n",
       "    </tr>\n",
       "    <tr>\n",
       "      <th>4</th>\n",
       "      <td>1,7546</td>\n",
       "      <td>1,7554</td>\n",
       "      <td>2008-01-08 17:39:00.0</td>\n",
       "    </tr>\n",
       "  </tbody>\n",
       "</table>\n",
       "</div>"
      ],
      "text/plain": [
       "  cotacaoCompra cotacaoVenda        dataHoraCotacao\n",
       "0        1,7714       1,7722  2008-01-02 17:33:00.0\n",
       "1        1,7561       1,7569  2008-01-03 17:39:00.0\n",
       "2        1,7566       1,7574  2008-01-04 17:33:00.0\n",
       "3        1,7667       1,7675  2008-01-07 17:41:00.0\n",
       "4        1,7546       1,7554  2008-01-08 17:39:00.0"
      ]
     },
     "execution_count": 151,
     "metadata": {},
     "output_type": "execute_result"
    }
   ],
   "source": [
    "df_cambio.head(5)"
   ]
  },
  {
   "cell_type": "markdown",
   "id": "461c7120",
   "metadata": {},
   "source": [
    "# Tratamento da base da taxa de câmbio"
   ]
  },
  {
   "cell_type": "code",
   "execution_count": 152,
   "id": "cf282413",
   "metadata": {},
   "outputs": [],
   "source": [
    "# Cria a coluna DATA removendo os dias\n",
    "df_cambio['dataHoraCotacao'] = pd.to_datetime(df_cambio['dataHoraCotacao'])\n",
    "df_cambio['dataHoraCotacao'] = df_cambio['dataHoraCotacao'].dt.to_period('M')"
   ]
  },
  {
   "cell_type": "code",
   "execution_count": 153,
   "id": "d0dbb301",
   "metadata": {},
   "outputs": [],
   "source": [
    "#Deletando a coluna 'cotacaoCompra' pois não a usaremos para a análise\n",
    "df_cambio = df_cambio.drop([\"cotacaoCompra\"], axis=1)"
   ]
  },
  {
   "cell_type": "markdown",
   "id": "87eaa019",
   "metadata": {},
   "source": [
    "#### Correções de tipagem"
   ]
  },
  {
   "cell_type": "code",
   "execution_count": 154,
   "id": "ed101ba7",
   "metadata": {},
   "outputs": [],
   "source": [
    "#Como a coluna cotacaoVenda é do tipo object, preciso primeiramente substituir a vírgula pelo ponto\n",
    "#Pois assim não dará erro na hora de converter seu valor para numérico\n",
    "df_cambio['cotacaoVenda'] = df_cambio['cotacaoVenda'].apply(lambda x: float(x.replace(\",\",\".\")))"
   ]
  },
  {
   "cell_type": "code",
   "execution_count": 155,
   "id": "12797d70",
   "metadata": {},
   "outputs": [],
   "source": [
    "#convertendo a coluna para numeric\n",
    "df_cambio['cotacaoVenda'] = pd.to_numeric(df_cambio['cotacaoVenda'], errors='coerce')"
   ]
  },
  {
   "cell_type": "markdown",
   "id": "8b3c79cc",
   "metadata": {},
   "source": [
    "#### Filtragem"
   ]
  },
  {
   "cell_type": "code",
   "execution_count": 156,
   "id": "f033bf34",
   "metadata": {},
   "outputs": [],
   "source": [
    "# Agrupa por Ano/Mês, fazendo a média do valor da cotação da venda\n",
    "df_tx_cambio = df_cambio.groupby(['dataHoraCotacao']).agg({'cotacaoVenda': np.mean}).reset_index()"
   ]
  },
  {
   "cell_type": "code",
   "execution_count": 157,
   "id": "837adca9",
   "metadata": {},
   "outputs": [
    {
     "data": {
      "text/html": [
       "<div>\n",
       "<style scoped>\n",
       "    .dataframe tbody tr th:only-of-type {\n",
       "        vertical-align: middle;\n",
       "    }\n",
       "\n",
       "    .dataframe tbody tr th {\n",
       "        vertical-align: top;\n",
       "    }\n",
       "\n",
       "    .dataframe thead th {\n",
       "        text-align: right;\n",
       "    }\n",
       "</style>\n",
       "<table border=\"1\" class=\"dataframe\">\n",
       "  <thead>\n",
       "    <tr style=\"text-align: right;\">\n",
       "      <th></th>\n",
       "      <th>cotacaoVenda</th>\n",
       "    </tr>\n",
       "    <tr>\n",
       "      <th>dataHoraCotacao</th>\n",
       "      <th></th>\n",
       "    </tr>\n",
       "  </thead>\n",
       "  <tbody>\n",
       "    <tr>\n",
       "      <th>2008-01</th>\n",
       "      <td>1.774259</td>\n",
       "    </tr>\n",
       "    <tr>\n",
       "      <th>2008-02</th>\n",
       "      <td>1.727742</td>\n",
       "    </tr>\n",
       "    <tr>\n",
       "      <th>2008-03</th>\n",
       "      <td>1.707580</td>\n",
       "    </tr>\n",
       "    <tr>\n",
       "      <th>2008-04</th>\n",
       "      <td>1.688929</td>\n",
       "    </tr>\n",
       "    <tr>\n",
       "      <th>2008-05</th>\n",
       "      <td>1.660535</td>\n",
       "    </tr>\n",
       "    <tr>\n",
       "      <th>...</th>\n",
       "      <td>...</td>\n",
       "    </tr>\n",
       "    <tr>\n",
       "      <th>2022-02</th>\n",
       "      <td>5.196579</td>\n",
       "    </tr>\n",
       "    <tr>\n",
       "      <th>2022-03</th>\n",
       "      <td>4.968382</td>\n",
       "    </tr>\n",
       "    <tr>\n",
       "      <th>2022-04</th>\n",
       "      <td>4.758016</td>\n",
       "    </tr>\n",
       "    <tr>\n",
       "      <th>2022-05</th>\n",
       "      <td>4.955050</td>\n",
       "    </tr>\n",
       "    <tr>\n",
       "      <th>2022-06</th>\n",
       "      <td>4.937617</td>\n",
       "    </tr>\n",
       "  </tbody>\n",
       "</table>\n",
       "<p>174 rows × 1 columns</p>\n",
       "</div>"
      ],
      "text/plain": [
       "                 cotacaoVenda\n",
       "dataHoraCotacao              \n",
       "2008-01              1.774259\n",
       "2008-02              1.727742\n",
       "2008-03              1.707580\n",
       "2008-04              1.688929\n",
       "2008-05              1.660535\n",
       "...                       ...\n",
       "2022-02              5.196579\n",
       "2022-03              4.968382\n",
       "2022-04              4.758016\n",
       "2022-05              4.955050\n",
       "2022-06              4.937617\n",
       "\n",
       "[174 rows x 1 columns]"
      ]
     },
     "metadata": {},
     "output_type": "display_data"
    }
   ],
   "source": [
    "#Setando a colunadaHoraCotacao como índice para unir com a base principal posteriormente\n",
    "df_tx_cambio = df_tx_cambio.set_index('dataHoraCotacao')\n",
    "display(df_tx_cambio)"
   ]
  },
  {
   "cell_type": "code",
   "execution_count": 158,
   "id": "1626e16b",
   "metadata": {},
   "outputs": [
    {
     "data": {
      "text/plain": [
       "(0, 1)"
      ]
     },
     "execution_count": 158,
     "metadata": {},
     "output_type": "execute_result"
    }
   ],
   "source": [
    "#Verificação de dados duplicados. Resultado: 0\n",
    "linhas_dup_cambio = df_tx_cambio[df_tx_cambio.duplicated(keep=False)]\n",
    "linhas_dup_cambio.shape"
   ]
  },
  {
   "cell_type": "markdown",
   "id": "9e0a2c6a",
   "metadata": {},
   "source": [
    "## Agregando as colunas no dataframe principal"
   ]
  },
  {
   "cell_type": "markdown",
   "id": "49e14bdf",
   "metadata": {},
   "source": [
    "#### Junção das principais colunas com o base principal"
   ]
  },
  {
   "cell_type": "code",
   "execution_count": 159,
   "id": "975b4ee6",
   "metadata": {},
   "outputs": [],
   "source": [
    "# Copia os valores do dataframe para um dataframe definitivo\n",
    "df_prc_comb = base_comb_df.copy()\n",
    "# Reseta o index para um valor sequencial e depois seta a coluna DATA como novo index\n",
    "df_prc_comb.reset_index(inplace=True)\n",
    "df_prc_comb.set_index('MÊS', inplace=True)"
   ]
  },
  {
   "cell_type": "code",
   "execution_count": 160,
   "id": "48d41959",
   "metadata": {},
   "outputs": [],
   "source": [
    "# Agrega as colunas dos datasets anteriores (Barril, Câmbio, Inflação...)"
   ]
  },
  {
   "cell_type": "code",
   "execution_count": 161,
   "id": "c81ad48e",
   "metadata": {},
   "outputs": [],
   "source": [
    "df_prc_comb['PRC_BARRIL_BRUTO'] = prc_barril_mes_df['PRC_BARRIL_BRUTO']  "
   ]
  },
  {
   "cell_type": "code",
   "execution_count": 162,
   "id": "eea5097e",
   "metadata": {},
   "outputs": [],
   "source": [
    "df_prc_comb['TAXA CÂMBIO'] = df_tx_cambio['cotacaoVenda']"
   ]
  },
  {
   "cell_type": "code",
   "execution_count": 163,
   "id": "918bc1a4",
   "metadata": {},
   "outputs": [],
   "source": [
    "# Deletando coluna desnecessária\n",
    "df_prc_comb = df_prc_comb.drop([\"index\"], axis=1)"
   ]
  },
  {
   "cell_type": "code",
   "execution_count": 164,
   "id": "bbe44dc7",
   "metadata": {},
   "outputs": [
    {
     "data": {
      "text/html": [
       "<div>\n",
       "<style scoped>\n",
       "    .dataframe tbody tr th:only-of-type {\n",
       "        vertical-align: middle;\n",
       "    }\n",
       "\n",
       "    .dataframe tbody tr th {\n",
       "        vertical-align: top;\n",
       "    }\n",
       "\n",
       "    .dataframe thead th {\n",
       "        text-align: right;\n",
       "    }\n",
       "</style>\n",
       "<table border=\"1\" class=\"dataframe\">\n",
       "  <thead>\n",
       "    <tr style=\"text-align: right;\">\n",
       "      <th></th>\n",
       "      <th>PRODUTO</th>\n",
       "      <th>REGIÃO</th>\n",
       "      <th>ESTADO</th>\n",
       "      <th>PREÇO MÉDIO REVENDA</th>\n",
       "      <th>PREÇO MÉDIO DISTRIBUIÇÃO</th>\n",
       "      <th>ANO</th>\n",
       "      <th>SIGLA_UF</th>\n",
       "      <th>PRC_BARRIL_BRUTO</th>\n",
       "      <th>TAXA CÂMBIO</th>\n",
       "    </tr>\n",
       "    <tr>\n",
       "      <th>MÊS</th>\n",
       "      <th></th>\n",
       "      <th></th>\n",
       "      <th></th>\n",
       "      <th></th>\n",
       "      <th></th>\n",
       "      <th></th>\n",
       "      <th></th>\n",
       "      <th></th>\n",
       "      <th></th>\n",
       "    </tr>\n",
       "  </thead>\n",
       "  <tbody>\n",
       "    <tr>\n",
       "      <th>2022-05</th>\n",
       "      <td>ÓLEO DIESEL S10</td>\n",
       "      <td>NORTE</td>\n",
       "      <td>RORAIMA</td>\n",
       "      <td>7.186</td>\n",
       "      <td>2.169</td>\n",
       "      <td>2022</td>\n",
       "      <td>RR</td>\n",
       "      <td>93.6</td>\n",
       "      <td>4.95505</td>\n",
       "    </tr>\n",
       "    <tr>\n",
       "      <th>2022-05</th>\n",
       "      <td>ÓLEO DIESEL S10</td>\n",
       "      <td>SUL</td>\n",
       "      <td>SANTA CATARINA</td>\n",
       "      <td>6.788</td>\n",
       "      <td>2.169</td>\n",
       "      <td>2022</td>\n",
       "      <td>SC</td>\n",
       "      <td>93.6</td>\n",
       "      <td>4.95505</td>\n",
       "    </tr>\n",
       "    <tr>\n",
       "      <th>2022-05</th>\n",
       "      <td>ÓLEO DIESEL S10</td>\n",
       "      <td>SUDESTE</td>\n",
       "      <td>SÃO PAULO</td>\n",
       "      <td>6.847</td>\n",
       "      <td>2.169</td>\n",
       "      <td>2022</td>\n",
       "      <td>SP</td>\n",
       "      <td>93.6</td>\n",
       "      <td>4.95505</td>\n",
       "    </tr>\n",
       "    <tr>\n",
       "      <th>2022-05</th>\n",
       "      <td>ÓLEO DIESEL S10</td>\n",
       "      <td>NORDESTE</td>\n",
       "      <td>SERGIPE</td>\n",
       "      <td>6.982</td>\n",
       "      <td>2.169</td>\n",
       "      <td>2022</td>\n",
       "      <td>SE</td>\n",
       "      <td>93.6</td>\n",
       "      <td>4.95505</td>\n",
       "    </tr>\n",
       "    <tr>\n",
       "      <th>2022-05</th>\n",
       "      <td>ÓLEO DIESEL S10</td>\n",
       "      <td>NORTE</td>\n",
       "      <td>TOCANTINS</td>\n",
       "      <td>6.956</td>\n",
       "      <td>2.169</td>\n",
       "      <td>2022</td>\n",
       "      <td>TO</td>\n",
       "      <td>93.6</td>\n",
       "      <td>4.95505</td>\n",
       "    </tr>\n",
       "  </tbody>\n",
       "</table>\n",
       "</div>"
      ],
      "text/plain": [
       "                 PRODUTO    REGIÃO          ESTADO  PREÇO MÉDIO REVENDA  \\\n",
       "MÊS                                                                       \n",
       "2022-05  ÓLEO DIESEL S10     NORTE         RORAIMA                7.186   \n",
       "2022-05  ÓLEO DIESEL S10       SUL  SANTA CATARINA                6.788   \n",
       "2022-05  ÓLEO DIESEL S10   SUDESTE       SÃO PAULO                6.847   \n",
       "2022-05  ÓLEO DIESEL S10  NORDESTE         SERGIPE                6.982   \n",
       "2022-05  ÓLEO DIESEL S10     NORTE       TOCANTINS                6.956   \n",
       "\n",
       "         PREÇO MÉDIO DISTRIBUIÇÃO   ANO SIGLA_UF  PRC_BARRIL_BRUTO  \\\n",
       "MÊS                                                                  \n",
       "2022-05                     2.169  2022       RR              93.6   \n",
       "2022-05                     2.169  2022       SC              93.6   \n",
       "2022-05                     2.169  2022       SP              93.6   \n",
       "2022-05                     2.169  2022       SE              93.6   \n",
       "2022-05                     2.169  2022       TO              93.6   \n",
       "\n",
       "         TAXA CÂMBIO  \n",
       "MÊS                   \n",
       "2022-05      4.95505  \n",
       "2022-05      4.95505  \n",
       "2022-05      4.95505  \n",
       "2022-05      4.95505  \n",
       "2022-05      4.95505  "
      ]
     },
     "execution_count": 164,
     "metadata": {},
     "output_type": "execute_result"
    }
   ],
   "source": [
    "df_prc_comb.tail(5)"
   ]
  },
  {
   "cell_type": "markdown",
   "id": "5c0cef39",
   "metadata": {},
   "source": [
    "## ANÁLISE DOS PREÇOS DOS COMBUSTÍVEIS"
   ]
  },
  {
   "cell_type": "code",
   "execution_count": 165,
   "id": "8a9db945",
   "metadata": {},
   "outputs": [
    {
     "data": {
      "text/html": [
       "<div>\n",
       "<style scoped>\n",
       "    .dataframe tbody tr th:only-of-type {\n",
       "        vertical-align: middle;\n",
       "    }\n",
       "\n",
       "    .dataframe tbody tr th {\n",
       "        vertical-align: top;\n",
       "    }\n",
       "\n",
       "    .dataframe thead tr th {\n",
       "        text-align: left;\n",
       "    }\n",
       "</style>\n",
       "<table border=\"1\" class=\"dataframe\">\n",
       "  <thead>\n",
       "    <tr>\n",
       "      <th></th>\n",
       "      <th>PRODUTO</th>\n",
       "      <th colspan=\"4\" halign=\"left\">PREÇO MÉDIO REVENDA</th>\n",
       "    </tr>\n",
       "    <tr>\n",
       "      <th></th>\n",
       "      <th></th>\n",
       "      <th>amin</th>\n",
       "      <th>amax</th>\n",
       "      <th>mean</th>\n",
       "      <th>std</th>\n",
       "    </tr>\n",
       "  </thead>\n",
       "  <tbody>\n",
       "    <tr>\n",
       "      <th>0</th>\n",
       "      <td>ETANOL HIDRATADO</td>\n",
       "      <td>1.141</td>\n",
       "      <td>6.983</td>\n",
       "      <td>2.730810</td>\n",
       "      <td>1.197408</td>\n",
       "    </tr>\n",
       "    <tr>\n",
       "      <th>1</th>\n",
       "      <td>GASOLINA COMUM</td>\n",
       "      <td>2.353</td>\n",
       "      <td>8.118</td>\n",
       "      <td>3.488579</td>\n",
       "      <td>1.316621</td>\n",
       "    </tr>\n",
       "    <tr>\n",
       "      <th>2</th>\n",
       "      <td>GNV</td>\n",
       "      <td>1.171</td>\n",
       "      <td>7.023</td>\n",
       "      <td>2.319977</td>\n",
       "      <td>0.988836</td>\n",
       "    </tr>\n",
       "    <tr>\n",
       "      <th>3</th>\n",
       "      <td>ÓLEO DIESEL</td>\n",
       "      <td>1.829</td>\n",
       "      <td>7.998</td>\n",
       "      <td>2.850635</td>\n",
       "      <td>1.212727</td>\n",
       "    </tr>\n",
       "    <tr>\n",
       "      <th>4</th>\n",
       "      <td>ÓLEO DIESEL S10</td>\n",
       "      <td>2.492</td>\n",
       "      <td>7.650</td>\n",
       "      <td>3.903858</td>\n",
       "      <td>1.254439</td>\n",
       "    </tr>\n",
       "    <tr>\n",
       "      <th>5</th>\n",
       "      <td>GASOLINA ADITIVADA</td>\n",
       "      <td>5.348</td>\n",
       "      <td>8.304</td>\n",
       "      <td>6.748741</td>\n",
       "      <td>0.549809</td>\n",
       "    </tr>\n",
       "  </tbody>\n",
       "</table>\n",
       "</div>"
      ],
      "text/plain": [
       "              PRODUTO PREÇO MÉDIO REVENDA                           \n",
       "                                     amin   amax      mean       std\n",
       "0    ETANOL HIDRATADO               1.141  6.983  2.730810  1.197408\n",
       "1      GASOLINA COMUM               2.353  8.118  3.488579  1.316621\n",
       "2                 GNV               1.171  7.023  2.319977  0.988836\n",
       "3         ÓLEO DIESEL               1.829  7.998  2.850635  1.212727\n",
       "4     ÓLEO DIESEL S10               2.492  7.650  3.903858  1.254439\n",
       "5  GASOLINA ADITIVADA               5.348  8.304  6.748741  0.549809"
      ]
     },
     "metadata": {},
     "output_type": "display_data"
    }
   ],
   "source": [
    "# tabela estatística\n",
    "estatisticas_df = df_prc_comb.groupby(['PRODUTO'], sort=False).agg({'PREÇO MÉDIO REVENDA': [np.min,np.max,np.mean,np.std]}).reset_index()\n",
    "display(estatisticas_df)"
   ]
  },
  {
   "cell_type": "code",
   "execution_count": 166,
   "id": "bf28a2c6",
   "metadata": {},
   "outputs": [
    {
     "data": {
      "text/html": [
       "<div>\n",
       "<style scoped>\n",
       "    .dataframe tbody tr th:only-of-type {\n",
       "        vertical-align: middle;\n",
       "    }\n",
       "\n",
       "    .dataframe tbody tr th {\n",
       "        vertical-align: top;\n",
       "    }\n",
       "\n",
       "    .dataframe thead th {\n",
       "        text-align: right;\n",
       "    }\n",
       "</style>\n",
       "<table border=\"1\" class=\"dataframe\">\n",
       "  <thead>\n",
       "    <tr style=\"text-align: right;\">\n",
       "      <th></th>\n",
       "      <th>PRODUTO</th>\n",
       "      <th>PREÇO MÉDIO REVENDA</th>\n",
       "    </tr>\n",
       "  </thead>\n",
       "  <tbody>\n",
       "    <tr>\n",
       "      <th>0</th>\n",
       "      <td>ETANOL HIDRATADO</td>\n",
       "      <td>6.983</td>\n",
       "    </tr>\n",
       "    <tr>\n",
       "      <th>1</th>\n",
       "      <td>GASOLINA COMUM</td>\n",
       "      <td>8.118</td>\n",
       "    </tr>\n",
       "    <tr>\n",
       "      <th>2</th>\n",
       "      <td>GNV</td>\n",
       "      <td>7.023</td>\n",
       "    </tr>\n",
       "    <tr>\n",
       "      <th>3</th>\n",
       "      <td>ÓLEO DIESEL</td>\n",
       "      <td>7.998</td>\n",
       "    </tr>\n",
       "    <tr>\n",
       "      <th>4</th>\n",
       "      <td>ÓLEO DIESEL S10</td>\n",
       "      <td>7.650</td>\n",
       "    </tr>\n",
       "    <tr>\n",
       "      <th>5</th>\n",
       "      <td>GASOLINA ADITIVADA</td>\n",
       "      <td>8.304</td>\n",
       "    </tr>\n",
       "  </tbody>\n",
       "</table>\n",
       "</div>"
      ],
      "text/plain": [
       "              PRODUTO  PREÇO MÉDIO REVENDA\n",
       "0    ETANOL HIDRATADO                6.983\n",
       "1      GASOLINA COMUM                8.118\n",
       "2                 GNV                7.023\n",
       "3         ÓLEO DIESEL                7.998\n",
       "4     ÓLEO DIESEL S10                7.650\n",
       "5  GASOLINA ADITIVADA                8.304"
      ]
     },
     "metadata": {},
     "output_type": "display_data"
    }
   ],
   "source": [
    "# Preço máximo de revenda por produto\n",
    "vendas_produto_max_df = df_prc_comb.groupby(['PRODUTO'], sort=False).agg({'PREÇO MÉDIO REVENDA': np.max}).reset_index()\n",
    "display(vendas_produto_max_df)"
   ]
  },
  {
   "cell_type": "code",
   "execution_count": 167,
   "id": "a8157c1a",
   "metadata": {},
   "outputs": [
    {
     "data": {
      "application/vnd.plotly.v1+json": {
       "config": {
        "plotlyServerURL": "https://plot.ly"
       },
       "data": [
        {
         "alignmentgroup": "True",
         "hovertemplate": "Produto=%{y}<br>Preço Máximo=%{x}<extra></extra>",
         "legendgroup": "ETANOL HIDRATADO",
         "marker": {
          "color": "#636efa",
          "pattern": {
           "shape": ""
          }
         },
         "name": "ETANOL HIDRATADO",
         "offsetgroup": "ETANOL HIDRATADO",
         "orientation": "h",
         "showlegend": true,
         "textposition": "auto",
         "texttemplate": "%{x}",
         "type": "bar",
         "x": [
          6.983
         ],
         "xaxis": "x",
         "y": [
          "ETANOL HIDRATADO"
         ],
         "yaxis": "y"
        },
        {
         "alignmentgroup": "True",
         "hovertemplate": "Produto=%{y}<br>Preço Máximo=%{x}<extra></extra>",
         "legendgroup": "GASOLINA COMUM",
         "marker": {
          "color": "#EF553B",
          "pattern": {
           "shape": ""
          }
         },
         "name": "GASOLINA COMUM",
         "offsetgroup": "GASOLINA COMUM",
         "orientation": "h",
         "showlegend": true,
         "textposition": "auto",
         "texttemplate": "%{x}",
         "type": "bar",
         "x": [
          8.118
         ],
         "xaxis": "x",
         "y": [
          "GASOLINA COMUM"
         ],
         "yaxis": "y"
        },
        {
         "alignmentgroup": "True",
         "hovertemplate": "Produto=%{y}<br>Preço Máximo=%{x}<extra></extra>",
         "legendgroup": "GNV",
         "marker": {
          "color": "#00cc96",
          "pattern": {
           "shape": ""
          }
         },
         "name": "GNV",
         "offsetgroup": "GNV",
         "orientation": "h",
         "showlegend": true,
         "textposition": "auto",
         "texttemplate": "%{x}",
         "type": "bar",
         "x": [
          7.023
         ],
         "xaxis": "x",
         "y": [
          "GNV"
         ],
         "yaxis": "y"
        },
        {
         "alignmentgroup": "True",
         "hovertemplate": "Produto=%{y}<br>Preço Máximo=%{x}<extra></extra>",
         "legendgroup": "ÓLEO DIESEL",
         "marker": {
          "color": "#ab63fa",
          "pattern": {
           "shape": ""
          }
         },
         "name": "ÓLEO DIESEL",
         "offsetgroup": "ÓLEO DIESEL",
         "orientation": "h",
         "showlegend": true,
         "textposition": "auto",
         "texttemplate": "%{x}",
         "type": "bar",
         "x": [
          7.998
         ],
         "xaxis": "x",
         "y": [
          "ÓLEO DIESEL"
         ],
         "yaxis": "y"
        },
        {
         "alignmentgroup": "True",
         "hovertemplate": "Produto=%{y}<br>Preço Máximo=%{x}<extra></extra>",
         "legendgroup": "ÓLEO DIESEL S10",
         "marker": {
          "color": "#FFA15A",
          "pattern": {
           "shape": ""
          }
         },
         "name": "ÓLEO DIESEL S10",
         "offsetgroup": "ÓLEO DIESEL S10",
         "orientation": "h",
         "showlegend": true,
         "textposition": "auto",
         "texttemplate": "%{x}",
         "type": "bar",
         "x": [
          7.65
         ],
         "xaxis": "x",
         "y": [
          "ÓLEO DIESEL S10"
         ],
         "yaxis": "y"
        },
        {
         "alignmentgroup": "True",
         "hovertemplate": "Produto=%{y}<br>Preço Máximo=%{x}<extra></extra>",
         "legendgroup": "GASOLINA ADITIVADA",
         "marker": {
          "color": "#19d3f3",
          "pattern": {
           "shape": ""
          }
         },
         "name": "GASOLINA ADITIVADA",
         "offsetgroup": "GASOLINA ADITIVADA",
         "orientation": "h",
         "showlegend": true,
         "textposition": "auto",
         "texttemplate": "%{x}",
         "type": "bar",
         "x": [
          8.304
         ],
         "xaxis": "x",
         "y": [
          "GASOLINA ADITIVADA"
         ],
         "yaxis": "y"
        }
       ],
       "layout": {
        "barmode": "relative",
        "height": 400,
        "legend": {
         "title": {
          "text": "Produto"
         },
         "tracegroupgap": 0
        },
        "template": {
         "data": {
          "bar": [
           {
            "error_x": {
             "color": "#2a3f5f"
            },
            "error_y": {
             "color": "#2a3f5f"
            },
            "marker": {
             "line": {
              "color": "#E5ECF6",
              "width": 0.5
             },
             "pattern": {
              "fillmode": "overlay",
              "size": 10,
              "solidity": 0.2
             }
            },
            "type": "bar"
           }
          ],
          "barpolar": [
           {
            "marker": {
             "line": {
              "color": "#E5ECF6",
              "width": 0.5
             },
             "pattern": {
              "fillmode": "overlay",
              "size": 10,
              "solidity": 0.2
             }
            },
            "type": "barpolar"
           }
          ],
          "carpet": [
           {
            "aaxis": {
             "endlinecolor": "#2a3f5f",
             "gridcolor": "white",
             "linecolor": "white",
             "minorgridcolor": "white",
             "startlinecolor": "#2a3f5f"
            },
            "baxis": {
             "endlinecolor": "#2a3f5f",
             "gridcolor": "white",
             "linecolor": "white",
             "minorgridcolor": "white",
             "startlinecolor": "#2a3f5f"
            },
            "type": "carpet"
           }
          ],
          "choropleth": [
           {
            "colorbar": {
             "outlinewidth": 0,
             "ticks": ""
            },
            "type": "choropleth"
           }
          ],
          "contour": [
           {
            "colorbar": {
             "outlinewidth": 0,
             "ticks": ""
            },
            "colorscale": [
             [
              0,
              "#0d0887"
             ],
             [
              0.1111111111111111,
              "#46039f"
             ],
             [
              0.2222222222222222,
              "#7201a8"
             ],
             [
              0.3333333333333333,
              "#9c179e"
             ],
             [
              0.4444444444444444,
              "#bd3786"
             ],
             [
              0.5555555555555556,
              "#d8576b"
             ],
             [
              0.6666666666666666,
              "#ed7953"
             ],
             [
              0.7777777777777778,
              "#fb9f3a"
             ],
             [
              0.8888888888888888,
              "#fdca26"
             ],
             [
              1,
              "#f0f921"
             ]
            ],
            "type": "contour"
           }
          ],
          "contourcarpet": [
           {
            "colorbar": {
             "outlinewidth": 0,
             "ticks": ""
            },
            "type": "contourcarpet"
           }
          ],
          "heatmap": [
           {
            "colorbar": {
             "outlinewidth": 0,
             "ticks": ""
            },
            "colorscale": [
             [
              0,
              "#0d0887"
             ],
             [
              0.1111111111111111,
              "#46039f"
             ],
             [
              0.2222222222222222,
              "#7201a8"
             ],
             [
              0.3333333333333333,
              "#9c179e"
             ],
             [
              0.4444444444444444,
              "#bd3786"
             ],
             [
              0.5555555555555556,
              "#d8576b"
             ],
             [
              0.6666666666666666,
              "#ed7953"
             ],
             [
              0.7777777777777778,
              "#fb9f3a"
             ],
             [
              0.8888888888888888,
              "#fdca26"
             ],
             [
              1,
              "#f0f921"
             ]
            ],
            "type": "heatmap"
           }
          ],
          "heatmapgl": [
           {
            "colorbar": {
             "outlinewidth": 0,
             "ticks": ""
            },
            "colorscale": [
             [
              0,
              "#0d0887"
             ],
             [
              0.1111111111111111,
              "#46039f"
             ],
             [
              0.2222222222222222,
              "#7201a8"
             ],
             [
              0.3333333333333333,
              "#9c179e"
             ],
             [
              0.4444444444444444,
              "#bd3786"
             ],
             [
              0.5555555555555556,
              "#d8576b"
             ],
             [
              0.6666666666666666,
              "#ed7953"
             ],
             [
              0.7777777777777778,
              "#fb9f3a"
             ],
             [
              0.8888888888888888,
              "#fdca26"
             ],
             [
              1,
              "#f0f921"
             ]
            ],
            "type": "heatmapgl"
           }
          ],
          "histogram": [
           {
            "marker": {
             "pattern": {
              "fillmode": "overlay",
              "size": 10,
              "solidity": 0.2
             }
            },
            "type": "histogram"
           }
          ],
          "histogram2d": [
           {
            "colorbar": {
             "outlinewidth": 0,
             "ticks": ""
            },
            "colorscale": [
             [
              0,
              "#0d0887"
             ],
             [
              0.1111111111111111,
              "#46039f"
             ],
             [
              0.2222222222222222,
              "#7201a8"
             ],
             [
              0.3333333333333333,
              "#9c179e"
             ],
             [
              0.4444444444444444,
              "#bd3786"
             ],
             [
              0.5555555555555556,
              "#d8576b"
             ],
             [
              0.6666666666666666,
              "#ed7953"
             ],
             [
              0.7777777777777778,
              "#fb9f3a"
             ],
             [
              0.8888888888888888,
              "#fdca26"
             ],
             [
              1,
              "#f0f921"
             ]
            ],
            "type": "histogram2d"
           }
          ],
          "histogram2dcontour": [
           {
            "colorbar": {
             "outlinewidth": 0,
             "ticks": ""
            },
            "colorscale": [
             [
              0,
              "#0d0887"
             ],
             [
              0.1111111111111111,
              "#46039f"
             ],
             [
              0.2222222222222222,
              "#7201a8"
             ],
             [
              0.3333333333333333,
              "#9c179e"
             ],
             [
              0.4444444444444444,
              "#bd3786"
             ],
             [
              0.5555555555555556,
              "#d8576b"
             ],
             [
              0.6666666666666666,
              "#ed7953"
             ],
             [
              0.7777777777777778,
              "#fb9f3a"
             ],
             [
              0.8888888888888888,
              "#fdca26"
             ],
             [
              1,
              "#f0f921"
             ]
            ],
            "type": "histogram2dcontour"
           }
          ],
          "mesh3d": [
           {
            "colorbar": {
             "outlinewidth": 0,
             "ticks": ""
            },
            "type": "mesh3d"
           }
          ],
          "parcoords": [
           {
            "line": {
             "colorbar": {
              "outlinewidth": 0,
              "ticks": ""
             }
            },
            "type": "parcoords"
           }
          ],
          "pie": [
           {
            "automargin": true,
            "type": "pie"
           }
          ],
          "scatter": [
           {
            "fillpattern": {
             "fillmode": "overlay",
             "size": 10,
             "solidity": 0.2
            },
            "type": "scatter"
           }
          ],
          "scatter3d": [
           {
            "line": {
             "colorbar": {
              "outlinewidth": 0,
              "ticks": ""
             }
            },
            "marker": {
             "colorbar": {
              "outlinewidth": 0,
              "ticks": ""
             }
            },
            "type": "scatter3d"
           }
          ],
          "scattercarpet": [
           {
            "marker": {
             "colorbar": {
              "outlinewidth": 0,
              "ticks": ""
             }
            },
            "type": "scattercarpet"
           }
          ],
          "scattergeo": [
           {
            "marker": {
             "colorbar": {
              "outlinewidth": 0,
              "ticks": ""
             }
            },
            "type": "scattergeo"
           }
          ],
          "scattergl": [
           {
            "marker": {
             "colorbar": {
              "outlinewidth": 0,
              "ticks": ""
             }
            },
            "type": "scattergl"
           }
          ],
          "scattermapbox": [
           {
            "marker": {
             "colorbar": {
              "outlinewidth": 0,
              "ticks": ""
             }
            },
            "type": "scattermapbox"
           }
          ],
          "scatterpolar": [
           {
            "marker": {
             "colorbar": {
              "outlinewidth": 0,
              "ticks": ""
             }
            },
            "type": "scatterpolar"
           }
          ],
          "scatterpolargl": [
           {
            "marker": {
             "colorbar": {
              "outlinewidth": 0,
              "ticks": ""
             }
            },
            "type": "scatterpolargl"
           }
          ],
          "scatterternary": [
           {
            "marker": {
             "colorbar": {
              "outlinewidth": 0,
              "ticks": ""
             }
            },
            "type": "scatterternary"
           }
          ],
          "surface": [
           {
            "colorbar": {
             "outlinewidth": 0,
             "ticks": ""
            },
            "colorscale": [
             [
              0,
              "#0d0887"
             ],
             [
              0.1111111111111111,
              "#46039f"
             ],
             [
              0.2222222222222222,
              "#7201a8"
             ],
             [
              0.3333333333333333,
              "#9c179e"
             ],
             [
              0.4444444444444444,
              "#bd3786"
             ],
             [
              0.5555555555555556,
              "#d8576b"
             ],
             [
              0.6666666666666666,
              "#ed7953"
             ],
             [
              0.7777777777777778,
              "#fb9f3a"
             ],
             [
              0.8888888888888888,
              "#fdca26"
             ],
             [
              1,
              "#f0f921"
             ]
            ],
            "type": "surface"
           }
          ],
          "table": [
           {
            "cells": {
             "fill": {
              "color": "#EBF0F8"
             },
             "line": {
              "color": "white"
             }
            },
            "header": {
             "fill": {
              "color": "#C8D4E3"
             },
             "line": {
              "color": "white"
             }
            },
            "type": "table"
           }
          ]
         },
         "layout": {
          "annotationdefaults": {
           "arrowcolor": "#2a3f5f",
           "arrowhead": 0,
           "arrowwidth": 1
          },
          "autotypenumbers": "strict",
          "coloraxis": {
           "colorbar": {
            "outlinewidth": 0,
            "ticks": ""
           }
          },
          "colorscale": {
           "diverging": [
            [
             0,
             "#8e0152"
            ],
            [
             0.1,
             "#c51b7d"
            ],
            [
             0.2,
             "#de77ae"
            ],
            [
             0.3,
             "#f1b6da"
            ],
            [
             0.4,
             "#fde0ef"
            ],
            [
             0.5,
             "#f7f7f7"
            ],
            [
             0.6,
             "#e6f5d0"
            ],
            [
             0.7,
             "#b8e186"
            ],
            [
             0.8,
             "#7fbc41"
            ],
            [
             0.9,
             "#4d9221"
            ],
            [
             1,
             "#276419"
            ]
           ],
           "sequential": [
            [
             0,
             "#0d0887"
            ],
            [
             0.1111111111111111,
             "#46039f"
            ],
            [
             0.2222222222222222,
             "#7201a8"
            ],
            [
             0.3333333333333333,
             "#9c179e"
            ],
            [
             0.4444444444444444,
             "#bd3786"
            ],
            [
             0.5555555555555556,
             "#d8576b"
            ],
            [
             0.6666666666666666,
             "#ed7953"
            ],
            [
             0.7777777777777778,
             "#fb9f3a"
            ],
            [
             0.8888888888888888,
             "#fdca26"
            ],
            [
             1,
             "#f0f921"
            ]
           ],
           "sequentialminus": [
            [
             0,
             "#0d0887"
            ],
            [
             0.1111111111111111,
             "#46039f"
            ],
            [
             0.2222222222222222,
             "#7201a8"
            ],
            [
             0.3333333333333333,
             "#9c179e"
            ],
            [
             0.4444444444444444,
             "#bd3786"
            ],
            [
             0.5555555555555556,
             "#d8576b"
            ],
            [
             0.6666666666666666,
             "#ed7953"
            ],
            [
             0.7777777777777778,
             "#fb9f3a"
            ],
            [
             0.8888888888888888,
             "#fdca26"
            ],
            [
             1,
             "#f0f921"
            ]
           ]
          },
          "colorway": [
           "#636efa",
           "#EF553B",
           "#00cc96",
           "#ab63fa",
           "#FFA15A",
           "#19d3f3",
           "#FF6692",
           "#B6E880",
           "#FF97FF",
           "#FECB52"
          ],
          "font": {
           "color": "#2a3f5f"
          },
          "geo": {
           "bgcolor": "white",
           "lakecolor": "white",
           "landcolor": "#E5ECF6",
           "showlakes": true,
           "showland": true,
           "subunitcolor": "white"
          },
          "hoverlabel": {
           "align": "left"
          },
          "hovermode": "closest",
          "mapbox": {
           "style": "light"
          },
          "paper_bgcolor": "white",
          "plot_bgcolor": "#E5ECF6",
          "polar": {
           "angularaxis": {
            "gridcolor": "white",
            "linecolor": "white",
            "ticks": ""
           },
           "bgcolor": "#E5ECF6",
           "radialaxis": {
            "gridcolor": "white",
            "linecolor": "white",
            "ticks": ""
           }
          },
          "scene": {
           "xaxis": {
            "backgroundcolor": "#E5ECF6",
            "gridcolor": "white",
            "gridwidth": 2,
            "linecolor": "white",
            "showbackground": true,
            "ticks": "",
            "zerolinecolor": "white"
           },
           "yaxis": {
            "backgroundcolor": "#E5ECF6",
            "gridcolor": "white",
            "gridwidth": 2,
            "linecolor": "white",
            "showbackground": true,
            "ticks": "",
            "zerolinecolor": "white"
           },
           "zaxis": {
            "backgroundcolor": "#E5ECF6",
            "gridcolor": "white",
            "gridwidth": 2,
            "linecolor": "white",
            "showbackground": true,
            "ticks": "",
            "zerolinecolor": "white"
           }
          },
          "shapedefaults": {
           "line": {
            "color": "#2a3f5f"
           }
          },
          "ternary": {
           "aaxis": {
            "gridcolor": "white",
            "linecolor": "white",
            "ticks": ""
           },
           "baxis": {
            "gridcolor": "white",
            "linecolor": "white",
            "ticks": ""
           },
           "bgcolor": "#E5ECF6",
           "caxis": {
            "gridcolor": "white",
            "linecolor": "white",
            "ticks": ""
           }
          },
          "title": {
           "x": 0.05
          },
          "xaxis": {
           "automargin": true,
           "gridcolor": "white",
           "linecolor": "white",
           "ticks": "",
           "title": {
            "standoff": 15
           },
           "zerolinecolor": "white",
           "zerolinewidth": 2
          },
          "yaxis": {
           "automargin": true,
           "gridcolor": "white",
           "linecolor": "white",
           "ticks": "",
           "title": {
            "standoff": 15
           },
           "zerolinecolor": "white",
           "zerolinewidth": 2
          }
         }
        },
        "title": {
         "text": "Preço Máximo por Produto"
        },
        "xaxis": {
         "anchor": "y",
         "domain": [
          0,
          1
         ],
         "title": {
          "text": "Preço Máximo"
         }
        },
        "yaxis": {
         "anchor": "x",
         "categoryarray": [
          "GASOLINA ADITIVADA",
          "ÓLEO DIESEL S10",
          "ÓLEO DIESEL",
          "GNV",
          "GASOLINA COMUM",
          "ETANOL HIDRATADO"
         ],
         "categoryorder": "array",
         "domain": [
          0,
          1
         ],
         "title": {
          "text": "Produto"
         }
        }
       }
      },
      "text/html": [
       "<div>                            <div id=\"f0fc9a6b-4745-40fd-9b8f-5c8f41bb226e\" class=\"plotly-graph-div\" style=\"height:400px; width:100%;\"></div>            <script type=\"text/javascript\">                require([\"plotly\"], function(Plotly) {                    window.PLOTLYENV=window.PLOTLYENV || {};                                    if (document.getElementById(\"f0fc9a6b-4745-40fd-9b8f-5c8f41bb226e\")) {                    Plotly.newPlot(                        \"f0fc9a6b-4745-40fd-9b8f-5c8f41bb226e\",                        [{\"alignmentgroup\":\"True\",\"hovertemplate\":\"Produto=%{y}<br>Pre\\u00e7o M\\u00e1ximo=%{x}<extra></extra>\",\"legendgroup\":\"ETANOL HIDRATADO\",\"marker\":{\"color\":\"#636efa\",\"pattern\":{\"shape\":\"\"}},\"name\":\"ETANOL HIDRATADO\",\"offsetgroup\":\"ETANOL HIDRATADO\",\"orientation\":\"h\",\"showlegend\":true,\"textposition\":\"auto\",\"texttemplate\":\"%{x}\",\"x\":[6.983],\"xaxis\":\"x\",\"y\":[\"ETANOL HIDRATADO\"],\"yaxis\":\"y\",\"type\":\"bar\"},{\"alignmentgroup\":\"True\",\"hovertemplate\":\"Produto=%{y}<br>Pre\\u00e7o M\\u00e1ximo=%{x}<extra></extra>\",\"legendgroup\":\"GASOLINA COMUM\",\"marker\":{\"color\":\"#EF553B\",\"pattern\":{\"shape\":\"\"}},\"name\":\"GASOLINA COMUM\",\"offsetgroup\":\"GASOLINA COMUM\",\"orientation\":\"h\",\"showlegend\":true,\"textposition\":\"auto\",\"texttemplate\":\"%{x}\",\"x\":[8.118],\"xaxis\":\"x\",\"y\":[\"GASOLINA COMUM\"],\"yaxis\":\"y\",\"type\":\"bar\"},{\"alignmentgroup\":\"True\",\"hovertemplate\":\"Produto=%{y}<br>Pre\\u00e7o M\\u00e1ximo=%{x}<extra></extra>\",\"legendgroup\":\"GNV\",\"marker\":{\"color\":\"#00cc96\",\"pattern\":{\"shape\":\"\"}},\"name\":\"GNV\",\"offsetgroup\":\"GNV\",\"orientation\":\"h\",\"showlegend\":true,\"textposition\":\"auto\",\"texttemplate\":\"%{x}\",\"x\":[7.023],\"xaxis\":\"x\",\"y\":[\"GNV\"],\"yaxis\":\"y\",\"type\":\"bar\"},{\"alignmentgroup\":\"True\",\"hovertemplate\":\"Produto=%{y}<br>Pre\\u00e7o M\\u00e1ximo=%{x}<extra></extra>\",\"legendgroup\":\"\\u00d3LEO DIESEL\",\"marker\":{\"color\":\"#ab63fa\",\"pattern\":{\"shape\":\"\"}},\"name\":\"\\u00d3LEO DIESEL\",\"offsetgroup\":\"\\u00d3LEO DIESEL\",\"orientation\":\"h\",\"showlegend\":true,\"textposition\":\"auto\",\"texttemplate\":\"%{x}\",\"x\":[7.998],\"xaxis\":\"x\",\"y\":[\"\\u00d3LEO DIESEL\"],\"yaxis\":\"y\",\"type\":\"bar\"},{\"alignmentgroup\":\"True\",\"hovertemplate\":\"Produto=%{y}<br>Pre\\u00e7o M\\u00e1ximo=%{x}<extra></extra>\",\"legendgroup\":\"\\u00d3LEO DIESEL S10\",\"marker\":{\"color\":\"#FFA15A\",\"pattern\":{\"shape\":\"\"}},\"name\":\"\\u00d3LEO DIESEL S10\",\"offsetgroup\":\"\\u00d3LEO DIESEL S10\",\"orientation\":\"h\",\"showlegend\":true,\"textposition\":\"auto\",\"texttemplate\":\"%{x}\",\"x\":[7.65],\"xaxis\":\"x\",\"y\":[\"\\u00d3LEO DIESEL S10\"],\"yaxis\":\"y\",\"type\":\"bar\"},{\"alignmentgroup\":\"True\",\"hovertemplate\":\"Produto=%{y}<br>Pre\\u00e7o M\\u00e1ximo=%{x}<extra></extra>\",\"legendgroup\":\"GASOLINA ADITIVADA\",\"marker\":{\"color\":\"#19d3f3\",\"pattern\":{\"shape\":\"\"}},\"name\":\"GASOLINA ADITIVADA\",\"offsetgroup\":\"GASOLINA ADITIVADA\",\"orientation\":\"h\",\"showlegend\":true,\"textposition\":\"auto\",\"texttemplate\":\"%{x}\",\"x\":[8.304],\"xaxis\":\"x\",\"y\":[\"GASOLINA ADITIVADA\"],\"yaxis\":\"y\",\"type\":\"bar\"}],                        {\"template\":{\"data\":{\"histogram2dcontour\":[{\"type\":\"histogram2dcontour\",\"colorbar\":{\"outlinewidth\":0,\"ticks\":\"\"},\"colorscale\":[[0.0,\"#0d0887\"],[0.1111111111111111,\"#46039f\"],[0.2222222222222222,\"#7201a8\"],[0.3333333333333333,\"#9c179e\"],[0.4444444444444444,\"#bd3786\"],[0.5555555555555556,\"#d8576b\"],[0.6666666666666666,\"#ed7953\"],[0.7777777777777778,\"#fb9f3a\"],[0.8888888888888888,\"#fdca26\"],[1.0,\"#f0f921\"]]}],\"choropleth\":[{\"type\":\"choropleth\",\"colorbar\":{\"outlinewidth\":0,\"ticks\":\"\"}}],\"histogram2d\":[{\"type\":\"histogram2d\",\"colorbar\":{\"outlinewidth\":0,\"ticks\":\"\"},\"colorscale\":[[0.0,\"#0d0887\"],[0.1111111111111111,\"#46039f\"],[0.2222222222222222,\"#7201a8\"],[0.3333333333333333,\"#9c179e\"],[0.4444444444444444,\"#bd3786\"],[0.5555555555555556,\"#d8576b\"],[0.6666666666666666,\"#ed7953\"],[0.7777777777777778,\"#fb9f3a\"],[0.8888888888888888,\"#fdca26\"],[1.0,\"#f0f921\"]]}],\"heatmap\":[{\"type\":\"heatmap\",\"colorbar\":{\"outlinewidth\":0,\"ticks\":\"\"},\"colorscale\":[[0.0,\"#0d0887\"],[0.1111111111111111,\"#46039f\"],[0.2222222222222222,\"#7201a8\"],[0.3333333333333333,\"#9c179e\"],[0.4444444444444444,\"#bd3786\"],[0.5555555555555556,\"#d8576b\"],[0.6666666666666666,\"#ed7953\"],[0.7777777777777778,\"#fb9f3a\"],[0.8888888888888888,\"#fdca26\"],[1.0,\"#f0f921\"]]}],\"heatmapgl\":[{\"type\":\"heatmapgl\",\"colorbar\":{\"outlinewidth\":0,\"ticks\":\"\"},\"colorscale\":[[0.0,\"#0d0887\"],[0.1111111111111111,\"#46039f\"],[0.2222222222222222,\"#7201a8\"],[0.3333333333333333,\"#9c179e\"],[0.4444444444444444,\"#bd3786\"],[0.5555555555555556,\"#d8576b\"],[0.6666666666666666,\"#ed7953\"],[0.7777777777777778,\"#fb9f3a\"],[0.8888888888888888,\"#fdca26\"],[1.0,\"#f0f921\"]]}],\"contourcarpet\":[{\"type\":\"contourcarpet\",\"colorbar\":{\"outlinewidth\":0,\"ticks\":\"\"}}],\"contour\":[{\"type\":\"contour\",\"colorbar\":{\"outlinewidth\":0,\"ticks\":\"\"},\"colorscale\":[[0.0,\"#0d0887\"],[0.1111111111111111,\"#46039f\"],[0.2222222222222222,\"#7201a8\"],[0.3333333333333333,\"#9c179e\"],[0.4444444444444444,\"#bd3786\"],[0.5555555555555556,\"#d8576b\"],[0.6666666666666666,\"#ed7953\"],[0.7777777777777778,\"#fb9f3a\"],[0.8888888888888888,\"#fdca26\"],[1.0,\"#f0f921\"]]}],\"surface\":[{\"type\":\"surface\",\"colorbar\":{\"outlinewidth\":0,\"ticks\":\"\"},\"colorscale\":[[0.0,\"#0d0887\"],[0.1111111111111111,\"#46039f\"],[0.2222222222222222,\"#7201a8\"],[0.3333333333333333,\"#9c179e\"],[0.4444444444444444,\"#bd3786\"],[0.5555555555555556,\"#d8576b\"],[0.6666666666666666,\"#ed7953\"],[0.7777777777777778,\"#fb9f3a\"],[0.8888888888888888,\"#fdca26\"],[1.0,\"#f0f921\"]]}],\"mesh3d\":[{\"type\":\"mesh3d\",\"colorbar\":{\"outlinewidth\":0,\"ticks\":\"\"}}],\"scatter\":[{\"fillpattern\":{\"fillmode\":\"overlay\",\"size\":10,\"solidity\":0.2},\"type\":\"scatter\"}],\"parcoords\":[{\"type\":\"parcoords\",\"line\":{\"colorbar\":{\"outlinewidth\":0,\"ticks\":\"\"}}}],\"scatterpolargl\":[{\"type\":\"scatterpolargl\",\"marker\":{\"colorbar\":{\"outlinewidth\":0,\"ticks\":\"\"}}}],\"bar\":[{\"error_x\":{\"color\":\"#2a3f5f\"},\"error_y\":{\"color\":\"#2a3f5f\"},\"marker\":{\"line\":{\"color\":\"#E5ECF6\",\"width\":0.5},\"pattern\":{\"fillmode\":\"overlay\",\"size\":10,\"solidity\":0.2}},\"type\":\"bar\"}],\"scattergeo\":[{\"type\":\"scattergeo\",\"marker\":{\"colorbar\":{\"outlinewidth\":0,\"ticks\":\"\"}}}],\"scatterpolar\":[{\"type\":\"scatterpolar\",\"marker\":{\"colorbar\":{\"outlinewidth\":0,\"ticks\":\"\"}}}],\"histogram\":[{\"marker\":{\"pattern\":{\"fillmode\":\"overlay\",\"size\":10,\"solidity\":0.2}},\"type\":\"histogram\"}],\"scattergl\":[{\"type\":\"scattergl\",\"marker\":{\"colorbar\":{\"outlinewidth\":0,\"ticks\":\"\"}}}],\"scatter3d\":[{\"type\":\"scatter3d\",\"line\":{\"colorbar\":{\"outlinewidth\":0,\"ticks\":\"\"}},\"marker\":{\"colorbar\":{\"outlinewidth\":0,\"ticks\":\"\"}}}],\"scattermapbox\":[{\"type\":\"scattermapbox\",\"marker\":{\"colorbar\":{\"outlinewidth\":0,\"ticks\":\"\"}}}],\"scatterternary\":[{\"type\":\"scatterternary\",\"marker\":{\"colorbar\":{\"outlinewidth\":0,\"ticks\":\"\"}}}],\"scattercarpet\":[{\"type\":\"scattercarpet\",\"marker\":{\"colorbar\":{\"outlinewidth\":0,\"ticks\":\"\"}}}],\"carpet\":[{\"aaxis\":{\"endlinecolor\":\"#2a3f5f\",\"gridcolor\":\"white\",\"linecolor\":\"white\",\"minorgridcolor\":\"white\",\"startlinecolor\":\"#2a3f5f\"},\"baxis\":{\"endlinecolor\":\"#2a3f5f\",\"gridcolor\":\"white\",\"linecolor\":\"white\",\"minorgridcolor\":\"white\",\"startlinecolor\":\"#2a3f5f\"},\"type\":\"carpet\"}],\"table\":[{\"cells\":{\"fill\":{\"color\":\"#EBF0F8\"},\"line\":{\"color\":\"white\"}},\"header\":{\"fill\":{\"color\":\"#C8D4E3\"},\"line\":{\"color\":\"white\"}},\"type\":\"table\"}],\"barpolar\":[{\"marker\":{\"line\":{\"color\":\"#E5ECF6\",\"width\":0.5},\"pattern\":{\"fillmode\":\"overlay\",\"size\":10,\"solidity\":0.2}},\"type\":\"barpolar\"}],\"pie\":[{\"automargin\":true,\"type\":\"pie\"}]},\"layout\":{\"autotypenumbers\":\"strict\",\"colorway\":[\"#636efa\",\"#EF553B\",\"#00cc96\",\"#ab63fa\",\"#FFA15A\",\"#19d3f3\",\"#FF6692\",\"#B6E880\",\"#FF97FF\",\"#FECB52\"],\"font\":{\"color\":\"#2a3f5f\"},\"hovermode\":\"closest\",\"hoverlabel\":{\"align\":\"left\"},\"paper_bgcolor\":\"white\",\"plot_bgcolor\":\"#E5ECF6\",\"polar\":{\"bgcolor\":\"#E5ECF6\",\"angularaxis\":{\"gridcolor\":\"white\",\"linecolor\":\"white\",\"ticks\":\"\"},\"radialaxis\":{\"gridcolor\":\"white\",\"linecolor\":\"white\",\"ticks\":\"\"}},\"ternary\":{\"bgcolor\":\"#E5ECF6\",\"aaxis\":{\"gridcolor\":\"white\",\"linecolor\":\"white\",\"ticks\":\"\"},\"baxis\":{\"gridcolor\":\"white\",\"linecolor\":\"white\",\"ticks\":\"\"},\"caxis\":{\"gridcolor\":\"white\",\"linecolor\":\"white\",\"ticks\":\"\"}},\"coloraxis\":{\"colorbar\":{\"outlinewidth\":0,\"ticks\":\"\"}},\"colorscale\":{\"sequential\":[[0.0,\"#0d0887\"],[0.1111111111111111,\"#46039f\"],[0.2222222222222222,\"#7201a8\"],[0.3333333333333333,\"#9c179e\"],[0.4444444444444444,\"#bd3786\"],[0.5555555555555556,\"#d8576b\"],[0.6666666666666666,\"#ed7953\"],[0.7777777777777778,\"#fb9f3a\"],[0.8888888888888888,\"#fdca26\"],[1.0,\"#f0f921\"]],\"sequentialminus\":[[0.0,\"#0d0887\"],[0.1111111111111111,\"#46039f\"],[0.2222222222222222,\"#7201a8\"],[0.3333333333333333,\"#9c179e\"],[0.4444444444444444,\"#bd3786\"],[0.5555555555555556,\"#d8576b\"],[0.6666666666666666,\"#ed7953\"],[0.7777777777777778,\"#fb9f3a\"],[0.8888888888888888,\"#fdca26\"],[1.0,\"#f0f921\"]],\"diverging\":[[0,\"#8e0152\"],[0.1,\"#c51b7d\"],[0.2,\"#de77ae\"],[0.3,\"#f1b6da\"],[0.4,\"#fde0ef\"],[0.5,\"#f7f7f7\"],[0.6,\"#e6f5d0\"],[0.7,\"#b8e186\"],[0.8,\"#7fbc41\"],[0.9,\"#4d9221\"],[1,\"#276419\"]]},\"xaxis\":{\"gridcolor\":\"white\",\"linecolor\":\"white\",\"ticks\":\"\",\"title\":{\"standoff\":15},\"zerolinecolor\":\"white\",\"automargin\":true,\"zerolinewidth\":2},\"yaxis\":{\"gridcolor\":\"white\",\"linecolor\":\"white\",\"ticks\":\"\",\"title\":{\"standoff\":15},\"zerolinecolor\":\"white\",\"automargin\":true,\"zerolinewidth\":2},\"scene\":{\"xaxis\":{\"backgroundcolor\":\"#E5ECF6\",\"gridcolor\":\"white\",\"linecolor\":\"white\",\"showbackground\":true,\"ticks\":\"\",\"zerolinecolor\":\"white\",\"gridwidth\":2},\"yaxis\":{\"backgroundcolor\":\"#E5ECF6\",\"gridcolor\":\"white\",\"linecolor\":\"white\",\"showbackground\":true,\"ticks\":\"\",\"zerolinecolor\":\"white\",\"gridwidth\":2},\"zaxis\":{\"backgroundcolor\":\"#E5ECF6\",\"gridcolor\":\"white\",\"linecolor\":\"white\",\"showbackground\":true,\"ticks\":\"\",\"zerolinecolor\":\"white\",\"gridwidth\":2}},\"shapedefaults\":{\"line\":{\"color\":\"#2a3f5f\"}},\"annotationdefaults\":{\"arrowcolor\":\"#2a3f5f\",\"arrowhead\":0,\"arrowwidth\":1},\"geo\":{\"bgcolor\":\"white\",\"landcolor\":\"#E5ECF6\",\"subunitcolor\":\"white\",\"showland\":true,\"showlakes\":true,\"lakecolor\":\"white\"},\"title\":{\"x\":0.05},\"mapbox\":{\"style\":\"light\"}}},\"xaxis\":{\"anchor\":\"y\",\"domain\":[0.0,1.0],\"title\":{\"text\":\"Pre\\u00e7o M\\u00e1ximo\"}},\"yaxis\":{\"anchor\":\"x\",\"domain\":[0.0,1.0],\"title\":{\"text\":\"Produto\"},\"categoryorder\":\"array\",\"categoryarray\":[\"GASOLINA ADITIVADA\",\"\\u00d3LEO DIESEL S10\",\"\\u00d3LEO DIESEL\",\"GNV\",\"GASOLINA COMUM\",\"ETANOL HIDRATADO\"]},\"legend\":{\"title\":{\"text\":\"Produto\"},\"tracegroupgap\":0},\"title\":{\"text\":\"Pre\\u00e7o M\\u00e1ximo por Produto\"},\"barmode\":\"relative\",\"height\":400},                        {\"responsive\": true}                    ).then(function(){\n",
       "                            \n",
       "var gd = document.getElementById('f0fc9a6b-4745-40fd-9b8f-5c8f41bb226e');\n",
       "var x = new MutationObserver(function (mutations, observer) {{\n",
       "        var display = window.getComputedStyle(gd).display;\n",
       "        if (!display || display === 'none') {{\n",
       "            console.log([gd, 'removed!']);\n",
       "            Plotly.purge(gd);\n",
       "            observer.disconnect();\n",
       "        }}\n",
       "}});\n",
       "\n",
       "// Listen for the removal of the full notebook cells\n",
       "var notebookContainer = gd.closest('#notebook-container');\n",
       "if (notebookContainer) {{\n",
       "    x.observe(notebookContainer, {childList: true});\n",
       "}}\n",
       "\n",
       "// Listen for the clearing of the current output cell\n",
       "var outputEl = gd.closest('.output');\n",
       "if (outputEl) {{\n",
       "    x.observe(outputEl, {childList: true});\n",
       "}}\n",
       "\n",
       "                        })                };                });            </script>        </div>"
      ]
     },
     "metadata": {},
     "output_type": "display_data"
    }
   ],
   "source": [
    "# Gráfico do Preço máximo de revenda por produto\n",
    "grafico_max = px.bar(vendas_produto_max_df, x=\"PREÇO MÉDIO REVENDA\", y=\"PRODUTO\", color = \"PRODUTO\", \n",
    "                   title = \"Preço Máximo por Produto\", height=400,text_auto=True,\n",
    "                   labels={'PRODUTO':'Produto', 'PREÇO MÉDIO REVENDA':'Preço Máximo'})\n",
    "grafico_max.show()"
   ]
  },
  {
   "cell_type": "code",
   "execution_count": 168,
   "id": "a8fff7db",
   "metadata": {},
   "outputs": [
    {
     "data": {
      "text/html": [
       "<div>\n",
       "<style scoped>\n",
       "    .dataframe tbody tr th:only-of-type {\n",
       "        vertical-align: middle;\n",
       "    }\n",
       "\n",
       "    .dataframe tbody tr th {\n",
       "        vertical-align: top;\n",
       "    }\n",
       "\n",
       "    .dataframe thead th {\n",
       "        text-align: right;\n",
       "    }\n",
       "</style>\n",
       "<table border=\"1\" class=\"dataframe\">\n",
       "  <thead>\n",
       "    <tr style=\"text-align: right;\">\n",
       "      <th></th>\n",
       "      <th>PRODUTO</th>\n",
       "      <th>PREÇO MÉDIO REVENDA</th>\n",
       "    </tr>\n",
       "  </thead>\n",
       "  <tbody>\n",
       "    <tr>\n",
       "      <th>0</th>\n",
       "      <td>ETANOL HIDRATADO</td>\n",
       "      <td>2.730810</td>\n",
       "    </tr>\n",
       "    <tr>\n",
       "      <th>1</th>\n",
       "      <td>GASOLINA ADITIVADA</td>\n",
       "      <td>6.748741</td>\n",
       "    </tr>\n",
       "    <tr>\n",
       "      <th>2</th>\n",
       "      <td>GASOLINA COMUM</td>\n",
       "      <td>3.488579</td>\n",
       "    </tr>\n",
       "    <tr>\n",
       "      <th>3</th>\n",
       "      <td>GNV</td>\n",
       "      <td>2.319977</td>\n",
       "    </tr>\n",
       "    <tr>\n",
       "      <th>4</th>\n",
       "      <td>ÓLEO DIESEL</td>\n",
       "      <td>2.850635</td>\n",
       "    </tr>\n",
       "    <tr>\n",
       "      <th>5</th>\n",
       "      <td>ÓLEO DIESEL S10</td>\n",
       "      <td>3.903858</td>\n",
       "    </tr>\n",
       "  </tbody>\n",
       "</table>\n",
       "</div>"
      ],
      "text/plain": [
       "              PRODUTO  PREÇO MÉDIO REVENDA\n",
       "0    ETANOL HIDRATADO             2.730810\n",
       "1  GASOLINA ADITIVADA             6.748741\n",
       "2      GASOLINA COMUM             3.488579\n",
       "3                 GNV             2.319977\n",
       "4         ÓLEO DIESEL             2.850635\n",
       "5     ÓLEO DIESEL S10             3.903858"
      ]
     },
     "metadata": {},
     "output_type": "display_data"
    }
   ],
   "source": [
    "# Preço médio de revenda por produto\n",
    "vendas_produto_df = df_prc_comb[[\"PRODUTO\",\"PREÇO MÉDIO REVENDA\"]].groupby([\"PRODUTO\"]).mean().reset_index()\n",
    "display(vendas_produto_df)"
   ]
  },
  {
   "cell_type": "code",
   "execution_count": 169,
   "id": "0fcd3c96",
   "metadata": {
    "scrolled": false
   },
   "outputs": [
    {
     "data": {
      "application/vnd.plotly.v1+json": {
       "config": {
        "plotlyServerURL": "https://plot.ly"
       },
       "data": [
        {
         "alignmentgroup": "True",
         "hovertemplate": "Produto=%{x}<br>Preço Médio Revenda=%{y}<extra></extra>",
         "legendgroup": "ETANOL HIDRATADO",
         "marker": {
          "color": "#636efa",
          "pattern": {
           "shape": ""
          }
         },
         "name": "ETANOL HIDRATADO",
         "offsetgroup": "ETANOL HIDRATADO",
         "orientation": "v",
         "showlegend": true,
         "textangle": 0,
         "textposition": "outside",
         "texttemplate": "%{y:.3s}",
         "type": "bar",
         "x": [
          "ETANOL HIDRATADO"
         ],
         "xaxis": "x",
         "y": [
          2.7308104655953853
         ],
         "yaxis": "y"
        },
        {
         "alignmentgroup": "True",
         "hovertemplate": "Produto=%{x}<br>Preço Médio Revenda=%{y}<extra></extra>",
         "legendgroup": "GASOLINA ADITIVADA",
         "marker": {
          "color": "#EF553B",
          "pattern": {
           "shape": ""
          }
         },
         "name": "GASOLINA ADITIVADA",
         "offsetgroup": "GASOLINA ADITIVADA",
         "orientation": "v",
         "showlegend": true,
         "textangle": 0,
         "textposition": "outside",
         "texttemplate": "%{y:.3s}",
         "type": "bar",
         "x": [
          "GASOLINA ADITIVADA"
         ],
         "xaxis": "x",
         "y": [
          6.7487407407407405
         ],
         "yaxis": "y"
        },
        {
         "alignmentgroup": "True",
         "hovertemplate": "Produto=%{x}<br>Preço Médio Revenda=%{y}<extra></extra>",
         "legendgroup": "GASOLINA COMUM",
         "marker": {
          "color": "#00cc96",
          "pattern": {
           "shape": ""
          }
         },
         "name": "GASOLINA COMUM",
         "offsetgroup": "GASOLINA COMUM",
         "orientation": "v",
         "showlegend": true,
         "textangle": 0,
         "textposition": "outside",
         "texttemplate": "%{y:.3s}",
         "type": "bar",
         "x": [
          "GASOLINA COMUM"
         ],
         "xaxis": "x",
         "y": [
          3.488579298831386
         ],
         "yaxis": "y"
        },
        {
         "alignmentgroup": "True",
         "hovertemplate": "Produto=%{x}<br>Preço Médio Revenda=%{y}<extra></extra>",
         "legendgroup": "GNV",
         "marker": {
          "color": "#ab63fa",
          "pattern": {
           "shape": ""
          }
         },
         "name": "GNV",
         "offsetgroup": "GNV",
         "orientation": "v",
         "showlegend": true,
         "textangle": 0,
         "textposition": "outside",
         "texttemplate": "%{y:.3s}",
         "type": "bar",
         "x": [
          "GNV"
         ],
         "xaxis": "x",
         "y": [
          2.319976975731176
         ],
         "yaxis": "y"
        },
        {
         "alignmentgroup": "True",
         "hovertemplate": "Produto=%{x}<br>Preço Médio Revenda=%{y}<extra></extra>",
         "legendgroup": "ÓLEO DIESEL",
         "marker": {
          "color": "#FFA15A",
          "pattern": {
           "shape": ""
          }
         },
         "name": "ÓLEO DIESEL",
         "offsetgroup": "ÓLEO DIESEL",
         "orientation": "v",
         "showlegend": true,
         "textangle": 0,
         "textposition": "outside",
         "texttemplate": "%{y:.3s}",
         "type": "bar",
         "x": [
          "ÓLEO DIESEL"
         ],
         "xaxis": "x",
         "y": [
          2.8506350574712642
         ],
         "yaxis": "y"
        },
        {
         "alignmentgroup": "True",
         "hovertemplate": "Produto=%{x}<br>Preço Médio Revenda=%{y}<extra></extra>",
         "legendgroup": "ÓLEO DIESEL S10",
         "marker": {
          "color": "#19d3f3",
          "pattern": {
           "shape": ""
          }
         },
         "name": "ÓLEO DIESEL S10",
         "offsetgroup": "ÓLEO DIESEL S10",
         "orientation": "v",
         "showlegend": true,
         "textangle": 0,
         "textposition": "outside",
         "texttemplate": "%{y:.3s}",
         "type": "bar",
         "x": [
          "ÓLEO DIESEL S10"
         ],
         "xaxis": "x",
         "y": [
          3.903858333333334
         ],
         "yaxis": "y"
        }
       ],
       "layout": {
        "barmode": "relative",
        "legend": {
         "title": {
          "text": "Produto"
         },
         "tracegroupgap": 0
        },
        "template": {
         "data": {
          "bar": [
           {
            "error_x": {
             "color": "#2a3f5f"
            },
            "error_y": {
             "color": "#2a3f5f"
            },
            "marker": {
             "line": {
              "color": "#E5ECF6",
              "width": 0.5
             },
             "pattern": {
              "fillmode": "overlay",
              "size": 10,
              "solidity": 0.2
             }
            },
            "type": "bar"
           }
          ],
          "barpolar": [
           {
            "marker": {
             "line": {
              "color": "#E5ECF6",
              "width": 0.5
             },
             "pattern": {
              "fillmode": "overlay",
              "size": 10,
              "solidity": 0.2
             }
            },
            "type": "barpolar"
           }
          ],
          "carpet": [
           {
            "aaxis": {
             "endlinecolor": "#2a3f5f",
             "gridcolor": "white",
             "linecolor": "white",
             "minorgridcolor": "white",
             "startlinecolor": "#2a3f5f"
            },
            "baxis": {
             "endlinecolor": "#2a3f5f",
             "gridcolor": "white",
             "linecolor": "white",
             "minorgridcolor": "white",
             "startlinecolor": "#2a3f5f"
            },
            "type": "carpet"
           }
          ],
          "choropleth": [
           {
            "colorbar": {
             "outlinewidth": 0,
             "ticks": ""
            },
            "type": "choropleth"
           }
          ],
          "contour": [
           {
            "colorbar": {
             "outlinewidth": 0,
             "ticks": ""
            },
            "colorscale": [
             [
              0,
              "#0d0887"
             ],
             [
              0.1111111111111111,
              "#46039f"
             ],
             [
              0.2222222222222222,
              "#7201a8"
             ],
             [
              0.3333333333333333,
              "#9c179e"
             ],
             [
              0.4444444444444444,
              "#bd3786"
             ],
             [
              0.5555555555555556,
              "#d8576b"
             ],
             [
              0.6666666666666666,
              "#ed7953"
             ],
             [
              0.7777777777777778,
              "#fb9f3a"
             ],
             [
              0.8888888888888888,
              "#fdca26"
             ],
             [
              1,
              "#f0f921"
             ]
            ],
            "type": "contour"
           }
          ],
          "contourcarpet": [
           {
            "colorbar": {
             "outlinewidth": 0,
             "ticks": ""
            },
            "type": "contourcarpet"
           }
          ],
          "heatmap": [
           {
            "colorbar": {
             "outlinewidth": 0,
             "ticks": ""
            },
            "colorscale": [
             [
              0,
              "#0d0887"
             ],
             [
              0.1111111111111111,
              "#46039f"
             ],
             [
              0.2222222222222222,
              "#7201a8"
             ],
             [
              0.3333333333333333,
              "#9c179e"
             ],
             [
              0.4444444444444444,
              "#bd3786"
             ],
             [
              0.5555555555555556,
              "#d8576b"
             ],
             [
              0.6666666666666666,
              "#ed7953"
             ],
             [
              0.7777777777777778,
              "#fb9f3a"
             ],
             [
              0.8888888888888888,
              "#fdca26"
             ],
             [
              1,
              "#f0f921"
             ]
            ],
            "type": "heatmap"
           }
          ],
          "heatmapgl": [
           {
            "colorbar": {
             "outlinewidth": 0,
             "ticks": ""
            },
            "colorscale": [
             [
              0,
              "#0d0887"
             ],
             [
              0.1111111111111111,
              "#46039f"
             ],
             [
              0.2222222222222222,
              "#7201a8"
             ],
             [
              0.3333333333333333,
              "#9c179e"
             ],
             [
              0.4444444444444444,
              "#bd3786"
             ],
             [
              0.5555555555555556,
              "#d8576b"
             ],
             [
              0.6666666666666666,
              "#ed7953"
             ],
             [
              0.7777777777777778,
              "#fb9f3a"
             ],
             [
              0.8888888888888888,
              "#fdca26"
             ],
             [
              1,
              "#f0f921"
             ]
            ],
            "type": "heatmapgl"
           }
          ],
          "histogram": [
           {
            "marker": {
             "pattern": {
              "fillmode": "overlay",
              "size": 10,
              "solidity": 0.2
             }
            },
            "type": "histogram"
           }
          ],
          "histogram2d": [
           {
            "colorbar": {
             "outlinewidth": 0,
             "ticks": ""
            },
            "colorscale": [
             [
              0,
              "#0d0887"
             ],
             [
              0.1111111111111111,
              "#46039f"
             ],
             [
              0.2222222222222222,
              "#7201a8"
             ],
             [
              0.3333333333333333,
              "#9c179e"
             ],
             [
              0.4444444444444444,
              "#bd3786"
             ],
             [
              0.5555555555555556,
              "#d8576b"
             ],
             [
              0.6666666666666666,
              "#ed7953"
             ],
             [
              0.7777777777777778,
              "#fb9f3a"
             ],
             [
              0.8888888888888888,
              "#fdca26"
             ],
             [
              1,
              "#f0f921"
             ]
            ],
            "type": "histogram2d"
           }
          ],
          "histogram2dcontour": [
           {
            "colorbar": {
             "outlinewidth": 0,
             "ticks": ""
            },
            "colorscale": [
             [
              0,
              "#0d0887"
             ],
             [
              0.1111111111111111,
              "#46039f"
             ],
             [
              0.2222222222222222,
              "#7201a8"
             ],
             [
              0.3333333333333333,
              "#9c179e"
             ],
             [
              0.4444444444444444,
              "#bd3786"
             ],
             [
              0.5555555555555556,
              "#d8576b"
             ],
             [
              0.6666666666666666,
              "#ed7953"
             ],
             [
              0.7777777777777778,
              "#fb9f3a"
             ],
             [
              0.8888888888888888,
              "#fdca26"
             ],
             [
              1,
              "#f0f921"
             ]
            ],
            "type": "histogram2dcontour"
           }
          ],
          "mesh3d": [
           {
            "colorbar": {
             "outlinewidth": 0,
             "ticks": ""
            },
            "type": "mesh3d"
           }
          ],
          "parcoords": [
           {
            "line": {
             "colorbar": {
              "outlinewidth": 0,
              "ticks": ""
             }
            },
            "type": "parcoords"
           }
          ],
          "pie": [
           {
            "automargin": true,
            "type": "pie"
           }
          ],
          "scatter": [
           {
            "fillpattern": {
             "fillmode": "overlay",
             "size": 10,
             "solidity": 0.2
            },
            "type": "scatter"
           }
          ],
          "scatter3d": [
           {
            "line": {
             "colorbar": {
              "outlinewidth": 0,
              "ticks": ""
             }
            },
            "marker": {
             "colorbar": {
              "outlinewidth": 0,
              "ticks": ""
             }
            },
            "type": "scatter3d"
           }
          ],
          "scattercarpet": [
           {
            "marker": {
             "colorbar": {
              "outlinewidth": 0,
              "ticks": ""
             }
            },
            "type": "scattercarpet"
           }
          ],
          "scattergeo": [
           {
            "marker": {
             "colorbar": {
              "outlinewidth": 0,
              "ticks": ""
             }
            },
            "type": "scattergeo"
           }
          ],
          "scattergl": [
           {
            "marker": {
             "colorbar": {
              "outlinewidth": 0,
              "ticks": ""
             }
            },
            "type": "scattergl"
           }
          ],
          "scattermapbox": [
           {
            "marker": {
             "colorbar": {
              "outlinewidth": 0,
              "ticks": ""
             }
            },
            "type": "scattermapbox"
           }
          ],
          "scatterpolar": [
           {
            "marker": {
             "colorbar": {
              "outlinewidth": 0,
              "ticks": ""
             }
            },
            "type": "scatterpolar"
           }
          ],
          "scatterpolargl": [
           {
            "marker": {
             "colorbar": {
              "outlinewidth": 0,
              "ticks": ""
             }
            },
            "type": "scatterpolargl"
           }
          ],
          "scatterternary": [
           {
            "marker": {
             "colorbar": {
              "outlinewidth": 0,
              "ticks": ""
             }
            },
            "type": "scatterternary"
           }
          ],
          "surface": [
           {
            "colorbar": {
             "outlinewidth": 0,
             "ticks": ""
            },
            "colorscale": [
             [
              0,
              "#0d0887"
             ],
             [
              0.1111111111111111,
              "#46039f"
             ],
             [
              0.2222222222222222,
              "#7201a8"
             ],
             [
              0.3333333333333333,
              "#9c179e"
             ],
             [
              0.4444444444444444,
              "#bd3786"
             ],
             [
              0.5555555555555556,
              "#d8576b"
             ],
             [
              0.6666666666666666,
              "#ed7953"
             ],
             [
              0.7777777777777778,
              "#fb9f3a"
             ],
             [
              0.8888888888888888,
              "#fdca26"
             ],
             [
              1,
              "#f0f921"
             ]
            ],
            "type": "surface"
           }
          ],
          "table": [
           {
            "cells": {
             "fill": {
              "color": "#EBF0F8"
             },
             "line": {
              "color": "white"
             }
            },
            "header": {
             "fill": {
              "color": "#C8D4E3"
             },
             "line": {
              "color": "white"
             }
            },
            "type": "table"
           }
          ]
         },
         "layout": {
          "annotationdefaults": {
           "arrowcolor": "#2a3f5f",
           "arrowhead": 0,
           "arrowwidth": 1
          },
          "autotypenumbers": "strict",
          "coloraxis": {
           "colorbar": {
            "outlinewidth": 0,
            "ticks": ""
           }
          },
          "colorscale": {
           "diverging": [
            [
             0,
             "#8e0152"
            ],
            [
             0.1,
             "#c51b7d"
            ],
            [
             0.2,
             "#de77ae"
            ],
            [
             0.3,
             "#f1b6da"
            ],
            [
             0.4,
             "#fde0ef"
            ],
            [
             0.5,
             "#f7f7f7"
            ],
            [
             0.6,
             "#e6f5d0"
            ],
            [
             0.7,
             "#b8e186"
            ],
            [
             0.8,
             "#7fbc41"
            ],
            [
             0.9,
             "#4d9221"
            ],
            [
             1,
             "#276419"
            ]
           ],
           "sequential": [
            [
             0,
             "#0d0887"
            ],
            [
             0.1111111111111111,
             "#46039f"
            ],
            [
             0.2222222222222222,
             "#7201a8"
            ],
            [
             0.3333333333333333,
             "#9c179e"
            ],
            [
             0.4444444444444444,
             "#bd3786"
            ],
            [
             0.5555555555555556,
             "#d8576b"
            ],
            [
             0.6666666666666666,
             "#ed7953"
            ],
            [
             0.7777777777777778,
             "#fb9f3a"
            ],
            [
             0.8888888888888888,
             "#fdca26"
            ],
            [
             1,
             "#f0f921"
            ]
           ],
           "sequentialminus": [
            [
             0,
             "#0d0887"
            ],
            [
             0.1111111111111111,
             "#46039f"
            ],
            [
             0.2222222222222222,
             "#7201a8"
            ],
            [
             0.3333333333333333,
             "#9c179e"
            ],
            [
             0.4444444444444444,
             "#bd3786"
            ],
            [
             0.5555555555555556,
             "#d8576b"
            ],
            [
             0.6666666666666666,
             "#ed7953"
            ],
            [
             0.7777777777777778,
             "#fb9f3a"
            ],
            [
             0.8888888888888888,
             "#fdca26"
            ],
            [
             1,
             "#f0f921"
            ]
           ]
          },
          "colorway": [
           "#636efa",
           "#EF553B",
           "#00cc96",
           "#ab63fa",
           "#FFA15A",
           "#19d3f3",
           "#FF6692",
           "#B6E880",
           "#FF97FF",
           "#FECB52"
          ],
          "font": {
           "color": "#2a3f5f"
          },
          "geo": {
           "bgcolor": "white",
           "lakecolor": "white",
           "landcolor": "#E5ECF6",
           "showlakes": true,
           "showland": true,
           "subunitcolor": "white"
          },
          "hoverlabel": {
           "align": "left"
          },
          "hovermode": "closest",
          "mapbox": {
           "style": "light"
          },
          "paper_bgcolor": "white",
          "plot_bgcolor": "#E5ECF6",
          "polar": {
           "angularaxis": {
            "gridcolor": "white",
            "linecolor": "white",
            "ticks": ""
           },
           "bgcolor": "#E5ECF6",
           "radialaxis": {
            "gridcolor": "white",
            "linecolor": "white",
            "ticks": ""
           }
          },
          "scene": {
           "xaxis": {
            "backgroundcolor": "#E5ECF6",
            "gridcolor": "white",
            "gridwidth": 2,
            "linecolor": "white",
            "showbackground": true,
            "ticks": "",
            "zerolinecolor": "white"
           },
           "yaxis": {
            "backgroundcolor": "#E5ECF6",
            "gridcolor": "white",
            "gridwidth": 2,
            "linecolor": "white",
            "showbackground": true,
            "ticks": "",
            "zerolinecolor": "white"
           },
           "zaxis": {
            "backgroundcolor": "#E5ECF6",
            "gridcolor": "white",
            "gridwidth": 2,
            "linecolor": "white",
            "showbackground": true,
            "ticks": "",
            "zerolinecolor": "white"
           }
          },
          "shapedefaults": {
           "line": {
            "color": "#2a3f5f"
           }
          },
          "ternary": {
           "aaxis": {
            "gridcolor": "white",
            "linecolor": "white",
            "ticks": ""
           },
           "baxis": {
            "gridcolor": "white",
            "linecolor": "white",
            "ticks": ""
           },
           "bgcolor": "#E5ECF6",
           "caxis": {
            "gridcolor": "white",
            "linecolor": "white",
            "ticks": ""
           }
          },
          "title": {
           "x": 0.05
          },
          "xaxis": {
           "automargin": true,
           "gridcolor": "white",
           "linecolor": "white",
           "ticks": "",
           "title": {
            "standoff": 15
           },
           "zerolinecolor": "white",
           "zerolinewidth": 2
          },
          "yaxis": {
           "automargin": true,
           "gridcolor": "white",
           "linecolor": "white",
           "ticks": "",
           "title": {
            "standoff": 15
           },
           "zerolinecolor": "white",
           "zerolinewidth": 2
          }
         }
        },
        "title": {
         "text": "Preço Médio de Revenda por Produto"
        },
        "xaxis": {
         "anchor": "y",
         "categoryarray": [
          "ETANOL HIDRATADO",
          "GASOLINA ADITIVADA",
          "GASOLINA COMUM",
          "GNV",
          "ÓLEO DIESEL",
          "ÓLEO DIESEL S10"
         ],
         "categoryorder": "array",
         "domain": [
          0,
          1
         ],
         "title": {
          "text": "Produto"
         }
        },
        "yaxis": {
         "anchor": "x",
         "domain": [
          0,
          1
         ],
         "title": {
          "text": "Preço Médio Revenda"
         }
        }
       }
      },
      "text/html": [
       "<div>                            <div id=\"85287b9b-8bac-4c17-93b8-724821fc09be\" class=\"plotly-graph-div\" style=\"height:525px; width:100%;\"></div>            <script type=\"text/javascript\">                require([\"plotly\"], function(Plotly) {                    window.PLOTLYENV=window.PLOTLYENV || {};                                    if (document.getElementById(\"85287b9b-8bac-4c17-93b8-724821fc09be\")) {                    Plotly.newPlot(                        \"85287b9b-8bac-4c17-93b8-724821fc09be\",                        [{\"alignmentgroup\":\"True\",\"hovertemplate\":\"Produto=%{x}<br>Pre\\u00e7o M\\u00e9dio Revenda=%{y}<extra></extra>\",\"legendgroup\":\"ETANOL HIDRATADO\",\"marker\":{\"color\":\"#636efa\",\"pattern\":{\"shape\":\"\"}},\"name\":\"ETANOL HIDRATADO\",\"offsetgroup\":\"ETANOL HIDRATADO\",\"orientation\":\"v\",\"showlegend\":true,\"textposition\":\"outside\",\"texttemplate\":\"%{y:.3s}\",\"x\":[\"ETANOL HIDRATADO\"],\"xaxis\":\"x\",\"y\":[2.7308104655953853],\"yaxis\":\"y\",\"type\":\"bar\",\"textangle\":0},{\"alignmentgroup\":\"True\",\"hovertemplate\":\"Produto=%{x}<br>Pre\\u00e7o M\\u00e9dio Revenda=%{y}<extra></extra>\",\"legendgroup\":\"GASOLINA ADITIVADA\",\"marker\":{\"color\":\"#EF553B\",\"pattern\":{\"shape\":\"\"}},\"name\":\"GASOLINA ADITIVADA\",\"offsetgroup\":\"GASOLINA ADITIVADA\",\"orientation\":\"v\",\"showlegend\":true,\"textposition\":\"outside\",\"texttemplate\":\"%{y:.3s}\",\"x\":[\"GASOLINA ADITIVADA\"],\"xaxis\":\"x\",\"y\":[6.7487407407407405],\"yaxis\":\"y\",\"type\":\"bar\",\"textangle\":0},{\"alignmentgroup\":\"True\",\"hovertemplate\":\"Produto=%{x}<br>Pre\\u00e7o M\\u00e9dio Revenda=%{y}<extra></extra>\",\"legendgroup\":\"GASOLINA COMUM\",\"marker\":{\"color\":\"#00cc96\",\"pattern\":{\"shape\":\"\"}},\"name\":\"GASOLINA COMUM\",\"offsetgroup\":\"GASOLINA COMUM\",\"orientation\":\"v\",\"showlegend\":true,\"textposition\":\"outside\",\"texttemplate\":\"%{y:.3s}\",\"x\":[\"GASOLINA COMUM\"],\"xaxis\":\"x\",\"y\":[3.488579298831386],\"yaxis\":\"y\",\"type\":\"bar\",\"textangle\":0},{\"alignmentgroup\":\"True\",\"hovertemplate\":\"Produto=%{x}<br>Pre\\u00e7o M\\u00e9dio Revenda=%{y}<extra></extra>\",\"legendgroup\":\"GNV\",\"marker\":{\"color\":\"#ab63fa\",\"pattern\":{\"shape\":\"\"}},\"name\":\"GNV\",\"offsetgroup\":\"GNV\",\"orientation\":\"v\",\"showlegend\":true,\"textposition\":\"outside\",\"texttemplate\":\"%{y:.3s}\",\"x\":[\"GNV\"],\"xaxis\":\"x\",\"y\":[2.319976975731176],\"yaxis\":\"y\",\"type\":\"bar\",\"textangle\":0},{\"alignmentgroup\":\"True\",\"hovertemplate\":\"Produto=%{x}<br>Pre\\u00e7o M\\u00e9dio Revenda=%{y}<extra></extra>\",\"legendgroup\":\"\\u00d3LEO DIESEL\",\"marker\":{\"color\":\"#FFA15A\",\"pattern\":{\"shape\":\"\"}},\"name\":\"\\u00d3LEO DIESEL\",\"offsetgroup\":\"\\u00d3LEO DIESEL\",\"orientation\":\"v\",\"showlegend\":true,\"textposition\":\"outside\",\"texttemplate\":\"%{y:.3s}\",\"x\":[\"\\u00d3LEO DIESEL\"],\"xaxis\":\"x\",\"y\":[2.8506350574712642],\"yaxis\":\"y\",\"type\":\"bar\",\"textangle\":0},{\"alignmentgroup\":\"True\",\"hovertemplate\":\"Produto=%{x}<br>Pre\\u00e7o M\\u00e9dio Revenda=%{y}<extra></extra>\",\"legendgroup\":\"\\u00d3LEO DIESEL S10\",\"marker\":{\"color\":\"#19d3f3\",\"pattern\":{\"shape\":\"\"}},\"name\":\"\\u00d3LEO DIESEL S10\",\"offsetgroup\":\"\\u00d3LEO DIESEL S10\",\"orientation\":\"v\",\"showlegend\":true,\"textposition\":\"outside\",\"texttemplate\":\"%{y:.3s}\",\"x\":[\"\\u00d3LEO DIESEL S10\"],\"xaxis\":\"x\",\"y\":[3.903858333333334],\"yaxis\":\"y\",\"type\":\"bar\",\"textangle\":0}],                        {\"template\":{\"data\":{\"histogram2dcontour\":[{\"type\":\"histogram2dcontour\",\"colorbar\":{\"outlinewidth\":0,\"ticks\":\"\"},\"colorscale\":[[0.0,\"#0d0887\"],[0.1111111111111111,\"#46039f\"],[0.2222222222222222,\"#7201a8\"],[0.3333333333333333,\"#9c179e\"],[0.4444444444444444,\"#bd3786\"],[0.5555555555555556,\"#d8576b\"],[0.6666666666666666,\"#ed7953\"],[0.7777777777777778,\"#fb9f3a\"],[0.8888888888888888,\"#fdca26\"],[1.0,\"#f0f921\"]]}],\"choropleth\":[{\"type\":\"choropleth\",\"colorbar\":{\"outlinewidth\":0,\"ticks\":\"\"}}],\"histogram2d\":[{\"type\":\"histogram2d\",\"colorbar\":{\"outlinewidth\":0,\"ticks\":\"\"},\"colorscale\":[[0.0,\"#0d0887\"],[0.1111111111111111,\"#46039f\"],[0.2222222222222222,\"#7201a8\"],[0.3333333333333333,\"#9c179e\"],[0.4444444444444444,\"#bd3786\"],[0.5555555555555556,\"#d8576b\"],[0.6666666666666666,\"#ed7953\"],[0.7777777777777778,\"#fb9f3a\"],[0.8888888888888888,\"#fdca26\"],[1.0,\"#f0f921\"]]}],\"heatmap\":[{\"type\":\"heatmap\",\"colorbar\":{\"outlinewidth\":0,\"ticks\":\"\"},\"colorscale\":[[0.0,\"#0d0887\"],[0.1111111111111111,\"#46039f\"],[0.2222222222222222,\"#7201a8\"],[0.3333333333333333,\"#9c179e\"],[0.4444444444444444,\"#bd3786\"],[0.5555555555555556,\"#d8576b\"],[0.6666666666666666,\"#ed7953\"],[0.7777777777777778,\"#fb9f3a\"],[0.8888888888888888,\"#fdca26\"],[1.0,\"#f0f921\"]]}],\"heatmapgl\":[{\"type\":\"heatmapgl\",\"colorbar\":{\"outlinewidth\":0,\"ticks\":\"\"},\"colorscale\":[[0.0,\"#0d0887\"],[0.1111111111111111,\"#46039f\"],[0.2222222222222222,\"#7201a8\"],[0.3333333333333333,\"#9c179e\"],[0.4444444444444444,\"#bd3786\"],[0.5555555555555556,\"#d8576b\"],[0.6666666666666666,\"#ed7953\"],[0.7777777777777778,\"#fb9f3a\"],[0.8888888888888888,\"#fdca26\"],[1.0,\"#f0f921\"]]}],\"contourcarpet\":[{\"type\":\"contourcarpet\",\"colorbar\":{\"outlinewidth\":0,\"ticks\":\"\"}}],\"contour\":[{\"type\":\"contour\",\"colorbar\":{\"outlinewidth\":0,\"ticks\":\"\"},\"colorscale\":[[0.0,\"#0d0887\"],[0.1111111111111111,\"#46039f\"],[0.2222222222222222,\"#7201a8\"],[0.3333333333333333,\"#9c179e\"],[0.4444444444444444,\"#bd3786\"],[0.5555555555555556,\"#d8576b\"],[0.6666666666666666,\"#ed7953\"],[0.7777777777777778,\"#fb9f3a\"],[0.8888888888888888,\"#fdca26\"],[1.0,\"#f0f921\"]]}],\"surface\":[{\"type\":\"surface\",\"colorbar\":{\"outlinewidth\":0,\"ticks\":\"\"},\"colorscale\":[[0.0,\"#0d0887\"],[0.1111111111111111,\"#46039f\"],[0.2222222222222222,\"#7201a8\"],[0.3333333333333333,\"#9c179e\"],[0.4444444444444444,\"#bd3786\"],[0.5555555555555556,\"#d8576b\"],[0.6666666666666666,\"#ed7953\"],[0.7777777777777778,\"#fb9f3a\"],[0.8888888888888888,\"#fdca26\"],[1.0,\"#f0f921\"]]}],\"mesh3d\":[{\"type\":\"mesh3d\",\"colorbar\":{\"outlinewidth\":0,\"ticks\":\"\"}}],\"scatter\":[{\"fillpattern\":{\"fillmode\":\"overlay\",\"size\":10,\"solidity\":0.2},\"type\":\"scatter\"}],\"parcoords\":[{\"type\":\"parcoords\",\"line\":{\"colorbar\":{\"outlinewidth\":0,\"ticks\":\"\"}}}],\"scatterpolargl\":[{\"type\":\"scatterpolargl\",\"marker\":{\"colorbar\":{\"outlinewidth\":0,\"ticks\":\"\"}}}],\"bar\":[{\"error_x\":{\"color\":\"#2a3f5f\"},\"error_y\":{\"color\":\"#2a3f5f\"},\"marker\":{\"line\":{\"color\":\"#E5ECF6\",\"width\":0.5},\"pattern\":{\"fillmode\":\"overlay\",\"size\":10,\"solidity\":0.2}},\"type\":\"bar\"}],\"scattergeo\":[{\"type\":\"scattergeo\",\"marker\":{\"colorbar\":{\"outlinewidth\":0,\"ticks\":\"\"}}}],\"scatterpolar\":[{\"type\":\"scatterpolar\",\"marker\":{\"colorbar\":{\"outlinewidth\":0,\"ticks\":\"\"}}}],\"histogram\":[{\"marker\":{\"pattern\":{\"fillmode\":\"overlay\",\"size\":10,\"solidity\":0.2}},\"type\":\"histogram\"}],\"scattergl\":[{\"type\":\"scattergl\",\"marker\":{\"colorbar\":{\"outlinewidth\":0,\"ticks\":\"\"}}}],\"scatter3d\":[{\"type\":\"scatter3d\",\"line\":{\"colorbar\":{\"outlinewidth\":0,\"ticks\":\"\"}},\"marker\":{\"colorbar\":{\"outlinewidth\":0,\"ticks\":\"\"}}}],\"scattermapbox\":[{\"type\":\"scattermapbox\",\"marker\":{\"colorbar\":{\"outlinewidth\":0,\"ticks\":\"\"}}}],\"scatterternary\":[{\"type\":\"scatterternary\",\"marker\":{\"colorbar\":{\"outlinewidth\":0,\"ticks\":\"\"}}}],\"scattercarpet\":[{\"type\":\"scattercarpet\",\"marker\":{\"colorbar\":{\"outlinewidth\":0,\"ticks\":\"\"}}}],\"carpet\":[{\"aaxis\":{\"endlinecolor\":\"#2a3f5f\",\"gridcolor\":\"white\",\"linecolor\":\"white\",\"minorgridcolor\":\"white\",\"startlinecolor\":\"#2a3f5f\"},\"baxis\":{\"endlinecolor\":\"#2a3f5f\",\"gridcolor\":\"white\",\"linecolor\":\"white\",\"minorgridcolor\":\"white\",\"startlinecolor\":\"#2a3f5f\"},\"type\":\"carpet\"}],\"table\":[{\"cells\":{\"fill\":{\"color\":\"#EBF0F8\"},\"line\":{\"color\":\"white\"}},\"header\":{\"fill\":{\"color\":\"#C8D4E3\"},\"line\":{\"color\":\"white\"}},\"type\":\"table\"}],\"barpolar\":[{\"marker\":{\"line\":{\"color\":\"#E5ECF6\",\"width\":0.5},\"pattern\":{\"fillmode\":\"overlay\",\"size\":10,\"solidity\":0.2}},\"type\":\"barpolar\"}],\"pie\":[{\"automargin\":true,\"type\":\"pie\"}]},\"layout\":{\"autotypenumbers\":\"strict\",\"colorway\":[\"#636efa\",\"#EF553B\",\"#00cc96\",\"#ab63fa\",\"#FFA15A\",\"#19d3f3\",\"#FF6692\",\"#B6E880\",\"#FF97FF\",\"#FECB52\"],\"font\":{\"color\":\"#2a3f5f\"},\"hovermode\":\"closest\",\"hoverlabel\":{\"align\":\"left\"},\"paper_bgcolor\":\"white\",\"plot_bgcolor\":\"#E5ECF6\",\"polar\":{\"bgcolor\":\"#E5ECF6\",\"angularaxis\":{\"gridcolor\":\"white\",\"linecolor\":\"white\",\"ticks\":\"\"},\"radialaxis\":{\"gridcolor\":\"white\",\"linecolor\":\"white\",\"ticks\":\"\"}},\"ternary\":{\"bgcolor\":\"#E5ECF6\",\"aaxis\":{\"gridcolor\":\"white\",\"linecolor\":\"white\",\"ticks\":\"\"},\"baxis\":{\"gridcolor\":\"white\",\"linecolor\":\"white\",\"ticks\":\"\"},\"caxis\":{\"gridcolor\":\"white\",\"linecolor\":\"white\",\"ticks\":\"\"}},\"coloraxis\":{\"colorbar\":{\"outlinewidth\":0,\"ticks\":\"\"}},\"colorscale\":{\"sequential\":[[0.0,\"#0d0887\"],[0.1111111111111111,\"#46039f\"],[0.2222222222222222,\"#7201a8\"],[0.3333333333333333,\"#9c179e\"],[0.4444444444444444,\"#bd3786\"],[0.5555555555555556,\"#d8576b\"],[0.6666666666666666,\"#ed7953\"],[0.7777777777777778,\"#fb9f3a\"],[0.8888888888888888,\"#fdca26\"],[1.0,\"#f0f921\"]],\"sequentialminus\":[[0.0,\"#0d0887\"],[0.1111111111111111,\"#46039f\"],[0.2222222222222222,\"#7201a8\"],[0.3333333333333333,\"#9c179e\"],[0.4444444444444444,\"#bd3786\"],[0.5555555555555556,\"#d8576b\"],[0.6666666666666666,\"#ed7953\"],[0.7777777777777778,\"#fb9f3a\"],[0.8888888888888888,\"#fdca26\"],[1.0,\"#f0f921\"]],\"diverging\":[[0,\"#8e0152\"],[0.1,\"#c51b7d\"],[0.2,\"#de77ae\"],[0.3,\"#f1b6da\"],[0.4,\"#fde0ef\"],[0.5,\"#f7f7f7\"],[0.6,\"#e6f5d0\"],[0.7,\"#b8e186\"],[0.8,\"#7fbc41\"],[0.9,\"#4d9221\"],[1,\"#276419\"]]},\"xaxis\":{\"gridcolor\":\"white\",\"linecolor\":\"white\",\"ticks\":\"\",\"title\":{\"standoff\":15},\"zerolinecolor\":\"white\",\"automargin\":true,\"zerolinewidth\":2},\"yaxis\":{\"gridcolor\":\"white\",\"linecolor\":\"white\",\"ticks\":\"\",\"title\":{\"standoff\":15},\"zerolinecolor\":\"white\",\"automargin\":true,\"zerolinewidth\":2},\"scene\":{\"xaxis\":{\"backgroundcolor\":\"#E5ECF6\",\"gridcolor\":\"white\",\"linecolor\":\"white\",\"showbackground\":true,\"ticks\":\"\",\"zerolinecolor\":\"white\",\"gridwidth\":2},\"yaxis\":{\"backgroundcolor\":\"#E5ECF6\",\"gridcolor\":\"white\",\"linecolor\":\"white\",\"showbackground\":true,\"ticks\":\"\",\"zerolinecolor\":\"white\",\"gridwidth\":2},\"zaxis\":{\"backgroundcolor\":\"#E5ECF6\",\"gridcolor\":\"white\",\"linecolor\":\"white\",\"showbackground\":true,\"ticks\":\"\",\"zerolinecolor\":\"white\",\"gridwidth\":2}},\"shapedefaults\":{\"line\":{\"color\":\"#2a3f5f\"}},\"annotationdefaults\":{\"arrowcolor\":\"#2a3f5f\",\"arrowhead\":0,\"arrowwidth\":1},\"geo\":{\"bgcolor\":\"white\",\"landcolor\":\"#E5ECF6\",\"subunitcolor\":\"white\",\"showland\":true,\"showlakes\":true,\"lakecolor\":\"white\"},\"title\":{\"x\":0.05},\"mapbox\":{\"style\":\"light\"}}},\"xaxis\":{\"anchor\":\"y\",\"domain\":[0.0,1.0],\"title\":{\"text\":\"Produto\"},\"categoryorder\":\"array\",\"categoryarray\":[\"ETANOL HIDRATADO\",\"GASOLINA ADITIVADA\",\"GASOLINA COMUM\",\"GNV\",\"\\u00d3LEO DIESEL\",\"\\u00d3LEO DIESEL S10\"]},\"yaxis\":{\"anchor\":\"x\",\"domain\":[0.0,1.0],\"title\":{\"text\":\"Pre\\u00e7o M\\u00e9dio Revenda\"}},\"legend\":{\"title\":{\"text\":\"Produto\"},\"tracegroupgap\":0},\"title\":{\"text\":\"Pre\\u00e7o M\\u00e9dio de Revenda por Produto\"},\"barmode\":\"relative\"},                        {\"responsive\": true}                    ).then(function(){\n",
       "                            \n",
       "var gd = document.getElementById('85287b9b-8bac-4c17-93b8-724821fc09be');\n",
       "var x = new MutationObserver(function (mutations, observer) {{\n",
       "        var display = window.getComputedStyle(gd).display;\n",
       "        if (!display || display === 'none') {{\n",
       "            console.log([gd, 'removed!']);\n",
       "            Plotly.purge(gd);\n",
       "            observer.disconnect();\n",
       "        }}\n",
       "}});\n",
       "\n",
       "// Listen for the removal of the full notebook cells\n",
       "var notebookContainer = gd.closest('#notebook-container');\n",
       "if (notebookContainer) {{\n",
       "    x.observe(notebookContainer, {childList: true});\n",
       "}}\n",
       "\n",
       "// Listen for the clearing of the current output cell\n",
       "var outputEl = gd.closest('.output');\n",
       "if (outputEl) {{\n",
       "    x.observe(outputEl, {childList: true});\n",
       "}}\n",
       "\n",
       "                        })                };                });            </script>        </div>"
      ]
     },
     "metadata": {},
     "output_type": "display_data"
    }
   ],
   "source": [
    "grafico_mean = px.bar(vendas_produto_df, x=\"PRODUTO\", y=\"PREÇO MÉDIO REVENDA\", color = \"PRODUTO\", \n",
    "                   title = \"Preço Médio de Revenda por Produto\", text_auto='.3s',\n",
    "                   labels={'PRODUTO':'Produto', 'PREÇO MÉDIO REVENDA':'Preço Médio Revenda'})\n",
    "grafico_mean.update_traces(textangle=0, textposition=\"outside\")\n",
    "grafico_mean.show()"
   ]
  },
  {
   "cell_type": "code",
   "execution_count": 170,
   "id": "b97403f7",
   "metadata": {},
   "outputs": [
    {
     "data": {
      "text/html": [
       "<div>\n",
       "<style scoped>\n",
       "    .dataframe tbody tr th:only-of-type {\n",
       "        vertical-align: middle;\n",
       "    }\n",
       "\n",
       "    .dataframe tbody tr th {\n",
       "        vertical-align: top;\n",
       "    }\n",
       "\n",
       "    .dataframe thead th {\n",
       "        text-align: right;\n",
       "    }\n",
       "</style>\n",
       "<table border=\"1\" class=\"dataframe\">\n",
       "  <thead>\n",
       "    <tr style=\"text-align: right;\">\n",
       "      <th></th>\n",
       "      <th>PRODUTO</th>\n",
       "      <th>ANO</th>\n",
       "      <th>PREÇO MÉDIO REVENDA</th>\n",
       "    </tr>\n",
       "  </thead>\n",
       "  <tbody>\n",
       "    <tr>\n",
       "      <th>0</th>\n",
       "      <td>ETANOL HIDRATADO</td>\n",
       "      <td>2008</td>\n",
       "      <td>1.769841</td>\n",
       "    </tr>\n",
       "    <tr>\n",
       "      <th>1</th>\n",
       "      <td>ETANOL HIDRATADO</td>\n",
       "      <td>2009</td>\n",
       "      <td>1.774885</td>\n",
       "    </tr>\n",
       "    <tr>\n",
       "      <th>2</th>\n",
       "      <td>ETANOL HIDRATADO</td>\n",
       "      <td>2010</td>\n",
       "      <td>1.933930</td>\n",
       "    </tr>\n",
       "    <tr>\n",
       "      <th>3</th>\n",
       "      <td>ETANOL HIDRATADO</td>\n",
       "      <td>2011</td>\n",
       "      <td>2.211707</td>\n",
       "    </tr>\n",
       "    <tr>\n",
       "      <th>4</th>\n",
       "      <td>ETANOL HIDRATADO</td>\n",
       "      <td>2012</td>\n",
       "      <td>2.225507</td>\n",
       "    </tr>\n",
       "  </tbody>\n",
       "</table>\n",
       "</div>"
      ],
      "text/plain": [
       "            PRODUTO   ANO  PREÇO MÉDIO REVENDA\n",
       "0  ETANOL HIDRATADO  2008             1.769841\n",
       "1  ETANOL HIDRATADO  2009             1.774885\n",
       "2  ETANOL HIDRATADO  2010             1.933930\n",
       "3  ETANOL HIDRATADO  2011             2.211707\n",
       "4  ETANOL HIDRATADO  2012             2.225507"
      ]
     },
     "execution_count": 170,
     "metadata": {},
     "output_type": "execute_result"
    }
   ],
   "source": [
    "#preço médio de revenda por produto e ano\n",
    "vendas_produto_ano = df_prc_comb.groupby(['PRODUTO','ANO'], sort=False).agg({'PREÇO MÉDIO REVENDA': np.mean}).reset_index()\n",
    "vendas_produto_ano.head()"
   ]
  },
  {
   "cell_type": "code",
   "execution_count": 171,
   "id": "757a9a44",
   "metadata": {},
   "outputs": [
    {
     "data": {
      "application/vnd.plotly.v1+json": {
       "config": {
        "plotlyServerURL": "https://plot.ly"
       },
       "data": [
        {
         "hovertemplate": "PRODUTO=ETANOL HIDRATADO<br>Ano=%{x}<br>Preço Médio Revenda=%{y}<extra></extra>",
         "legendgroup": "ETANOL HIDRATADO",
         "line": {
          "color": "#636efa",
          "dash": "solid"
         },
         "marker": {
          "symbol": "circle"
         },
         "mode": "markers+lines",
         "name": "ETANOL HIDRATADO",
         "orientation": "v",
         "showlegend": true,
         "textposition": "bottom right",
         "type": "scatter",
         "x": [
          2008,
          2009,
          2010,
          2011,
          2012,
          2014,
          2015,
          2016,
          2017,
          2019,
          2020,
          2021,
          2022
         ],
         "xaxis": "x",
         "y": [
          1.7698407407407408,
          1.7748851851851852,
          1.9339296296296293,
          2.211707407407407,
          2.2255074074074073,
          2.457211111111111,
          2.4637037037037035,
          3.1250653846153846,
          3.2842962962962963,
          3.482101449275362,
          3.5315275590551183,
          5.349388888888889,
          5.658237037037037
         ],
         "yaxis": "y"
        },
        {
         "hovertemplate": "PRODUTO=GASOLINA COMUM<br>Ano=%{x}<br>Preço Médio Revenda=%{y}<extra></extra>",
         "legendgroup": "GASOLINA COMUM",
         "line": {
          "color": "#EF553B",
          "dash": "solid"
         },
         "marker": {
          "symbol": "circle"
         },
         "mode": "markers+lines",
         "name": "GASOLINA COMUM",
         "orientation": "v",
         "showlegend": true,
         "textposition": "bottom right",
         "type": "scatter",
         "x": [
          2008,
          2009,
          2010,
          2011,
          2012,
          2014,
          2015,
          2016,
          2017,
          2019,
          2020,
          2021,
          2022
         ],
         "xaxis": "x",
         "y": [
          2.6054666666666666,
          2.613611111111111,
          2.661714285714286,
          2.784484251968504,
          2.782385185185185,
          3.0388888888888888,
          3.1062000000000003,
          3.7462370370370373,
          3.804777777777778,
          4.472753086419753,
          4.423907407407407,
          6.297635802469136,
          6.996066666666667
         ],
         "yaxis": "y"
        },
        {
         "hovertemplate": "PRODUTO=GNV<br>Ano=%{x}<br>Preço Médio Revenda=%{y}<extra></extra>",
         "legendgroup": "GNV",
         "line": {
          "color": "#00cc96",
          "dash": "solid"
         },
         "marker": {
          "symbol": "circle"
         },
         "mode": "markers+lines",
         "name": "GNV",
         "orientation": "v",
         "showlegend": true,
         "textposition": "bottom right",
         "type": "scatter",
         "x": [
          2008,
          2009,
          2010,
          2011,
          2012,
          2014,
          2016,
          2017,
          2019,
          2020,
          2021,
          2022
         ],
         "xaxis": "x",
         "y": [
          1.6482035928143712,
          1.7321684782608695,
          1.7248163265306125,
          1.721605095541401,
          1.8007837837837837,
          1.994941176470588,
          2.3990337078651685,
          2.384941176470588,
          3.3097924528301887,
          3.335479452054795,
          4.144166666666667,
          4.843311111111111
         ],
         "yaxis": "y"
        },
        {
         "hovertemplate": "PRODUTO=ÓLEO DIESEL<br>Ano=%{x}<br>Preço Médio Revenda=%{y}<extra></extra>",
         "legendgroup": "ÓLEO DIESEL",
         "line": {
          "color": "#ab63fa",
          "dash": "solid"
         },
         "marker": {
          "symbol": "circle"
         },
         "mode": "markers+lines",
         "name": "ÓLEO DIESEL",
         "orientation": "v",
         "showlegend": true,
         "textposition": "bottom right",
         "type": "scatter",
         "x": [
          2008,
          2009,
          2010,
          2011,
          2012,
          2014,
          2016,
          2017,
          2019,
          2020,
          2021,
          2022
         ],
         "xaxis": "x",
         "y": [
          2.082357400722022,
          2.1099111111111113,
          2.0626814814814813,
          2.0833629629629633,
          2.1368798586572435,
          2.5674587813620073,
          3.116437037037037,
          3.4385,
          3.831641975308642,
          3.69675,
          5.000783068783069,
          6.275674074074074
         ],
         "yaxis": "y"
        },
        {
         "hovertemplate": "PRODUTO=ÓLEO DIESEL S10<br>Ano=%{x}<br>Preço Médio Revenda=%{y}<extra></extra>",
         "legendgroup": "ÓLEO DIESEL S10",
         "line": {
          "color": "#FFA15A",
          "dash": "solid"
         },
         "marker": {
          "symbol": "circle"
         },
         "mode": "markers+lines",
         "name": "ÓLEO DIESEL S10",
         "orientation": "v",
         "showlegend": true,
         "textposition": "bottom right",
         "type": "scatter",
         "x": [
          2014,
          2016,
          2019,
          2020,
          2021,
          2022
         ],
         "xaxis": "x",
         "y": [
          2.710377104377104,
          3.2563851851851853,
          3.89920987654321,
          3.767287037037037,
          5.04357671957672,
          6.340903703703704
         ],
         "yaxis": "y"
        },
        {
         "hovertemplate": "PRODUTO=GASOLINA ADITIVADA<br>Ano=%{x}<br>Preço Médio Revenda=%{y}<extra></extra>",
         "legendgroup": "GASOLINA ADITIVADA",
         "line": {
          "color": "#19d3f3",
          "dash": "solid"
         },
         "marker": {
          "symbol": "circle"
         },
         "mode": "markers+lines",
         "name": "GASOLINA ADITIVADA",
         "orientation": "v",
         "showlegend": true,
         "textposition": "bottom right",
         "type": "scatter",
         "x": [
          2021,
          2022
         ],
         "xaxis": "x",
         "y": [
          6.427500000000001,
          7.13422962962963
         ],
         "yaxis": "y"
        }
       ],
       "layout": {
        "legend": {
         "title": {
          "text": "PRODUTO"
         },
         "tracegroupgap": 0
        },
        "template": {
         "data": {
          "bar": [
           {
            "error_x": {
             "color": "#2a3f5f"
            },
            "error_y": {
             "color": "#2a3f5f"
            },
            "marker": {
             "line": {
              "color": "#E5ECF6",
              "width": 0.5
             },
             "pattern": {
              "fillmode": "overlay",
              "size": 10,
              "solidity": 0.2
             }
            },
            "type": "bar"
           }
          ],
          "barpolar": [
           {
            "marker": {
             "line": {
              "color": "#E5ECF6",
              "width": 0.5
             },
             "pattern": {
              "fillmode": "overlay",
              "size": 10,
              "solidity": 0.2
             }
            },
            "type": "barpolar"
           }
          ],
          "carpet": [
           {
            "aaxis": {
             "endlinecolor": "#2a3f5f",
             "gridcolor": "white",
             "linecolor": "white",
             "minorgridcolor": "white",
             "startlinecolor": "#2a3f5f"
            },
            "baxis": {
             "endlinecolor": "#2a3f5f",
             "gridcolor": "white",
             "linecolor": "white",
             "minorgridcolor": "white",
             "startlinecolor": "#2a3f5f"
            },
            "type": "carpet"
           }
          ],
          "choropleth": [
           {
            "colorbar": {
             "outlinewidth": 0,
             "ticks": ""
            },
            "type": "choropleth"
           }
          ],
          "contour": [
           {
            "colorbar": {
             "outlinewidth": 0,
             "ticks": ""
            },
            "colorscale": [
             [
              0,
              "#0d0887"
             ],
             [
              0.1111111111111111,
              "#46039f"
             ],
             [
              0.2222222222222222,
              "#7201a8"
             ],
             [
              0.3333333333333333,
              "#9c179e"
             ],
             [
              0.4444444444444444,
              "#bd3786"
             ],
             [
              0.5555555555555556,
              "#d8576b"
             ],
             [
              0.6666666666666666,
              "#ed7953"
             ],
             [
              0.7777777777777778,
              "#fb9f3a"
             ],
             [
              0.8888888888888888,
              "#fdca26"
             ],
             [
              1,
              "#f0f921"
             ]
            ],
            "type": "contour"
           }
          ],
          "contourcarpet": [
           {
            "colorbar": {
             "outlinewidth": 0,
             "ticks": ""
            },
            "type": "contourcarpet"
           }
          ],
          "heatmap": [
           {
            "colorbar": {
             "outlinewidth": 0,
             "ticks": ""
            },
            "colorscale": [
             [
              0,
              "#0d0887"
             ],
             [
              0.1111111111111111,
              "#46039f"
             ],
             [
              0.2222222222222222,
              "#7201a8"
             ],
             [
              0.3333333333333333,
              "#9c179e"
             ],
             [
              0.4444444444444444,
              "#bd3786"
             ],
             [
              0.5555555555555556,
              "#d8576b"
             ],
             [
              0.6666666666666666,
              "#ed7953"
             ],
             [
              0.7777777777777778,
              "#fb9f3a"
             ],
             [
              0.8888888888888888,
              "#fdca26"
             ],
             [
              1,
              "#f0f921"
             ]
            ],
            "type": "heatmap"
           }
          ],
          "heatmapgl": [
           {
            "colorbar": {
             "outlinewidth": 0,
             "ticks": ""
            },
            "colorscale": [
             [
              0,
              "#0d0887"
             ],
             [
              0.1111111111111111,
              "#46039f"
             ],
             [
              0.2222222222222222,
              "#7201a8"
             ],
             [
              0.3333333333333333,
              "#9c179e"
             ],
             [
              0.4444444444444444,
              "#bd3786"
             ],
             [
              0.5555555555555556,
              "#d8576b"
             ],
             [
              0.6666666666666666,
              "#ed7953"
             ],
             [
              0.7777777777777778,
              "#fb9f3a"
             ],
             [
              0.8888888888888888,
              "#fdca26"
             ],
             [
              1,
              "#f0f921"
             ]
            ],
            "type": "heatmapgl"
           }
          ],
          "histogram": [
           {
            "marker": {
             "pattern": {
              "fillmode": "overlay",
              "size": 10,
              "solidity": 0.2
             }
            },
            "type": "histogram"
           }
          ],
          "histogram2d": [
           {
            "colorbar": {
             "outlinewidth": 0,
             "ticks": ""
            },
            "colorscale": [
             [
              0,
              "#0d0887"
             ],
             [
              0.1111111111111111,
              "#46039f"
             ],
             [
              0.2222222222222222,
              "#7201a8"
             ],
             [
              0.3333333333333333,
              "#9c179e"
             ],
             [
              0.4444444444444444,
              "#bd3786"
             ],
             [
              0.5555555555555556,
              "#d8576b"
             ],
             [
              0.6666666666666666,
              "#ed7953"
             ],
             [
              0.7777777777777778,
              "#fb9f3a"
             ],
             [
              0.8888888888888888,
              "#fdca26"
             ],
             [
              1,
              "#f0f921"
             ]
            ],
            "type": "histogram2d"
           }
          ],
          "histogram2dcontour": [
           {
            "colorbar": {
             "outlinewidth": 0,
             "ticks": ""
            },
            "colorscale": [
             [
              0,
              "#0d0887"
             ],
             [
              0.1111111111111111,
              "#46039f"
             ],
             [
              0.2222222222222222,
              "#7201a8"
             ],
             [
              0.3333333333333333,
              "#9c179e"
             ],
             [
              0.4444444444444444,
              "#bd3786"
             ],
             [
              0.5555555555555556,
              "#d8576b"
             ],
             [
              0.6666666666666666,
              "#ed7953"
             ],
             [
              0.7777777777777778,
              "#fb9f3a"
             ],
             [
              0.8888888888888888,
              "#fdca26"
             ],
             [
              1,
              "#f0f921"
             ]
            ],
            "type": "histogram2dcontour"
           }
          ],
          "mesh3d": [
           {
            "colorbar": {
             "outlinewidth": 0,
             "ticks": ""
            },
            "type": "mesh3d"
           }
          ],
          "parcoords": [
           {
            "line": {
             "colorbar": {
              "outlinewidth": 0,
              "ticks": ""
             }
            },
            "type": "parcoords"
           }
          ],
          "pie": [
           {
            "automargin": true,
            "type": "pie"
           }
          ],
          "scatter": [
           {
            "fillpattern": {
             "fillmode": "overlay",
             "size": 10,
             "solidity": 0.2
            },
            "type": "scatter"
           }
          ],
          "scatter3d": [
           {
            "line": {
             "colorbar": {
              "outlinewidth": 0,
              "ticks": ""
             }
            },
            "marker": {
             "colorbar": {
              "outlinewidth": 0,
              "ticks": ""
             }
            },
            "type": "scatter3d"
           }
          ],
          "scattercarpet": [
           {
            "marker": {
             "colorbar": {
              "outlinewidth": 0,
              "ticks": ""
             }
            },
            "type": "scattercarpet"
           }
          ],
          "scattergeo": [
           {
            "marker": {
             "colorbar": {
              "outlinewidth": 0,
              "ticks": ""
             }
            },
            "type": "scattergeo"
           }
          ],
          "scattergl": [
           {
            "marker": {
             "colorbar": {
              "outlinewidth": 0,
              "ticks": ""
             }
            },
            "type": "scattergl"
           }
          ],
          "scattermapbox": [
           {
            "marker": {
             "colorbar": {
              "outlinewidth": 0,
              "ticks": ""
             }
            },
            "type": "scattermapbox"
           }
          ],
          "scatterpolar": [
           {
            "marker": {
             "colorbar": {
              "outlinewidth": 0,
              "ticks": ""
             }
            },
            "type": "scatterpolar"
           }
          ],
          "scatterpolargl": [
           {
            "marker": {
             "colorbar": {
              "outlinewidth": 0,
              "ticks": ""
             }
            },
            "type": "scatterpolargl"
           }
          ],
          "scatterternary": [
           {
            "marker": {
             "colorbar": {
              "outlinewidth": 0,
              "ticks": ""
             }
            },
            "type": "scatterternary"
           }
          ],
          "surface": [
           {
            "colorbar": {
             "outlinewidth": 0,
             "ticks": ""
            },
            "colorscale": [
             [
              0,
              "#0d0887"
             ],
             [
              0.1111111111111111,
              "#46039f"
             ],
             [
              0.2222222222222222,
              "#7201a8"
             ],
             [
              0.3333333333333333,
              "#9c179e"
             ],
             [
              0.4444444444444444,
              "#bd3786"
             ],
             [
              0.5555555555555556,
              "#d8576b"
             ],
             [
              0.6666666666666666,
              "#ed7953"
             ],
             [
              0.7777777777777778,
              "#fb9f3a"
             ],
             [
              0.8888888888888888,
              "#fdca26"
             ],
             [
              1,
              "#f0f921"
             ]
            ],
            "type": "surface"
           }
          ],
          "table": [
           {
            "cells": {
             "fill": {
              "color": "#EBF0F8"
             },
             "line": {
              "color": "white"
             }
            },
            "header": {
             "fill": {
              "color": "#C8D4E3"
             },
             "line": {
              "color": "white"
             }
            },
            "type": "table"
           }
          ]
         },
         "layout": {
          "annotationdefaults": {
           "arrowcolor": "#2a3f5f",
           "arrowhead": 0,
           "arrowwidth": 1
          },
          "autotypenumbers": "strict",
          "coloraxis": {
           "colorbar": {
            "outlinewidth": 0,
            "ticks": ""
           }
          },
          "colorscale": {
           "diverging": [
            [
             0,
             "#8e0152"
            ],
            [
             0.1,
             "#c51b7d"
            ],
            [
             0.2,
             "#de77ae"
            ],
            [
             0.3,
             "#f1b6da"
            ],
            [
             0.4,
             "#fde0ef"
            ],
            [
             0.5,
             "#f7f7f7"
            ],
            [
             0.6,
             "#e6f5d0"
            ],
            [
             0.7,
             "#b8e186"
            ],
            [
             0.8,
             "#7fbc41"
            ],
            [
             0.9,
             "#4d9221"
            ],
            [
             1,
             "#276419"
            ]
           ],
           "sequential": [
            [
             0,
             "#0d0887"
            ],
            [
             0.1111111111111111,
             "#46039f"
            ],
            [
             0.2222222222222222,
             "#7201a8"
            ],
            [
             0.3333333333333333,
             "#9c179e"
            ],
            [
             0.4444444444444444,
             "#bd3786"
            ],
            [
             0.5555555555555556,
             "#d8576b"
            ],
            [
             0.6666666666666666,
             "#ed7953"
            ],
            [
             0.7777777777777778,
             "#fb9f3a"
            ],
            [
             0.8888888888888888,
             "#fdca26"
            ],
            [
             1,
             "#f0f921"
            ]
           ],
           "sequentialminus": [
            [
             0,
             "#0d0887"
            ],
            [
             0.1111111111111111,
             "#46039f"
            ],
            [
             0.2222222222222222,
             "#7201a8"
            ],
            [
             0.3333333333333333,
             "#9c179e"
            ],
            [
             0.4444444444444444,
             "#bd3786"
            ],
            [
             0.5555555555555556,
             "#d8576b"
            ],
            [
             0.6666666666666666,
             "#ed7953"
            ],
            [
             0.7777777777777778,
             "#fb9f3a"
            ],
            [
             0.8888888888888888,
             "#fdca26"
            ],
            [
             1,
             "#f0f921"
            ]
           ]
          },
          "colorway": [
           "#636efa",
           "#EF553B",
           "#00cc96",
           "#ab63fa",
           "#FFA15A",
           "#19d3f3",
           "#FF6692",
           "#B6E880",
           "#FF97FF",
           "#FECB52"
          ],
          "font": {
           "color": "#2a3f5f"
          },
          "geo": {
           "bgcolor": "white",
           "lakecolor": "white",
           "landcolor": "#E5ECF6",
           "showlakes": true,
           "showland": true,
           "subunitcolor": "white"
          },
          "hoverlabel": {
           "align": "left"
          },
          "hovermode": "closest",
          "mapbox": {
           "style": "light"
          },
          "paper_bgcolor": "white",
          "plot_bgcolor": "#E5ECF6",
          "polar": {
           "angularaxis": {
            "gridcolor": "white",
            "linecolor": "white",
            "ticks": ""
           },
           "bgcolor": "#E5ECF6",
           "radialaxis": {
            "gridcolor": "white",
            "linecolor": "white",
            "ticks": ""
           }
          },
          "scene": {
           "xaxis": {
            "backgroundcolor": "#E5ECF6",
            "gridcolor": "white",
            "gridwidth": 2,
            "linecolor": "white",
            "showbackground": true,
            "ticks": "",
            "zerolinecolor": "white"
           },
           "yaxis": {
            "backgroundcolor": "#E5ECF6",
            "gridcolor": "white",
            "gridwidth": 2,
            "linecolor": "white",
            "showbackground": true,
            "ticks": "",
            "zerolinecolor": "white"
           },
           "zaxis": {
            "backgroundcolor": "#E5ECF6",
            "gridcolor": "white",
            "gridwidth": 2,
            "linecolor": "white",
            "showbackground": true,
            "ticks": "",
            "zerolinecolor": "white"
           }
          },
          "shapedefaults": {
           "line": {
            "color": "#2a3f5f"
           }
          },
          "ternary": {
           "aaxis": {
            "gridcolor": "white",
            "linecolor": "white",
            "ticks": ""
           },
           "baxis": {
            "gridcolor": "white",
            "linecolor": "white",
            "ticks": ""
           },
           "bgcolor": "#E5ECF6",
           "caxis": {
            "gridcolor": "white",
            "linecolor": "white",
            "ticks": ""
           }
          },
          "title": {
           "x": 0.05
          },
          "xaxis": {
           "automargin": true,
           "gridcolor": "white",
           "linecolor": "white",
           "ticks": "",
           "title": {
            "standoff": 15
           },
           "zerolinecolor": "white",
           "zerolinewidth": 2
          },
          "yaxis": {
           "automargin": true,
           "gridcolor": "white",
           "linecolor": "white",
           "ticks": "",
           "title": {
            "standoff": 15
           },
           "zerolinecolor": "white",
           "zerolinewidth": 2
          }
         }
        },
        "title": {
         "text": "Preço Médio de Revenda por Ano"
        },
        "xaxis": {
         "anchor": "y",
         "domain": [
          0,
          1
         ],
         "title": {
          "text": "Ano"
         }
        },
        "yaxis": {
         "anchor": "x",
         "domain": [
          0,
          1
         ],
         "title": {
          "text": "Preço Médio Revenda"
         }
        }
       }
      },
      "text/html": [
       "<div>                            <div id=\"b0d80545-73e0-4ad6-af86-5b15e49e85f8\" class=\"plotly-graph-div\" style=\"height:525px; width:100%;\"></div>            <script type=\"text/javascript\">                require([\"plotly\"], function(Plotly) {                    window.PLOTLYENV=window.PLOTLYENV || {};                                    if (document.getElementById(\"b0d80545-73e0-4ad6-af86-5b15e49e85f8\")) {                    Plotly.newPlot(                        \"b0d80545-73e0-4ad6-af86-5b15e49e85f8\",                        [{\"hovertemplate\":\"PRODUTO=ETANOL HIDRATADO<br>Ano=%{x}<br>Pre\\u00e7o M\\u00e9dio Revenda=%{y}<extra></extra>\",\"legendgroup\":\"ETANOL HIDRATADO\",\"line\":{\"color\":\"#636efa\",\"dash\":\"solid\"},\"marker\":{\"symbol\":\"circle\"},\"mode\":\"markers+lines\",\"name\":\"ETANOL HIDRATADO\",\"orientation\":\"v\",\"showlegend\":true,\"x\":[2008,2009,2010,2011,2012,2014,2015,2016,2017,2019,2020,2021,2022],\"xaxis\":\"x\",\"y\":[1.7698407407407408,1.7748851851851852,1.9339296296296293,2.211707407407407,2.2255074074074073,2.457211111111111,2.4637037037037035,3.1250653846153846,3.2842962962962963,3.482101449275362,3.5315275590551183,5.349388888888889,5.658237037037037],\"yaxis\":\"y\",\"type\":\"scatter\",\"textposition\":\"bottom right\"},{\"hovertemplate\":\"PRODUTO=GASOLINA COMUM<br>Ano=%{x}<br>Pre\\u00e7o M\\u00e9dio Revenda=%{y}<extra></extra>\",\"legendgroup\":\"GASOLINA COMUM\",\"line\":{\"color\":\"#EF553B\",\"dash\":\"solid\"},\"marker\":{\"symbol\":\"circle\"},\"mode\":\"markers+lines\",\"name\":\"GASOLINA COMUM\",\"orientation\":\"v\",\"showlegend\":true,\"x\":[2008,2009,2010,2011,2012,2014,2015,2016,2017,2019,2020,2021,2022],\"xaxis\":\"x\",\"y\":[2.6054666666666666,2.613611111111111,2.661714285714286,2.784484251968504,2.782385185185185,3.0388888888888888,3.1062000000000003,3.7462370370370373,3.804777777777778,4.472753086419753,4.423907407407407,6.297635802469136,6.996066666666667],\"yaxis\":\"y\",\"type\":\"scatter\",\"textposition\":\"bottom right\"},{\"hovertemplate\":\"PRODUTO=GNV<br>Ano=%{x}<br>Pre\\u00e7o M\\u00e9dio Revenda=%{y}<extra></extra>\",\"legendgroup\":\"GNV\",\"line\":{\"color\":\"#00cc96\",\"dash\":\"solid\"},\"marker\":{\"symbol\":\"circle\"},\"mode\":\"markers+lines\",\"name\":\"GNV\",\"orientation\":\"v\",\"showlegend\":true,\"x\":[2008,2009,2010,2011,2012,2014,2016,2017,2019,2020,2021,2022],\"xaxis\":\"x\",\"y\":[1.6482035928143712,1.7321684782608695,1.7248163265306125,1.721605095541401,1.8007837837837837,1.994941176470588,2.3990337078651685,2.384941176470588,3.3097924528301887,3.335479452054795,4.144166666666667,4.843311111111111],\"yaxis\":\"y\",\"type\":\"scatter\",\"textposition\":\"bottom right\"},{\"hovertemplate\":\"PRODUTO=\\u00d3LEO DIESEL<br>Ano=%{x}<br>Pre\\u00e7o M\\u00e9dio Revenda=%{y}<extra></extra>\",\"legendgroup\":\"\\u00d3LEO DIESEL\",\"line\":{\"color\":\"#ab63fa\",\"dash\":\"solid\"},\"marker\":{\"symbol\":\"circle\"},\"mode\":\"markers+lines\",\"name\":\"\\u00d3LEO DIESEL\",\"orientation\":\"v\",\"showlegend\":true,\"x\":[2008,2009,2010,2011,2012,2014,2016,2017,2019,2020,2021,2022],\"xaxis\":\"x\",\"y\":[2.082357400722022,2.1099111111111113,2.0626814814814813,2.0833629629629633,2.1368798586572435,2.5674587813620073,3.116437037037037,3.4385,3.831641975308642,3.69675,5.000783068783069,6.275674074074074],\"yaxis\":\"y\",\"type\":\"scatter\",\"textposition\":\"bottom right\"},{\"hovertemplate\":\"PRODUTO=\\u00d3LEO DIESEL S10<br>Ano=%{x}<br>Pre\\u00e7o M\\u00e9dio Revenda=%{y}<extra></extra>\",\"legendgroup\":\"\\u00d3LEO DIESEL S10\",\"line\":{\"color\":\"#FFA15A\",\"dash\":\"solid\"},\"marker\":{\"symbol\":\"circle\"},\"mode\":\"markers+lines\",\"name\":\"\\u00d3LEO DIESEL S10\",\"orientation\":\"v\",\"showlegend\":true,\"x\":[2014,2016,2019,2020,2021,2022],\"xaxis\":\"x\",\"y\":[2.710377104377104,3.2563851851851853,3.89920987654321,3.767287037037037,5.04357671957672,6.340903703703704],\"yaxis\":\"y\",\"type\":\"scatter\",\"textposition\":\"bottom right\"},{\"hovertemplate\":\"PRODUTO=GASOLINA ADITIVADA<br>Ano=%{x}<br>Pre\\u00e7o M\\u00e9dio Revenda=%{y}<extra></extra>\",\"legendgroup\":\"GASOLINA ADITIVADA\",\"line\":{\"color\":\"#19d3f3\",\"dash\":\"solid\"},\"marker\":{\"symbol\":\"circle\"},\"mode\":\"markers+lines\",\"name\":\"GASOLINA ADITIVADA\",\"orientation\":\"v\",\"showlegend\":true,\"x\":[2021,2022],\"xaxis\":\"x\",\"y\":[6.427500000000001,7.13422962962963],\"yaxis\":\"y\",\"type\":\"scatter\",\"textposition\":\"bottom right\"}],                        {\"template\":{\"data\":{\"histogram2dcontour\":[{\"type\":\"histogram2dcontour\",\"colorbar\":{\"outlinewidth\":0,\"ticks\":\"\"},\"colorscale\":[[0.0,\"#0d0887\"],[0.1111111111111111,\"#46039f\"],[0.2222222222222222,\"#7201a8\"],[0.3333333333333333,\"#9c179e\"],[0.4444444444444444,\"#bd3786\"],[0.5555555555555556,\"#d8576b\"],[0.6666666666666666,\"#ed7953\"],[0.7777777777777778,\"#fb9f3a\"],[0.8888888888888888,\"#fdca26\"],[1.0,\"#f0f921\"]]}],\"choropleth\":[{\"type\":\"choropleth\",\"colorbar\":{\"outlinewidth\":0,\"ticks\":\"\"}}],\"histogram2d\":[{\"type\":\"histogram2d\",\"colorbar\":{\"outlinewidth\":0,\"ticks\":\"\"},\"colorscale\":[[0.0,\"#0d0887\"],[0.1111111111111111,\"#46039f\"],[0.2222222222222222,\"#7201a8\"],[0.3333333333333333,\"#9c179e\"],[0.4444444444444444,\"#bd3786\"],[0.5555555555555556,\"#d8576b\"],[0.6666666666666666,\"#ed7953\"],[0.7777777777777778,\"#fb9f3a\"],[0.8888888888888888,\"#fdca26\"],[1.0,\"#f0f921\"]]}],\"heatmap\":[{\"type\":\"heatmap\",\"colorbar\":{\"outlinewidth\":0,\"ticks\":\"\"},\"colorscale\":[[0.0,\"#0d0887\"],[0.1111111111111111,\"#46039f\"],[0.2222222222222222,\"#7201a8\"],[0.3333333333333333,\"#9c179e\"],[0.4444444444444444,\"#bd3786\"],[0.5555555555555556,\"#d8576b\"],[0.6666666666666666,\"#ed7953\"],[0.7777777777777778,\"#fb9f3a\"],[0.8888888888888888,\"#fdca26\"],[1.0,\"#f0f921\"]]}],\"heatmapgl\":[{\"type\":\"heatmapgl\",\"colorbar\":{\"outlinewidth\":0,\"ticks\":\"\"},\"colorscale\":[[0.0,\"#0d0887\"],[0.1111111111111111,\"#46039f\"],[0.2222222222222222,\"#7201a8\"],[0.3333333333333333,\"#9c179e\"],[0.4444444444444444,\"#bd3786\"],[0.5555555555555556,\"#d8576b\"],[0.6666666666666666,\"#ed7953\"],[0.7777777777777778,\"#fb9f3a\"],[0.8888888888888888,\"#fdca26\"],[1.0,\"#f0f921\"]]}],\"contourcarpet\":[{\"type\":\"contourcarpet\",\"colorbar\":{\"outlinewidth\":0,\"ticks\":\"\"}}],\"contour\":[{\"type\":\"contour\",\"colorbar\":{\"outlinewidth\":0,\"ticks\":\"\"},\"colorscale\":[[0.0,\"#0d0887\"],[0.1111111111111111,\"#46039f\"],[0.2222222222222222,\"#7201a8\"],[0.3333333333333333,\"#9c179e\"],[0.4444444444444444,\"#bd3786\"],[0.5555555555555556,\"#d8576b\"],[0.6666666666666666,\"#ed7953\"],[0.7777777777777778,\"#fb9f3a\"],[0.8888888888888888,\"#fdca26\"],[1.0,\"#f0f921\"]]}],\"surface\":[{\"type\":\"surface\",\"colorbar\":{\"outlinewidth\":0,\"ticks\":\"\"},\"colorscale\":[[0.0,\"#0d0887\"],[0.1111111111111111,\"#46039f\"],[0.2222222222222222,\"#7201a8\"],[0.3333333333333333,\"#9c179e\"],[0.4444444444444444,\"#bd3786\"],[0.5555555555555556,\"#d8576b\"],[0.6666666666666666,\"#ed7953\"],[0.7777777777777778,\"#fb9f3a\"],[0.8888888888888888,\"#fdca26\"],[1.0,\"#f0f921\"]]}],\"mesh3d\":[{\"type\":\"mesh3d\",\"colorbar\":{\"outlinewidth\":0,\"ticks\":\"\"}}],\"scatter\":[{\"fillpattern\":{\"fillmode\":\"overlay\",\"size\":10,\"solidity\":0.2},\"type\":\"scatter\"}],\"parcoords\":[{\"type\":\"parcoords\",\"line\":{\"colorbar\":{\"outlinewidth\":0,\"ticks\":\"\"}}}],\"scatterpolargl\":[{\"type\":\"scatterpolargl\",\"marker\":{\"colorbar\":{\"outlinewidth\":0,\"ticks\":\"\"}}}],\"bar\":[{\"error_x\":{\"color\":\"#2a3f5f\"},\"error_y\":{\"color\":\"#2a3f5f\"},\"marker\":{\"line\":{\"color\":\"#E5ECF6\",\"width\":0.5},\"pattern\":{\"fillmode\":\"overlay\",\"size\":10,\"solidity\":0.2}},\"type\":\"bar\"}],\"scattergeo\":[{\"type\":\"scattergeo\",\"marker\":{\"colorbar\":{\"outlinewidth\":0,\"ticks\":\"\"}}}],\"scatterpolar\":[{\"type\":\"scatterpolar\",\"marker\":{\"colorbar\":{\"outlinewidth\":0,\"ticks\":\"\"}}}],\"histogram\":[{\"marker\":{\"pattern\":{\"fillmode\":\"overlay\",\"size\":10,\"solidity\":0.2}},\"type\":\"histogram\"}],\"scattergl\":[{\"type\":\"scattergl\",\"marker\":{\"colorbar\":{\"outlinewidth\":0,\"ticks\":\"\"}}}],\"scatter3d\":[{\"type\":\"scatter3d\",\"line\":{\"colorbar\":{\"outlinewidth\":0,\"ticks\":\"\"}},\"marker\":{\"colorbar\":{\"outlinewidth\":0,\"ticks\":\"\"}}}],\"scattermapbox\":[{\"type\":\"scattermapbox\",\"marker\":{\"colorbar\":{\"outlinewidth\":0,\"ticks\":\"\"}}}],\"scatterternary\":[{\"type\":\"scatterternary\",\"marker\":{\"colorbar\":{\"outlinewidth\":0,\"ticks\":\"\"}}}],\"scattercarpet\":[{\"type\":\"scattercarpet\",\"marker\":{\"colorbar\":{\"outlinewidth\":0,\"ticks\":\"\"}}}],\"carpet\":[{\"aaxis\":{\"endlinecolor\":\"#2a3f5f\",\"gridcolor\":\"white\",\"linecolor\":\"white\",\"minorgridcolor\":\"white\",\"startlinecolor\":\"#2a3f5f\"},\"baxis\":{\"endlinecolor\":\"#2a3f5f\",\"gridcolor\":\"white\",\"linecolor\":\"white\",\"minorgridcolor\":\"white\",\"startlinecolor\":\"#2a3f5f\"},\"type\":\"carpet\"}],\"table\":[{\"cells\":{\"fill\":{\"color\":\"#EBF0F8\"},\"line\":{\"color\":\"white\"}},\"header\":{\"fill\":{\"color\":\"#C8D4E3\"},\"line\":{\"color\":\"white\"}},\"type\":\"table\"}],\"barpolar\":[{\"marker\":{\"line\":{\"color\":\"#E5ECF6\",\"width\":0.5},\"pattern\":{\"fillmode\":\"overlay\",\"size\":10,\"solidity\":0.2}},\"type\":\"barpolar\"}],\"pie\":[{\"automargin\":true,\"type\":\"pie\"}]},\"layout\":{\"autotypenumbers\":\"strict\",\"colorway\":[\"#636efa\",\"#EF553B\",\"#00cc96\",\"#ab63fa\",\"#FFA15A\",\"#19d3f3\",\"#FF6692\",\"#B6E880\",\"#FF97FF\",\"#FECB52\"],\"font\":{\"color\":\"#2a3f5f\"},\"hovermode\":\"closest\",\"hoverlabel\":{\"align\":\"left\"},\"paper_bgcolor\":\"white\",\"plot_bgcolor\":\"#E5ECF6\",\"polar\":{\"bgcolor\":\"#E5ECF6\",\"angularaxis\":{\"gridcolor\":\"white\",\"linecolor\":\"white\",\"ticks\":\"\"},\"radialaxis\":{\"gridcolor\":\"white\",\"linecolor\":\"white\",\"ticks\":\"\"}},\"ternary\":{\"bgcolor\":\"#E5ECF6\",\"aaxis\":{\"gridcolor\":\"white\",\"linecolor\":\"white\",\"ticks\":\"\"},\"baxis\":{\"gridcolor\":\"white\",\"linecolor\":\"white\",\"ticks\":\"\"},\"caxis\":{\"gridcolor\":\"white\",\"linecolor\":\"white\",\"ticks\":\"\"}},\"coloraxis\":{\"colorbar\":{\"outlinewidth\":0,\"ticks\":\"\"}},\"colorscale\":{\"sequential\":[[0.0,\"#0d0887\"],[0.1111111111111111,\"#46039f\"],[0.2222222222222222,\"#7201a8\"],[0.3333333333333333,\"#9c179e\"],[0.4444444444444444,\"#bd3786\"],[0.5555555555555556,\"#d8576b\"],[0.6666666666666666,\"#ed7953\"],[0.7777777777777778,\"#fb9f3a\"],[0.8888888888888888,\"#fdca26\"],[1.0,\"#f0f921\"]],\"sequentialminus\":[[0.0,\"#0d0887\"],[0.1111111111111111,\"#46039f\"],[0.2222222222222222,\"#7201a8\"],[0.3333333333333333,\"#9c179e\"],[0.4444444444444444,\"#bd3786\"],[0.5555555555555556,\"#d8576b\"],[0.6666666666666666,\"#ed7953\"],[0.7777777777777778,\"#fb9f3a\"],[0.8888888888888888,\"#fdca26\"],[1.0,\"#f0f921\"]],\"diverging\":[[0,\"#8e0152\"],[0.1,\"#c51b7d\"],[0.2,\"#de77ae\"],[0.3,\"#f1b6da\"],[0.4,\"#fde0ef\"],[0.5,\"#f7f7f7\"],[0.6,\"#e6f5d0\"],[0.7,\"#b8e186\"],[0.8,\"#7fbc41\"],[0.9,\"#4d9221\"],[1,\"#276419\"]]},\"xaxis\":{\"gridcolor\":\"white\",\"linecolor\":\"white\",\"ticks\":\"\",\"title\":{\"standoff\":15},\"zerolinecolor\":\"white\",\"automargin\":true,\"zerolinewidth\":2},\"yaxis\":{\"gridcolor\":\"white\",\"linecolor\":\"white\",\"ticks\":\"\",\"title\":{\"standoff\":15},\"zerolinecolor\":\"white\",\"automargin\":true,\"zerolinewidth\":2},\"scene\":{\"xaxis\":{\"backgroundcolor\":\"#E5ECF6\",\"gridcolor\":\"white\",\"linecolor\":\"white\",\"showbackground\":true,\"ticks\":\"\",\"zerolinecolor\":\"white\",\"gridwidth\":2},\"yaxis\":{\"backgroundcolor\":\"#E5ECF6\",\"gridcolor\":\"white\",\"linecolor\":\"white\",\"showbackground\":true,\"ticks\":\"\",\"zerolinecolor\":\"white\",\"gridwidth\":2},\"zaxis\":{\"backgroundcolor\":\"#E5ECF6\",\"gridcolor\":\"white\",\"linecolor\":\"white\",\"showbackground\":true,\"ticks\":\"\",\"zerolinecolor\":\"white\",\"gridwidth\":2}},\"shapedefaults\":{\"line\":{\"color\":\"#2a3f5f\"}},\"annotationdefaults\":{\"arrowcolor\":\"#2a3f5f\",\"arrowhead\":0,\"arrowwidth\":1},\"geo\":{\"bgcolor\":\"white\",\"landcolor\":\"#E5ECF6\",\"subunitcolor\":\"white\",\"showland\":true,\"showlakes\":true,\"lakecolor\":\"white\"},\"title\":{\"x\":0.05},\"mapbox\":{\"style\":\"light\"}}},\"xaxis\":{\"anchor\":\"y\",\"domain\":[0.0,1.0],\"title\":{\"text\":\"Ano\"}},\"yaxis\":{\"anchor\":\"x\",\"domain\":[0.0,1.0],\"title\":{\"text\":\"Pre\\u00e7o M\\u00e9dio Revenda\"}},\"legend\":{\"title\":{\"text\":\"PRODUTO\"},\"tracegroupgap\":0},\"title\":{\"text\":\"Pre\\u00e7o M\\u00e9dio de Revenda por Ano\"}},                        {\"responsive\": true}                    ).then(function(){\n",
       "                            \n",
       "var gd = document.getElementById('b0d80545-73e0-4ad6-af86-5b15e49e85f8');\n",
       "var x = new MutationObserver(function (mutations, observer) {{\n",
       "        var display = window.getComputedStyle(gd).display;\n",
       "        if (!display || display === 'none') {{\n",
       "            console.log([gd, 'removed!']);\n",
       "            Plotly.purge(gd);\n",
       "            observer.disconnect();\n",
       "        }}\n",
       "}});\n",
       "\n",
       "// Listen for the removal of the full notebook cells\n",
       "var notebookContainer = gd.closest('#notebook-container');\n",
       "if (notebookContainer) {{\n",
       "    x.observe(notebookContainer, {childList: true});\n",
       "}}\n",
       "\n",
       "// Listen for the clearing of the current output cell\n",
       "var outputEl = gd.closest('.output');\n",
       "if (outputEl) {{\n",
       "    x.observe(outputEl, {childList: true});\n",
       "}}\n",
       "\n",
       "                        })                };                });            </script>        </div>"
      ]
     },
     "metadata": {},
     "output_type": "display_data"
    }
   ],
   "source": [
    "grafico_prod_ano = px.line(vendas_produto_ano, x=\"ANO\", y=\"PREÇO MÉDIO REVENDA\", color=\"PRODUTO\",\n",
    "                          title = \"Preço Médio de Revenda por Ano\",markers=True,\n",
    "                   labels={'ANO':'Ano', 'PREÇO MÉDIO REVENDA':'Preço Médio Revenda'})\n",
    "grafico_prod_ano.update_traces(textposition=\"bottom right\")\n",
    "grafico_prod_ano.show()"
   ]
  },
  {
   "cell_type": "code",
   "execution_count": 172,
   "id": "3b7cb163",
   "metadata": {},
   "outputs": [
    {
     "data": {
      "text/html": [
       "<div>\n",
       "<style scoped>\n",
       "    .dataframe tbody tr th:only-of-type {\n",
       "        vertical-align: middle;\n",
       "    }\n",
       "\n",
       "    .dataframe tbody tr th {\n",
       "        vertical-align: top;\n",
       "    }\n",
       "\n",
       "    .dataframe thead th {\n",
       "        text-align: right;\n",
       "    }\n",
       "</style>\n",
       "<table border=\"1\" class=\"dataframe\">\n",
       "  <thead>\n",
       "    <tr style=\"text-align: right;\">\n",
       "      <th></th>\n",
       "      <th>REGIÃO</th>\n",
       "      <th>PREÇO MÉDIO REVENDA</th>\n",
       "    </tr>\n",
       "  </thead>\n",
       "  <tbody>\n",
       "    <tr>\n",
       "      <th>0</th>\n",
       "      <td>NORTE</td>\n",
       "      <td>3.353641</td>\n",
       "    </tr>\n",
       "    <tr>\n",
       "      <th>1</th>\n",
       "      <td>NORDESTE</td>\n",
       "      <td>3.066076</td>\n",
       "    </tr>\n",
       "    <tr>\n",
       "      <th>2</th>\n",
       "      <td>CENTRO OESTE</td>\n",
       "      <td>3.095793</td>\n",
       "    </tr>\n",
       "    <tr>\n",
       "      <th>3</th>\n",
       "      <td>SUDESTE</td>\n",
       "      <td>2.963252</td>\n",
       "    </tr>\n",
       "    <tr>\n",
       "      <th>4</th>\n",
       "      <td>SUL</td>\n",
       "      <td>3.001443</td>\n",
       "    </tr>\n",
       "  </tbody>\n",
       "</table>\n",
       "</div>"
      ],
      "text/plain": [
       "         REGIÃO  PREÇO MÉDIO REVENDA\n",
       "0         NORTE             3.353641\n",
       "1      NORDESTE             3.066076\n",
       "2  CENTRO OESTE             3.095793\n",
       "3       SUDESTE             2.963252\n",
       "4           SUL             3.001443"
      ]
     },
     "metadata": {},
     "output_type": "display_data"
    }
   ],
   "source": [
    "#preço médio de revenda por região\n",
    "vendas_regiao = df_prc_comb.groupby([\"REGIÃO\"], sort=False).agg({'PREÇO MÉDIO REVENDA': np.mean}).reset_index()\n",
    "display(vendas_regiao)"
   ]
  },
  {
   "cell_type": "code",
   "execution_count": 173,
   "id": "0d8917ea",
   "metadata": {},
   "outputs": [
    {
     "data": {
      "application/vnd.plotly.v1+json": {
       "config": {
        "plotlyServerURL": "https://plot.ly"
       },
       "data": [
        {
         "alignmentgroup": "True",
         "hovertemplate": "Região=%{x}<br>Preço Médio Revenda=%{y}<extra></extra>",
         "legendgroup": "NORTE",
         "marker": {
          "color": "#636efa",
          "pattern": {
           "shape": ""
          }
         },
         "name": "NORTE",
         "offsetgroup": "NORTE",
         "orientation": "v",
         "showlegend": true,
         "textangle": 0,
         "textposition": "outside",
         "texttemplate": "%{y:.3s}",
         "type": "bar",
         "x": [
          "NORTE"
         ],
         "xaxis": "x",
         "y": [
          3.35364118895966
         ],
         "yaxis": "y"
        },
        {
         "alignmentgroup": "True",
         "hovertemplate": "Região=%{x}<br>Preço Médio Revenda=%{y}<extra></extra>",
         "legendgroup": "NORDESTE",
         "marker": {
          "color": "#EF553B",
          "pattern": {
           "shape": ""
          }
         },
         "name": "NORDESTE",
         "offsetgroup": "NORDESTE",
         "orientation": "v",
         "showlegend": true,
         "textangle": 0,
         "textposition": "outside",
         "texttemplate": "%{y:.3s}",
         "type": "bar",
         "x": [
          "NORDESTE"
         ],
         "xaxis": "x",
         "y": [
          3.066076093128904
         ],
         "yaxis": "y"
        },
        {
         "alignmentgroup": "True",
         "hovertemplate": "Região=%{x}<br>Preço Médio Revenda=%{y}<extra></extra>",
         "legendgroup": "CENTRO OESTE",
         "marker": {
          "color": "#00cc96",
          "pattern": {
           "shape": ""
          }
         },
         "name": "CENTRO OESTE",
         "offsetgroup": "CENTRO OESTE",
         "orientation": "v",
         "showlegend": true,
         "textangle": 0,
         "textposition": "outside",
         "texttemplate": "%{y:.3s}",
         "type": "bar",
         "x": [
          "CENTRO OESTE"
         ],
         "xaxis": "x",
         "y": [
          3.095792780748663
         ],
         "yaxis": "y"
        },
        {
         "alignmentgroup": "True",
         "hovertemplate": "Região=%{x}<br>Preço Médio Revenda=%{y}<extra></extra>",
         "legendgroup": "SUDESTE",
         "marker": {
          "color": "#ab63fa",
          "pattern": {
           "shape": ""
          }
         },
         "name": "SUDESTE",
         "offsetgroup": "SUDESTE",
         "orientation": "v",
         "showlegend": true,
         "textangle": 0,
         "textposition": "outside",
         "texttemplate": "%{y:.3s}",
         "type": "bar",
         "x": [
          "SUDESTE"
         ],
         "xaxis": "x",
         "y": [
          2.9632518248175184
         ],
         "yaxis": "y"
        },
        {
         "alignmentgroup": "True",
         "hovertemplate": "Região=%{x}<br>Preço Médio Revenda=%{y}<extra></extra>",
         "legendgroup": "SUL",
         "marker": {
          "color": "#FFA15A",
          "pattern": {
           "shape": ""
          }
         },
         "name": "SUL",
         "offsetgroup": "SUL",
         "orientation": "v",
         "showlegend": true,
         "textangle": 0,
         "textposition": "outside",
         "texttemplate": "%{y:.3s}",
         "type": "bar",
         "x": [
          "SUL"
         ],
         "xaxis": "x",
         "y": [
          3.001442903752039
         ],
         "yaxis": "y"
        }
       ],
       "layout": {
        "barmode": "relative",
        "legend": {
         "title": {
          "text": "Região"
         },
         "tracegroupgap": 0
        },
        "template": {
         "data": {
          "bar": [
           {
            "error_x": {
             "color": "#2a3f5f"
            },
            "error_y": {
             "color": "#2a3f5f"
            },
            "marker": {
             "line": {
              "color": "#E5ECF6",
              "width": 0.5
             },
             "pattern": {
              "fillmode": "overlay",
              "size": 10,
              "solidity": 0.2
             }
            },
            "type": "bar"
           }
          ],
          "barpolar": [
           {
            "marker": {
             "line": {
              "color": "#E5ECF6",
              "width": 0.5
             },
             "pattern": {
              "fillmode": "overlay",
              "size": 10,
              "solidity": 0.2
             }
            },
            "type": "barpolar"
           }
          ],
          "carpet": [
           {
            "aaxis": {
             "endlinecolor": "#2a3f5f",
             "gridcolor": "white",
             "linecolor": "white",
             "minorgridcolor": "white",
             "startlinecolor": "#2a3f5f"
            },
            "baxis": {
             "endlinecolor": "#2a3f5f",
             "gridcolor": "white",
             "linecolor": "white",
             "minorgridcolor": "white",
             "startlinecolor": "#2a3f5f"
            },
            "type": "carpet"
           }
          ],
          "choropleth": [
           {
            "colorbar": {
             "outlinewidth": 0,
             "ticks": ""
            },
            "type": "choropleth"
           }
          ],
          "contour": [
           {
            "colorbar": {
             "outlinewidth": 0,
             "ticks": ""
            },
            "colorscale": [
             [
              0,
              "#0d0887"
             ],
             [
              0.1111111111111111,
              "#46039f"
             ],
             [
              0.2222222222222222,
              "#7201a8"
             ],
             [
              0.3333333333333333,
              "#9c179e"
             ],
             [
              0.4444444444444444,
              "#bd3786"
             ],
             [
              0.5555555555555556,
              "#d8576b"
             ],
             [
              0.6666666666666666,
              "#ed7953"
             ],
             [
              0.7777777777777778,
              "#fb9f3a"
             ],
             [
              0.8888888888888888,
              "#fdca26"
             ],
             [
              1,
              "#f0f921"
             ]
            ],
            "type": "contour"
           }
          ],
          "contourcarpet": [
           {
            "colorbar": {
             "outlinewidth": 0,
             "ticks": ""
            },
            "type": "contourcarpet"
           }
          ],
          "heatmap": [
           {
            "colorbar": {
             "outlinewidth": 0,
             "ticks": ""
            },
            "colorscale": [
             [
              0,
              "#0d0887"
             ],
             [
              0.1111111111111111,
              "#46039f"
             ],
             [
              0.2222222222222222,
              "#7201a8"
             ],
             [
              0.3333333333333333,
              "#9c179e"
             ],
             [
              0.4444444444444444,
              "#bd3786"
             ],
             [
              0.5555555555555556,
              "#d8576b"
             ],
             [
              0.6666666666666666,
              "#ed7953"
             ],
             [
              0.7777777777777778,
              "#fb9f3a"
             ],
             [
              0.8888888888888888,
              "#fdca26"
             ],
             [
              1,
              "#f0f921"
             ]
            ],
            "type": "heatmap"
           }
          ],
          "heatmapgl": [
           {
            "colorbar": {
             "outlinewidth": 0,
             "ticks": ""
            },
            "colorscale": [
             [
              0,
              "#0d0887"
             ],
             [
              0.1111111111111111,
              "#46039f"
             ],
             [
              0.2222222222222222,
              "#7201a8"
             ],
             [
              0.3333333333333333,
              "#9c179e"
             ],
             [
              0.4444444444444444,
              "#bd3786"
             ],
             [
              0.5555555555555556,
              "#d8576b"
             ],
             [
              0.6666666666666666,
              "#ed7953"
             ],
             [
              0.7777777777777778,
              "#fb9f3a"
             ],
             [
              0.8888888888888888,
              "#fdca26"
             ],
             [
              1,
              "#f0f921"
             ]
            ],
            "type": "heatmapgl"
           }
          ],
          "histogram": [
           {
            "marker": {
             "pattern": {
              "fillmode": "overlay",
              "size": 10,
              "solidity": 0.2
             }
            },
            "type": "histogram"
           }
          ],
          "histogram2d": [
           {
            "colorbar": {
             "outlinewidth": 0,
             "ticks": ""
            },
            "colorscale": [
             [
              0,
              "#0d0887"
             ],
             [
              0.1111111111111111,
              "#46039f"
             ],
             [
              0.2222222222222222,
              "#7201a8"
             ],
             [
              0.3333333333333333,
              "#9c179e"
             ],
             [
              0.4444444444444444,
              "#bd3786"
             ],
             [
              0.5555555555555556,
              "#d8576b"
             ],
             [
              0.6666666666666666,
              "#ed7953"
             ],
             [
              0.7777777777777778,
              "#fb9f3a"
             ],
             [
              0.8888888888888888,
              "#fdca26"
             ],
             [
              1,
              "#f0f921"
             ]
            ],
            "type": "histogram2d"
           }
          ],
          "histogram2dcontour": [
           {
            "colorbar": {
             "outlinewidth": 0,
             "ticks": ""
            },
            "colorscale": [
             [
              0,
              "#0d0887"
             ],
             [
              0.1111111111111111,
              "#46039f"
             ],
             [
              0.2222222222222222,
              "#7201a8"
             ],
             [
              0.3333333333333333,
              "#9c179e"
             ],
             [
              0.4444444444444444,
              "#bd3786"
             ],
             [
              0.5555555555555556,
              "#d8576b"
             ],
             [
              0.6666666666666666,
              "#ed7953"
             ],
             [
              0.7777777777777778,
              "#fb9f3a"
             ],
             [
              0.8888888888888888,
              "#fdca26"
             ],
             [
              1,
              "#f0f921"
             ]
            ],
            "type": "histogram2dcontour"
           }
          ],
          "mesh3d": [
           {
            "colorbar": {
             "outlinewidth": 0,
             "ticks": ""
            },
            "type": "mesh3d"
           }
          ],
          "parcoords": [
           {
            "line": {
             "colorbar": {
              "outlinewidth": 0,
              "ticks": ""
             }
            },
            "type": "parcoords"
           }
          ],
          "pie": [
           {
            "automargin": true,
            "type": "pie"
           }
          ],
          "scatter": [
           {
            "fillpattern": {
             "fillmode": "overlay",
             "size": 10,
             "solidity": 0.2
            },
            "type": "scatter"
           }
          ],
          "scatter3d": [
           {
            "line": {
             "colorbar": {
              "outlinewidth": 0,
              "ticks": ""
             }
            },
            "marker": {
             "colorbar": {
              "outlinewidth": 0,
              "ticks": ""
             }
            },
            "type": "scatter3d"
           }
          ],
          "scattercarpet": [
           {
            "marker": {
             "colorbar": {
              "outlinewidth": 0,
              "ticks": ""
             }
            },
            "type": "scattercarpet"
           }
          ],
          "scattergeo": [
           {
            "marker": {
             "colorbar": {
              "outlinewidth": 0,
              "ticks": ""
             }
            },
            "type": "scattergeo"
           }
          ],
          "scattergl": [
           {
            "marker": {
             "colorbar": {
              "outlinewidth": 0,
              "ticks": ""
             }
            },
            "type": "scattergl"
           }
          ],
          "scattermapbox": [
           {
            "marker": {
             "colorbar": {
              "outlinewidth": 0,
              "ticks": ""
             }
            },
            "type": "scattermapbox"
           }
          ],
          "scatterpolar": [
           {
            "marker": {
             "colorbar": {
              "outlinewidth": 0,
              "ticks": ""
             }
            },
            "type": "scatterpolar"
           }
          ],
          "scatterpolargl": [
           {
            "marker": {
             "colorbar": {
              "outlinewidth": 0,
              "ticks": ""
             }
            },
            "type": "scatterpolargl"
           }
          ],
          "scatterternary": [
           {
            "marker": {
             "colorbar": {
              "outlinewidth": 0,
              "ticks": ""
             }
            },
            "type": "scatterternary"
           }
          ],
          "surface": [
           {
            "colorbar": {
             "outlinewidth": 0,
             "ticks": ""
            },
            "colorscale": [
             [
              0,
              "#0d0887"
             ],
             [
              0.1111111111111111,
              "#46039f"
             ],
             [
              0.2222222222222222,
              "#7201a8"
             ],
             [
              0.3333333333333333,
              "#9c179e"
             ],
             [
              0.4444444444444444,
              "#bd3786"
             ],
             [
              0.5555555555555556,
              "#d8576b"
             ],
             [
              0.6666666666666666,
              "#ed7953"
             ],
             [
              0.7777777777777778,
              "#fb9f3a"
             ],
             [
              0.8888888888888888,
              "#fdca26"
             ],
             [
              1,
              "#f0f921"
             ]
            ],
            "type": "surface"
           }
          ],
          "table": [
           {
            "cells": {
             "fill": {
              "color": "#EBF0F8"
             },
             "line": {
              "color": "white"
             }
            },
            "header": {
             "fill": {
              "color": "#C8D4E3"
             },
             "line": {
              "color": "white"
             }
            },
            "type": "table"
           }
          ]
         },
         "layout": {
          "annotationdefaults": {
           "arrowcolor": "#2a3f5f",
           "arrowhead": 0,
           "arrowwidth": 1
          },
          "autotypenumbers": "strict",
          "coloraxis": {
           "colorbar": {
            "outlinewidth": 0,
            "ticks": ""
           }
          },
          "colorscale": {
           "diverging": [
            [
             0,
             "#8e0152"
            ],
            [
             0.1,
             "#c51b7d"
            ],
            [
             0.2,
             "#de77ae"
            ],
            [
             0.3,
             "#f1b6da"
            ],
            [
             0.4,
             "#fde0ef"
            ],
            [
             0.5,
             "#f7f7f7"
            ],
            [
             0.6,
             "#e6f5d0"
            ],
            [
             0.7,
             "#b8e186"
            ],
            [
             0.8,
             "#7fbc41"
            ],
            [
             0.9,
             "#4d9221"
            ],
            [
             1,
             "#276419"
            ]
           ],
           "sequential": [
            [
             0,
             "#0d0887"
            ],
            [
             0.1111111111111111,
             "#46039f"
            ],
            [
             0.2222222222222222,
             "#7201a8"
            ],
            [
             0.3333333333333333,
             "#9c179e"
            ],
            [
             0.4444444444444444,
             "#bd3786"
            ],
            [
             0.5555555555555556,
             "#d8576b"
            ],
            [
             0.6666666666666666,
             "#ed7953"
            ],
            [
             0.7777777777777778,
             "#fb9f3a"
            ],
            [
             0.8888888888888888,
             "#fdca26"
            ],
            [
             1,
             "#f0f921"
            ]
           ],
           "sequentialminus": [
            [
             0,
             "#0d0887"
            ],
            [
             0.1111111111111111,
             "#46039f"
            ],
            [
             0.2222222222222222,
             "#7201a8"
            ],
            [
             0.3333333333333333,
             "#9c179e"
            ],
            [
             0.4444444444444444,
             "#bd3786"
            ],
            [
             0.5555555555555556,
             "#d8576b"
            ],
            [
             0.6666666666666666,
             "#ed7953"
            ],
            [
             0.7777777777777778,
             "#fb9f3a"
            ],
            [
             0.8888888888888888,
             "#fdca26"
            ],
            [
             1,
             "#f0f921"
            ]
           ]
          },
          "colorway": [
           "#636efa",
           "#EF553B",
           "#00cc96",
           "#ab63fa",
           "#FFA15A",
           "#19d3f3",
           "#FF6692",
           "#B6E880",
           "#FF97FF",
           "#FECB52"
          ],
          "font": {
           "color": "#2a3f5f"
          },
          "geo": {
           "bgcolor": "white",
           "lakecolor": "white",
           "landcolor": "#E5ECF6",
           "showlakes": true,
           "showland": true,
           "subunitcolor": "white"
          },
          "hoverlabel": {
           "align": "left"
          },
          "hovermode": "closest",
          "mapbox": {
           "style": "light"
          },
          "paper_bgcolor": "white",
          "plot_bgcolor": "#E5ECF6",
          "polar": {
           "angularaxis": {
            "gridcolor": "white",
            "linecolor": "white",
            "ticks": ""
           },
           "bgcolor": "#E5ECF6",
           "radialaxis": {
            "gridcolor": "white",
            "linecolor": "white",
            "ticks": ""
           }
          },
          "scene": {
           "xaxis": {
            "backgroundcolor": "#E5ECF6",
            "gridcolor": "white",
            "gridwidth": 2,
            "linecolor": "white",
            "showbackground": true,
            "ticks": "",
            "zerolinecolor": "white"
           },
           "yaxis": {
            "backgroundcolor": "#E5ECF6",
            "gridcolor": "white",
            "gridwidth": 2,
            "linecolor": "white",
            "showbackground": true,
            "ticks": "",
            "zerolinecolor": "white"
           },
           "zaxis": {
            "backgroundcolor": "#E5ECF6",
            "gridcolor": "white",
            "gridwidth": 2,
            "linecolor": "white",
            "showbackground": true,
            "ticks": "",
            "zerolinecolor": "white"
           }
          },
          "shapedefaults": {
           "line": {
            "color": "#2a3f5f"
           }
          },
          "ternary": {
           "aaxis": {
            "gridcolor": "white",
            "linecolor": "white",
            "ticks": ""
           },
           "baxis": {
            "gridcolor": "white",
            "linecolor": "white",
            "ticks": ""
           },
           "bgcolor": "#E5ECF6",
           "caxis": {
            "gridcolor": "white",
            "linecolor": "white",
            "ticks": ""
           }
          },
          "title": {
           "x": 0.05
          },
          "xaxis": {
           "automargin": true,
           "gridcolor": "white",
           "linecolor": "white",
           "ticks": "",
           "title": {
            "standoff": 15
           },
           "zerolinecolor": "white",
           "zerolinewidth": 2
          },
          "yaxis": {
           "automargin": true,
           "gridcolor": "white",
           "linecolor": "white",
           "ticks": "",
           "title": {
            "standoff": 15
           },
           "zerolinecolor": "white",
           "zerolinewidth": 2
          }
         }
        },
        "title": {
         "text": "Preço Médio de Revenda por Região"
        },
        "xaxis": {
         "anchor": "y",
         "categoryarray": [
          "NORTE",
          "NORDESTE",
          "CENTRO OESTE",
          "SUDESTE",
          "SUL"
         ],
         "categoryorder": "array",
         "domain": [
          0,
          1
         ],
         "title": {
          "text": "Região"
         }
        },
        "yaxis": {
         "anchor": "x",
         "domain": [
          0,
          1
         ],
         "title": {
          "text": "Preço Médio Revenda"
         }
        }
       }
      },
      "text/html": [
       "<div>                            <div id=\"77424e69-a25c-4c75-93e7-417a8dabd393\" class=\"plotly-graph-div\" style=\"height:525px; width:100%;\"></div>            <script type=\"text/javascript\">                require([\"plotly\"], function(Plotly) {                    window.PLOTLYENV=window.PLOTLYENV || {};                                    if (document.getElementById(\"77424e69-a25c-4c75-93e7-417a8dabd393\")) {                    Plotly.newPlot(                        \"77424e69-a25c-4c75-93e7-417a8dabd393\",                        [{\"alignmentgroup\":\"True\",\"hovertemplate\":\"Regi\\u00e3o=%{x}<br>Pre\\u00e7o M\\u00e9dio Revenda=%{y}<extra></extra>\",\"legendgroup\":\"NORTE\",\"marker\":{\"color\":\"#636efa\",\"pattern\":{\"shape\":\"\"}},\"name\":\"NORTE\",\"offsetgroup\":\"NORTE\",\"orientation\":\"v\",\"showlegend\":true,\"textposition\":\"outside\",\"texttemplate\":\"%{y:.3s}\",\"x\":[\"NORTE\"],\"xaxis\":\"x\",\"y\":[3.35364118895966],\"yaxis\":\"y\",\"type\":\"bar\",\"textangle\":0},{\"alignmentgroup\":\"True\",\"hovertemplate\":\"Regi\\u00e3o=%{x}<br>Pre\\u00e7o M\\u00e9dio Revenda=%{y}<extra></extra>\",\"legendgroup\":\"NORDESTE\",\"marker\":{\"color\":\"#EF553B\",\"pattern\":{\"shape\":\"\"}},\"name\":\"NORDESTE\",\"offsetgroup\":\"NORDESTE\",\"orientation\":\"v\",\"showlegend\":true,\"textposition\":\"outside\",\"texttemplate\":\"%{y:.3s}\",\"x\":[\"NORDESTE\"],\"xaxis\":\"x\",\"y\":[3.066076093128904],\"yaxis\":\"y\",\"type\":\"bar\",\"textangle\":0},{\"alignmentgroup\":\"True\",\"hovertemplate\":\"Regi\\u00e3o=%{x}<br>Pre\\u00e7o M\\u00e9dio Revenda=%{y}<extra></extra>\",\"legendgroup\":\"CENTRO OESTE\",\"marker\":{\"color\":\"#00cc96\",\"pattern\":{\"shape\":\"\"}},\"name\":\"CENTRO OESTE\",\"offsetgroup\":\"CENTRO OESTE\",\"orientation\":\"v\",\"showlegend\":true,\"textposition\":\"outside\",\"texttemplate\":\"%{y:.3s}\",\"x\":[\"CENTRO OESTE\"],\"xaxis\":\"x\",\"y\":[3.095792780748663],\"yaxis\":\"y\",\"type\":\"bar\",\"textangle\":0},{\"alignmentgroup\":\"True\",\"hovertemplate\":\"Regi\\u00e3o=%{x}<br>Pre\\u00e7o M\\u00e9dio Revenda=%{y}<extra></extra>\",\"legendgroup\":\"SUDESTE\",\"marker\":{\"color\":\"#ab63fa\",\"pattern\":{\"shape\":\"\"}},\"name\":\"SUDESTE\",\"offsetgroup\":\"SUDESTE\",\"orientation\":\"v\",\"showlegend\":true,\"textposition\":\"outside\",\"texttemplate\":\"%{y:.3s}\",\"x\":[\"SUDESTE\"],\"xaxis\":\"x\",\"y\":[2.9632518248175184],\"yaxis\":\"y\",\"type\":\"bar\",\"textangle\":0},{\"alignmentgroup\":\"True\",\"hovertemplate\":\"Regi\\u00e3o=%{x}<br>Pre\\u00e7o M\\u00e9dio Revenda=%{y}<extra></extra>\",\"legendgroup\":\"SUL\",\"marker\":{\"color\":\"#FFA15A\",\"pattern\":{\"shape\":\"\"}},\"name\":\"SUL\",\"offsetgroup\":\"SUL\",\"orientation\":\"v\",\"showlegend\":true,\"textposition\":\"outside\",\"texttemplate\":\"%{y:.3s}\",\"x\":[\"SUL\"],\"xaxis\":\"x\",\"y\":[3.001442903752039],\"yaxis\":\"y\",\"type\":\"bar\",\"textangle\":0}],                        {\"template\":{\"data\":{\"histogram2dcontour\":[{\"type\":\"histogram2dcontour\",\"colorbar\":{\"outlinewidth\":0,\"ticks\":\"\"},\"colorscale\":[[0.0,\"#0d0887\"],[0.1111111111111111,\"#46039f\"],[0.2222222222222222,\"#7201a8\"],[0.3333333333333333,\"#9c179e\"],[0.4444444444444444,\"#bd3786\"],[0.5555555555555556,\"#d8576b\"],[0.6666666666666666,\"#ed7953\"],[0.7777777777777778,\"#fb9f3a\"],[0.8888888888888888,\"#fdca26\"],[1.0,\"#f0f921\"]]}],\"choropleth\":[{\"type\":\"choropleth\",\"colorbar\":{\"outlinewidth\":0,\"ticks\":\"\"}}],\"histogram2d\":[{\"type\":\"histogram2d\",\"colorbar\":{\"outlinewidth\":0,\"ticks\":\"\"},\"colorscale\":[[0.0,\"#0d0887\"],[0.1111111111111111,\"#46039f\"],[0.2222222222222222,\"#7201a8\"],[0.3333333333333333,\"#9c179e\"],[0.4444444444444444,\"#bd3786\"],[0.5555555555555556,\"#d8576b\"],[0.6666666666666666,\"#ed7953\"],[0.7777777777777778,\"#fb9f3a\"],[0.8888888888888888,\"#fdca26\"],[1.0,\"#f0f921\"]]}],\"heatmap\":[{\"type\":\"heatmap\",\"colorbar\":{\"outlinewidth\":0,\"ticks\":\"\"},\"colorscale\":[[0.0,\"#0d0887\"],[0.1111111111111111,\"#46039f\"],[0.2222222222222222,\"#7201a8\"],[0.3333333333333333,\"#9c179e\"],[0.4444444444444444,\"#bd3786\"],[0.5555555555555556,\"#d8576b\"],[0.6666666666666666,\"#ed7953\"],[0.7777777777777778,\"#fb9f3a\"],[0.8888888888888888,\"#fdca26\"],[1.0,\"#f0f921\"]]}],\"heatmapgl\":[{\"type\":\"heatmapgl\",\"colorbar\":{\"outlinewidth\":0,\"ticks\":\"\"},\"colorscale\":[[0.0,\"#0d0887\"],[0.1111111111111111,\"#46039f\"],[0.2222222222222222,\"#7201a8\"],[0.3333333333333333,\"#9c179e\"],[0.4444444444444444,\"#bd3786\"],[0.5555555555555556,\"#d8576b\"],[0.6666666666666666,\"#ed7953\"],[0.7777777777777778,\"#fb9f3a\"],[0.8888888888888888,\"#fdca26\"],[1.0,\"#f0f921\"]]}],\"contourcarpet\":[{\"type\":\"contourcarpet\",\"colorbar\":{\"outlinewidth\":0,\"ticks\":\"\"}}],\"contour\":[{\"type\":\"contour\",\"colorbar\":{\"outlinewidth\":0,\"ticks\":\"\"},\"colorscale\":[[0.0,\"#0d0887\"],[0.1111111111111111,\"#46039f\"],[0.2222222222222222,\"#7201a8\"],[0.3333333333333333,\"#9c179e\"],[0.4444444444444444,\"#bd3786\"],[0.5555555555555556,\"#d8576b\"],[0.6666666666666666,\"#ed7953\"],[0.7777777777777778,\"#fb9f3a\"],[0.8888888888888888,\"#fdca26\"],[1.0,\"#f0f921\"]]}],\"surface\":[{\"type\":\"surface\",\"colorbar\":{\"outlinewidth\":0,\"ticks\":\"\"},\"colorscale\":[[0.0,\"#0d0887\"],[0.1111111111111111,\"#46039f\"],[0.2222222222222222,\"#7201a8\"],[0.3333333333333333,\"#9c179e\"],[0.4444444444444444,\"#bd3786\"],[0.5555555555555556,\"#d8576b\"],[0.6666666666666666,\"#ed7953\"],[0.7777777777777778,\"#fb9f3a\"],[0.8888888888888888,\"#fdca26\"],[1.0,\"#f0f921\"]]}],\"mesh3d\":[{\"type\":\"mesh3d\",\"colorbar\":{\"outlinewidth\":0,\"ticks\":\"\"}}],\"scatter\":[{\"fillpattern\":{\"fillmode\":\"overlay\",\"size\":10,\"solidity\":0.2},\"type\":\"scatter\"}],\"parcoords\":[{\"type\":\"parcoords\",\"line\":{\"colorbar\":{\"outlinewidth\":0,\"ticks\":\"\"}}}],\"scatterpolargl\":[{\"type\":\"scatterpolargl\",\"marker\":{\"colorbar\":{\"outlinewidth\":0,\"ticks\":\"\"}}}],\"bar\":[{\"error_x\":{\"color\":\"#2a3f5f\"},\"error_y\":{\"color\":\"#2a3f5f\"},\"marker\":{\"line\":{\"color\":\"#E5ECF6\",\"width\":0.5},\"pattern\":{\"fillmode\":\"overlay\",\"size\":10,\"solidity\":0.2}},\"type\":\"bar\"}],\"scattergeo\":[{\"type\":\"scattergeo\",\"marker\":{\"colorbar\":{\"outlinewidth\":0,\"ticks\":\"\"}}}],\"scatterpolar\":[{\"type\":\"scatterpolar\",\"marker\":{\"colorbar\":{\"outlinewidth\":0,\"ticks\":\"\"}}}],\"histogram\":[{\"marker\":{\"pattern\":{\"fillmode\":\"overlay\",\"size\":10,\"solidity\":0.2}},\"type\":\"histogram\"}],\"scattergl\":[{\"type\":\"scattergl\",\"marker\":{\"colorbar\":{\"outlinewidth\":0,\"ticks\":\"\"}}}],\"scatter3d\":[{\"type\":\"scatter3d\",\"line\":{\"colorbar\":{\"outlinewidth\":0,\"ticks\":\"\"}},\"marker\":{\"colorbar\":{\"outlinewidth\":0,\"ticks\":\"\"}}}],\"scattermapbox\":[{\"type\":\"scattermapbox\",\"marker\":{\"colorbar\":{\"outlinewidth\":0,\"ticks\":\"\"}}}],\"scatterternary\":[{\"type\":\"scatterternary\",\"marker\":{\"colorbar\":{\"outlinewidth\":0,\"ticks\":\"\"}}}],\"scattercarpet\":[{\"type\":\"scattercarpet\",\"marker\":{\"colorbar\":{\"outlinewidth\":0,\"ticks\":\"\"}}}],\"carpet\":[{\"aaxis\":{\"endlinecolor\":\"#2a3f5f\",\"gridcolor\":\"white\",\"linecolor\":\"white\",\"minorgridcolor\":\"white\",\"startlinecolor\":\"#2a3f5f\"},\"baxis\":{\"endlinecolor\":\"#2a3f5f\",\"gridcolor\":\"white\",\"linecolor\":\"white\",\"minorgridcolor\":\"white\",\"startlinecolor\":\"#2a3f5f\"},\"type\":\"carpet\"}],\"table\":[{\"cells\":{\"fill\":{\"color\":\"#EBF0F8\"},\"line\":{\"color\":\"white\"}},\"header\":{\"fill\":{\"color\":\"#C8D4E3\"},\"line\":{\"color\":\"white\"}},\"type\":\"table\"}],\"barpolar\":[{\"marker\":{\"line\":{\"color\":\"#E5ECF6\",\"width\":0.5},\"pattern\":{\"fillmode\":\"overlay\",\"size\":10,\"solidity\":0.2}},\"type\":\"barpolar\"}],\"pie\":[{\"automargin\":true,\"type\":\"pie\"}]},\"layout\":{\"autotypenumbers\":\"strict\",\"colorway\":[\"#636efa\",\"#EF553B\",\"#00cc96\",\"#ab63fa\",\"#FFA15A\",\"#19d3f3\",\"#FF6692\",\"#B6E880\",\"#FF97FF\",\"#FECB52\"],\"font\":{\"color\":\"#2a3f5f\"},\"hovermode\":\"closest\",\"hoverlabel\":{\"align\":\"left\"},\"paper_bgcolor\":\"white\",\"plot_bgcolor\":\"#E5ECF6\",\"polar\":{\"bgcolor\":\"#E5ECF6\",\"angularaxis\":{\"gridcolor\":\"white\",\"linecolor\":\"white\",\"ticks\":\"\"},\"radialaxis\":{\"gridcolor\":\"white\",\"linecolor\":\"white\",\"ticks\":\"\"}},\"ternary\":{\"bgcolor\":\"#E5ECF6\",\"aaxis\":{\"gridcolor\":\"white\",\"linecolor\":\"white\",\"ticks\":\"\"},\"baxis\":{\"gridcolor\":\"white\",\"linecolor\":\"white\",\"ticks\":\"\"},\"caxis\":{\"gridcolor\":\"white\",\"linecolor\":\"white\",\"ticks\":\"\"}},\"coloraxis\":{\"colorbar\":{\"outlinewidth\":0,\"ticks\":\"\"}},\"colorscale\":{\"sequential\":[[0.0,\"#0d0887\"],[0.1111111111111111,\"#46039f\"],[0.2222222222222222,\"#7201a8\"],[0.3333333333333333,\"#9c179e\"],[0.4444444444444444,\"#bd3786\"],[0.5555555555555556,\"#d8576b\"],[0.6666666666666666,\"#ed7953\"],[0.7777777777777778,\"#fb9f3a\"],[0.8888888888888888,\"#fdca26\"],[1.0,\"#f0f921\"]],\"sequentialminus\":[[0.0,\"#0d0887\"],[0.1111111111111111,\"#46039f\"],[0.2222222222222222,\"#7201a8\"],[0.3333333333333333,\"#9c179e\"],[0.4444444444444444,\"#bd3786\"],[0.5555555555555556,\"#d8576b\"],[0.6666666666666666,\"#ed7953\"],[0.7777777777777778,\"#fb9f3a\"],[0.8888888888888888,\"#fdca26\"],[1.0,\"#f0f921\"]],\"diverging\":[[0,\"#8e0152\"],[0.1,\"#c51b7d\"],[0.2,\"#de77ae\"],[0.3,\"#f1b6da\"],[0.4,\"#fde0ef\"],[0.5,\"#f7f7f7\"],[0.6,\"#e6f5d0\"],[0.7,\"#b8e186\"],[0.8,\"#7fbc41\"],[0.9,\"#4d9221\"],[1,\"#276419\"]]},\"xaxis\":{\"gridcolor\":\"white\",\"linecolor\":\"white\",\"ticks\":\"\",\"title\":{\"standoff\":15},\"zerolinecolor\":\"white\",\"automargin\":true,\"zerolinewidth\":2},\"yaxis\":{\"gridcolor\":\"white\",\"linecolor\":\"white\",\"ticks\":\"\",\"title\":{\"standoff\":15},\"zerolinecolor\":\"white\",\"automargin\":true,\"zerolinewidth\":2},\"scene\":{\"xaxis\":{\"backgroundcolor\":\"#E5ECF6\",\"gridcolor\":\"white\",\"linecolor\":\"white\",\"showbackground\":true,\"ticks\":\"\",\"zerolinecolor\":\"white\",\"gridwidth\":2},\"yaxis\":{\"backgroundcolor\":\"#E5ECF6\",\"gridcolor\":\"white\",\"linecolor\":\"white\",\"showbackground\":true,\"ticks\":\"\",\"zerolinecolor\":\"white\",\"gridwidth\":2},\"zaxis\":{\"backgroundcolor\":\"#E5ECF6\",\"gridcolor\":\"white\",\"linecolor\":\"white\",\"showbackground\":true,\"ticks\":\"\",\"zerolinecolor\":\"white\",\"gridwidth\":2}},\"shapedefaults\":{\"line\":{\"color\":\"#2a3f5f\"}},\"annotationdefaults\":{\"arrowcolor\":\"#2a3f5f\",\"arrowhead\":0,\"arrowwidth\":1},\"geo\":{\"bgcolor\":\"white\",\"landcolor\":\"#E5ECF6\",\"subunitcolor\":\"white\",\"showland\":true,\"showlakes\":true,\"lakecolor\":\"white\"},\"title\":{\"x\":0.05},\"mapbox\":{\"style\":\"light\"}}},\"xaxis\":{\"anchor\":\"y\",\"domain\":[0.0,1.0],\"title\":{\"text\":\"Regi\\u00e3o\"},\"categoryorder\":\"array\",\"categoryarray\":[\"NORTE\",\"NORDESTE\",\"CENTRO OESTE\",\"SUDESTE\",\"SUL\"]},\"yaxis\":{\"anchor\":\"x\",\"domain\":[0.0,1.0],\"title\":{\"text\":\"Pre\\u00e7o M\\u00e9dio Revenda\"}},\"legend\":{\"title\":{\"text\":\"Regi\\u00e3o\"},\"tracegroupgap\":0},\"title\":{\"text\":\"Pre\\u00e7o M\\u00e9dio de Revenda por Regi\\u00e3o\"},\"barmode\":\"relative\"},                        {\"responsive\": true}                    ).then(function(){\n",
       "                            \n",
       "var gd = document.getElementById('77424e69-a25c-4c75-93e7-417a8dabd393');\n",
       "var x = new MutationObserver(function (mutations, observer) {{\n",
       "        var display = window.getComputedStyle(gd).display;\n",
       "        if (!display || display === 'none') {{\n",
       "            console.log([gd, 'removed!']);\n",
       "            Plotly.purge(gd);\n",
       "            observer.disconnect();\n",
       "        }}\n",
       "}});\n",
       "\n",
       "// Listen for the removal of the full notebook cells\n",
       "var notebookContainer = gd.closest('#notebook-container');\n",
       "if (notebookContainer) {{\n",
       "    x.observe(notebookContainer, {childList: true});\n",
       "}}\n",
       "\n",
       "// Listen for the clearing of the current output cell\n",
       "var outputEl = gd.closest('.output');\n",
       "if (outputEl) {{\n",
       "    x.observe(outputEl, {childList: true});\n",
       "}}\n",
       "\n",
       "                        })                };                });            </script>        </div>"
      ]
     },
     "metadata": {},
     "output_type": "display_data"
    }
   ],
   "source": [
    "# Construção do gráfico para mostrar o preço médio de revenda por região\n",
    "grafico_regiao = px.bar(vendas_regiao, x=\"REGIÃO\", y=\"PREÇO MÉDIO REVENDA\", color=\"REGIÃO\", \n",
    "                                          title = \"Preço Médio de Revenda por Região\", text_auto='.3s',\n",
    "                   labels={'REGIÃO':'Região', 'PREÇO MÉDIO REVENDA':'Preço Médio Revenda'})\n",
    "grafico_regiao.update_traces(textangle=0, textposition=\"outside\")\n",
    "grafico_regiao.show()"
   ]
  },
  {
   "cell_type": "code",
   "execution_count": 174,
   "id": "462eff5b",
   "metadata": {},
   "outputs": [
    {
     "data": {
      "text/html": [
       "<div>\n",
       "<style scoped>\n",
       "    .dataframe tbody tr th:only-of-type {\n",
       "        vertical-align: middle;\n",
       "    }\n",
       "\n",
       "    .dataframe tbody tr th {\n",
       "        vertical-align: top;\n",
       "    }\n",
       "\n",
       "    .dataframe thead th {\n",
       "        text-align: right;\n",
       "    }\n",
       "</style>\n",
       "<table border=\"1\" class=\"dataframe\">\n",
       "  <thead>\n",
       "    <tr style=\"text-align: right;\">\n",
       "      <th></th>\n",
       "      <th>REGIÃO</th>\n",
       "      <th>ANO</th>\n",
       "      <th>PREÇO MÉDIO REVENDA</th>\n",
       "    </tr>\n",
       "  </thead>\n",
       "  <tbody>\n",
       "    <tr>\n",
       "      <th>0</th>\n",
       "      <td>NORTE</td>\n",
       "      <td>2008</td>\n",
       "      <td>2.251407</td>\n",
       "    </tr>\n",
       "    <tr>\n",
       "      <th>1</th>\n",
       "      <td>NORDESTE</td>\n",
       "      <td>2008</td>\n",
       "      <td>2.051575</td>\n",
       "    </tr>\n",
       "    <tr>\n",
       "      <th>2</th>\n",
       "      <td>CENTRO OESTE</td>\n",
       "      <td>2008</td>\n",
       "      <td>2.052390</td>\n",
       "    </tr>\n",
       "    <tr>\n",
       "      <th>3</th>\n",
       "      <td>SUDESTE</td>\n",
       "      <td>2008</td>\n",
       "      <td>1.920195</td>\n",
       "    </tr>\n",
       "    <tr>\n",
       "      <th>4</th>\n",
       "      <td>SUL</td>\n",
       "      <td>2008</td>\n",
       "      <td>1.969714</td>\n",
       "    </tr>\n",
       "  </tbody>\n",
       "</table>\n",
       "</div>"
      ],
      "text/plain": [
       "         REGIÃO   ANO  PREÇO MÉDIO REVENDA\n",
       "0         NORTE  2008             2.251407\n",
       "1      NORDESTE  2008             2.051575\n",
       "2  CENTRO OESTE  2008             2.052390\n",
       "3       SUDESTE  2008             1.920195\n",
       "4           SUL  2008             1.969714"
      ]
     },
     "execution_count": 174,
     "metadata": {},
     "output_type": "execute_result"
    }
   ],
   "source": [
    "#preço médio de revenda por ano e regiao\n",
    "vendas_ano_regiao = df_prc_comb.groupby(['REGIÃO','ANO'], sort=False).agg({'PREÇO MÉDIO REVENDA': np.mean}).reset_index()\n",
    "vendas_ano_regiao.head()"
   ]
  },
  {
   "cell_type": "code",
   "execution_count": 175,
   "id": "d666853d",
   "metadata": {},
   "outputs": [
    {
     "data": {
      "application/vnd.plotly.v1+json": {
       "config": {
        "plotlyServerURL": "https://plot.ly"
       },
       "data": [
        {
         "alignmentgroup": "True",
         "hovertemplate": "Região=NORTE<br>Preço Médio Revenda=%{x}<br>ANO=%{y}<extra></extra>",
         "legendgroup": "NORTE",
         "marker": {
          "color": "#636efa",
          "pattern": {
           "shape": ""
          }
         },
         "name": "NORTE",
         "offsetgroup": "NORTE",
         "orientation": "h",
         "showlegend": true,
         "textangle": 0,
         "textposition": "outside",
         "texttemplate": "%{x:.3s}",
         "type": "bar",
         "x": [
          2.2514070796460177,
          2.2818660714285715,
          2.329969162995595,
          2.446800925925926,
          2.4740133928571426,
          2.824456666666667,
          2.9204545454545454,
          3.501110344827586,
          3.697277777777778,
          4.0790235294117645,
          3.988382113821138,
          5.602549783549784,
          6.519255555555555
         ],
         "xaxis": "x",
         "y": [
          2008,
          2009,
          2010,
          2011,
          2012,
          2014,
          2015,
          2016,
          2017,
          2019,
          2020,
          2021,
          2022
         ],
         "yaxis": "y"
        },
        {
         "alignmentgroup": "True",
         "hovertemplate": "Região=NORDESTE<br>Preço Médio Revenda=%{x}<br>ANO=%{y}<extra></extra>",
         "legendgroup": "NORDESTE",
         "marker": {
          "color": "#EF553B",
          "pattern": {
           "shape": ""
          }
         },
         "name": "NORDESTE",
         "offsetgroup": "NORDESTE",
         "orientation": "h",
         "showlegend": true,
         "textangle": 0,
         "textposition": "outside",
         "texttemplate": "%{x:.3s}",
         "type": "bar",
         "x": [
          2.051575221238938,
          2.0515739130434785,
          2.0782485549132947,
          2.1944420731707317,
          2.207414985590778,
          2.519218961625282,
          2.7456470588235296,
          3.1213668224299065,
          3.1259615384615387,
          3.834128,
          3.746977777777778,
          5.409430267062315,
          6.260570881226053
         ],
         "xaxis": "x",
         "y": [
          2008,
          2009,
          2010,
          2011,
          2012,
          2014,
          2015,
          2016,
          2017,
          2019,
          2020,
          2021,
          2022
         ],
         "yaxis": "y"
        },
        {
         "alignmentgroup": "True",
         "hovertemplate": "Região=CENTRO OESTE<br>Preço Médio Revenda=%{x}<br>ANO=%{y}<extra></extra>",
         "legendgroup": "CENTRO OESTE",
         "marker": {
          "color": "#00cc96",
          "pattern": {
           "shape": ""
          }
         },
         "name": "CENTRO OESTE",
         "offsetgroup": "CENTRO OESTE",
         "orientation": "h",
         "showlegend": true,
         "textangle": 0,
         "textposition": "outside",
         "texttemplate": "%{x:.3s}",
         "type": "bar",
         "x": [
          2.052390070921986,
          2.0889305555555553,
          2.1025172413793105,
          2.2322222222222226,
          2.2807908496732026,
          2.62910824742268,
          2.67375,
          3.1608618784530385,
          3.2368,
          3.793764705882353,
          3.673792207792208,
          5.371846153846153,
          6.18840350877193
         ],
         "xaxis": "x",
         "y": [
          2008,
          2009,
          2010,
          2011,
          2012,
          2014,
          2015,
          2016,
          2017,
          2019,
          2020,
          2021,
          2022
         ],
         "yaxis": "y"
        },
        {
         "alignmentgroup": "True",
         "hovertemplate": "Região=SUDESTE<br>Preço Médio Revenda=%{x}<br>ANO=%{y}<extra></extra>",
         "legendgroup": "SUDESTE",
         "marker": {
          "color": "#ab63fa",
          "pattern": {
           "shape": ""
          }
         },
         "name": "SUDESTE",
         "offsetgroup": "SUDESTE",
         "orientation": "h",
         "showlegend": true,
         "textangle": 0,
         "textposition": "outside",
         "texttemplate": "%{x:.3s}",
         "type": "bar",
         "x": [
          1.920194968553459,
          1.96143125,
          1.99055,
          2.1469677419354842,
          2.164,
          2.4475714285714285,
          2.649142857142857,
          2.978321608040201,
          3.0665,
          3.7355084745762714,
          3.674626506024097,
          5.257352564102565,
          6.156066666666666
         ],
         "xaxis": "x",
         "y": [
          2008,
          2009,
          2010,
          2011,
          2012,
          2014,
          2015,
          2016,
          2017,
          2019,
          2020,
          2021,
          2022
         ],
         "yaxis": "y"
        },
        {
         "alignmentgroup": "True",
         "hovertemplate": "Região=SUL<br>Preço Médio Revenda=%{x}<br>ANO=%{y}<extra></extra>",
         "legendgroup": "SUL",
         "marker": {
          "color": "#FFA15A",
          "pattern": {
           "shape": ""
          }
         },
         "name": "SUL",
         "offsetgroup": "SUL",
         "orientation": "h",
         "showlegend": true,
         "textangle": 0,
         "textposition": "outside",
         "texttemplate": "%{x:.3s}",
         "type": "bar",
         "x": [
          1.9697142857142858,
          1.9811818181818184,
          2.010282051282051,
          2.1778119658119657,
          2.2167000000000003,
          2.505871794871795,
          2.4772499999999997,
          3.03748,
          3.190111111111111,
          3.651466666666667,
          3.6555573770491803,
          5.284350427350428,
          6.210077777777778
         ],
         "xaxis": "x",
         "y": [
          2008,
          2009,
          2010,
          2011,
          2012,
          2014,
          2015,
          2016,
          2017,
          2019,
          2020,
          2021,
          2022
         ],
         "yaxis": "y"
        }
       ],
       "layout": {
        "barmode": "relative",
        "legend": {
         "title": {
          "text": "Região"
         },
         "tracegroupgap": 0
        },
        "template": {
         "data": {
          "bar": [
           {
            "error_x": {
             "color": "#2a3f5f"
            },
            "error_y": {
             "color": "#2a3f5f"
            },
            "marker": {
             "line": {
              "color": "#E5ECF6",
              "width": 0.5
             },
             "pattern": {
              "fillmode": "overlay",
              "size": 10,
              "solidity": 0.2
             }
            },
            "type": "bar"
           }
          ],
          "barpolar": [
           {
            "marker": {
             "line": {
              "color": "#E5ECF6",
              "width": 0.5
             },
             "pattern": {
              "fillmode": "overlay",
              "size": 10,
              "solidity": 0.2
             }
            },
            "type": "barpolar"
           }
          ],
          "carpet": [
           {
            "aaxis": {
             "endlinecolor": "#2a3f5f",
             "gridcolor": "white",
             "linecolor": "white",
             "minorgridcolor": "white",
             "startlinecolor": "#2a3f5f"
            },
            "baxis": {
             "endlinecolor": "#2a3f5f",
             "gridcolor": "white",
             "linecolor": "white",
             "minorgridcolor": "white",
             "startlinecolor": "#2a3f5f"
            },
            "type": "carpet"
           }
          ],
          "choropleth": [
           {
            "colorbar": {
             "outlinewidth": 0,
             "ticks": ""
            },
            "type": "choropleth"
           }
          ],
          "contour": [
           {
            "colorbar": {
             "outlinewidth": 0,
             "ticks": ""
            },
            "colorscale": [
             [
              0,
              "#0d0887"
             ],
             [
              0.1111111111111111,
              "#46039f"
             ],
             [
              0.2222222222222222,
              "#7201a8"
             ],
             [
              0.3333333333333333,
              "#9c179e"
             ],
             [
              0.4444444444444444,
              "#bd3786"
             ],
             [
              0.5555555555555556,
              "#d8576b"
             ],
             [
              0.6666666666666666,
              "#ed7953"
             ],
             [
              0.7777777777777778,
              "#fb9f3a"
             ],
             [
              0.8888888888888888,
              "#fdca26"
             ],
             [
              1,
              "#f0f921"
             ]
            ],
            "type": "contour"
           }
          ],
          "contourcarpet": [
           {
            "colorbar": {
             "outlinewidth": 0,
             "ticks": ""
            },
            "type": "contourcarpet"
           }
          ],
          "heatmap": [
           {
            "colorbar": {
             "outlinewidth": 0,
             "ticks": ""
            },
            "colorscale": [
             [
              0,
              "#0d0887"
             ],
             [
              0.1111111111111111,
              "#46039f"
             ],
             [
              0.2222222222222222,
              "#7201a8"
             ],
             [
              0.3333333333333333,
              "#9c179e"
             ],
             [
              0.4444444444444444,
              "#bd3786"
             ],
             [
              0.5555555555555556,
              "#d8576b"
             ],
             [
              0.6666666666666666,
              "#ed7953"
             ],
             [
              0.7777777777777778,
              "#fb9f3a"
             ],
             [
              0.8888888888888888,
              "#fdca26"
             ],
             [
              1,
              "#f0f921"
             ]
            ],
            "type": "heatmap"
           }
          ],
          "heatmapgl": [
           {
            "colorbar": {
             "outlinewidth": 0,
             "ticks": ""
            },
            "colorscale": [
             [
              0,
              "#0d0887"
             ],
             [
              0.1111111111111111,
              "#46039f"
             ],
             [
              0.2222222222222222,
              "#7201a8"
             ],
             [
              0.3333333333333333,
              "#9c179e"
             ],
             [
              0.4444444444444444,
              "#bd3786"
             ],
             [
              0.5555555555555556,
              "#d8576b"
             ],
             [
              0.6666666666666666,
              "#ed7953"
             ],
             [
              0.7777777777777778,
              "#fb9f3a"
             ],
             [
              0.8888888888888888,
              "#fdca26"
             ],
             [
              1,
              "#f0f921"
             ]
            ],
            "type": "heatmapgl"
           }
          ],
          "histogram": [
           {
            "marker": {
             "pattern": {
              "fillmode": "overlay",
              "size": 10,
              "solidity": 0.2
             }
            },
            "type": "histogram"
           }
          ],
          "histogram2d": [
           {
            "colorbar": {
             "outlinewidth": 0,
             "ticks": ""
            },
            "colorscale": [
             [
              0,
              "#0d0887"
             ],
             [
              0.1111111111111111,
              "#46039f"
             ],
             [
              0.2222222222222222,
              "#7201a8"
             ],
             [
              0.3333333333333333,
              "#9c179e"
             ],
             [
              0.4444444444444444,
              "#bd3786"
             ],
             [
              0.5555555555555556,
              "#d8576b"
             ],
             [
              0.6666666666666666,
              "#ed7953"
             ],
             [
              0.7777777777777778,
              "#fb9f3a"
             ],
             [
              0.8888888888888888,
              "#fdca26"
             ],
             [
              1,
              "#f0f921"
             ]
            ],
            "type": "histogram2d"
           }
          ],
          "histogram2dcontour": [
           {
            "colorbar": {
             "outlinewidth": 0,
             "ticks": ""
            },
            "colorscale": [
             [
              0,
              "#0d0887"
             ],
             [
              0.1111111111111111,
              "#46039f"
             ],
             [
              0.2222222222222222,
              "#7201a8"
             ],
             [
              0.3333333333333333,
              "#9c179e"
             ],
             [
              0.4444444444444444,
              "#bd3786"
             ],
             [
              0.5555555555555556,
              "#d8576b"
             ],
             [
              0.6666666666666666,
              "#ed7953"
             ],
             [
              0.7777777777777778,
              "#fb9f3a"
             ],
             [
              0.8888888888888888,
              "#fdca26"
             ],
             [
              1,
              "#f0f921"
             ]
            ],
            "type": "histogram2dcontour"
           }
          ],
          "mesh3d": [
           {
            "colorbar": {
             "outlinewidth": 0,
             "ticks": ""
            },
            "type": "mesh3d"
           }
          ],
          "parcoords": [
           {
            "line": {
             "colorbar": {
              "outlinewidth": 0,
              "ticks": ""
             }
            },
            "type": "parcoords"
           }
          ],
          "pie": [
           {
            "automargin": true,
            "type": "pie"
           }
          ],
          "scatter": [
           {
            "fillpattern": {
             "fillmode": "overlay",
             "size": 10,
             "solidity": 0.2
            },
            "type": "scatter"
           }
          ],
          "scatter3d": [
           {
            "line": {
             "colorbar": {
              "outlinewidth": 0,
              "ticks": ""
             }
            },
            "marker": {
             "colorbar": {
              "outlinewidth": 0,
              "ticks": ""
             }
            },
            "type": "scatter3d"
           }
          ],
          "scattercarpet": [
           {
            "marker": {
             "colorbar": {
              "outlinewidth": 0,
              "ticks": ""
             }
            },
            "type": "scattercarpet"
           }
          ],
          "scattergeo": [
           {
            "marker": {
             "colorbar": {
              "outlinewidth": 0,
              "ticks": ""
             }
            },
            "type": "scattergeo"
           }
          ],
          "scattergl": [
           {
            "marker": {
             "colorbar": {
              "outlinewidth": 0,
              "ticks": ""
             }
            },
            "type": "scattergl"
           }
          ],
          "scattermapbox": [
           {
            "marker": {
             "colorbar": {
              "outlinewidth": 0,
              "ticks": ""
             }
            },
            "type": "scattermapbox"
           }
          ],
          "scatterpolar": [
           {
            "marker": {
             "colorbar": {
              "outlinewidth": 0,
              "ticks": ""
             }
            },
            "type": "scatterpolar"
           }
          ],
          "scatterpolargl": [
           {
            "marker": {
             "colorbar": {
              "outlinewidth": 0,
              "ticks": ""
             }
            },
            "type": "scatterpolargl"
           }
          ],
          "scatterternary": [
           {
            "marker": {
             "colorbar": {
              "outlinewidth": 0,
              "ticks": ""
             }
            },
            "type": "scatterternary"
           }
          ],
          "surface": [
           {
            "colorbar": {
             "outlinewidth": 0,
             "ticks": ""
            },
            "colorscale": [
             [
              0,
              "#0d0887"
             ],
             [
              0.1111111111111111,
              "#46039f"
             ],
             [
              0.2222222222222222,
              "#7201a8"
             ],
             [
              0.3333333333333333,
              "#9c179e"
             ],
             [
              0.4444444444444444,
              "#bd3786"
             ],
             [
              0.5555555555555556,
              "#d8576b"
             ],
             [
              0.6666666666666666,
              "#ed7953"
             ],
             [
              0.7777777777777778,
              "#fb9f3a"
             ],
             [
              0.8888888888888888,
              "#fdca26"
             ],
             [
              1,
              "#f0f921"
             ]
            ],
            "type": "surface"
           }
          ],
          "table": [
           {
            "cells": {
             "fill": {
              "color": "#EBF0F8"
             },
             "line": {
              "color": "white"
             }
            },
            "header": {
             "fill": {
              "color": "#C8D4E3"
             },
             "line": {
              "color": "white"
             }
            },
            "type": "table"
           }
          ]
         },
         "layout": {
          "annotationdefaults": {
           "arrowcolor": "#2a3f5f",
           "arrowhead": 0,
           "arrowwidth": 1
          },
          "autotypenumbers": "strict",
          "coloraxis": {
           "colorbar": {
            "outlinewidth": 0,
            "ticks": ""
           }
          },
          "colorscale": {
           "diverging": [
            [
             0,
             "#8e0152"
            ],
            [
             0.1,
             "#c51b7d"
            ],
            [
             0.2,
             "#de77ae"
            ],
            [
             0.3,
             "#f1b6da"
            ],
            [
             0.4,
             "#fde0ef"
            ],
            [
             0.5,
             "#f7f7f7"
            ],
            [
             0.6,
             "#e6f5d0"
            ],
            [
             0.7,
             "#b8e186"
            ],
            [
             0.8,
             "#7fbc41"
            ],
            [
             0.9,
             "#4d9221"
            ],
            [
             1,
             "#276419"
            ]
           ],
           "sequential": [
            [
             0,
             "#0d0887"
            ],
            [
             0.1111111111111111,
             "#46039f"
            ],
            [
             0.2222222222222222,
             "#7201a8"
            ],
            [
             0.3333333333333333,
             "#9c179e"
            ],
            [
             0.4444444444444444,
             "#bd3786"
            ],
            [
             0.5555555555555556,
             "#d8576b"
            ],
            [
             0.6666666666666666,
             "#ed7953"
            ],
            [
             0.7777777777777778,
             "#fb9f3a"
            ],
            [
             0.8888888888888888,
             "#fdca26"
            ],
            [
             1,
             "#f0f921"
            ]
           ],
           "sequentialminus": [
            [
             0,
             "#0d0887"
            ],
            [
             0.1111111111111111,
             "#46039f"
            ],
            [
             0.2222222222222222,
             "#7201a8"
            ],
            [
             0.3333333333333333,
             "#9c179e"
            ],
            [
             0.4444444444444444,
             "#bd3786"
            ],
            [
             0.5555555555555556,
             "#d8576b"
            ],
            [
             0.6666666666666666,
             "#ed7953"
            ],
            [
             0.7777777777777778,
             "#fb9f3a"
            ],
            [
             0.8888888888888888,
             "#fdca26"
            ],
            [
             1,
             "#f0f921"
            ]
           ]
          },
          "colorway": [
           "#636efa",
           "#EF553B",
           "#00cc96",
           "#ab63fa",
           "#FFA15A",
           "#19d3f3",
           "#FF6692",
           "#B6E880",
           "#FF97FF",
           "#FECB52"
          ],
          "font": {
           "color": "#2a3f5f"
          },
          "geo": {
           "bgcolor": "white",
           "lakecolor": "white",
           "landcolor": "#E5ECF6",
           "showlakes": true,
           "showland": true,
           "subunitcolor": "white"
          },
          "hoverlabel": {
           "align": "left"
          },
          "hovermode": "closest",
          "mapbox": {
           "style": "light"
          },
          "paper_bgcolor": "white",
          "plot_bgcolor": "#E5ECF6",
          "polar": {
           "angularaxis": {
            "gridcolor": "white",
            "linecolor": "white",
            "ticks": ""
           },
           "bgcolor": "#E5ECF6",
           "radialaxis": {
            "gridcolor": "white",
            "linecolor": "white",
            "ticks": ""
           }
          },
          "scene": {
           "xaxis": {
            "backgroundcolor": "#E5ECF6",
            "gridcolor": "white",
            "gridwidth": 2,
            "linecolor": "white",
            "showbackground": true,
            "ticks": "",
            "zerolinecolor": "white"
           },
           "yaxis": {
            "backgroundcolor": "#E5ECF6",
            "gridcolor": "white",
            "gridwidth": 2,
            "linecolor": "white",
            "showbackground": true,
            "ticks": "",
            "zerolinecolor": "white"
           },
           "zaxis": {
            "backgroundcolor": "#E5ECF6",
            "gridcolor": "white",
            "gridwidth": 2,
            "linecolor": "white",
            "showbackground": true,
            "ticks": "",
            "zerolinecolor": "white"
           }
          },
          "shapedefaults": {
           "line": {
            "color": "#2a3f5f"
           }
          },
          "ternary": {
           "aaxis": {
            "gridcolor": "white",
            "linecolor": "white",
            "ticks": ""
           },
           "baxis": {
            "gridcolor": "white",
            "linecolor": "white",
            "ticks": ""
           },
           "bgcolor": "#E5ECF6",
           "caxis": {
            "gridcolor": "white",
            "linecolor": "white",
            "ticks": ""
           }
          },
          "title": {
           "x": 0.05
          },
          "xaxis": {
           "automargin": true,
           "gridcolor": "white",
           "linecolor": "white",
           "ticks": "",
           "title": {
            "standoff": 15
           },
           "zerolinecolor": "white",
           "zerolinewidth": 2
          },
          "yaxis": {
           "automargin": true,
           "gridcolor": "white",
           "linecolor": "white",
           "ticks": "",
           "title": {
            "standoff": 15
           },
           "zerolinecolor": "white",
           "zerolinewidth": 2
          }
         }
        },
        "title": {
         "text": "Preço Médio de Revenda por Ano e Região"
        },
        "xaxis": {
         "anchor": "y",
         "domain": [
          0,
          1
         ],
         "title": {
          "text": "Preço Médio Revenda"
         }
        },
        "yaxis": {
         "anchor": "x",
         "domain": [
          0,
          1
         ],
         "title": {
          "text": "ANO"
         }
        }
       }
      },
      "text/html": [
       "<div>                            <div id=\"40bfddee-04d5-449d-92ac-b6cc464b60c3\" class=\"plotly-graph-div\" style=\"height:525px; width:100%;\"></div>            <script type=\"text/javascript\">                require([\"plotly\"], function(Plotly) {                    window.PLOTLYENV=window.PLOTLYENV || {};                                    if (document.getElementById(\"40bfddee-04d5-449d-92ac-b6cc464b60c3\")) {                    Plotly.newPlot(                        \"40bfddee-04d5-449d-92ac-b6cc464b60c3\",                        [{\"alignmentgroup\":\"True\",\"hovertemplate\":\"Regi\\u00e3o=NORTE<br>Pre\\u00e7o M\\u00e9dio Revenda=%{x}<br>ANO=%{y}<extra></extra>\",\"legendgroup\":\"NORTE\",\"marker\":{\"color\":\"#636efa\",\"pattern\":{\"shape\":\"\"}},\"name\":\"NORTE\",\"offsetgroup\":\"NORTE\",\"orientation\":\"h\",\"showlegend\":true,\"textposition\":\"outside\",\"texttemplate\":\"%{x:.3s}\",\"x\":[2.2514070796460177,2.2818660714285715,2.329969162995595,2.446800925925926,2.4740133928571426,2.824456666666667,2.9204545454545454,3.501110344827586,3.697277777777778,4.0790235294117645,3.988382113821138,5.602549783549784,6.519255555555555],\"xaxis\":\"x\",\"y\":[2008,2009,2010,2011,2012,2014,2015,2016,2017,2019,2020,2021,2022],\"yaxis\":\"y\",\"type\":\"bar\",\"textangle\":0},{\"alignmentgroup\":\"True\",\"hovertemplate\":\"Regi\\u00e3o=NORDESTE<br>Pre\\u00e7o M\\u00e9dio Revenda=%{x}<br>ANO=%{y}<extra></extra>\",\"legendgroup\":\"NORDESTE\",\"marker\":{\"color\":\"#EF553B\",\"pattern\":{\"shape\":\"\"}},\"name\":\"NORDESTE\",\"offsetgroup\":\"NORDESTE\",\"orientation\":\"h\",\"showlegend\":true,\"textposition\":\"outside\",\"texttemplate\":\"%{x:.3s}\",\"x\":[2.051575221238938,2.0515739130434785,2.0782485549132947,2.1944420731707317,2.207414985590778,2.519218961625282,2.7456470588235296,3.1213668224299065,3.1259615384615387,3.834128,3.746977777777778,5.409430267062315,6.260570881226053],\"xaxis\":\"x\",\"y\":[2008,2009,2010,2011,2012,2014,2015,2016,2017,2019,2020,2021,2022],\"yaxis\":\"y\",\"type\":\"bar\",\"textangle\":0},{\"alignmentgroup\":\"True\",\"hovertemplate\":\"Regi\\u00e3o=CENTRO OESTE<br>Pre\\u00e7o M\\u00e9dio Revenda=%{x}<br>ANO=%{y}<extra></extra>\",\"legendgroup\":\"CENTRO OESTE\",\"marker\":{\"color\":\"#00cc96\",\"pattern\":{\"shape\":\"\"}},\"name\":\"CENTRO OESTE\",\"offsetgroup\":\"CENTRO OESTE\",\"orientation\":\"h\",\"showlegend\":true,\"textposition\":\"outside\",\"texttemplate\":\"%{x:.3s}\",\"x\":[2.052390070921986,2.0889305555555553,2.1025172413793105,2.2322222222222226,2.2807908496732026,2.62910824742268,2.67375,3.1608618784530385,3.2368,3.793764705882353,3.673792207792208,5.371846153846153,6.18840350877193],\"xaxis\":\"x\",\"y\":[2008,2009,2010,2011,2012,2014,2015,2016,2017,2019,2020,2021,2022],\"yaxis\":\"y\",\"type\":\"bar\",\"textangle\":0},{\"alignmentgroup\":\"True\",\"hovertemplate\":\"Regi\\u00e3o=SUDESTE<br>Pre\\u00e7o M\\u00e9dio Revenda=%{x}<br>ANO=%{y}<extra></extra>\",\"legendgroup\":\"SUDESTE\",\"marker\":{\"color\":\"#ab63fa\",\"pattern\":{\"shape\":\"\"}},\"name\":\"SUDESTE\",\"offsetgroup\":\"SUDESTE\",\"orientation\":\"h\",\"showlegend\":true,\"textposition\":\"outside\",\"texttemplate\":\"%{x:.3s}\",\"x\":[1.920194968553459,1.96143125,1.99055,2.1469677419354842,2.164,2.4475714285714285,2.649142857142857,2.978321608040201,3.0665,3.7355084745762714,3.674626506024097,5.257352564102565,6.156066666666666],\"xaxis\":\"x\",\"y\":[2008,2009,2010,2011,2012,2014,2015,2016,2017,2019,2020,2021,2022],\"yaxis\":\"y\",\"type\":\"bar\",\"textangle\":0},{\"alignmentgroup\":\"True\",\"hovertemplate\":\"Regi\\u00e3o=SUL<br>Pre\\u00e7o M\\u00e9dio Revenda=%{x}<br>ANO=%{y}<extra></extra>\",\"legendgroup\":\"SUL\",\"marker\":{\"color\":\"#FFA15A\",\"pattern\":{\"shape\":\"\"}},\"name\":\"SUL\",\"offsetgroup\":\"SUL\",\"orientation\":\"h\",\"showlegend\":true,\"textposition\":\"outside\",\"texttemplate\":\"%{x:.3s}\",\"x\":[1.9697142857142858,1.9811818181818184,2.010282051282051,2.1778119658119657,2.2167000000000003,2.505871794871795,2.4772499999999997,3.03748,3.190111111111111,3.651466666666667,3.6555573770491803,5.284350427350428,6.210077777777778],\"xaxis\":\"x\",\"y\":[2008,2009,2010,2011,2012,2014,2015,2016,2017,2019,2020,2021,2022],\"yaxis\":\"y\",\"type\":\"bar\",\"textangle\":0}],                        {\"template\":{\"data\":{\"histogram2dcontour\":[{\"type\":\"histogram2dcontour\",\"colorbar\":{\"outlinewidth\":0,\"ticks\":\"\"},\"colorscale\":[[0.0,\"#0d0887\"],[0.1111111111111111,\"#46039f\"],[0.2222222222222222,\"#7201a8\"],[0.3333333333333333,\"#9c179e\"],[0.4444444444444444,\"#bd3786\"],[0.5555555555555556,\"#d8576b\"],[0.6666666666666666,\"#ed7953\"],[0.7777777777777778,\"#fb9f3a\"],[0.8888888888888888,\"#fdca26\"],[1.0,\"#f0f921\"]]}],\"choropleth\":[{\"type\":\"choropleth\",\"colorbar\":{\"outlinewidth\":0,\"ticks\":\"\"}}],\"histogram2d\":[{\"type\":\"histogram2d\",\"colorbar\":{\"outlinewidth\":0,\"ticks\":\"\"},\"colorscale\":[[0.0,\"#0d0887\"],[0.1111111111111111,\"#46039f\"],[0.2222222222222222,\"#7201a8\"],[0.3333333333333333,\"#9c179e\"],[0.4444444444444444,\"#bd3786\"],[0.5555555555555556,\"#d8576b\"],[0.6666666666666666,\"#ed7953\"],[0.7777777777777778,\"#fb9f3a\"],[0.8888888888888888,\"#fdca26\"],[1.0,\"#f0f921\"]]}],\"heatmap\":[{\"type\":\"heatmap\",\"colorbar\":{\"outlinewidth\":0,\"ticks\":\"\"},\"colorscale\":[[0.0,\"#0d0887\"],[0.1111111111111111,\"#46039f\"],[0.2222222222222222,\"#7201a8\"],[0.3333333333333333,\"#9c179e\"],[0.4444444444444444,\"#bd3786\"],[0.5555555555555556,\"#d8576b\"],[0.6666666666666666,\"#ed7953\"],[0.7777777777777778,\"#fb9f3a\"],[0.8888888888888888,\"#fdca26\"],[1.0,\"#f0f921\"]]}],\"heatmapgl\":[{\"type\":\"heatmapgl\",\"colorbar\":{\"outlinewidth\":0,\"ticks\":\"\"},\"colorscale\":[[0.0,\"#0d0887\"],[0.1111111111111111,\"#46039f\"],[0.2222222222222222,\"#7201a8\"],[0.3333333333333333,\"#9c179e\"],[0.4444444444444444,\"#bd3786\"],[0.5555555555555556,\"#d8576b\"],[0.6666666666666666,\"#ed7953\"],[0.7777777777777778,\"#fb9f3a\"],[0.8888888888888888,\"#fdca26\"],[1.0,\"#f0f921\"]]}],\"contourcarpet\":[{\"type\":\"contourcarpet\",\"colorbar\":{\"outlinewidth\":0,\"ticks\":\"\"}}],\"contour\":[{\"type\":\"contour\",\"colorbar\":{\"outlinewidth\":0,\"ticks\":\"\"},\"colorscale\":[[0.0,\"#0d0887\"],[0.1111111111111111,\"#46039f\"],[0.2222222222222222,\"#7201a8\"],[0.3333333333333333,\"#9c179e\"],[0.4444444444444444,\"#bd3786\"],[0.5555555555555556,\"#d8576b\"],[0.6666666666666666,\"#ed7953\"],[0.7777777777777778,\"#fb9f3a\"],[0.8888888888888888,\"#fdca26\"],[1.0,\"#f0f921\"]]}],\"surface\":[{\"type\":\"surface\",\"colorbar\":{\"outlinewidth\":0,\"ticks\":\"\"},\"colorscale\":[[0.0,\"#0d0887\"],[0.1111111111111111,\"#46039f\"],[0.2222222222222222,\"#7201a8\"],[0.3333333333333333,\"#9c179e\"],[0.4444444444444444,\"#bd3786\"],[0.5555555555555556,\"#d8576b\"],[0.6666666666666666,\"#ed7953\"],[0.7777777777777778,\"#fb9f3a\"],[0.8888888888888888,\"#fdca26\"],[1.0,\"#f0f921\"]]}],\"mesh3d\":[{\"type\":\"mesh3d\",\"colorbar\":{\"outlinewidth\":0,\"ticks\":\"\"}}],\"scatter\":[{\"fillpattern\":{\"fillmode\":\"overlay\",\"size\":10,\"solidity\":0.2},\"type\":\"scatter\"}],\"parcoords\":[{\"type\":\"parcoords\",\"line\":{\"colorbar\":{\"outlinewidth\":0,\"ticks\":\"\"}}}],\"scatterpolargl\":[{\"type\":\"scatterpolargl\",\"marker\":{\"colorbar\":{\"outlinewidth\":0,\"ticks\":\"\"}}}],\"bar\":[{\"error_x\":{\"color\":\"#2a3f5f\"},\"error_y\":{\"color\":\"#2a3f5f\"},\"marker\":{\"line\":{\"color\":\"#E5ECF6\",\"width\":0.5},\"pattern\":{\"fillmode\":\"overlay\",\"size\":10,\"solidity\":0.2}},\"type\":\"bar\"}],\"scattergeo\":[{\"type\":\"scattergeo\",\"marker\":{\"colorbar\":{\"outlinewidth\":0,\"ticks\":\"\"}}}],\"scatterpolar\":[{\"type\":\"scatterpolar\",\"marker\":{\"colorbar\":{\"outlinewidth\":0,\"ticks\":\"\"}}}],\"histogram\":[{\"marker\":{\"pattern\":{\"fillmode\":\"overlay\",\"size\":10,\"solidity\":0.2}},\"type\":\"histogram\"}],\"scattergl\":[{\"type\":\"scattergl\",\"marker\":{\"colorbar\":{\"outlinewidth\":0,\"ticks\":\"\"}}}],\"scatter3d\":[{\"type\":\"scatter3d\",\"line\":{\"colorbar\":{\"outlinewidth\":0,\"ticks\":\"\"}},\"marker\":{\"colorbar\":{\"outlinewidth\":0,\"ticks\":\"\"}}}],\"scattermapbox\":[{\"type\":\"scattermapbox\",\"marker\":{\"colorbar\":{\"outlinewidth\":0,\"ticks\":\"\"}}}],\"scatterternary\":[{\"type\":\"scatterternary\",\"marker\":{\"colorbar\":{\"outlinewidth\":0,\"ticks\":\"\"}}}],\"scattercarpet\":[{\"type\":\"scattercarpet\",\"marker\":{\"colorbar\":{\"outlinewidth\":0,\"ticks\":\"\"}}}],\"carpet\":[{\"aaxis\":{\"endlinecolor\":\"#2a3f5f\",\"gridcolor\":\"white\",\"linecolor\":\"white\",\"minorgridcolor\":\"white\",\"startlinecolor\":\"#2a3f5f\"},\"baxis\":{\"endlinecolor\":\"#2a3f5f\",\"gridcolor\":\"white\",\"linecolor\":\"white\",\"minorgridcolor\":\"white\",\"startlinecolor\":\"#2a3f5f\"},\"type\":\"carpet\"}],\"table\":[{\"cells\":{\"fill\":{\"color\":\"#EBF0F8\"},\"line\":{\"color\":\"white\"}},\"header\":{\"fill\":{\"color\":\"#C8D4E3\"},\"line\":{\"color\":\"white\"}},\"type\":\"table\"}],\"barpolar\":[{\"marker\":{\"line\":{\"color\":\"#E5ECF6\",\"width\":0.5},\"pattern\":{\"fillmode\":\"overlay\",\"size\":10,\"solidity\":0.2}},\"type\":\"barpolar\"}],\"pie\":[{\"automargin\":true,\"type\":\"pie\"}]},\"layout\":{\"autotypenumbers\":\"strict\",\"colorway\":[\"#636efa\",\"#EF553B\",\"#00cc96\",\"#ab63fa\",\"#FFA15A\",\"#19d3f3\",\"#FF6692\",\"#B6E880\",\"#FF97FF\",\"#FECB52\"],\"font\":{\"color\":\"#2a3f5f\"},\"hovermode\":\"closest\",\"hoverlabel\":{\"align\":\"left\"},\"paper_bgcolor\":\"white\",\"plot_bgcolor\":\"#E5ECF6\",\"polar\":{\"bgcolor\":\"#E5ECF6\",\"angularaxis\":{\"gridcolor\":\"white\",\"linecolor\":\"white\",\"ticks\":\"\"},\"radialaxis\":{\"gridcolor\":\"white\",\"linecolor\":\"white\",\"ticks\":\"\"}},\"ternary\":{\"bgcolor\":\"#E5ECF6\",\"aaxis\":{\"gridcolor\":\"white\",\"linecolor\":\"white\",\"ticks\":\"\"},\"baxis\":{\"gridcolor\":\"white\",\"linecolor\":\"white\",\"ticks\":\"\"},\"caxis\":{\"gridcolor\":\"white\",\"linecolor\":\"white\",\"ticks\":\"\"}},\"coloraxis\":{\"colorbar\":{\"outlinewidth\":0,\"ticks\":\"\"}},\"colorscale\":{\"sequential\":[[0.0,\"#0d0887\"],[0.1111111111111111,\"#46039f\"],[0.2222222222222222,\"#7201a8\"],[0.3333333333333333,\"#9c179e\"],[0.4444444444444444,\"#bd3786\"],[0.5555555555555556,\"#d8576b\"],[0.6666666666666666,\"#ed7953\"],[0.7777777777777778,\"#fb9f3a\"],[0.8888888888888888,\"#fdca26\"],[1.0,\"#f0f921\"]],\"sequentialminus\":[[0.0,\"#0d0887\"],[0.1111111111111111,\"#46039f\"],[0.2222222222222222,\"#7201a8\"],[0.3333333333333333,\"#9c179e\"],[0.4444444444444444,\"#bd3786\"],[0.5555555555555556,\"#d8576b\"],[0.6666666666666666,\"#ed7953\"],[0.7777777777777778,\"#fb9f3a\"],[0.8888888888888888,\"#fdca26\"],[1.0,\"#f0f921\"]],\"diverging\":[[0,\"#8e0152\"],[0.1,\"#c51b7d\"],[0.2,\"#de77ae\"],[0.3,\"#f1b6da\"],[0.4,\"#fde0ef\"],[0.5,\"#f7f7f7\"],[0.6,\"#e6f5d0\"],[0.7,\"#b8e186\"],[0.8,\"#7fbc41\"],[0.9,\"#4d9221\"],[1,\"#276419\"]]},\"xaxis\":{\"gridcolor\":\"white\",\"linecolor\":\"white\",\"ticks\":\"\",\"title\":{\"standoff\":15},\"zerolinecolor\":\"white\",\"automargin\":true,\"zerolinewidth\":2},\"yaxis\":{\"gridcolor\":\"white\",\"linecolor\":\"white\",\"ticks\":\"\",\"title\":{\"standoff\":15},\"zerolinecolor\":\"white\",\"automargin\":true,\"zerolinewidth\":2},\"scene\":{\"xaxis\":{\"backgroundcolor\":\"#E5ECF6\",\"gridcolor\":\"white\",\"linecolor\":\"white\",\"showbackground\":true,\"ticks\":\"\",\"zerolinecolor\":\"white\",\"gridwidth\":2},\"yaxis\":{\"backgroundcolor\":\"#E5ECF6\",\"gridcolor\":\"white\",\"linecolor\":\"white\",\"showbackground\":true,\"ticks\":\"\",\"zerolinecolor\":\"white\",\"gridwidth\":2},\"zaxis\":{\"backgroundcolor\":\"#E5ECF6\",\"gridcolor\":\"white\",\"linecolor\":\"white\",\"showbackground\":true,\"ticks\":\"\",\"zerolinecolor\":\"white\",\"gridwidth\":2}},\"shapedefaults\":{\"line\":{\"color\":\"#2a3f5f\"}},\"annotationdefaults\":{\"arrowcolor\":\"#2a3f5f\",\"arrowhead\":0,\"arrowwidth\":1},\"geo\":{\"bgcolor\":\"white\",\"landcolor\":\"#E5ECF6\",\"subunitcolor\":\"white\",\"showland\":true,\"showlakes\":true,\"lakecolor\":\"white\"},\"title\":{\"x\":0.05},\"mapbox\":{\"style\":\"light\"}}},\"xaxis\":{\"anchor\":\"y\",\"domain\":[0.0,1.0],\"title\":{\"text\":\"Pre\\u00e7o M\\u00e9dio Revenda\"}},\"yaxis\":{\"anchor\":\"x\",\"domain\":[0.0,1.0],\"title\":{\"text\":\"ANO\"}},\"legend\":{\"title\":{\"text\":\"Regi\\u00e3o\"},\"tracegroupgap\":0},\"title\":{\"text\":\"Pre\\u00e7o M\\u00e9dio de Revenda por Ano e Regi\\u00e3o\"},\"barmode\":\"relative\"},                        {\"responsive\": true}                    ).then(function(){\n",
       "                            \n",
       "var gd = document.getElementById('40bfddee-04d5-449d-92ac-b6cc464b60c3');\n",
       "var x = new MutationObserver(function (mutations, observer) {{\n",
       "        var display = window.getComputedStyle(gd).display;\n",
       "        if (!display || display === 'none') {{\n",
       "            console.log([gd, 'removed!']);\n",
       "            Plotly.purge(gd);\n",
       "            observer.disconnect();\n",
       "        }}\n",
       "}});\n",
       "\n",
       "// Listen for the removal of the full notebook cells\n",
       "var notebookContainer = gd.closest('#notebook-container');\n",
       "if (notebookContainer) {{\n",
       "    x.observe(notebookContainer, {childList: true});\n",
       "}}\n",
       "\n",
       "// Listen for the clearing of the current output cell\n",
       "var outputEl = gd.closest('.output');\n",
       "if (outputEl) {{\n",
       "    x.observe(outputEl, {childList: true});\n",
       "}}\n",
       "\n",
       "                        })                };                });            </script>        </div>"
      ]
     },
     "metadata": {},
     "output_type": "display_data"
    }
   ],
   "source": [
    "grafico_ano_regiao = px.bar(vendas_ano_regiao, y=\"ANO\", x=\"PREÇO MÉDIO REVENDA\", color=\"REGIÃO\", orientation ='h',\n",
    "                           title = \"Preço Médio de Revenda por Ano e Região\", text_auto='.3s',\n",
    "                   labels={'REGIÃO':'Região', 'PREÇO MÉDIO REVENDA':'Preço Médio Revenda'})\n",
    "grafico_ano_regiao.update_traces(textangle=0, textposition=\"outside\")\n",
    "grafico_ano_regiao.show()"
   ]
  },
  {
   "cell_type": "code",
   "execution_count": 176,
   "id": "1c19ecce",
   "metadata": {},
   "outputs": [
    {
     "data": {
      "text/html": [
       "<div>\n",
       "<style scoped>\n",
       "    .dataframe tbody tr th:only-of-type {\n",
       "        vertical-align: middle;\n",
       "    }\n",
       "\n",
       "    .dataframe tbody tr th {\n",
       "        vertical-align: top;\n",
       "    }\n",
       "\n",
       "    .dataframe thead th {\n",
       "        text-align: right;\n",
       "    }\n",
       "</style>\n",
       "<table border=\"1\" class=\"dataframe\">\n",
       "  <thead>\n",
       "    <tr style=\"text-align: right;\">\n",
       "      <th></th>\n",
       "      <th>REGIÃO</th>\n",
       "      <th>PRODUTO</th>\n",
       "      <th>PREÇO MÉDIO REVENDA</th>\n",
       "    </tr>\n",
       "  </thead>\n",
       "  <tbody>\n",
       "    <tr>\n",
       "      <th>0</th>\n",
       "      <td>NORTE</td>\n",
       "      <td>ETANOL HIDRATADO</td>\n",
       "      <td>2.949077</td>\n",
       "    </tr>\n",
       "    <tr>\n",
       "      <th>1</th>\n",
       "      <td>NORDESTE</td>\n",
       "      <td>ETANOL HIDRATADO</td>\n",
       "      <td>2.721456</td>\n",
       "    </tr>\n",
       "    <tr>\n",
       "      <th>2</th>\n",
       "      <td>CENTRO OESTE</td>\n",
       "      <td>ETANOL HIDRATADO</td>\n",
       "      <td>2.505229</td>\n",
       "    </tr>\n",
       "    <tr>\n",
       "      <th>3</th>\n",
       "      <td>SUDESTE</td>\n",
       "      <td>ETANOL HIDRATADO</td>\n",
       "      <td>2.597756</td>\n",
       "    </tr>\n",
       "    <tr>\n",
       "      <th>4</th>\n",
       "      <td>SUL</td>\n",
       "      <td>ETANOL HIDRATADO</td>\n",
       "      <td>2.729022</td>\n",
       "    </tr>\n",
       "  </tbody>\n",
       "</table>\n",
       "</div>"
      ],
      "text/plain": [
       "         REGIÃO           PRODUTO  PREÇO MÉDIO REVENDA\n",
       "0         NORTE  ETANOL HIDRATADO             2.949077\n",
       "1      NORDESTE  ETANOL HIDRATADO             2.721456\n",
       "2  CENTRO OESTE  ETANOL HIDRATADO             2.505229\n",
       "3       SUDESTE  ETANOL HIDRATADO             2.597756\n",
       "4           SUL  ETANOL HIDRATADO             2.729022"
      ]
     },
     "execution_count": 176,
     "metadata": {},
     "output_type": "execute_result"
    }
   ],
   "source": [
    "#preço médio de revenda por produto e regiao\n",
    "vendas_prod_regiao = df_prc_comb.groupby(['REGIÃO','PRODUTO'], sort=False).agg({'PREÇO MÉDIO REVENDA': np.mean}).reset_index()\n",
    "vendas_prod_regiao.head()"
   ]
  },
  {
   "cell_type": "code",
   "execution_count": 177,
   "id": "e26fdd4f",
   "metadata": {},
   "outputs": [
    {
     "data": {
      "application/vnd.plotly.v1+json": {
       "config": {
        "plotlyServerURL": "https://plot.ly"
       },
       "data": [
        {
         "alignmentgroup": "True",
         "hovertemplate": "PRODUTO=ETANOL HIDRATADO<br>Região=%{x}<br>Preço Médio Revenda=%{y}<extra></extra>",
         "legendgroup": "ETANOL HIDRATADO",
         "marker": {
          "color": "#636efa",
          "pattern": {
           "shape": ""
          }
         },
         "name": "ETANOL HIDRATADO",
         "offsetgroup": "ETANOL HIDRATADO",
         "orientation": "v",
         "showlegend": true,
         "textangle": 0,
         "textposition": "outside",
         "texttemplate": "%{y:.3s}",
         "type": "bar",
         "x": [
          "NORTE",
          "NORDESTE",
          "CENTRO OESTE",
          "SUDESTE",
          "SUL"
         ],
         "xaxis": "x",
         "y": [
          2.9490765550239235,
          2.7214555555555555,
          2.5052290502793295,
          2.5977562326869803,
          2.7290221402214025
         ],
         "yaxis": "y"
        },
        {
         "alignmentgroup": "True",
         "hovertemplate": "PRODUTO=GASOLINA COMUM<br>Região=%{x}<br>Preço Médio Revenda=%{y}<extra></extra>",
         "legendgroup": "GASOLINA COMUM",
         "marker": {
          "color": "#EF553B",
          "pattern": {
           "shape": ""
          }
         },
         "name": "GASOLINA COMUM",
         "offsetgroup": "GASOLINA COMUM",
         "orientation": "v",
         "showlegend": true,
         "textangle": 0,
         "textposition": "outside",
         "texttemplate": "%{y:.3s}",
         "type": "bar",
         "x": [
          "NORTE",
          "NORDESTE",
          "CENTRO OESTE",
          "SUDESTE",
          "SUL"
         ],
         "xaxis": "x",
         "y": [
          3.5719096774193546,
          3.45123625,
          3.5128764044943823,
          3.4709521126760565,
          3.397324528301887
         ],
         "yaxis": "y"
        },
        {
         "alignmentgroup": "True",
         "hovertemplate": "PRODUTO=GNV<br>Região=%{x}<br>Preço Médio Revenda=%{y}<extra></extra>",
         "legendgroup": "GNV",
         "marker": {
          "color": "#00cc96",
          "pattern": {
           "shape": ""
          }
         },
         "name": "GNV",
         "offsetgroup": "GNV",
         "orientation": "v",
         "showlegend": true,
         "textangle": 0,
         "textposition": "outside",
         "texttemplate": "%{y:.3s}",
         "type": "bar",
         "x": [
          "NORDESTE",
          "NORTE",
          "SUDESTE",
          "CENTRO OESTE",
          "SUL"
         ],
         "xaxis": "x",
         "y": [
          2.3486086956521737,
          2.3241034482758622,
          2.2068402203856747,
          2.3421146788990828,
          2.385109022556391
         ],
         "yaxis": "y"
        },
        {
         "alignmentgroup": "True",
         "hovertemplate": "PRODUTO=ÓLEO DIESEL<br>Região=%{x}<br>Preço Médio Revenda=%{y}<extra></extra>",
         "legendgroup": "ÓLEO DIESEL",
         "marker": {
          "color": "#ab63fa",
          "pattern": {
           "shape": ""
          }
         },
         "name": "ÓLEO DIESEL",
         "offsetgroup": "ÓLEO DIESEL",
         "orientation": "v",
         "showlegend": true,
         "textangle": 0,
         "textposition": "outside",
         "texttemplate": "%{y:.3s}",
         "type": "bar",
         "x": [
          "SUL",
          "NORTE",
          "SUDESTE",
          "NORDESTE",
          "CENTRO OESTE"
         ],
         "xaxis": "x",
         "y": [
          2.736527675276753,
          3.0113496062992127,
          2.7455263157894736,
          2.794500618046972,
          2.884597222222222
         ],
         "yaxis": "y"
        },
        {
         "alignmentgroup": "True",
         "hovertemplate": "PRODUTO=ÓLEO DIESEL S10<br>Região=%{x}<br>Preço Médio Revenda=%{y}<extra></extra>",
         "legendgroup": "ÓLEO DIESEL S10",
         "marker": {
          "color": "#FFA15A",
          "pattern": {
           "shape": ""
          }
         },
         "name": "ÓLEO DIESEL S10",
         "offsetgroup": "ÓLEO DIESEL S10",
         "orientation": "v",
         "showlegend": true,
         "textangle": 0,
         "textposition": "outside",
         "texttemplate": "%{y:.3s}",
         "type": "bar",
         "x": [
          "NORTE",
          "NORDESTE",
          "CENTRO OESTE",
          "SUDESTE",
          "SUL"
         ],
         "xaxis": "x",
         "y": [
          4.068417857142857,
          3.8546138888888892,
          3.9783250000000003,
          3.79089375,
          3.71895
         ],
         "yaxis": "y"
        },
        {
         "alignmentgroup": "True",
         "hovertemplate": "PRODUTO=GASOLINA ADITIVADA<br>Região=%{x}<br>Preço Médio Revenda=%{y}<extra></extra>",
         "legendgroup": "GASOLINA ADITIVADA",
         "marker": {
          "color": "#19d3f3",
          "pattern": {
           "shape": ""
          }
         },
         "name": "GASOLINA ADITIVADA",
         "offsetgroup": "GASOLINA ADITIVADA",
         "orientation": "v",
         "showlegend": true,
         "textangle": 0,
         "textposition": "outside",
         "texttemplate": "%{y:.3s}",
         "type": "bar",
         "x": [
          "NORTE",
          "NORDESTE",
          "CENTRO OESTE",
          "SUDESTE",
          "SUL"
         ],
         "xaxis": "x",
         "y": [
          6.665064935064936,
          6.792282828282828,
          6.779136363636363,
          6.882886363636363,
          6.593969696969697
         ],
         "yaxis": "y"
        }
       ],
       "layout": {
        "barmode": "group",
        "legend": {
         "title": {
          "text": "PRODUTO"
         },
         "tracegroupgap": 0
        },
        "template": {
         "data": {
          "bar": [
           {
            "error_x": {
             "color": "#2a3f5f"
            },
            "error_y": {
             "color": "#2a3f5f"
            },
            "marker": {
             "line": {
              "color": "#E5ECF6",
              "width": 0.5
             },
             "pattern": {
              "fillmode": "overlay",
              "size": 10,
              "solidity": 0.2
             }
            },
            "type": "bar"
           }
          ],
          "barpolar": [
           {
            "marker": {
             "line": {
              "color": "#E5ECF6",
              "width": 0.5
             },
             "pattern": {
              "fillmode": "overlay",
              "size": 10,
              "solidity": 0.2
             }
            },
            "type": "barpolar"
           }
          ],
          "carpet": [
           {
            "aaxis": {
             "endlinecolor": "#2a3f5f",
             "gridcolor": "white",
             "linecolor": "white",
             "minorgridcolor": "white",
             "startlinecolor": "#2a3f5f"
            },
            "baxis": {
             "endlinecolor": "#2a3f5f",
             "gridcolor": "white",
             "linecolor": "white",
             "minorgridcolor": "white",
             "startlinecolor": "#2a3f5f"
            },
            "type": "carpet"
           }
          ],
          "choropleth": [
           {
            "colorbar": {
             "outlinewidth": 0,
             "ticks": ""
            },
            "type": "choropleth"
           }
          ],
          "contour": [
           {
            "colorbar": {
             "outlinewidth": 0,
             "ticks": ""
            },
            "colorscale": [
             [
              0,
              "#0d0887"
             ],
             [
              0.1111111111111111,
              "#46039f"
             ],
             [
              0.2222222222222222,
              "#7201a8"
             ],
             [
              0.3333333333333333,
              "#9c179e"
             ],
             [
              0.4444444444444444,
              "#bd3786"
             ],
             [
              0.5555555555555556,
              "#d8576b"
             ],
             [
              0.6666666666666666,
              "#ed7953"
             ],
             [
              0.7777777777777778,
              "#fb9f3a"
             ],
             [
              0.8888888888888888,
              "#fdca26"
             ],
             [
              1,
              "#f0f921"
             ]
            ],
            "type": "contour"
           }
          ],
          "contourcarpet": [
           {
            "colorbar": {
             "outlinewidth": 0,
             "ticks": ""
            },
            "type": "contourcarpet"
           }
          ],
          "heatmap": [
           {
            "colorbar": {
             "outlinewidth": 0,
             "ticks": ""
            },
            "colorscale": [
             [
              0,
              "#0d0887"
             ],
             [
              0.1111111111111111,
              "#46039f"
             ],
             [
              0.2222222222222222,
              "#7201a8"
             ],
             [
              0.3333333333333333,
              "#9c179e"
             ],
             [
              0.4444444444444444,
              "#bd3786"
             ],
             [
              0.5555555555555556,
              "#d8576b"
             ],
             [
              0.6666666666666666,
              "#ed7953"
             ],
             [
              0.7777777777777778,
              "#fb9f3a"
             ],
             [
              0.8888888888888888,
              "#fdca26"
             ],
             [
              1,
              "#f0f921"
             ]
            ],
            "type": "heatmap"
           }
          ],
          "heatmapgl": [
           {
            "colorbar": {
             "outlinewidth": 0,
             "ticks": ""
            },
            "colorscale": [
             [
              0,
              "#0d0887"
             ],
             [
              0.1111111111111111,
              "#46039f"
             ],
             [
              0.2222222222222222,
              "#7201a8"
             ],
             [
              0.3333333333333333,
              "#9c179e"
             ],
             [
              0.4444444444444444,
              "#bd3786"
             ],
             [
              0.5555555555555556,
              "#d8576b"
             ],
             [
              0.6666666666666666,
              "#ed7953"
             ],
             [
              0.7777777777777778,
              "#fb9f3a"
             ],
             [
              0.8888888888888888,
              "#fdca26"
             ],
             [
              1,
              "#f0f921"
             ]
            ],
            "type": "heatmapgl"
           }
          ],
          "histogram": [
           {
            "marker": {
             "pattern": {
              "fillmode": "overlay",
              "size": 10,
              "solidity": 0.2
             }
            },
            "type": "histogram"
           }
          ],
          "histogram2d": [
           {
            "colorbar": {
             "outlinewidth": 0,
             "ticks": ""
            },
            "colorscale": [
             [
              0,
              "#0d0887"
             ],
             [
              0.1111111111111111,
              "#46039f"
             ],
             [
              0.2222222222222222,
              "#7201a8"
             ],
             [
              0.3333333333333333,
              "#9c179e"
             ],
             [
              0.4444444444444444,
              "#bd3786"
             ],
             [
              0.5555555555555556,
              "#d8576b"
             ],
             [
              0.6666666666666666,
              "#ed7953"
             ],
             [
              0.7777777777777778,
              "#fb9f3a"
             ],
             [
              0.8888888888888888,
              "#fdca26"
             ],
             [
              1,
              "#f0f921"
             ]
            ],
            "type": "histogram2d"
           }
          ],
          "histogram2dcontour": [
           {
            "colorbar": {
             "outlinewidth": 0,
             "ticks": ""
            },
            "colorscale": [
             [
              0,
              "#0d0887"
             ],
             [
              0.1111111111111111,
              "#46039f"
             ],
             [
              0.2222222222222222,
              "#7201a8"
             ],
             [
              0.3333333333333333,
              "#9c179e"
             ],
             [
              0.4444444444444444,
              "#bd3786"
             ],
             [
              0.5555555555555556,
              "#d8576b"
             ],
             [
              0.6666666666666666,
              "#ed7953"
             ],
             [
              0.7777777777777778,
              "#fb9f3a"
             ],
             [
              0.8888888888888888,
              "#fdca26"
             ],
             [
              1,
              "#f0f921"
             ]
            ],
            "type": "histogram2dcontour"
           }
          ],
          "mesh3d": [
           {
            "colorbar": {
             "outlinewidth": 0,
             "ticks": ""
            },
            "type": "mesh3d"
           }
          ],
          "parcoords": [
           {
            "line": {
             "colorbar": {
              "outlinewidth": 0,
              "ticks": ""
             }
            },
            "type": "parcoords"
           }
          ],
          "pie": [
           {
            "automargin": true,
            "type": "pie"
           }
          ],
          "scatter": [
           {
            "fillpattern": {
             "fillmode": "overlay",
             "size": 10,
             "solidity": 0.2
            },
            "type": "scatter"
           }
          ],
          "scatter3d": [
           {
            "line": {
             "colorbar": {
              "outlinewidth": 0,
              "ticks": ""
             }
            },
            "marker": {
             "colorbar": {
              "outlinewidth": 0,
              "ticks": ""
             }
            },
            "type": "scatter3d"
           }
          ],
          "scattercarpet": [
           {
            "marker": {
             "colorbar": {
              "outlinewidth": 0,
              "ticks": ""
             }
            },
            "type": "scattercarpet"
           }
          ],
          "scattergeo": [
           {
            "marker": {
             "colorbar": {
              "outlinewidth": 0,
              "ticks": ""
             }
            },
            "type": "scattergeo"
           }
          ],
          "scattergl": [
           {
            "marker": {
             "colorbar": {
              "outlinewidth": 0,
              "ticks": ""
             }
            },
            "type": "scattergl"
           }
          ],
          "scattermapbox": [
           {
            "marker": {
             "colorbar": {
              "outlinewidth": 0,
              "ticks": ""
             }
            },
            "type": "scattermapbox"
           }
          ],
          "scatterpolar": [
           {
            "marker": {
             "colorbar": {
              "outlinewidth": 0,
              "ticks": ""
             }
            },
            "type": "scatterpolar"
           }
          ],
          "scatterpolargl": [
           {
            "marker": {
             "colorbar": {
              "outlinewidth": 0,
              "ticks": ""
             }
            },
            "type": "scatterpolargl"
           }
          ],
          "scatterternary": [
           {
            "marker": {
             "colorbar": {
              "outlinewidth": 0,
              "ticks": ""
             }
            },
            "type": "scatterternary"
           }
          ],
          "surface": [
           {
            "colorbar": {
             "outlinewidth": 0,
             "ticks": ""
            },
            "colorscale": [
             [
              0,
              "#0d0887"
             ],
             [
              0.1111111111111111,
              "#46039f"
             ],
             [
              0.2222222222222222,
              "#7201a8"
             ],
             [
              0.3333333333333333,
              "#9c179e"
             ],
             [
              0.4444444444444444,
              "#bd3786"
             ],
             [
              0.5555555555555556,
              "#d8576b"
             ],
             [
              0.6666666666666666,
              "#ed7953"
             ],
             [
              0.7777777777777778,
              "#fb9f3a"
             ],
             [
              0.8888888888888888,
              "#fdca26"
             ],
             [
              1,
              "#f0f921"
             ]
            ],
            "type": "surface"
           }
          ],
          "table": [
           {
            "cells": {
             "fill": {
              "color": "#EBF0F8"
             },
             "line": {
              "color": "white"
             }
            },
            "header": {
             "fill": {
              "color": "#C8D4E3"
             },
             "line": {
              "color": "white"
             }
            },
            "type": "table"
           }
          ]
         },
         "layout": {
          "annotationdefaults": {
           "arrowcolor": "#2a3f5f",
           "arrowhead": 0,
           "arrowwidth": 1
          },
          "autotypenumbers": "strict",
          "coloraxis": {
           "colorbar": {
            "outlinewidth": 0,
            "ticks": ""
           }
          },
          "colorscale": {
           "diverging": [
            [
             0,
             "#8e0152"
            ],
            [
             0.1,
             "#c51b7d"
            ],
            [
             0.2,
             "#de77ae"
            ],
            [
             0.3,
             "#f1b6da"
            ],
            [
             0.4,
             "#fde0ef"
            ],
            [
             0.5,
             "#f7f7f7"
            ],
            [
             0.6,
             "#e6f5d0"
            ],
            [
             0.7,
             "#b8e186"
            ],
            [
             0.8,
             "#7fbc41"
            ],
            [
             0.9,
             "#4d9221"
            ],
            [
             1,
             "#276419"
            ]
           ],
           "sequential": [
            [
             0,
             "#0d0887"
            ],
            [
             0.1111111111111111,
             "#46039f"
            ],
            [
             0.2222222222222222,
             "#7201a8"
            ],
            [
             0.3333333333333333,
             "#9c179e"
            ],
            [
             0.4444444444444444,
             "#bd3786"
            ],
            [
             0.5555555555555556,
             "#d8576b"
            ],
            [
             0.6666666666666666,
             "#ed7953"
            ],
            [
             0.7777777777777778,
             "#fb9f3a"
            ],
            [
             0.8888888888888888,
             "#fdca26"
            ],
            [
             1,
             "#f0f921"
            ]
           ],
           "sequentialminus": [
            [
             0,
             "#0d0887"
            ],
            [
             0.1111111111111111,
             "#46039f"
            ],
            [
             0.2222222222222222,
             "#7201a8"
            ],
            [
             0.3333333333333333,
             "#9c179e"
            ],
            [
             0.4444444444444444,
             "#bd3786"
            ],
            [
             0.5555555555555556,
             "#d8576b"
            ],
            [
             0.6666666666666666,
             "#ed7953"
            ],
            [
             0.7777777777777778,
             "#fb9f3a"
            ],
            [
             0.8888888888888888,
             "#fdca26"
            ],
            [
             1,
             "#f0f921"
            ]
           ]
          },
          "colorway": [
           "#636efa",
           "#EF553B",
           "#00cc96",
           "#ab63fa",
           "#FFA15A",
           "#19d3f3",
           "#FF6692",
           "#B6E880",
           "#FF97FF",
           "#FECB52"
          ],
          "font": {
           "color": "#2a3f5f"
          },
          "geo": {
           "bgcolor": "white",
           "lakecolor": "white",
           "landcolor": "#E5ECF6",
           "showlakes": true,
           "showland": true,
           "subunitcolor": "white"
          },
          "hoverlabel": {
           "align": "left"
          },
          "hovermode": "closest",
          "mapbox": {
           "style": "light"
          },
          "paper_bgcolor": "white",
          "plot_bgcolor": "#E5ECF6",
          "polar": {
           "angularaxis": {
            "gridcolor": "white",
            "linecolor": "white",
            "ticks": ""
           },
           "bgcolor": "#E5ECF6",
           "radialaxis": {
            "gridcolor": "white",
            "linecolor": "white",
            "ticks": ""
           }
          },
          "scene": {
           "xaxis": {
            "backgroundcolor": "#E5ECF6",
            "gridcolor": "white",
            "gridwidth": 2,
            "linecolor": "white",
            "showbackground": true,
            "ticks": "",
            "zerolinecolor": "white"
           },
           "yaxis": {
            "backgroundcolor": "#E5ECF6",
            "gridcolor": "white",
            "gridwidth": 2,
            "linecolor": "white",
            "showbackground": true,
            "ticks": "",
            "zerolinecolor": "white"
           },
           "zaxis": {
            "backgroundcolor": "#E5ECF6",
            "gridcolor": "white",
            "gridwidth": 2,
            "linecolor": "white",
            "showbackground": true,
            "ticks": "",
            "zerolinecolor": "white"
           }
          },
          "shapedefaults": {
           "line": {
            "color": "#2a3f5f"
           }
          },
          "ternary": {
           "aaxis": {
            "gridcolor": "white",
            "linecolor": "white",
            "ticks": ""
           },
           "baxis": {
            "gridcolor": "white",
            "linecolor": "white",
            "ticks": ""
           },
           "bgcolor": "#E5ECF6",
           "caxis": {
            "gridcolor": "white",
            "linecolor": "white",
            "ticks": ""
           }
          },
          "title": {
           "x": 0.05
          },
          "xaxis": {
           "automargin": true,
           "gridcolor": "white",
           "linecolor": "white",
           "ticks": "",
           "title": {
            "standoff": 15
           },
           "zerolinecolor": "white",
           "zerolinewidth": 2
          },
          "yaxis": {
           "automargin": true,
           "gridcolor": "white",
           "linecolor": "white",
           "ticks": "",
           "title": {
            "standoff": 15
           },
           "zerolinecolor": "white",
           "zerolinewidth": 2
          }
         }
        },
        "title": {
         "text": "Preço Médio de Revenda por Região e Produto"
        },
        "xaxis": {
         "anchor": "y",
         "domain": [
          0,
          1
         ],
         "title": {
          "text": "Região"
         }
        },
        "yaxis": {
         "anchor": "x",
         "domain": [
          0,
          1
         ],
         "title": {
          "text": "Preço Médio Revenda"
         }
        }
       }
      },
      "text/html": [
       "<div>                            <div id=\"2eec2d19-473d-4ca7-8b34-e4af9dd446d8\" class=\"plotly-graph-div\" style=\"height:525px; width:100%;\"></div>            <script type=\"text/javascript\">                require([\"plotly\"], function(Plotly) {                    window.PLOTLYENV=window.PLOTLYENV || {};                                    if (document.getElementById(\"2eec2d19-473d-4ca7-8b34-e4af9dd446d8\")) {                    Plotly.newPlot(                        \"2eec2d19-473d-4ca7-8b34-e4af9dd446d8\",                        [{\"alignmentgroup\":\"True\",\"hovertemplate\":\"PRODUTO=ETANOL HIDRATADO<br>Regi\\u00e3o=%{x}<br>Pre\\u00e7o M\\u00e9dio Revenda=%{y}<extra></extra>\",\"legendgroup\":\"ETANOL HIDRATADO\",\"marker\":{\"color\":\"#636efa\",\"pattern\":{\"shape\":\"\"}},\"name\":\"ETANOL HIDRATADO\",\"offsetgroup\":\"ETANOL HIDRATADO\",\"orientation\":\"v\",\"showlegend\":true,\"textposition\":\"outside\",\"texttemplate\":\"%{y:.3s}\",\"x\":[\"NORTE\",\"NORDESTE\",\"CENTRO OESTE\",\"SUDESTE\",\"SUL\"],\"xaxis\":\"x\",\"y\":[2.9490765550239235,2.7214555555555555,2.5052290502793295,2.5977562326869803,2.7290221402214025],\"yaxis\":\"y\",\"type\":\"bar\",\"textangle\":0},{\"alignmentgroup\":\"True\",\"hovertemplate\":\"PRODUTO=GASOLINA COMUM<br>Regi\\u00e3o=%{x}<br>Pre\\u00e7o M\\u00e9dio Revenda=%{y}<extra></extra>\",\"legendgroup\":\"GASOLINA COMUM\",\"marker\":{\"color\":\"#EF553B\",\"pattern\":{\"shape\":\"\"}},\"name\":\"GASOLINA COMUM\",\"offsetgroup\":\"GASOLINA COMUM\",\"orientation\":\"v\",\"showlegend\":true,\"textposition\":\"outside\",\"texttemplate\":\"%{y:.3s}\",\"x\":[\"NORTE\",\"NORDESTE\",\"CENTRO OESTE\",\"SUDESTE\",\"SUL\"],\"xaxis\":\"x\",\"y\":[3.5719096774193546,3.45123625,3.5128764044943823,3.4709521126760565,3.397324528301887],\"yaxis\":\"y\",\"type\":\"bar\",\"textangle\":0},{\"alignmentgroup\":\"True\",\"hovertemplate\":\"PRODUTO=GNV<br>Regi\\u00e3o=%{x}<br>Pre\\u00e7o M\\u00e9dio Revenda=%{y}<extra></extra>\",\"legendgroup\":\"GNV\",\"marker\":{\"color\":\"#00cc96\",\"pattern\":{\"shape\":\"\"}},\"name\":\"GNV\",\"offsetgroup\":\"GNV\",\"orientation\":\"v\",\"showlegend\":true,\"textposition\":\"outside\",\"texttemplate\":\"%{y:.3s}\",\"x\":[\"NORDESTE\",\"NORTE\",\"SUDESTE\",\"CENTRO OESTE\",\"SUL\"],\"xaxis\":\"x\",\"y\":[2.3486086956521737,2.3241034482758622,2.2068402203856747,2.3421146788990828,2.385109022556391],\"yaxis\":\"y\",\"type\":\"bar\",\"textangle\":0},{\"alignmentgroup\":\"True\",\"hovertemplate\":\"PRODUTO=\\u00d3LEO DIESEL<br>Regi\\u00e3o=%{x}<br>Pre\\u00e7o M\\u00e9dio Revenda=%{y}<extra></extra>\",\"legendgroup\":\"\\u00d3LEO DIESEL\",\"marker\":{\"color\":\"#ab63fa\",\"pattern\":{\"shape\":\"\"}},\"name\":\"\\u00d3LEO DIESEL\",\"offsetgroup\":\"\\u00d3LEO DIESEL\",\"orientation\":\"v\",\"showlegend\":true,\"textposition\":\"outside\",\"texttemplate\":\"%{y:.3s}\",\"x\":[\"SUL\",\"NORTE\",\"SUDESTE\",\"NORDESTE\",\"CENTRO OESTE\"],\"xaxis\":\"x\",\"y\":[2.736527675276753,3.0113496062992127,2.7455263157894736,2.794500618046972,2.884597222222222],\"yaxis\":\"y\",\"type\":\"bar\",\"textangle\":0},{\"alignmentgroup\":\"True\",\"hovertemplate\":\"PRODUTO=\\u00d3LEO DIESEL S10<br>Regi\\u00e3o=%{x}<br>Pre\\u00e7o M\\u00e9dio Revenda=%{y}<extra></extra>\",\"legendgroup\":\"\\u00d3LEO DIESEL S10\",\"marker\":{\"color\":\"#FFA15A\",\"pattern\":{\"shape\":\"\"}},\"name\":\"\\u00d3LEO DIESEL S10\",\"offsetgroup\":\"\\u00d3LEO DIESEL S10\",\"orientation\":\"v\",\"showlegend\":true,\"textposition\":\"outside\",\"texttemplate\":\"%{y:.3s}\",\"x\":[\"NORTE\",\"NORDESTE\",\"CENTRO OESTE\",\"SUDESTE\",\"SUL\"],\"xaxis\":\"x\",\"y\":[4.068417857142857,3.8546138888888892,3.9783250000000003,3.79089375,3.71895],\"yaxis\":\"y\",\"type\":\"bar\",\"textangle\":0},{\"alignmentgroup\":\"True\",\"hovertemplate\":\"PRODUTO=GASOLINA ADITIVADA<br>Regi\\u00e3o=%{x}<br>Pre\\u00e7o M\\u00e9dio Revenda=%{y}<extra></extra>\",\"legendgroup\":\"GASOLINA ADITIVADA\",\"marker\":{\"color\":\"#19d3f3\",\"pattern\":{\"shape\":\"\"}},\"name\":\"GASOLINA ADITIVADA\",\"offsetgroup\":\"GASOLINA ADITIVADA\",\"orientation\":\"v\",\"showlegend\":true,\"textposition\":\"outside\",\"texttemplate\":\"%{y:.3s}\",\"x\":[\"NORTE\",\"NORDESTE\",\"CENTRO OESTE\",\"SUDESTE\",\"SUL\"],\"xaxis\":\"x\",\"y\":[6.665064935064936,6.792282828282828,6.779136363636363,6.882886363636363,6.593969696969697],\"yaxis\":\"y\",\"type\":\"bar\",\"textangle\":0}],                        {\"template\":{\"data\":{\"histogram2dcontour\":[{\"type\":\"histogram2dcontour\",\"colorbar\":{\"outlinewidth\":0,\"ticks\":\"\"},\"colorscale\":[[0.0,\"#0d0887\"],[0.1111111111111111,\"#46039f\"],[0.2222222222222222,\"#7201a8\"],[0.3333333333333333,\"#9c179e\"],[0.4444444444444444,\"#bd3786\"],[0.5555555555555556,\"#d8576b\"],[0.6666666666666666,\"#ed7953\"],[0.7777777777777778,\"#fb9f3a\"],[0.8888888888888888,\"#fdca26\"],[1.0,\"#f0f921\"]]}],\"choropleth\":[{\"type\":\"choropleth\",\"colorbar\":{\"outlinewidth\":0,\"ticks\":\"\"}}],\"histogram2d\":[{\"type\":\"histogram2d\",\"colorbar\":{\"outlinewidth\":0,\"ticks\":\"\"},\"colorscale\":[[0.0,\"#0d0887\"],[0.1111111111111111,\"#46039f\"],[0.2222222222222222,\"#7201a8\"],[0.3333333333333333,\"#9c179e\"],[0.4444444444444444,\"#bd3786\"],[0.5555555555555556,\"#d8576b\"],[0.6666666666666666,\"#ed7953\"],[0.7777777777777778,\"#fb9f3a\"],[0.8888888888888888,\"#fdca26\"],[1.0,\"#f0f921\"]]}],\"heatmap\":[{\"type\":\"heatmap\",\"colorbar\":{\"outlinewidth\":0,\"ticks\":\"\"},\"colorscale\":[[0.0,\"#0d0887\"],[0.1111111111111111,\"#46039f\"],[0.2222222222222222,\"#7201a8\"],[0.3333333333333333,\"#9c179e\"],[0.4444444444444444,\"#bd3786\"],[0.5555555555555556,\"#d8576b\"],[0.6666666666666666,\"#ed7953\"],[0.7777777777777778,\"#fb9f3a\"],[0.8888888888888888,\"#fdca26\"],[1.0,\"#f0f921\"]]}],\"heatmapgl\":[{\"type\":\"heatmapgl\",\"colorbar\":{\"outlinewidth\":0,\"ticks\":\"\"},\"colorscale\":[[0.0,\"#0d0887\"],[0.1111111111111111,\"#46039f\"],[0.2222222222222222,\"#7201a8\"],[0.3333333333333333,\"#9c179e\"],[0.4444444444444444,\"#bd3786\"],[0.5555555555555556,\"#d8576b\"],[0.6666666666666666,\"#ed7953\"],[0.7777777777777778,\"#fb9f3a\"],[0.8888888888888888,\"#fdca26\"],[1.0,\"#f0f921\"]]}],\"contourcarpet\":[{\"type\":\"contourcarpet\",\"colorbar\":{\"outlinewidth\":0,\"ticks\":\"\"}}],\"contour\":[{\"type\":\"contour\",\"colorbar\":{\"outlinewidth\":0,\"ticks\":\"\"},\"colorscale\":[[0.0,\"#0d0887\"],[0.1111111111111111,\"#46039f\"],[0.2222222222222222,\"#7201a8\"],[0.3333333333333333,\"#9c179e\"],[0.4444444444444444,\"#bd3786\"],[0.5555555555555556,\"#d8576b\"],[0.6666666666666666,\"#ed7953\"],[0.7777777777777778,\"#fb9f3a\"],[0.8888888888888888,\"#fdca26\"],[1.0,\"#f0f921\"]]}],\"surface\":[{\"type\":\"surface\",\"colorbar\":{\"outlinewidth\":0,\"ticks\":\"\"},\"colorscale\":[[0.0,\"#0d0887\"],[0.1111111111111111,\"#46039f\"],[0.2222222222222222,\"#7201a8\"],[0.3333333333333333,\"#9c179e\"],[0.4444444444444444,\"#bd3786\"],[0.5555555555555556,\"#d8576b\"],[0.6666666666666666,\"#ed7953\"],[0.7777777777777778,\"#fb9f3a\"],[0.8888888888888888,\"#fdca26\"],[1.0,\"#f0f921\"]]}],\"mesh3d\":[{\"type\":\"mesh3d\",\"colorbar\":{\"outlinewidth\":0,\"ticks\":\"\"}}],\"scatter\":[{\"fillpattern\":{\"fillmode\":\"overlay\",\"size\":10,\"solidity\":0.2},\"type\":\"scatter\"}],\"parcoords\":[{\"type\":\"parcoords\",\"line\":{\"colorbar\":{\"outlinewidth\":0,\"ticks\":\"\"}}}],\"scatterpolargl\":[{\"type\":\"scatterpolargl\",\"marker\":{\"colorbar\":{\"outlinewidth\":0,\"ticks\":\"\"}}}],\"bar\":[{\"error_x\":{\"color\":\"#2a3f5f\"},\"error_y\":{\"color\":\"#2a3f5f\"},\"marker\":{\"line\":{\"color\":\"#E5ECF6\",\"width\":0.5},\"pattern\":{\"fillmode\":\"overlay\",\"size\":10,\"solidity\":0.2}},\"type\":\"bar\"}],\"scattergeo\":[{\"type\":\"scattergeo\",\"marker\":{\"colorbar\":{\"outlinewidth\":0,\"ticks\":\"\"}}}],\"scatterpolar\":[{\"type\":\"scatterpolar\",\"marker\":{\"colorbar\":{\"outlinewidth\":0,\"ticks\":\"\"}}}],\"histogram\":[{\"marker\":{\"pattern\":{\"fillmode\":\"overlay\",\"size\":10,\"solidity\":0.2}},\"type\":\"histogram\"}],\"scattergl\":[{\"type\":\"scattergl\",\"marker\":{\"colorbar\":{\"outlinewidth\":0,\"ticks\":\"\"}}}],\"scatter3d\":[{\"type\":\"scatter3d\",\"line\":{\"colorbar\":{\"outlinewidth\":0,\"ticks\":\"\"}},\"marker\":{\"colorbar\":{\"outlinewidth\":0,\"ticks\":\"\"}}}],\"scattermapbox\":[{\"type\":\"scattermapbox\",\"marker\":{\"colorbar\":{\"outlinewidth\":0,\"ticks\":\"\"}}}],\"scatterternary\":[{\"type\":\"scatterternary\",\"marker\":{\"colorbar\":{\"outlinewidth\":0,\"ticks\":\"\"}}}],\"scattercarpet\":[{\"type\":\"scattercarpet\",\"marker\":{\"colorbar\":{\"outlinewidth\":0,\"ticks\":\"\"}}}],\"carpet\":[{\"aaxis\":{\"endlinecolor\":\"#2a3f5f\",\"gridcolor\":\"white\",\"linecolor\":\"white\",\"minorgridcolor\":\"white\",\"startlinecolor\":\"#2a3f5f\"},\"baxis\":{\"endlinecolor\":\"#2a3f5f\",\"gridcolor\":\"white\",\"linecolor\":\"white\",\"minorgridcolor\":\"white\",\"startlinecolor\":\"#2a3f5f\"},\"type\":\"carpet\"}],\"table\":[{\"cells\":{\"fill\":{\"color\":\"#EBF0F8\"},\"line\":{\"color\":\"white\"}},\"header\":{\"fill\":{\"color\":\"#C8D4E3\"},\"line\":{\"color\":\"white\"}},\"type\":\"table\"}],\"barpolar\":[{\"marker\":{\"line\":{\"color\":\"#E5ECF6\",\"width\":0.5},\"pattern\":{\"fillmode\":\"overlay\",\"size\":10,\"solidity\":0.2}},\"type\":\"barpolar\"}],\"pie\":[{\"automargin\":true,\"type\":\"pie\"}]},\"layout\":{\"autotypenumbers\":\"strict\",\"colorway\":[\"#636efa\",\"#EF553B\",\"#00cc96\",\"#ab63fa\",\"#FFA15A\",\"#19d3f3\",\"#FF6692\",\"#B6E880\",\"#FF97FF\",\"#FECB52\"],\"font\":{\"color\":\"#2a3f5f\"},\"hovermode\":\"closest\",\"hoverlabel\":{\"align\":\"left\"},\"paper_bgcolor\":\"white\",\"plot_bgcolor\":\"#E5ECF6\",\"polar\":{\"bgcolor\":\"#E5ECF6\",\"angularaxis\":{\"gridcolor\":\"white\",\"linecolor\":\"white\",\"ticks\":\"\"},\"radialaxis\":{\"gridcolor\":\"white\",\"linecolor\":\"white\",\"ticks\":\"\"}},\"ternary\":{\"bgcolor\":\"#E5ECF6\",\"aaxis\":{\"gridcolor\":\"white\",\"linecolor\":\"white\",\"ticks\":\"\"},\"baxis\":{\"gridcolor\":\"white\",\"linecolor\":\"white\",\"ticks\":\"\"},\"caxis\":{\"gridcolor\":\"white\",\"linecolor\":\"white\",\"ticks\":\"\"}},\"coloraxis\":{\"colorbar\":{\"outlinewidth\":0,\"ticks\":\"\"}},\"colorscale\":{\"sequential\":[[0.0,\"#0d0887\"],[0.1111111111111111,\"#46039f\"],[0.2222222222222222,\"#7201a8\"],[0.3333333333333333,\"#9c179e\"],[0.4444444444444444,\"#bd3786\"],[0.5555555555555556,\"#d8576b\"],[0.6666666666666666,\"#ed7953\"],[0.7777777777777778,\"#fb9f3a\"],[0.8888888888888888,\"#fdca26\"],[1.0,\"#f0f921\"]],\"sequentialminus\":[[0.0,\"#0d0887\"],[0.1111111111111111,\"#46039f\"],[0.2222222222222222,\"#7201a8\"],[0.3333333333333333,\"#9c179e\"],[0.4444444444444444,\"#bd3786\"],[0.5555555555555556,\"#d8576b\"],[0.6666666666666666,\"#ed7953\"],[0.7777777777777778,\"#fb9f3a\"],[0.8888888888888888,\"#fdca26\"],[1.0,\"#f0f921\"]],\"diverging\":[[0,\"#8e0152\"],[0.1,\"#c51b7d\"],[0.2,\"#de77ae\"],[0.3,\"#f1b6da\"],[0.4,\"#fde0ef\"],[0.5,\"#f7f7f7\"],[0.6,\"#e6f5d0\"],[0.7,\"#b8e186\"],[0.8,\"#7fbc41\"],[0.9,\"#4d9221\"],[1,\"#276419\"]]},\"xaxis\":{\"gridcolor\":\"white\",\"linecolor\":\"white\",\"ticks\":\"\",\"title\":{\"standoff\":15},\"zerolinecolor\":\"white\",\"automargin\":true,\"zerolinewidth\":2},\"yaxis\":{\"gridcolor\":\"white\",\"linecolor\":\"white\",\"ticks\":\"\",\"title\":{\"standoff\":15},\"zerolinecolor\":\"white\",\"automargin\":true,\"zerolinewidth\":2},\"scene\":{\"xaxis\":{\"backgroundcolor\":\"#E5ECF6\",\"gridcolor\":\"white\",\"linecolor\":\"white\",\"showbackground\":true,\"ticks\":\"\",\"zerolinecolor\":\"white\",\"gridwidth\":2},\"yaxis\":{\"backgroundcolor\":\"#E5ECF6\",\"gridcolor\":\"white\",\"linecolor\":\"white\",\"showbackground\":true,\"ticks\":\"\",\"zerolinecolor\":\"white\",\"gridwidth\":2},\"zaxis\":{\"backgroundcolor\":\"#E5ECF6\",\"gridcolor\":\"white\",\"linecolor\":\"white\",\"showbackground\":true,\"ticks\":\"\",\"zerolinecolor\":\"white\",\"gridwidth\":2}},\"shapedefaults\":{\"line\":{\"color\":\"#2a3f5f\"}},\"annotationdefaults\":{\"arrowcolor\":\"#2a3f5f\",\"arrowhead\":0,\"arrowwidth\":1},\"geo\":{\"bgcolor\":\"white\",\"landcolor\":\"#E5ECF6\",\"subunitcolor\":\"white\",\"showland\":true,\"showlakes\":true,\"lakecolor\":\"white\"},\"title\":{\"x\":0.05},\"mapbox\":{\"style\":\"light\"}}},\"xaxis\":{\"anchor\":\"y\",\"domain\":[0.0,1.0],\"title\":{\"text\":\"Regi\\u00e3o\"}},\"yaxis\":{\"anchor\":\"x\",\"domain\":[0.0,1.0],\"title\":{\"text\":\"Pre\\u00e7o M\\u00e9dio Revenda\"}},\"legend\":{\"title\":{\"text\":\"PRODUTO\"},\"tracegroupgap\":0},\"title\":{\"text\":\"Pre\\u00e7o M\\u00e9dio de Revenda por Regi\\u00e3o e Produto\"},\"barmode\":\"group\"},                        {\"responsive\": true}                    ).then(function(){\n",
       "                            \n",
       "var gd = document.getElementById('2eec2d19-473d-4ca7-8b34-e4af9dd446d8');\n",
       "var x = new MutationObserver(function (mutations, observer) {{\n",
       "        var display = window.getComputedStyle(gd).display;\n",
       "        if (!display || display === 'none') {{\n",
       "            console.log([gd, 'removed!']);\n",
       "            Plotly.purge(gd);\n",
       "            observer.disconnect();\n",
       "        }}\n",
       "}});\n",
       "\n",
       "// Listen for the removal of the full notebook cells\n",
       "var notebookContainer = gd.closest('#notebook-container');\n",
       "if (notebookContainer) {{\n",
       "    x.observe(notebookContainer, {childList: true});\n",
       "}}\n",
       "\n",
       "// Listen for the clearing of the current output cell\n",
       "var outputEl = gd.closest('.output');\n",
       "if (outputEl) {{\n",
       "    x.observe(outputEl, {childList: true});\n",
       "}}\n",
       "\n",
       "                        })                };                });            </script>        </div>"
      ]
     },
     "metadata": {},
     "output_type": "display_data"
    }
   ],
   "source": [
    "grafico_prod_regiao = px.bar(vendas_prod_regiao, x=\"REGIÃO\", y=\"PREÇO MÉDIO REVENDA\", color=\"PRODUTO\", barmode=\"group\",\n",
    "                             title = \"Preço Médio de Revenda por Região e Produto\", text_auto='.3s',\n",
    "                   labels={'REGIÃO':'Região', 'PREÇO MÉDIO REVENDA':'Preço Médio Revenda'})\n",
    "grafico_prod_regiao.update_traces(textangle=0, textposition=\"outside\")\n",
    "grafico_prod_regiao.show()"
   ]
  },
  {
   "cell_type": "code",
   "execution_count": 178,
   "id": "88371290",
   "metadata": {},
   "outputs": [
    {
     "data": {
      "text/html": [
       "<div>\n",
       "<style scoped>\n",
       "    .dataframe tbody tr th:only-of-type {\n",
       "        vertical-align: middle;\n",
       "    }\n",
       "\n",
       "    .dataframe tbody tr th {\n",
       "        vertical-align: top;\n",
       "    }\n",
       "\n",
       "    .dataframe thead th {\n",
       "        text-align: right;\n",
       "    }\n",
       "</style>\n",
       "<table border=\"1\" class=\"dataframe\">\n",
       "  <thead>\n",
       "    <tr style=\"text-align: right;\">\n",
       "      <th></th>\n",
       "      <th>SIGLA_UF</th>\n",
       "      <th>PRODUTO</th>\n",
       "      <th>PREÇO MÉDIO REVENDA</th>\n",
       "    </tr>\n",
       "  </thead>\n",
       "  <tbody>\n",
       "    <tr>\n",
       "      <th>0</th>\n",
       "      <td>AC</td>\n",
       "      <td>ETANOL HIDRATADO</td>\n",
       "      <td>3.094663</td>\n",
       "    </tr>\n",
       "    <tr>\n",
       "      <th>1</th>\n",
       "      <td>AL</td>\n",
       "      <td>ETANOL HIDRATADO</td>\n",
       "      <td>2.735303</td>\n",
       "    </tr>\n",
       "    <tr>\n",
       "      <th>2</th>\n",
       "      <td>AP</td>\n",
       "      <td>ETANOL HIDRATADO</td>\n",
       "      <td>3.017761</td>\n",
       "    </tr>\n",
       "    <tr>\n",
       "      <th>3</th>\n",
       "      <td>AM</td>\n",
       "      <td>ETANOL HIDRATADO</td>\n",
       "      <td>2.743483</td>\n",
       "    </tr>\n",
       "    <tr>\n",
       "      <th>4</th>\n",
       "      <td>BA</td>\n",
       "      <td>ETANOL HIDRATADO</td>\n",
       "      <td>2.632831</td>\n",
       "    </tr>\n",
       "  </tbody>\n",
       "</table>\n",
       "</div>"
      ],
      "text/plain": [
       "  SIGLA_UF           PRODUTO  PREÇO MÉDIO REVENDA\n",
       "0       AC  ETANOL HIDRATADO             3.094663\n",
       "1       AL  ETANOL HIDRATADO             2.735303\n",
       "2       AP  ETANOL HIDRATADO             3.017761\n",
       "3       AM  ETANOL HIDRATADO             2.743483\n",
       "4       BA  ETANOL HIDRATADO             2.632831"
      ]
     },
     "execution_count": 178,
     "metadata": {},
     "output_type": "execute_result"
    }
   ],
   "source": [
    "#preço médio de revenda por estado e regiao\n",
    "vendas_uf = df_prc_comb.groupby([\"SIGLA_UF\",\"PRODUTO\"], sort=False).agg({'PREÇO MÉDIO REVENDA': np.mean}).reset_index()\n",
    "vendas_uf.head()"
   ]
  },
  {
   "cell_type": "code",
   "execution_count": 179,
   "id": "b16b9971",
   "metadata": {},
   "outputs": [
    {
     "data": {
      "application/vnd.plotly.v1+json": {
       "config": {
        "plotlyServerURL": "https://plot.ly"
       },
       "data": [
        {
         "alignmentgroup": "True",
         "hovertemplate": "PRODUTO=ETANOL HIDRATADO<br>UF=%{x}<br>Preço Médio Revenda=%{y}<extra></extra>",
         "legendgroup": "ETANOL HIDRATADO",
         "marker": {
          "color": "#636efa",
          "pattern": {
           "shape": ""
          }
         },
         "name": "ETANOL HIDRATADO",
         "offsetgroup": "ETANOL HIDRATADO",
         "orientation": "v",
         "showlegend": true,
         "textangle": 0,
         "textposition": "outside",
         "texttemplate": "%{y:.3s}",
         "type": "bar",
         "x": [
          "AC",
          "AL",
          "AP",
          "AM",
          "BA",
          "CE",
          "DF",
          "ES",
          "GO",
          "MA",
          "MT",
          "MS",
          "MG",
          "PA",
          "PB",
          "PR",
          "PE",
          "PI",
          "RJ",
          "RN",
          "RS",
          "RO",
          "RR",
          "SC",
          "SP",
          "SE",
          "TO"
         ],
         "xaxis": "x",
         "y": [
          3.0946629213483146,
          2.735303370786517,
          3.0177613636363634,
          2.743483146067416,
          2.6328314606741574,
          2.767449438202247,
          2.7613595505617976,
          2.8474831460674155,
          2.3903932584269665,
          2.7743111111111114,
          2.3063111111111114,
          2.5644222222222224,
          2.509142857142857,
          3.0319999999999996,
          2.5893516483516485,
          2.375714285714286,
          2.6273186813186813,
          2.8012417582417584,
          2.8303296703296703,
          2.8185666666666664,
          3.0016666666666665,
          2.9203222222222225,
          3.0936333333333335,
          2.813611111111111,
          2.2052444444444443,
          2.7480333333333333,
          2.741611111111111
         ],
         "yaxis": "y"
        },
        {
         "alignmentgroup": "True",
         "hovertemplate": "PRODUTO=GASOLINA COMUM<br>UF=%{x}<br>Preço Médio Revenda=%{y}<extra></extra>",
         "legendgroup": "GASOLINA COMUM",
         "marker": {
          "color": "#EF553B",
          "pattern": {
           "shape": ""
          }
         },
         "name": "GASOLINA COMUM",
         "offsetgroup": "GASOLINA COMUM",
         "orientation": "v",
         "showlegend": true,
         "textangle": 0,
         "textposition": "outside",
         "texttemplate": "%{y:.3s}",
         "type": "bar",
         "x": [
          "AC",
          "AL",
          "AP",
          "AM",
          "BA",
          "CE",
          "DF",
          "ES",
          "GO",
          "MA",
          "MT",
          "MS",
          "MG",
          "PA",
          "PB",
          "PR",
          "PE",
          "PI",
          "RJ",
          "RN",
          "RS",
          "RO",
          "RR",
          "SC",
          "SP",
          "SE",
          "TO"
         ],
         "xaxis": "x",
         "y": [
          3.8408426966292133,
          3.5178539325842695,
          3.3418089887640448,
          3.4792359550561796,
          3.5099101123595506,
          3.4900786516853937,
          3.522415730337079,
          3.5078764044943824,
          3.5290674157303368,
          3.4009550561797752,
          3.5618314606741572,
          3.4381910112359555,
          3.473831460674157,
          3.5979213483146064,
          3.2979662921348316,
          3.3402921348314605,
          3.414,
          3.453685393258427,
          3.620112359550562,
          3.5356853932584267,
          3.4808977272727275,
          3.608943181818182,
          3.5082954545454546,
          3.371431818181818,
          3.279840909090909,
          3.440875,
          3.6266363636363637
         ],
         "yaxis": "y"
        },
        {
         "alignmentgroup": "True",
         "hovertemplate": "PRODUTO=GNV<br>UF=%{x}<br>Preço Médio Revenda=%{y}<extra></extra>",
         "legendgroup": "GNV",
         "marker": {
          "color": "#00cc96",
          "pattern": {
           "shape": ""
          }
         },
         "name": "GNV",
         "offsetgroup": "GNV",
         "orientation": "v",
         "showlegend": true,
         "textangle": 0,
         "textposition": "outside",
         "texttemplate": "%{y:.3s}",
         "type": "bar",
         "x": [
          "AL",
          "AM",
          "BA",
          "CE",
          "ES",
          "MT",
          "MS",
          "MG",
          "PB",
          "PR",
          "PE",
          "RJ",
          "RN",
          "RS",
          "SC",
          "SP",
          "SE",
          "GO",
          "PA",
          "TO",
          "MA",
          "PI",
          "DF",
          "AC",
          "AP"
         ],
         "xaxis": "x",
         "y": [
          2.3794615384615385,
          2.2438111111111114,
          2.2137000000000002,
          2.4334615384615383,
          2.3130543478260868,
          2.119944444444444,
          2.3476703296703296,
          2.2796236559139786,
          2.4042000000000003,
          2.2479888888888886,
          2.1751235955056183,
          2.170863636363636,
          2.437932584269663,
          2.558831460674157,
          2.349241379310345,
          2.0582333333333334,
          2.3820112359550563,
          2.218814814814815,
          2.6083846153846153,
          2.7496666666666667,
          2.7742222222222224,
          1.898,
          4.6240000000000006,
          2.315,
          2.705833333333333
         ],
         "yaxis": "y"
        },
        {
         "alignmentgroup": "True",
         "hovertemplate": "PRODUTO=ÓLEO DIESEL<br>UF=%{x}<br>Preço Médio Revenda=%{y}<extra></extra>",
         "legendgroup": "ÓLEO DIESEL",
         "marker": {
          "color": "#ab63fa",
          "pattern": {
           "shape": ""
          }
         },
         "name": "ÓLEO DIESEL",
         "offsetgroup": "ÓLEO DIESEL",
         "orientation": "v",
         "showlegend": true,
         "textangle": 0,
         "textposition": "outside",
         "texttemplate": "%{y:.3s}",
         "type": "bar",
         "x": [
          "RS",
          "RO",
          "RR",
          "SC",
          "SP",
          "SE",
          "TO",
          "AC",
          "AL",
          "AP",
          "AM",
          "BA",
          "CE",
          "DF",
          "ES",
          "GO",
          "MA",
          "MT",
          "MS",
          "MG",
          "PA",
          "PB",
          "PR",
          "PE",
          "PI",
          "RJ",
          "RN"
         ],
         "xaxis": "x",
         "y": [
          2.771956043956044,
          3.0032417582417583,
          3.075285714285714,
          2.753967032967033,
          2.7160659340659343,
          2.7853406593406596,
          2.781813186813187,
          3.397813186813187,
          2.802032967032967,
          2.9846153846153847,
          2.8761758241758244,
          2.7473222222222224,
          2.8518555555555554,
          2.8184666666666667,
          2.7467444444444444,
          2.7774555555555556,
          2.7706666666666666,
          3.038511111111111,
          2.9039555555555556,
          2.7631666666666668,
          2.9593595505617976,
          2.741865168539326,
          2.6824719101123597,
          2.811449438202247,
          2.845876404494382,
          2.756455555555555,
          2.7942888888888886
         ],
         "yaxis": "y"
        },
        {
         "alignmentgroup": "True",
         "hovertemplate": "PRODUTO=ÓLEO DIESEL S10<br>UF=%{x}<br>Preço Médio Revenda=%{y}<extra></extra>",
         "legendgroup": "ÓLEO DIESEL S10",
         "marker": {
          "color": "#FFA15A",
          "pattern": {
           "shape": ""
          }
         },
         "name": "ÓLEO DIESEL S10",
         "offsetgroup": "ÓLEO DIESEL S10",
         "orientation": "v",
         "showlegend": true,
         "textangle": 0,
         "textposition": "outside",
         "texttemplate": "%{y:.3s}",
         "type": "bar",
         "x": [
          "AC",
          "AL",
          "AP",
          "AM",
          "BA",
          "CE",
          "DF",
          "ES",
          "GO",
          "MA",
          "MT",
          "MS",
          "MG",
          "PA",
          "PB",
          "PR",
          "PE",
          "PI",
          "RJ",
          "RN",
          "RS",
          "RO",
          "RR",
          "SC",
          "SP",
          "SE",
          "TO"
         ],
         "xaxis": "x",
         "y": [
          4.4582,
          3.8857500000000003,
          4.2608,
          3.8746,
          3.8423499999999997,
          3.9082250000000003,
          3.9536749999999996,
          3.739325,
          3.898725,
          3.80205,
          4.1190750000000005,
          3.941825,
          3.836625,
          4.0052,
          3.78635,
          3.64615,
          3.6981,
          3.901625,
          3.8292,
          4.0055,
          3.7683,
          4.06635,
          4.02225,
          3.7424,
          3.758425,
          3.8615749999999998,
          3.791525
         ],
         "yaxis": "y"
        },
        {
         "alignmentgroup": "True",
         "hovertemplate": "PRODUTO=GASOLINA ADITIVADA<br>UF=%{x}<br>Preço Médio Revenda=%{y}<extra></extra>",
         "legendgroup": "GASOLINA ADITIVADA",
         "marker": {
          "color": "#19d3f3",
          "pattern": {
           "shape": ""
          }
         },
         "name": "GASOLINA ADITIVADA",
         "offsetgroup": "GASOLINA ADITIVADA",
         "orientation": "v",
         "showlegend": true,
         "textangle": 0,
         "textposition": "outside",
         "texttemplate": "%{y:.3s}",
         "type": "bar",
         "x": [
          "AC",
          "AL",
          "AP",
          "AM",
          "BA",
          "CE",
          "DF",
          "ES",
          "GO",
          "MA",
          "MT",
          "MS",
          "MG",
          "PA",
          "PB",
          "PR",
          "PE",
          "PI",
          "RJ",
          "RN",
          "RS",
          "RO",
          "RR",
          "SC",
          "SP",
          "SE",
          "TO"
         ],
         "xaxis": "x",
         "y": [
          7,
          6.665363636363637,
          6.096363636363637,
          6.596272727272727,
          6.802363636363636,
          6.832909090909092,
          6.918272727272727,
          6.820727272727273,
          6.994454545454545,
          6.602363636363637,
          6.609181818181818,
          6.594636363636363,
          7.000272727272727,
          6.866,
          6.542454545454546,
          6.553454545454545,
          6.700090909090909,
          7.260545454545454,
          7.242363636363636,
          7.028090909090909,
          6.731,
          6.778636363636363,
          6.437,
          6.497454545454545,
          6.468181818181819,
          6.696363636363636,
          6.881181818181818
         ],
         "yaxis": "y"
        }
       ],
       "layout": {
        "barmode": "relative",
        "legend": {
         "title": {
          "text": "PRODUTO"
         },
         "tracegroupgap": 0
        },
        "template": {
         "data": {
          "bar": [
           {
            "error_x": {
             "color": "#2a3f5f"
            },
            "error_y": {
             "color": "#2a3f5f"
            },
            "marker": {
             "line": {
              "color": "#E5ECF6",
              "width": 0.5
             },
             "pattern": {
              "fillmode": "overlay",
              "size": 10,
              "solidity": 0.2
             }
            },
            "type": "bar"
           }
          ],
          "barpolar": [
           {
            "marker": {
             "line": {
              "color": "#E5ECF6",
              "width": 0.5
             },
             "pattern": {
              "fillmode": "overlay",
              "size": 10,
              "solidity": 0.2
             }
            },
            "type": "barpolar"
           }
          ],
          "carpet": [
           {
            "aaxis": {
             "endlinecolor": "#2a3f5f",
             "gridcolor": "white",
             "linecolor": "white",
             "minorgridcolor": "white",
             "startlinecolor": "#2a3f5f"
            },
            "baxis": {
             "endlinecolor": "#2a3f5f",
             "gridcolor": "white",
             "linecolor": "white",
             "minorgridcolor": "white",
             "startlinecolor": "#2a3f5f"
            },
            "type": "carpet"
           }
          ],
          "choropleth": [
           {
            "colorbar": {
             "outlinewidth": 0,
             "ticks": ""
            },
            "type": "choropleth"
           }
          ],
          "contour": [
           {
            "colorbar": {
             "outlinewidth": 0,
             "ticks": ""
            },
            "colorscale": [
             [
              0,
              "#0d0887"
             ],
             [
              0.1111111111111111,
              "#46039f"
             ],
             [
              0.2222222222222222,
              "#7201a8"
             ],
             [
              0.3333333333333333,
              "#9c179e"
             ],
             [
              0.4444444444444444,
              "#bd3786"
             ],
             [
              0.5555555555555556,
              "#d8576b"
             ],
             [
              0.6666666666666666,
              "#ed7953"
             ],
             [
              0.7777777777777778,
              "#fb9f3a"
             ],
             [
              0.8888888888888888,
              "#fdca26"
             ],
             [
              1,
              "#f0f921"
             ]
            ],
            "type": "contour"
           }
          ],
          "contourcarpet": [
           {
            "colorbar": {
             "outlinewidth": 0,
             "ticks": ""
            },
            "type": "contourcarpet"
           }
          ],
          "heatmap": [
           {
            "colorbar": {
             "outlinewidth": 0,
             "ticks": ""
            },
            "colorscale": [
             [
              0,
              "#0d0887"
             ],
             [
              0.1111111111111111,
              "#46039f"
             ],
             [
              0.2222222222222222,
              "#7201a8"
             ],
             [
              0.3333333333333333,
              "#9c179e"
             ],
             [
              0.4444444444444444,
              "#bd3786"
             ],
             [
              0.5555555555555556,
              "#d8576b"
             ],
             [
              0.6666666666666666,
              "#ed7953"
             ],
             [
              0.7777777777777778,
              "#fb9f3a"
             ],
             [
              0.8888888888888888,
              "#fdca26"
             ],
             [
              1,
              "#f0f921"
             ]
            ],
            "type": "heatmap"
           }
          ],
          "heatmapgl": [
           {
            "colorbar": {
             "outlinewidth": 0,
             "ticks": ""
            },
            "colorscale": [
             [
              0,
              "#0d0887"
             ],
             [
              0.1111111111111111,
              "#46039f"
             ],
             [
              0.2222222222222222,
              "#7201a8"
             ],
             [
              0.3333333333333333,
              "#9c179e"
             ],
             [
              0.4444444444444444,
              "#bd3786"
             ],
             [
              0.5555555555555556,
              "#d8576b"
             ],
             [
              0.6666666666666666,
              "#ed7953"
             ],
             [
              0.7777777777777778,
              "#fb9f3a"
             ],
             [
              0.8888888888888888,
              "#fdca26"
             ],
             [
              1,
              "#f0f921"
             ]
            ],
            "type": "heatmapgl"
           }
          ],
          "histogram": [
           {
            "marker": {
             "pattern": {
              "fillmode": "overlay",
              "size": 10,
              "solidity": 0.2
             }
            },
            "type": "histogram"
           }
          ],
          "histogram2d": [
           {
            "colorbar": {
             "outlinewidth": 0,
             "ticks": ""
            },
            "colorscale": [
             [
              0,
              "#0d0887"
             ],
             [
              0.1111111111111111,
              "#46039f"
             ],
             [
              0.2222222222222222,
              "#7201a8"
             ],
             [
              0.3333333333333333,
              "#9c179e"
             ],
             [
              0.4444444444444444,
              "#bd3786"
             ],
             [
              0.5555555555555556,
              "#d8576b"
             ],
             [
              0.6666666666666666,
              "#ed7953"
             ],
             [
              0.7777777777777778,
              "#fb9f3a"
             ],
             [
              0.8888888888888888,
              "#fdca26"
             ],
             [
              1,
              "#f0f921"
             ]
            ],
            "type": "histogram2d"
           }
          ],
          "histogram2dcontour": [
           {
            "colorbar": {
             "outlinewidth": 0,
             "ticks": ""
            },
            "colorscale": [
             [
              0,
              "#0d0887"
             ],
             [
              0.1111111111111111,
              "#46039f"
             ],
             [
              0.2222222222222222,
              "#7201a8"
             ],
             [
              0.3333333333333333,
              "#9c179e"
             ],
             [
              0.4444444444444444,
              "#bd3786"
             ],
             [
              0.5555555555555556,
              "#d8576b"
             ],
             [
              0.6666666666666666,
              "#ed7953"
             ],
             [
              0.7777777777777778,
              "#fb9f3a"
             ],
             [
              0.8888888888888888,
              "#fdca26"
             ],
             [
              1,
              "#f0f921"
             ]
            ],
            "type": "histogram2dcontour"
           }
          ],
          "mesh3d": [
           {
            "colorbar": {
             "outlinewidth": 0,
             "ticks": ""
            },
            "type": "mesh3d"
           }
          ],
          "parcoords": [
           {
            "line": {
             "colorbar": {
              "outlinewidth": 0,
              "ticks": ""
             }
            },
            "type": "parcoords"
           }
          ],
          "pie": [
           {
            "automargin": true,
            "type": "pie"
           }
          ],
          "scatter": [
           {
            "fillpattern": {
             "fillmode": "overlay",
             "size": 10,
             "solidity": 0.2
            },
            "type": "scatter"
           }
          ],
          "scatter3d": [
           {
            "line": {
             "colorbar": {
              "outlinewidth": 0,
              "ticks": ""
             }
            },
            "marker": {
             "colorbar": {
              "outlinewidth": 0,
              "ticks": ""
             }
            },
            "type": "scatter3d"
           }
          ],
          "scattercarpet": [
           {
            "marker": {
             "colorbar": {
              "outlinewidth": 0,
              "ticks": ""
             }
            },
            "type": "scattercarpet"
           }
          ],
          "scattergeo": [
           {
            "marker": {
             "colorbar": {
              "outlinewidth": 0,
              "ticks": ""
             }
            },
            "type": "scattergeo"
           }
          ],
          "scattergl": [
           {
            "marker": {
             "colorbar": {
              "outlinewidth": 0,
              "ticks": ""
             }
            },
            "type": "scattergl"
           }
          ],
          "scattermapbox": [
           {
            "marker": {
             "colorbar": {
              "outlinewidth": 0,
              "ticks": ""
             }
            },
            "type": "scattermapbox"
           }
          ],
          "scatterpolar": [
           {
            "marker": {
             "colorbar": {
              "outlinewidth": 0,
              "ticks": ""
             }
            },
            "type": "scatterpolar"
           }
          ],
          "scatterpolargl": [
           {
            "marker": {
             "colorbar": {
              "outlinewidth": 0,
              "ticks": ""
             }
            },
            "type": "scatterpolargl"
           }
          ],
          "scatterternary": [
           {
            "marker": {
             "colorbar": {
              "outlinewidth": 0,
              "ticks": ""
             }
            },
            "type": "scatterternary"
           }
          ],
          "surface": [
           {
            "colorbar": {
             "outlinewidth": 0,
             "ticks": ""
            },
            "colorscale": [
             [
              0,
              "#0d0887"
             ],
             [
              0.1111111111111111,
              "#46039f"
             ],
             [
              0.2222222222222222,
              "#7201a8"
             ],
             [
              0.3333333333333333,
              "#9c179e"
             ],
             [
              0.4444444444444444,
              "#bd3786"
             ],
             [
              0.5555555555555556,
              "#d8576b"
             ],
             [
              0.6666666666666666,
              "#ed7953"
             ],
             [
              0.7777777777777778,
              "#fb9f3a"
             ],
             [
              0.8888888888888888,
              "#fdca26"
             ],
             [
              1,
              "#f0f921"
             ]
            ],
            "type": "surface"
           }
          ],
          "table": [
           {
            "cells": {
             "fill": {
              "color": "#EBF0F8"
             },
             "line": {
              "color": "white"
             }
            },
            "header": {
             "fill": {
              "color": "#C8D4E3"
             },
             "line": {
              "color": "white"
             }
            },
            "type": "table"
           }
          ]
         },
         "layout": {
          "annotationdefaults": {
           "arrowcolor": "#2a3f5f",
           "arrowhead": 0,
           "arrowwidth": 1
          },
          "autotypenumbers": "strict",
          "coloraxis": {
           "colorbar": {
            "outlinewidth": 0,
            "ticks": ""
           }
          },
          "colorscale": {
           "diverging": [
            [
             0,
             "#8e0152"
            ],
            [
             0.1,
             "#c51b7d"
            ],
            [
             0.2,
             "#de77ae"
            ],
            [
             0.3,
             "#f1b6da"
            ],
            [
             0.4,
             "#fde0ef"
            ],
            [
             0.5,
             "#f7f7f7"
            ],
            [
             0.6,
             "#e6f5d0"
            ],
            [
             0.7,
             "#b8e186"
            ],
            [
             0.8,
             "#7fbc41"
            ],
            [
             0.9,
             "#4d9221"
            ],
            [
             1,
             "#276419"
            ]
           ],
           "sequential": [
            [
             0,
             "#0d0887"
            ],
            [
             0.1111111111111111,
             "#46039f"
            ],
            [
             0.2222222222222222,
             "#7201a8"
            ],
            [
             0.3333333333333333,
             "#9c179e"
            ],
            [
             0.4444444444444444,
             "#bd3786"
            ],
            [
             0.5555555555555556,
             "#d8576b"
            ],
            [
             0.6666666666666666,
             "#ed7953"
            ],
            [
             0.7777777777777778,
             "#fb9f3a"
            ],
            [
             0.8888888888888888,
             "#fdca26"
            ],
            [
             1,
             "#f0f921"
            ]
           ],
           "sequentialminus": [
            [
             0,
             "#0d0887"
            ],
            [
             0.1111111111111111,
             "#46039f"
            ],
            [
             0.2222222222222222,
             "#7201a8"
            ],
            [
             0.3333333333333333,
             "#9c179e"
            ],
            [
             0.4444444444444444,
             "#bd3786"
            ],
            [
             0.5555555555555556,
             "#d8576b"
            ],
            [
             0.6666666666666666,
             "#ed7953"
            ],
            [
             0.7777777777777778,
             "#fb9f3a"
            ],
            [
             0.8888888888888888,
             "#fdca26"
            ],
            [
             1,
             "#f0f921"
            ]
           ]
          },
          "colorway": [
           "#636efa",
           "#EF553B",
           "#00cc96",
           "#ab63fa",
           "#FFA15A",
           "#19d3f3",
           "#FF6692",
           "#B6E880",
           "#FF97FF",
           "#FECB52"
          ],
          "font": {
           "color": "#2a3f5f"
          },
          "geo": {
           "bgcolor": "white",
           "lakecolor": "white",
           "landcolor": "#E5ECF6",
           "showlakes": true,
           "showland": true,
           "subunitcolor": "white"
          },
          "hoverlabel": {
           "align": "left"
          },
          "hovermode": "closest",
          "mapbox": {
           "style": "light"
          },
          "paper_bgcolor": "white",
          "plot_bgcolor": "#E5ECF6",
          "polar": {
           "angularaxis": {
            "gridcolor": "white",
            "linecolor": "white",
            "ticks": ""
           },
           "bgcolor": "#E5ECF6",
           "radialaxis": {
            "gridcolor": "white",
            "linecolor": "white",
            "ticks": ""
           }
          },
          "scene": {
           "xaxis": {
            "backgroundcolor": "#E5ECF6",
            "gridcolor": "white",
            "gridwidth": 2,
            "linecolor": "white",
            "showbackground": true,
            "ticks": "",
            "zerolinecolor": "white"
           },
           "yaxis": {
            "backgroundcolor": "#E5ECF6",
            "gridcolor": "white",
            "gridwidth": 2,
            "linecolor": "white",
            "showbackground": true,
            "ticks": "",
            "zerolinecolor": "white"
           },
           "zaxis": {
            "backgroundcolor": "#E5ECF6",
            "gridcolor": "white",
            "gridwidth": 2,
            "linecolor": "white",
            "showbackground": true,
            "ticks": "",
            "zerolinecolor": "white"
           }
          },
          "shapedefaults": {
           "line": {
            "color": "#2a3f5f"
           }
          },
          "ternary": {
           "aaxis": {
            "gridcolor": "white",
            "linecolor": "white",
            "ticks": ""
           },
           "baxis": {
            "gridcolor": "white",
            "linecolor": "white",
            "ticks": ""
           },
           "bgcolor": "#E5ECF6",
           "caxis": {
            "gridcolor": "white",
            "linecolor": "white",
            "ticks": ""
           }
          },
          "title": {
           "x": 0.05
          },
          "xaxis": {
           "automargin": true,
           "gridcolor": "white",
           "linecolor": "white",
           "ticks": "",
           "title": {
            "standoff": 15
           },
           "zerolinecolor": "white",
           "zerolinewidth": 2
          },
          "yaxis": {
           "automargin": true,
           "gridcolor": "white",
           "linecolor": "white",
           "ticks": "",
           "title": {
            "standoff": 15
           },
           "zerolinecolor": "white",
           "zerolinewidth": 2
          }
         }
        },
        "title": {
         "text": "Preço Médio de Revenda por Região"
        },
        "xaxis": {
         "anchor": "y",
         "domain": [
          0,
          1
         ],
         "title": {
          "text": "UF"
         }
        },
        "yaxis": {
         "anchor": "x",
         "domain": [
          0,
          1
         ],
         "title": {
          "text": "Preço Médio Revenda"
         }
        }
       }
      },
      "text/html": [
       "<div>                            <div id=\"e8bf8e53-df25-4f3e-8628-39b3d51f50cb\" class=\"plotly-graph-div\" style=\"height:525px; width:100%;\"></div>            <script type=\"text/javascript\">                require([\"plotly\"], function(Plotly) {                    window.PLOTLYENV=window.PLOTLYENV || {};                                    if (document.getElementById(\"e8bf8e53-df25-4f3e-8628-39b3d51f50cb\")) {                    Plotly.newPlot(                        \"e8bf8e53-df25-4f3e-8628-39b3d51f50cb\",                        [{\"alignmentgroup\":\"True\",\"hovertemplate\":\"PRODUTO=ETANOL HIDRATADO<br>UF=%{x}<br>Pre\\u00e7o M\\u00e9dio Revenda=%{y}<extra></extra>\",\"legendgroup\":\"ETANOL HIDRATADO\",\"marker\":{\"color\":\"#636efa\",\"pattern\":{\"shape\":\"\"}},\"name\":\"ETANOL HIDRATADO\",\"offsetgroup\":\"ETANOL HIDRATADO\",\"orientation\":\"v\",\"showlegend\":true,\"textposition\":\"outside\",\"texttemplate\":\"%{y:.3s}\",\"x\":[\"AC\",\"AL\",\"AP\",\"AM\",\"BA\",\"CE\",\"DF\",\"ES\",\"GO\",\"MA\",\"MT\",\"MS\",\"MG\",\"PA\",\"PB\",\"PR\",\"PE\",\"PI\",\"RJ\",\"RN\",\"RS\",\"RO\",\"RR\",\"SC\",\"SP\",\"SE\",\"TO\"],\"xaxis\":\"x\",\"y\":[3.0946629213483146,2.735303370786517,3.0177613636363634,2.743483146067416,2.6328314606741574,2.767449438202247,2.7613595505617976,2.8474831460674155,2.3903932584269665,2.7743111111111114,2.3063111111111114,2.5644222222222224,2.509142857142857,3.0319999999999996,2.5893516483516485,2.375714285714286,2.6273186813186813,2.8012417582417584,2.8303296703296703,2.8185666666666664,3.0016666666666665,2.9203222222222225,3.0936333333333335,2.813611111111111,2.2052444444444443,2.7480333333333333,2.741611111111111],\"yaxis\":\"y\",\"type\":\"bar\",\"textangle\":0},{\"alignmentgroup\":\"True\",\"hovertemplate\":\"PRODUTO=GASOLINA COMUM<br>UF=%{x}<br>Pre\\u00e7o M\\u00e9dio Revenda=%{y}<extra></extra>\",\"legendgroup\":\"GASOLINA COMUM\",\"marker\":{\"color\":\"#EF553B\",\"pattern\":{\"shape\":\"\"}},\"name\":\"GASOLINA COMUM\",\"offsetgroup\":\"GASOLINA COMUM\",\"orientation\":\"v\",\"showlegend\":true,\"textposition\":\"outside\",\"texttemplate\":\"%{y:.3s}\",\"x\":[\"AC\",\"AL\",\"AP\",\"AM\",\"BA\",\"CE\",\"DF\",\"ES\",\"GO\",\"MA\",\"MT\",\"MS\",\"MG\",\"PA\",\"PB\",\"PR\",\"PE\",\"PI\",\"RJ\",\"RN\",\"RS\",\"RO\",\"RR\",\"SC\",\"SP\",\"SE\",\"TO\"],\"xaxis\":\"x\",\"y\":[3.8408426966292133,3.5178539325842695,3.3418089887640448,3.4792359550561796,3.5099101123595506,3.4900786516853937,3.522415730337079,3.5078764044943824,3.5290674157303368,3.4009550561797752,3.5618314606741572,3.4381910112359555,3.473831460674157,3.5979213483146064,3.2979662921348316,3.3402921348314605,3.414,3.453685393258427,3.620112359550562,3.5356853932584267,3.4808977272727275,3.608943181818182,3.5082954545454546,3.371431818181818,3.279840909090909,3.440875,3.6266363636363637],\"yaxis\":\"y\",\"type\":\"bar\",\"textangle\":0},{\"alignmentgroup\":\"True\",\"hovertemplate\":\"PRODUTO=GNV<br>UF=%{x}<br>Pre\\u00e7o M\\u00e9dio Revenda=%{y}<extra></extra>\",\"legendgroup\":\"GNV\",\"marker\":{\"color\":\"#00cc96\",\"pattern\":{\"shape\":\"\"}},\"name\":\"GNV\",\"offsetgroup\":\"GNV\",\"orientation\":\"v\",\"showlegend\":true,\"textposition\":\"outside\",\"texttemplate\":\"%{y:.3s}\",\"x\":[\"AL\",\"AM\",\"BA\",\"CE\",\"ES\",\"MT\",\"MS\",\"MG\",\"PB\",\"PR\",\"PE\",\"RJ\",\"RN\",\"RS\",\"SC\",\"SP\",\"SE\",\"GO\",\"PA\",\"TO\",\"MA\",\"PI\",\"DF\",\"AC\",\"AP\"],\"xaxis\":\"x\",\"y\":[2.3794615384615385,2.2438111111111114,2.2137000000000002,2.4334615384615383,2.3130543478260868,2.119944444444444,2.3476703296703296,2.2796236559139786,2.4042000000000003,2.2479888888888886,2.1751235955056183,2.170863636363636,2.437932584269663,2.558831460674157,2.349241379310345,2.0582333333333334,2.3820112359550563,2.218814814814815,2.6083846153846153,2.7496666666666667,2.7742222222222224,1.898,4.6240000000000006,2.315,2.705833333333333],\"yaxis\":\"y\",\"type\":\"bar\",\"textangle\":0},{\"alignmentgroup\":\"True\",\"hovertemplate\":\"PRODUTO=\\u00d3LEO DIESEL<br>UF=%{x}<br>Pre\\u00e7o M\\u00e9dio Revenda=%{y}<extra></extra>\",\"legendgroup\":\"\\u00d3LEO DIESEL\",\"marker\":{\"color\":\"#ab63fa\",\"pattern\":{\"shape\":\"\"}},\"name\":\"\\u00d3LEO DIESEL\",\"offsetgroup\":\"\\u00d3LEO DIESEL\",\"orientation\":\"v\",\"showlegend\":true,\"textposition\":\"outside\",\"texttemplate\":\"%{y:.3s}\",\"x\":[\"RS\",\"RO\",\"RR\",\"SC\",\"SP\",\"SE\",\"TO\",\"AC\",\"AL\",\"AP\",\"AM\",\"BA\",\"CE\",\"DF\",\"ES\",\"GO\",\"MA\",\"MT\",\"MS\",\"MG\",\"PA\",\"PB\",\"PR\",\"PE\",\"PI\",\"RJ\",\"RN\"],\"xaxis\":\"x\",\"y\":[2.771956043956044,3.0032417582417583,3.075285714285714,2.753967032967033,2.7160659340659343,2.7853406593406596,2.781813186813187,3.397813186813187,2.802032967032967,2.9846153846153847,2.8761758241758244,2.7473222222222224,2.8518555555555554,2.8184666666666667,2.7467444444444444,2.7774555555555556,2.7706666666666666,3.038511111111111,2.9039555555555556,2.7631666666666668,2.9593595505617976,2.741865168539326,2.6824719101123597,2.811449438202247,2.845876404494382,2.756455555555555,2.7942888888888886],\"yaxis\":\"y\",\"type\":\"bar\",\"textangle\":0},{\"alignmentgroup\":\"True\",\"hovertemplate\":\"PRODUTO=\\u00d3LEO DIESEL S10<br>UF=%{x}<br>Pre\\u00e7o M\\u00e9dio Revenda=%{y}<extra></extra>\",\"legendgroup\":\"\\u00d3LEO DIESEL S10\",\"marker\":{\"color\":\"#FFA15A\",\"pattern\":{\"shape\":\"\"}},\"name\":\"\\u00d3LEO DIESEL S10\",\"offsetgroup\":\"\\u00d3LEO DIESEL S10\",\"orientation\":\"v\",\"showlegend\":true,\"textposition\":\"outside\",\"texttemplate\":\"%{y:.3s}\",\"x\":[\"AC\",\"AL\",\"AP\",\"AM\",\"BA\",\"CE\",\"DF\",\"ES\",\"GO\",\"MA\",\"MT\",\"MS\",\"MG\",\"PA\",\"PB\",\"PR\",\"PE\",\"PI\",\"RJ\",\"RN\",\"RS\",\"RO\",\"RR\",\"SC\",\"SP\",\"SE\",\"TO\"],\"xaxis\":\"x\",\"y\":[4.4582,3.8857500000000003,4.2608,3.8746,3.8423499999999997,3.9082250000000003,3.9536749999999996,3.739325,3.898725,3.80205,4.1190750000000005,3.941825,3.836625,4.0052,3.78635,3.64615,3.6981,3.901625,3.8292,4.0055,3.7683,4.06635,4.02225,3.7424,3.758425,3.8615749999999998,3.791525],\"yaxis\":\"y\",\"type\":\"bar\",\"textangle\":0},{\"alignmentgroup\":\"True\",\"hovertemplate\":\"PRODUTO=GASOLINA ADITIVADA<br>UF=%{x}<br>Pre\\u00e7o M\\u00e9dio Revenda=%{y}<extra></extra>\",\"legendgroup\":\"GASOLINA ADITIVADA\",\"marker\":{\"color\":\"#19d3f3\",\"pattern\":{\"shape\":\"\"}},\"name\":\"GASOLINA ADITIVADA\",\"offsetgroup\":\"GASOLINA ADITIVADA\",\"orientation\":\"v\",\"showlegend\":true,\"textposition\":\"outside\",\"texttemplate\":\"%{y:.3s}\",\"x\":[\"AC\",\"AL\",\"AP\",\"AM\",\"BA\",\"CE\",\"DF\",\"ES\",\"GO\",\"MA\",\"MT\",\"MS\",\"MG\",\"PA\",\"PB\",\"PR\",\"PE\",\"PI\",\"RJ\",\"RN\",\"RS\",\"RO\",\"RR\",\"SC\",\"SP\",\"SE\",\"TO\"],\"xaxis\":\"x\",\"y\":[7.0,6.665363636363637,6.096363636363637,6.596272727272727,6.802363636363636,6.832909090909092,6.918272727272727,6.820727272727273,6.994454545454545,6.602363636363637,6.609181818181818,6.594636363636363,7.000272727272727,6.866,6.542454545454546,6.553454545454545,6.700090909090909,7.260545454545454,7.242363636363636,7.028090909090909,6.731,6.778636363636363,6.437,6.497454545454545,6.468181818181819,6.696363636363636,6.881181818181818],\"yaxis\":\"y\",\"type\":\"bar\",\"textangle\":0}],                        {\"template\":{\"data\":{\"histogram2dcontour\":[{\"type\":\"histogram2dcontour\",\"colorbar\":{\"outlinewidth\":0,\"ticks\":\"\"},\"colorscale\":[[0.0,\"#0d0887\"],[0.1111111111111111,\"#46039f\"],[0.2222222222222222,\"#7201a8\"],[0.3333333333333333,\"#9c179e\"],[0.4444444444444444,\"#bd3786\"],[0.5555555555555556,\"#d8576b\"],[0.6666666666666666,\"#ed7953\"],[0.7777777777777778,\"#fb9f3a\"],[0.8888888888888888,\"#fdca26\"],[1.0,\"#f0f921\"]]}],\"choropleth\":[{\"type\":\"choropleth\",\"colorbar\":{\"outlinewidth\":0,\"ticks\":\"\"}}],\"histogram2d\":[{\"type\":\"histogram2d\",\"colorbar\":{\"outlinewidth\":0,\"ticks\":\"\"},\"colorscale\":[[0.0,\"#0d0887\"],[0.1111111111111111,\"#46039f\"],[0.2222222222222222,\"#7201a8\"],[0.3333333333333333,\"#9c179e\"],[0.4444444444444444,\"#bd3786\"],[0.5555555555555556,\"#d8576b\"],[0.6666666666666666,\"#ed7953\"],[0.7777777777777778,\"#fb9f3a\"],[0.8888888888888888,\"#fdca26\"],[1.0,\"#f0f921\"]]}],\"heatmap\":[{\"type\":\"heatmap\",\"colorbar\":{\"outlinewidth\":0,\"ticks\":\"\"},\"colorscale\":[[0.0,\"#0d0887\"],[0.1111111111111111,\"#46039f\"],[0.2222222222222222,\"#7201a8\"],[0.3333333333333333,\"#9c179e\"],[0.4444444444444444,\"#bd3786\"],[0.5555555555555556,\"#d8576b\"],[0.6666666666666666,\"#ed7953\"],[0.7777777777777778,\"#fb9f3a\"],[0.8888888888888888,\"#fdca26\"],[1.0,\"#f0f921\"]]}],\"heatmapgl\":[{\"type\":\"heatmapgl\",\"colorbar\":{\"outlinewidth\":0,\"ticks\":\"\"},\"colorscale\":[[0.0,\"#0d0887\"],[0.1111111111111111,\"#46039f\"],[0.2222222222222222,\"#7201a8\"],[0.3333333333333333,\"#9c179e\"],[0.4444444444444444,\"#bd3786\"],[0.5555555555555556,\"#d8576b\"],[0.6666666666666666,\"#ed7953\"],[0.7777777777777778,\"#fb9f3a\"],[0.8888888888888888,\"#fdca26\"],[1.0,\"#f0f921\"]]}],\"contourcarpet\":[{\"type\":\"contourcarpet\",\"colorbar\":{\"outlinewidth\":0,\"ticks\":\"\"}}],\"contour\":[{\"type\":\"contour\",\"colorbar\":{\"outlinewidth\":0,\"ticks\":\"\"},\"colorscale\":[[0.0,\"#0d0887\"],[0.1111111111111111,\"#46039f\"],[0.2222222222222222,\"#7201a8\"],[0.3333333333333333,\"#9c179e\"],[0.4444444444444444,\"#bd3786\"],[0.5555555555555556,\"#d8576b\"],[0.6666666666666666,\"#ed7953\"],[0.7777777777777778,\"#fb9f3a\"],[0.8888888888888888,\"#fdca26\"],[1.0,\"#f0f921\"]]}],\"surface\":[{\"type\":\"surface\",\"colorbar\":{\"outlinewidth\":0,\"ticks\":\"\"},\"colorscale\":[[0.0,\"#0d0887\"],[0.1111111111111111,\"#46039f\"],[0.2222222222222222,\"#7201a8\"],[0.3333333333333333,\"#9c179e\"],[0.4444444444444444,\"#bd3786\"],[0.5555555555555556,\"#d8576b\"],[0.6666666666666666,\"#ed7953\"],[0.7777777777777778,\"#fb9f3a\"],[0.8888888888888888,\"#fdca26\"],[1.0,\"#f0f921\"]]}],\"mesh3d\":[{\"type\":\"mesh3d\",\"colorbar\":{\"outlinewidth\":0,\"ticks\":\"\"}}],\"scatter\":[{\"fillpattern\":{\"fillmode\":\"overlay\",\"size\":10,\"solidity\":0.2},\"type\":\"scatter\"}],\"parcoords\":[{\"type\":\"parcoords\",\"line\":{\"colorbar\":{\"outlinewidth\":0,\"ticks\":\"\"}}}],\"scatterpolargl\":[{\"type\":\"scatterpolargl\",\"marker\":{\"colorbar\":{\"outlinewidth\":0,\"ticks\":\"\"}}}],\"bar\":[{\"error_x\":{\"color\":\"#2a3f5f\"},\"error_y\":{\"color\":\"#2a3f5f\"},\"marker\":{\"line\":{\"color\":\"#E5ECF6\",\"width\":0.5},\"pattern\":{\"fillmode\":\"overlay\",\"size\":10,\"solidity\":0.2}},\"type\":\"bar\"}],\"scattergeo\":[{\"type\":\"scattergeo\",\"marker\":{\"colorbar\":{\"outlinewidth\":0,\"ticks\":\"\"}}}],\"scatterpolar\":[{\"type\":\"scatterpolar\",\"marker\":{\"colorbar\":{\"outlinewidth\":0,\"ticks\":\"\"}}}],\"histogram\":[{\"marker\":{\"pattern\":{\"fillmode\":\"overlay\",\"size\":10,\"solidity\":0.2}},\"type\":\"histogram\"}],\"scattergl\":[{\"type\":\"scattergl\",\"marker\":{\"colorbar\":{\"outlinewidth\":0,\"ticks\":\"\"}}}],\"scatter3d\":[{\"type\":\"scatter3d\",\"line\":{\"colorbar\":{\"outlinewidth\":0,\"ticks\":\"\"}},\"marker\":{\"colorbar\":{\"outlinewidth\":0,\"ticks\":\"\"}}}],\"scattermapbox\":[{\"type\":\"scattermapbox\",\"marker\":{\"colorbar\":{\"outlinewidth\":0,\"ticks\":\"\"}}}],\"scatterternary\":[{\"type\":\"scatterternary\",\"marker\":{\"colorbar\":{\"outlinewidth\":0,\"ticks\":\"\"}}}],\"scattercarpet\":[{\"type\":\"scattercarpet\",\"marker\":{\"colorbar\":{\"outlinewidth\":0,\"ticks\":\"\"}}}],\"carpet\":[{\"aaxis\":{\"endlinecolor\":\"#2a3f5f\",\"gridcolor\":\"white\",\"linecolor\":\"white\",\"minorgridcolor\":\"white\",\"startlinecolor\":\"#2a3f5f\"},\"baxis\":{\"endlinecolor\":\"#2a3f5f\",\"gridcolor\":\"white\",\"linecolor\":\"white\",\"minorgridcolor\":\"white\",\"startlinecolor\":\"#2a3f5f\"},\"type\":\"carpet\"}],\"table\":[{\"cells\":{\"fill\":{\"color\":\"#EBF0F8\"},\"line\":{\"color\":\"white\"}},\"header\":{\"fill\":{\"color\":\"#C8D4E3\"},\"line\":{\"color\":\"white\"}},\"type\":\"table\"}],\"barpolar\":[{\"marker\":{\"line\":{\"color\":\"#E5ECF6\",\"width\":0.5},\"pattern\":{\"fillmode\":\"overlay\",\"size\":10,\"solidity\":0.2}},\"type\":\"barpolar\"}],\"pie\":[{\"automargin\":true,\"type\":\"pie\"}]},\"layout\":{\"autotypenumbers\":\"strict\",\"colorway\":[\"#636efa\",\"#EF553B\",\"#00cc96\",\"#ab63fa\",\"#FFA15A\",\"#19d3f3\",\"#FF6692\",\"#B6E880\",\"#FF97FF\",\"#FECB52\"],\"font\":{\"color\":\"#2a3f5f\"},\"hovermode\":\"closest\",\"hoverlabel\":{\"align\":\"left\"},\"paper_bgcolor\":\"white\",\"plot_bgcolor\":\"#E5ECF6\",\"polar\":{\"bgcolor\":\"#E5ECF6\",\"angularaxis\":{\"gridcolor\":\"white\",\"linecolor\":\"white\",\"ticks\":\"\"},\"radialaxis\":{\"gridcolor\":\"white\",\"linecolor\":\"white\",\"ticks\":\"\"}},\"ternary\":{\"bgcolor\":\"#E5ECF6\",\"aaxis\":{\"gridcolor\":\"white\",\"linecolor\":\"white\",\"ticks\":\"\"},\"baxis\":{\"gridcolor\":\"white\",\"linecolor\":\"white\",\"ticks\":\"\"},\"caxis\":{\"gridcolor\":\"white\",\"linecolor\":\"white\",\"ticks\":\"\"}},\"coloraxis\":{\"colorbar\":{\"outlinewidth\":0,\"ticks\":\"\"}},\"colorscale\":{\"sequential\":[[0.0,\"#0d0887\"],[0.1111111111111111,\"#46039f\"],[0.2222222222222222,\"#7201a8\"],[0.3333333333333333,\"#9c179e\"],[0.4444444444444444,\"#bd3786\"],[0.5555555555555556,\"#d8576b\"],[0.6666666666666666,\"#ed7953\"],[0.7777777777777778,\"#fb9f3a\"],[0.8888888888888888,\"#fdca26\"],[1.0,\"#f0f921\"]],\"sequentialminus\":[[0.0,\"#0d0887\"],[0.1111111111111111,\"#46039f\"],[0.2222222222222222,\"#7201a8\"],[0.3333333333333333,\"#9c179e\"],[0.4444444444444444,\"#bd3786\"],[0.5555555555555556,\"#d8576b\"],[0.6666666666666666,\"#ed7953\"],[0.7777777777777778,\"#fb9f3a\"],[0.8888888888888888,\"#fdca26\"],[1.0,\"#f0f921\"]],\"diverging\":[[0,\"#8e0152\"],[0.1,\"#c51b7d\"],[0.2,\"#de77ae\"],[0.3,\"#f1b6da\"],[0.4,\"#fde0ef\"],[0.5,\"#f7f7f7\"],[0.6,\"#e6f5d0\"],[0.7,\"#b8e186\"],[0.8,\"#7fbc41\"],[0.9,\"#4d9221\"],[1,\"#276419\"]]},\"xaxis\":{\"gridcolor\":\"white\",\"linecolor\":\"white\",\"ticks\":\"\",\"title\":{\"standoff\":15},\"zerolinecolor\":\"white\",\"automargin\":true,\"zerolinewidth\":2},\"yaxis\":{\"gridcolor\":\"white\",\"linecolor\":\"white\",\"ticks\":\"\",\"title\":{\"standoff\":15},\"zerolinecolor\":\"white\",\"automargin\":true,\"zerolinewidth\":2},\"scene\":{\"xaxis\":{\"backgroundcolor\":\"#E5ECF6\",\"gridcolor\":\"white\",\"linecolor\":\"white\",\"showbackground\":true,\"ticks\":\"\",\"zerolinecolor\":\"white\",\"gridwidth\":2},\"yaxis\":{\"backgroundcolor\":\"#E5ECF6\",\"gridcolor\":\"white\",\"linecolor\":\"white\",\"showbackground\":true,\"ticks\":\"\",\"zerolinecolor\":\"white\",\"gridwidth\":2},\"zaxis\":{\"backgroundcolor\":\"#E5ECF6\",\"gridcolor\":\"white\",\"linecolor\":\"white\",\"showbackground\":true,\"ticks\":\"\",\"zerolinecolor\":\"white\",\"gridwidth\":2}},\"shapedefaults\":{\"line\":{\"color\":\"#2a3f5f\"}},\"annotationdefaults\":{\"arrowcolor\":\"#2a3f5f\",\"arrowhead\":0,\"arrowwidth\":1},\"geo\":{\"bgcolor\":\"white\",\"landcolor\":\"#E5ECF6\",\"subunitcolor\":\"white\",\"showland\":true,\"showlakes\":true,\"lakecolor\":\"white\"},\"title\":{\"x\":0.05},\"mapbox\":{\"style\":\"light\"}}},\"xaxis\":{\"anchor\":\"y\",\"domain\":[0.0,1.0],\"title\":{\"text\":\"UF\"}},\"yaxis\":{\"anchor\":\"x\",\"domain\":[0.0,1.0],\"title\":{\"text\":\"Pre\\u00e7o M\\u00e9dio Revenda\"}},\"legend\":{\"title\":{\"text\":\"PRODUTO\"},\"tracegroupgap\":0},\"title\":{\"text\":\"Pre\\u00e7o M\\u00e9dio de Revenda por Regi\\u00e3o\"},\"barmode\":\"relative\"},                        {\"responsive\": true}                    ).then(function(){\n",
       "                            \n",
       "var gd = document.getElementById('e8bf8e53-df25-4f3e-8628-39b3d51f50cb');\n",
       "var x = new MutationObserver(function (mutations, observer) {{\n",
       "        var display = window.getComputedStyle(gd).display;\n",
       "        if (!display || display === 'none') {{\n",
       "            console.log([gd, 'removed!']);\n",
       "            Plotly.purge(gd);\n",
       "            observer.disconnect();\n",
       "        }}\n",
       "}});\n",
       "\n",
       "// Listen for the removal of the full notebook cells\n",
       "var notebookContainer = gd.closest('#notebook-container');\n",
       "if (notebookContainer) {{\n",
       "    x.observe(notebookContainer, {childList: true});\n",
       "}}\n",
       "\n",
       "// Listen for the clearing of the current output cell\n",
       "var outputEl = gd.closest('.output');\n",
       "if (outputEl) {{\n",
       "    x.observe(outputEl, {childList: true});\n",
       "}}\n",
       "\n",
       "                        })                };                });            </script>        </div>"
      ]
     },
     "metadata": {},
     "output_type": "display_data"
    }
   ],
   "source": [
    "# Construção do gráfico para mostrar o preço médio de revenda estado e região\n",
    "grafico_uf = px.bar(vendas_uf, x=\"SIGLA_UF\", y=\"PREÇO MÉDIO REVENDA\", color='PRODUTO',\n",
    "                              title = \"Preço Médio de Revenda por Região\", text_auto='.3s',\n",
    "                   labels={'SIGLA_UF':'UF', 'PREÇO MÉDIO REVENDA':'Preço Médio Revenda'})\n",
    "grafico_uf.update_traces(textangle=0, textposition=\"outside\")\n",
    "grafico_uf.show()"
   ]
  },
  {
   "cell_type": "code",
   "execution_count": 180,
   "id": "dea25080",
   "metadata": {},
   "outputs": [
    {
     "data": {
      "text/html": [
       "<div>\n",
       "<style scoped>\n",
       "    .dataframe tbody tr th:only-of-type {\n",
       "        vertical-align: middle;\n",
       "    }\n",
       "\n",
       "    .dataframe tbody tr th {\n",
       "        vertical-align: top;\n",
       "    }\n",
       "\n",
       "    .dataframe thead th {\n",
       "        text-align: right;\n",
       "    }\n",
       "</style>\n",
       "<table border=\"1\" class=\"dataframe\">\n",
       "  <thead>\n",
       "    <tr style=\"text-align: right;\">\n",
       "      <th></th>\n",
       "      <th>PRODUTO</th>\n",
       "      <th>REGIÃO</th>\n",
       "      <th>ESTADO</th>\n",
       "      <th>PREÇO MÉDIO REVENDA</th>\n",
       "      <th>PREÇO MÉDIO DISTRIBUIÇÃO</th>\n",
       "      <th>ANO</th>\n",
       "      <th>SIGLA_UF</th>\n",
       "      <th>PRC_BARRIL_BRUTO</th>\n",
       "      <th>TAXA CÂMBIO</th>\n",
       "    </tr>\n",
       "    <tr>\n",
       "      <th>MÊS</th>\n",
       "      <th></th>\n",
       "      <th></th>\n",
       "      <th></th>\n",
       "      <th></th>\n",
       "      <th></th>\n",
       "      <th></th>\n",
       "      <th></th>\n",
       "      <th></th>\n",
       "      <th></th>\n",
       "    </tr>\n",
       "  </thead>\n",
       "  <tbody>\n",
       "    <tr>\n",
       "      <th>2019-11</th>\n",
       "      <td>ÓLEO DIESEL S10</td>\n",
       "      <td>NORTE</td>\n",
       "      <td>TOCANTINS</td>\n",
       "      <td>3.785</td>\n",
       "      <td>3.385</td>\n",
       "      <td>2019</td>\n",
       "      <td>TO</td>\n",
       "      <td>63.976087</td>\n",
       "      <td>4.155345</td>\n",
       "    </tr>\n",
       "    <tr>\n",
       "      <th>2010-02</th>\n",
       "      <td>GNV</td>\n",
       "      <td>NORDESTE</td>\n",
       "      <td>PERNAMBUCO</td>\n",
       "      <td>1.732</td>\n",
       "      <td>1.303</td>\n",
       "      <td>2010</td>\n",
       "      <td>PE</td>\n",
       "      <td>76.451071</td>\n",
       "      <td>1.841633</td>\n",
       "    </tr>\n",
       "    <tr>\n",
       "      <th>2016-04</th>\n",
       "      <td>GNV</td>\n",
       "      <td>SUDESTE</td>\n",
       "      <td>RIO DE JANEIRO</td>\n",
       "      <td>2.123</td>\n",
       "      <td>1.454</td>\n",
       "      <td>2016</td>\n",
       "      <td>RJ</td>\n",
       "      <td>42.872333</td>\n",
       "      <td>3.565845</td>\n",
       "    </tr>\n",
       "    <tr>\n",
       "      <th>2019-12</th>\n",
       "      <td>ÓLEO DIESEL</td>\n",
       "      <td>NORDESTE</td>\n",
       "      <td>BAHIA</td>\n",
       "      <td>3.723</td>\n",
       "      <td>3.375</td>\n",
       "      <td>2019</td>\n",
       "      <td>BA</td>\n",
       "      <td>66.021429</td>\n",
       "      <td>4.109590</td>\n",
       "    </tr>\n",
       "    <tr>\n",
       "      <th>2022-04</th>\n",
       "      <td>ETANOL HIDRATADO</td>\n",
       "      <td>NORTE</td>\n",
       "      <td>RONDÔNIA</td>\n",
       "      <td>6.026</td>\n",
       "      <td>2.169</td>\n",
       "      <td>2022</td>\n",
       "      <td>RO</td>\n",
       "      <td>105.056250</td>\n",
       "      <td>4.758016</td>\n",
       "    </tr>\n",
       "  </tbody>\n",
       "</table>\n",
       "</div>"
      ],
      "text/plain": [
       "                  PRODUTO    REGIÃO          ESTADO  PREÇO MÉDIO REVENDA  \\\n",
       "MÊS                                                                        \n",
       "2019-11   ÓLEO DIESEL S10     NORTE       TOCANTINS                3.785   \n",
       "2010-02               GNV  NORDESTE      PERNAMBUCO                1.732   \n",
       "2016-04               GNV   SUDESTE  RIO DE JANEIRO                2.123   \n",
       "2019-12       ÓLEO DIESEL  NORDESTE           BAHIA                3.723   \n",
       "2022-04  ETANOL HIDRATADO     NORTE        RONDÔNIA                6.026   \n",
       "\n",
       "         PREÇO MÉDIO DISTRIBUIÇÃO   ANO SIGLA_UF  PRC_BARRIL_BRUTO  \\\n",
       "MÊS                                                                  \n",
       "2019-11                     3.385  2019       TO         63.976087   \n",
       "2010-02                     1.303  2010       PE         76.451071   \n",
       "2016-04                     1.454  2016       RJ         42.872333   \n",
       "2019-12                     3.375  2019       BA         66.021429   \n",
       "2022-04                     2.169  2022       RO        105.056250   \n",
       "\n",
       "         TAXA CÂMBIO  \n",
       "MÊS                   \n",
       "2019-11     4.155345  \n",
       "2010-02     1.841633  \n",
       "2016-04     3.565845  \n",
       "2019-12     4.109590  \n",
       "2022-04     4.758016  "
      ]
     },
     "execution_count": 180,
     "metadata": {},
     "output_type": "execute_result"
    }
   ],
   "source": [
    "df_prc_comb.sample(5)"
   ]
  },
  {
   "cell_type": "code",
   "execution_count": 181,
   "id": "98130285",
   "metadata": {},
   "outputs": [],
   "source": [
    "#Agrupou o dataframe pela data e realizou a média de todos os outros campos\n",
    "preco_anual_df = df_prc_comb.groupby(['ANO']).mean()"
   ]
  },
  {
   "cell_type": "code",
   "execution_count": 182,
   "id": "1162d87e",
   "metadata": {},
   "outputs": [
    {
     "data": {
      "text/html": [
       "<div>\n",
       "<style scoped>\n",
       "    .dataframe tbody tr th:only-of-type {\n",
       "        vertical-align: middle;\n",
       "    }\n",
       "\n",
       "    .dataframe tbody tr th {\n",
       "        vertical-align: top;\n",
       "    }\n",
       "\n",
       "    .dataframe thead th {\n",
       "        text-align: right;\n",
       "    }\n",
       "</style>\n",
       "<table border=\"1\" class=\"dataframe\">\n",
       "  <thead>\n",
       "    <tr style=\"text-align: right;\">\n",
       "      <th></th>\n",
       "      <th>PREÇO MÉDIO REVENDA</th>\n",
       "      <th>PREÇO MÉDIO DISTRIBUIÇÃO</th>\n",
       "      <th>PRC_BARRIL_BRUTO</th>\n",
       "      <th>TAXA CÂMBIO</th>\n",
       "    </tr>\n",
       "    <tr>\n",
       "      <th>ANO</th>\n",
       "      <th></th>\n",
       "      <th></th>\n",
       "      <th></th>\n",
       "      <th></th>\n",
       "    </tr>\n",
       "  </thead>\n",
       "  <tbody>\n",
       "    <tr>\n",
       "      <th>2009</th>\n",
       "      <td>2.085804</td>\n",
       "      <td>1.778989</td>\n",
       "      <td>61.700977</td>\n",
       "      <td>1.987383</td>\n",
       "    </tr>\n",
       "    <tr>\n",
       "      <th>2017</th>\n",
       "      <td>3.276040</td>\n",
       "      <td>2.802680</td>\n",
       "      <td>54.314194</td>\n",
       "      <td>3.196609</td>\n",
       "    </tr>\n",
       "    <tr>\n",
       "      <th>2020</th>\n",
       "      <td>3.770786</td>\n",
       "      <td>3.249885</td>\n",
       "      <td>40.761005</td>\n",
       "      <td>4.706846</td>\n",
       "    </tr>\n",
       "    <tr>\n",
       "      <th>2014</th>\n",
       "      <td>2.592712</td>\n",
       "      <td>2.239328</td>\n",
       "      <td>98.339270</td>\n",
       "      <td>2.348241</td>\n",
       "    </tr>\n",
       "    <tr>\n",
       "      <th>2022</th>\n",
       "      <td>6.288350</td>\n",
       "      <td>2.169000</td>\n",
       "      <td>100.605233</td>\n",
       "      <td>5.081412</td>\n",
       "    </tr>\n",
       "  </tbody>\n",
       "</table>\n",
       "</div>"
      ],
      "text/plain": [
       "      PREÇO MÉDIO REVENDA  PREÇO MÉDIO DISTRIBUIÇÃO  PRC_BARRIL_BRUTO  \\\n",
       "ANO                                                                     \n",
       "2009             2.085804                  1.778989         61.700977   \n",
       "2017             3.276040                  2.802680         54.314194   \n",
       "2020             3.770786                  3.249885         40.761005   \n",
       "2014             2.592712                  2.239328         98.339270   \n",
       "2022             6.288350                  2.169000        100.605233   \n",
       "\n",
       "      TAXA CÂMBIO  \n",
       "ANO                \n",
       "2009     1.987383  \n",
       "2017     3.196609  \n",
       "2020     4.706846  \n",
       "2014     2.348241  \n",
       "2022     5.081412  "
      ]
     },
     "execution_count": 182,
     "metadata": {},
     "output_type": "execute_result"
    }
   ],
   "source": [
    "preco_anual_df.sample(5)"
   ]
  },
  {
   "cell_type": "code",
   "execution_count": 183,
   "id": "2218e07b",
   "metadata": {},
   "outputs": [
    {
     "data": {
      "application/vnd.plotly.v1+json": {
       "config": {
        "plotlyServerURL": "https://plot.ly"
       },
       "data": [
        {
         "name": "preço revenda",
         "type": "scatter",
         "x": [
          2008,
          2009,
          2010,
          2011,
          2012,
          2014,
          2015,
          2016,
          2017,
          2019,
          2020,
          2021,
          2022
         ],
         "xaxis": "x",
         "y": [
          2.066459349593496,
          2.085803822937626,
          2.117118592964824,
          2.247339642481598,
          2.2718382936507937,
          2.592712202609363,
          2.7371063829787237,
          3.1824447115384613,
          3.27604,
          3.8470575342465754,
          3.770786259541985,
          5.410322154471545,
          6.288350326797385
         ],
         "yaxis": "y"
        },
        {
         "name": "preço barril",
         "type": "scatter",
         "x": [
          2008,
          2009,
          2010,
          2011,
          2012,
          2014,
          2015,
          2016,
          2017,
          2019,
          2020,
          2021,
          2022
         ],
         "xaxis": "x",
         "y": [
          97.34374870904438,
          61.700977087510495,
          79.42763239935043,
          111.58560947751326,
          112.2505963894333,
          98.33926986227313,
          49.298387096774185,
          45.116966966501245,
          54.314193548387095,
          64.09103618418509,
          40.76100488790996,
          74.11945265486251,
          100.6052329598506
         ],
         "yaxis": "y2"
        }
       ],
       "layout": {
        "template": {
         "data": {
          "bar": [
           {
            "error_x": {
             "color": "#2a3f5f"
            },
            "error_y": {
             "color": "#2a3f5f"
            },
            "marker": {
             "line": {
              "color": "#E5ECF6",
              "width": 0.5
             },
             "pattern": {
              "fillmode": "overlay",
              "size": 10,
              "solidity": 0.2
             }
            },
            "type": "bar"
           }
          ],
          "barpolar": [
           {
            "marker": {
             "line": {
              "color": "#E5ECF6",
              "width": 0.5
             },
             "pattern": {
              "fillmode": "overlay",
              "size": 10,
              "solidity": 0.2
             }
            },
            "type": "barpolar"
           }
          ],
          "carpet": [
           {
            "aaxis": {
             "endlinecolor": "#2a3f5f",
             "gridcolor": "white",
             "linecolor": "white",
             "minorgridcolor": "white",
             "startlinecolor": "#2a3f5f"
            },
            "baxis": {
             "endlinecolor": "#2a3f5f",
             "gridcolor": "white",
             "linecolor": "white",
             "minorgridcolor": "white",
             "startlinecolor": "#2a3f5f"
            },
            "type": "carpet"
           }
          ],
          "choropleth": [
           {
            "colorbar": {
             "outlinewidth": 0,
             "ticks": ""
            },
            "type": "choropleth"
           }
          ],
          "contour": [
           {
            "colorbar": {
             "outlinewidth": 0,
             "ticks": ""
            },
            "colorscale": [
             [
              0,
              "#0d0887"
             ],
             [
              0.1111111111111111,
              "#46039f"
             ],
             [
              0.2222222222222222,
              "#7201a8"
             ],
             [
              0.3333333333333333,
              "#9c179e"
             ],
             [
              0.4444444444444444,
              "#bd3786"
             ],
             [
              0.5555555555555556,
              "#d8576b"
             ],
             [
              0.6666666666666666,
              "#ed7953"
             ],
             [
              0.7777777777777778,
              "#fb9f3a"
             ],
             [
              0.8888888888888888,
              "#fdca26"
             ],
             [
              1,
              "#f0f921"
             ]
            ],
            "type": "contour"
           }
          ],
          "contourcarpet": [
           {
            "colorbar": {
             "outlinewidth": 0,
             "ticks": ""
            },
            "type": "contourcarpet"
           }
          ],
          "heatmap": [
           {
            "colorbar": {
             "outlinewidth": 0,
             "ticks": ""
            },
            "colorscale": [
             [
              0,
              "#0d0887"
             ],
             [
              0.1111111111111111,
              "#46039f"
             ],
             [
              0.2222222222222222,
              "#7201a8"
             ],
             [
              0.3333333333333333,
              "#9c179e"
             ],
             [
              0.4444444444444444,
              "#bd3786"
             ],
             [
              0.5555555555555556,
              "#d8576b"
             ],
             [
              0.6666666666666666,
              "#ed7953"
             ],
             [
              0.7777777777777778,
              "#fb9f3a"
             ],
             [
              0.8888888888888888,
              "#fdca26"
             ],
             [
              1,
              "#f0f921"
             ]
            ],
            "type": "heatmap"
           }
          ],
          "heatmapgl": [
           {
            "colorbar": {
             "outlinewidth": 0,
             "ticks": ""
            },
            "colorscale": [
             [
              0,
              "#0d0887"
             ],
             [
              0.1111111111111111,
              "#46039f"
             ],
             [
              0.2222222222222222,
              "#7201a8"
             ],
             [
              0.3333333333333333,
              "#9c179e"
             ],
             [
              0.4444444444444444,
              "#bd3786"
             ],
             [
              0.5555555555555556,
              "#d8576b"
             ],
             [
              0.6666666666666666,
              "#ed7953"
             ],
             [
              0.7777777777777778,
              "#fb9f3a"
             ],
             [
              0.8888888888888888,
              "#fdca26"
             ],
             [
              1,
              "#f0f921"
             ]
            ],
            "type": "heatmapgl"
           }
          ],
          "histogram": [
           {
            "marker": {
             "pattern": {
              "fillmode": "overlay",
              "size": 10,
              "solidity": 0.2
             }
            },
            "type": "histogram"
           }
          ],
          "histogram2d": [
           {
            "colorbar": {
             "outlinewidth": 0,
             "ticks": ""
            },
            "colorscale": [
             [
              0,
              "#0d0887"
             ],
             [
              0.1111111111111111,
              "#46039f"
             ],
             [
              0.2222222222222222,
              "#7201a8"
             ],
             [
              0.3333333333333333,
              "#9c179e"
             ],
             [
              0.4444444444444444,
              "#bd3786"
             ],
             [
              0.5555555555555556,
              "#d8576b"
             ],
             [
              0.6666666666666666,
              "#ed7953"
             ],
             [
              0.7777777777777778,
              "#fb9f3a"
             ],
             [
              0.8888888888888888,
              "#fdca26"
             ],
             [
              1,
              "#f0f921"
             ]
            ],
            "type": "histogram2d"
           }
          ],
          "histogram2dcontour": [
           {
            "colorbar": {
             "outlinewidth": 0,
             "ticks": ""
            },
            "colorscale": [
             [
              0,
              "#0d0887"
             ],
             [
              0.1111111111111111,
              "#46039f"
             ],
             [
              0.2222222222222222,
              "#7201a8"
             ],
             [
              0.3333333333333333,
              "#9c179e"
             ],
             [
              0.4444444444444444,
              "#bd3786"
             ],
             [
              0.5555555555555556,
              "#d8576b"
             ],
             [
              0.6666666666666666,
              "#ed7953"
             ],
             [
              0.7777777777777778,
              "#fb9f3a"
             ],
             [
              0.8888888888888888,
              "#fdca26"
             ],
             [
              1,
              "#f0f921"
             ]
            ],
            "type": "histogram2dcontour"
           }
          ],
          "mesh3d": [
           {
            "colorbar": {
             "outlinewidth": 0,
             "ticks": ""
            },
            "type": "mesh3d"
           }
          ],
          "parcoords": [
           {
            "line": {
             "colorbar": {
              "outlinewidth": 0,
              "ticks": ""
             }
            },
            "type": "parcoords"
           }
          ],
          "pie": [
           {
            "automargin": true,
            "type": "pie"
           }
          ],
          "scatter": [
           {
            "fillpattern": {
             "fillmode": "overlay",
             "size": 10,
             "solidity": 0.2
            },
            "type": "scatter"
           }
          ],
          "scatter3d": [
           {
            "line": {
             "colorbar": {
              "outlinewidth": 0,
              "ticks": ""
             }
            },
            "marker": {
             "colorbar": {
              "outlinewidth": 0,
              "ticks": ""
             }
            },
            "type": "scatter3d"
           }
          ],
          "scattercarpet": [
           {
            "marker": {
             "colorbar": {
              "outlinewidth": 0,
              "ticks": ""
             }
            },
            "type": "scattercarpet"
           }
          ],
          "scattergeo": [
           {
            "marker": {
             "colorbar": {
              "outlinewidth": 0,
              "ticks": ""
             }
            },
            "type": "scattergeo"
           }
          ],
          "scattergl": [
           {
            "marker": {
             "colorbar": {
              "outlinewidth": 0,
              "ticks": ""
             }
            },
            "type": "scattergl"
           }
          ],
          "scattermapbox": [
           {
            "marker": {
             "colorbar": {
              "outlinewidth": 0,
              "ticks": ""
             }
            },
            "type": "scattermapbox"
           }
          ],
          "scatterpolar": [
           {
            "marker": {
             "colorbar": {
              "outlinewidth": 0,
              "ticks": ""
             }
            },
            "type": "scatterpolar"
           }
          ],
          "scatterpolargl": [
           {
            "marker": {
             "colorbar": {
              "outlinewidth": 0,
              "ticks": ""
             }
            },
            "type": "scatterpolargl"
           }
          ],
          "scatterternary": [
           {
            "marker": {
             "colorbar": {
              "outlinewidth": 0,
              "ticks": ""
             }
            },
            "type": "scatterternary"
           }
          ],
          "surface": [
           {
            "colorbar": {
             "outlinewidth": 0,
             "ticks": ""
            },
            "colorscale": [
             [
              0,
              "#0d0887"
             ],
             [
              0.1111111111111111,
              "#46039f"
             ],
             [
              0.2222222222222222,
              "#7201a8"
             ],
             [
              0.3333333333333333,
              "#9c179e"
             ],
             [
              0.4444444444444444,
              "#bd3786"
             ],
             [
              0.5555555555555556,
              "#d8576b"
             ],
             [
              0.6666666666666666,
              "#ed7953"
             ],
             [
              0.7777777777777778,
              "#fb9f3a"
             ],
             [
              0.8888888888888888,
              "#fdca26"
             ],
             [
              1,
              "#f0f921"
             ]
            ],
            "type": "surface"
           }
          ],
          "table": [
           {
            "cells": {
             "fill": {
              "color": "#EBF0F8"
             },
             "line": {
              "color": "white"
             }
            },
            "header": {
             "fill": {
              "color": "#C8D4E3"
             },
             "line": {
              "color": "white"
             }
            },
            "type": "table"
           }
          ]
         },
         "layout": {
          "annotationdefaults": {
           "arrowcolor": "#2a3f5f",
           "arrowhead": 0,
           "arrowwidth": 1
          },
          "autotypenumbers": "strict",
          "coloraxis": {
           "colorbar": {
            "outlinewidth": 0,
            "ticks": ""
           }
          },
          "colorscale": {
           "diverging": [
            [
             0,
             "#8e0152"
            ],
            [
             0.1,
             "#c51b7d"
            ],
            [
             0.2,
             "#de77ae"
            ],
            [
             0.3,
             "#f1b6da"
            ],
            [
             0.4,
             "#fde0ef"
            ],
            [
             0.5,
             "#f7f7f7"
            ],
            [
             0.6,
             "#e6f5d0"
            ],
            [
             0.7,
             "#b8e186"
            ],
            [
             0.8,
             "#7fbc41"
            ],
            [
             0.9,
             "#4d9221"
            ],
            [
             1,
             "#276419"
            ]
           ],
           "sequential": [
            [
             0,
             "#0d0887"
            ],
            [
             0.1111111111111111,
             "#46039f"
            ],
            [
             0.2222222222222222,
             "#7201a8"
            ],
            [
             0.3333333333333333,
             "#9c179e"
            ],
            [
             0.4444444444444444,
             "#bd3786"
            ],
            [
             0.5555555555555556,
             "#d8576b"
            ],
            [
             0.6666666666666666,
             "#ed7953"
            ],
            [
             0.7777777777777778,
             "#fb9f3a"
            ],
            [
             0.8888888888888888,
             "#fdca26"
            ],
            [
             1,
             "#f0f921"
            ]
           ],
           "sequentialminus": [
            [
             0,
             "#0d0887"
            ],
            [
             0.1111111111111111,
             "#46039f"
            ],
            [
             0.2222222222222222,
             "#7201a8"
            ],
            [
             0.3333333333333333,
             "#9c179e"
            ],
            [
             0.4444444444444444,
             "#bd3786"
            ],
            [
             0.5555555555555556,
             "#d8576b"
            ],
            [
             0.6666666666666666,
             "#ed7953"
            ],
            [
             0.7777777777777778,
             "#fb9f3a"
            ],
            [
             0.8888888888888888,
             "#fdca26"
            ],
            [
             1,
             "#f0f921"
            ]
           ]
          },
          "colorway": [
           "#636efa",
           "#EF553B",
           "#00cc96",
           "#ab63fa",
           "#FFA15A",
           "#19d3f3",
           "#FF6692",
           "#B6E880",
           "#FF97FF",
           "#FECB52"
          ],
          "font": {
           "color": "#2a3f5f"
          },
          "geo": {
           "bgcolor": "white",
           "lakecolor": "white",
           "landcolor": "#E5ECF6",
           "showlakes": true,
           "showland": true,
           "subunitcolor": "white"
          },
          "hoverlabel": {
           "align": "left"
          },
          "hovermode": "closest",
          "mapbox": {
           "style": "light"
          },
          "paper_bgcolor": "white",
          "plot_bgcolor": "#E5ECF6",
          "polar": {
           "angularaxis": {
            "gridcolor": "white",
            "linecolor": "white",
            "ticks": ""
           },
           "bgcolor": "#E5ECF6",
           "radialaxis": {
            "gridcolor": "white",
            "linecolor": "white",
            "ticks": ""
           }
          },
          "scene": {
           "xaxis": {
            "backgroundcolor": "#E5ECF6",
            "gridcolor": "white",
            "gridwidth": 2,
            "linecolor": "white",
            "showbackground": true,
            "ticks": "",
            "zerolinecolor": "white"
           },
           "yaxis": {
            "backgroundcolor": "#E5ECF6",
            "gridcolor": "white",
            "gridwidth": 2,
            "linecolor": "white",
            "showbackground": true,
            "ticks": "",
            "zerolinecolor": "white"
           },
           "zaxis": {
            "backgroundcolor": "#E5ECF6",
            "gridcolor": "white",
            "gridwidth": 2,
            "linecolor": "white",
            "showbackground": true,
            "ticks": "",
            "zerolinecolor": "white"
           }
          },
          "shapedefaults": {
           "line": {
            "color": "#2a3f5f"
           }
          },
          "ternary": {
           "aaxis": {
            "gridcolor": "white",
            "linecolor": "white",
            "ticks": ""
           },
           "baxis": {
            "gridcolor": "white",
            "linecolor": "white",
            "ticks": ""
           },
           "bgcolor": "#E5ECF6",
           "caxis": {
            "gridcolor": "white",
            "linecolor": "white",
            "ticks": ""
           }
          },
          "title": {
           "x": 0.05
          },
          "xaxis": {
           "automargin": true,
           "gridcolor": "white",
           "linecolor": "white",
           "ticks": "",
           "title": {
            "standoff": 15
           },
           "zerolinecolor": "white",
           "zerolinewidth": 2
          },
          "yaxis": {
           "automargin": true,
           "gridcolor": "white",
           "linecolor": "white",
           "ticks": "",
           "title": {
            "standoff": 15
           },
           "zerolinecolor": "white",
           "zerolinewidth": 2
          }
         }
        },
        "title": {
         "text": "Preço Médio de Revenda x Preço do Barril de Petróleo"
        },
        "xaxis": {
         "anchor": "y",
         "domain": [
          0,
          0.94
         ],
         "title": {
          "text": "Ano"
         }
        },
        "yaxis": {
         "anchor": "x",
         "domain": [
          0,
          1
         ],
         "title": {
          "text": "<b>Preço Médio de Revenda</b>"
         }
        },
        "yaxis2": {
         "anchor": "x",
         "overlaying": "y",
         "side": "right",
         "title": {
          "text": "<b> Preço do Barril de Petróleo</b>"
         }
        }
       }
      },
      "text/html": [
       "<div>                            <div id=\"d3a0c4ad-0d48-4ecd-9d11-48b2c44cddf7\" class=\"plotly-graph-div\" style=\"height:525px; width:100%;\"></div>            <script type=\"text/javascript\">                require([\"plotly\"], function(Plotly) {                    window.PLOTLYENV=window.PLOTLYENV || {};                                    if (document.getElementById(\"d3a0c4ad-0d48-4ecd-9d11-48b2c44cddf7\")) {                    Plotly.newPlot(                        \"d3a0c4ad-0d48-4ecd-9d11-48b2c44cddf7\",                        [{\"name\":\"pre\\u00e7o revenda\",\"x\":[2008,2009,2010,2011,2012,2014,2015,2016,2017,2019,2020,2021,2022],\"y\":[2.066459349593496,2.085803822937626,2.117118592964824,2.247339642481598,2.2718382936507937,2.592712202609363,2.7371063829787237,3.1824447115384613,3.27604,3.8470575342465754,3.770786259541985,5.410322154471545,6.288350326797385],\"type\":\"scatter\",\"xaxis\":\"x\",\"yaxis\":\"y\"},{\"name\":\"pre\\u00e7o barril\",\"x\":[2008,2009,2010,2011,2012,2014,2015,2016,2017,2019,2020,2021,2022],\"y\":[97.34374870904438,61.700977087510495,79.42763239935043,111.58560947751326,112.2505963894333,98.33926986227313,49.298387096774185,45.116966966501245,54.314193548387095,64.09103618418509,40.76100488790996,74.11945265486251,100.6052329598506],\"type\":\"scatter\",\"xaxis\":\"x\",\"yaxis\":\"y2\"}],                        {\"template\":{\"data\":{\"histogram2dcontour\":[{\"type\":\"histogram2dcontour\",\"colorbar\":{\"outlinewidth\":0,\"ticks\":\"\"},\"colorscale\":[[0.0,\"#0d0887\"],[0.1111111111111111,\"#46039f\"],[0.2222222222222222,\"#7201a8\"],[0.3333333333333333,\"#9c179e\"],[0.4444444444444444,\"#bd3786\"],[0.5555555555555556,\"#d8576b\"],[0.6666666666666666,\"#ed7953\"],[0.7777777777777778,\"#fb9f3a\"],[0.8888888888888888,\"#fdca26\"],[1.0,\"#f0f921\"]]}],\"choropleth\":[{\"type\":\"choropleth\",\"colorbar\":{\"outlinewidth\":0,\"ticks\":\"\"}}],\"histogram2d\":[{\"type\":\"histogram2d\",\"colorbar\":{\"outlinewidth\":0,\"ticks\":\"\"},\"colorscale\":[[0.0,\"#0d0887\"],[0.1111111111111111,\"#46039f\"],[0.2222222222222222,\"#7201a8\"],[0.3333333333333333,\"#9c179e\"],[0.4444444444444444,\"#bd3786\"],[0.5555555555555556,\"#d8576b\"],[0.6666666666666666,\"#ed7953\"],[0.7777777777777778,\"#fb9f3a\"],[0.8888888888888888,\"#fdca26\"],[1.0,\"#f0f921\"]]}],\"heatmap\":[{\"type\":\"heatmap\",\"colorbar\":{\"outlinewidth\":0,\"ticks\":\"\"},\"colorscale\":[[0.0,\"#0d0887\"],[0.1111111111111111,\"#46039f\"],[0.2222222222222222,\"#7201a8\"],[0.3333333333333333,\"#9c179e\"],[0.4444444444444444,\"#bd3786\"],[0.5555555555555556,\"#d8576b\"],[0.6666666666666666,\"#ed7953\"],[0.7777777777777778,\"#fb9f3a\"],[0.8888888888888888,\"#fdca26\"],[1.0,\"#f0f921\"]]}],\"heatmapgl\":[{\"type\":\"heatmapgl\",\"colorbar\":{\"outlinewidth\":0,\"ticks\":\"\"},\"colorscale\":[[0.0,\"#0d0887\"],[0.1111111111111111,\"#46039f\"],[0.2222222222222222,\"#7201a8\"],[0.3333333333333333,\"#9c179e\"],[0.4444444444444444,\"#bd3786\"],[0.5555555555555556,\"#d8576b\"],[0.6666666666666666,\"#ed7953\"],[0.7777777777777778,\"#fb9f3a\"],[0.8888888888888888,\"#fdca26\"],[1.0,\"#f0f921\"]]}],\"contourcarpet\":[{\"type\":\"contourcarpet\",\"colorbar\":{\"outlinewidth\":0,\"ticks\":\"\"}}],\"contour\":[{\"type\":\"contour\",\"colorbar\":{\"outlinewidth\":0,\"ticks\":\"\"},\"colorscale\":[[0.0,\"#0d0887\"],[0.1111111111111111,\"#46039f\"],[0.2222222222222222,\"#7201a8\"],[0.3333333333333333,\"#9c179e\"],[0.4444444444444444,\"#bd3786\"],[0.5555555555555556,\"#d8576b\"],[0.6666666666666666,\"#ed7953\"],[0.7777777777777778,\"#fb9f3a\"],[0.8888888888888888,\"#fdca26\"],[1.0,\"#f0f921\"]]}],\"surface\":[{\"type\":\"surface\",\"colorbar\":{\"outlinewidth\":0,\"ticks\":\"\"},\"colorscale\":[[0.0,\"#0d0887\"],[0.1111111111111111,\"#46039f\"],[0.2222222222222222,\"#7201a8\"],[0.3333333333333333,\"#9c179e\"],[0.4444444444444444,\"#bd3786\"],[0.5555555555555556,\"#d8576b\"],[0.6666666666666666,\"#ed7953\"],[0.7777777777777778,\"#fb9f3a\"],[0.8888888888888888,\"#fdca26\"],[1.0,\"#f0f921\"]]}],\"mesh3d\":[{\"type\":\"mesh3d\",\"colorbar\":{\"outlinewidth\":0,\"ticks\":\"\"}}],\"scatter\":[{\"fillpattern\":{\"fillmode\":\"overlay\",\"size\":10,\"solidity\":0.2},\"type\":\"scatter\"}],\"parcoords\":[{\"type\":\"parcoords\",\"line\":{\"colorbar\":{\"outlinewidth\":0,\"ticks\":\"\"}}}],\"scatterpolargl\":[{\"type\":\"scatterpolargl\",\"marker\":{\"colorbar\":{\"outlinewidth\":0,\"ticks\":\"\"}}}],\"bar\":[{\"error_x\":{\"color\":\"#2a3f5f\"},\"error_y\":{\"color\":\"#2a3f5f\"},\"marker\":{\"line\":{\"color\":\"#E5ECF6\",\"width\":0.5},\"pattern\":{\"fillmode\":\"overlay\",\"size\":10,\"solidity\":0.2}},\"type\":\"bar\"}],\"scattergeo\":[{\"type\":\"scattergeo\",\"marker\":{\"colorbar\":{\"outlinewidth\":0,\"ticks\":\"\"}}}],\"scatterpolar\":[{\"type\":\"scatterpolar\",\"marker\":{\"colorbar\":{\"outlinewidth\":0,\"ticks\":\"\"}}}],\"histogram\":[{\"marker\":{\"pattern\":{\"fillmode\":\"overlay\",\"size\":10,\"solidity\":0.2}},\"type\":\"histogram\"}],\"scattergl\":[{\"type\":\"scattergl\",\"marker\":{\"colorbar\":{\"outlinewidth\":0,\"ticks\":\"\"}}}],\"scatter3d\":[{\"type\":\"scatter3d\",\"line\":{\"colorbar\":{\"outlinewidth\":0,\"ticks\":\"\"}},\"marker\":{\"colorbar\":{\"outlinewidth\":0,\"ticks\":\"\"}}}],\"scattermapbox\":[{\"type\":\"scattermapbox\",\"marker\":{\"colorbar\":{\"outlinewidth\":0,\"ticks\":\"\"}}}],\"scatterternary\":[{\"type\":\"scatterternary\",\"marker\":{\"colorbar\":{\"outlinewidth\":0,\"ticks\":\"\"}}}],\"scattercarpet\":[{\"type\":\"scattercarpet\",\"marker\":{\"colorbar\":{\"outlinewidth\":0,\"ticks\":\"\"}}}],\"carpet\":[{\"aaxis\":{\"endlinecolor\":\"#2a3f5f\",\"gridcolor\":\"white\",\"linecolor\":\"white\",\"minorgridcolor\":\"white\",\"startlinecolor\":\"#2a3f5f\"},\"baxis\":{\"endlinecolor\":\"#2a3f5f\",\"gridcolor\":\"white\",\"linecolor\":\"white\",\"minorgridcolor\":\"white\",\"startlinecolor\":\"#2a3f5f\"},\"type\":\"carpet\"}],\"table\":[{\"cells\":{\"fill\":{\"color\":\"#EBF0F8\"},\"line\":{\"color\":\"white\"}},\"header\":{\"fill\":{\"color\":\"#C8D4E3\"},\"line\":{\"color\":\"white\"}},\"type\":\"table\"}],\"barpolar\":[{\"marker\":{\"line\":{\"color\":\"#E5ECF6\",\"width\":0.5},\"pattern\":{\"fillmode\":\"overlay\",\"size\":10,\"solidity\":0.2}},\"type\":\"barpolar\"}],\"pie\":[{\"automargin\":true,\"type\":\"pie\"}]},\"layout\":{\"autotypenumbers\":\"strict\",\"colorway\":[\"#636efa\",\"#EF553B\",\"#00cc96\",\"#ab63fa\",\"#FFA15A\",\"#19d3f3\",\"#FF6692\",\"#B6E880\",\"#FF97FF\",\"#FECB52\"],\"font\":{\"color\":\"#2a3f5f\"},\"hovermode\":\"closest\",\"hoverlabel\":{\"align\":\"left\"},\"paper_bgcolor\":\"white\",\"plot_bgcolor\":\"#E5ECF6\",\"polar\":{\"bgcolor\":\"#E5ECF6\",\"angularaxis\":{\"gridcolor\":\"white\",\"linecolor\":\"white\",\"ticks\":\"\"},\"radialaxis\":{\"gridcolor\":\"white\",\"linecolor\":\"white\",\"ticks\":\"\"}},\"ternary\":{\"bgcolor\":\"#E5ECF6\",\"aaxis\":{\"gridcolor\":\"white\",\"linecolor\":\"white\",\"ticks\":\"\"},\"baxis\":{\"gridcolor\":\"white\",\"linecolor\":\"white\",\"ticks\":\"\"},\"caxis\":{\"gridcolor\":\"white\",\"linecolor\":\"white\",\"ticks\":\"\"}},\"coloraxis\":{\"colorbar\":{\"outlinewidth\":0,\"ticks\":\"\"}},\"colorscale\":{\"sequential\":[[0.0,\"#0d0887\"],[0.1111111111111111,\"#46039f\"],[0.2222222222222222,\"#7201a8\"],[0.3333333333333333,\"#9c179e\"],[0.4444444444444444,\"#bd3786\"],[0.5555555555555556,\"#d8576b\"],[0.6666666666666666,\"#ed7953\"],[0.7777777777777778,\"#fb9f3a\"],[0.8888888888888888,\"#fdca26\"],[1.0,\"#f0f921\"]],\"sequentialminus\":[[0.0,\"#0d0887\"],[0.1111111111111111,\"#46039f\"],[0.2222222222222222,\"#7201a8\"],[0.3333333333333333,\"#9c179e\"],[0.4444444444444444,\"#bd3786\"],[0.5555555555555556,\"#d8576b\"],[0.6666666666666666,\"#ed7953\"],[0.7777777777777778,\"#fb9f3a\"],[0.8888888888888888,\"#fdca26\"],[1.0,\"#f0f921\"]],\"diverging\":[[0,\"#8e0152\"],[0.1,\"#c51b7d\"],[0.2,\"#de77ae\"],[0.3,\"#f1b6da\"],[0.4,\"#fde0ef\"],[0.5,\"#f7f7f7\"],[0.6,\"#e6f5d0\"],[0.7,\"#b8e186\"],[0.8,\"#7fbc41\"],[0.9,\"#4d9221\"],[1,\"#276419\"]]},\"xaxis\":{\"gridcolor\":\"white\",\"linecolor\":\"white\",\"ticks\":\"\",\"title\":{\"standoff\":15},\"zerolinecolor\":\"white\",\"automargin\":true,\"zerolinewidth\":2},\"yaxis\":{\"gridcolor\":\"white\",\"linecolor\":\"white\",\"ticks\":\"\",\"title\":{\"standoff\":15},\"zerolinecolor\":\"white\",\"automargin\":true,\"zerolinewidth\":2},\"scene\":{\"xaxis\":{\"backgroundcolor\":\"#E5ECF6\",\"gridcolor\":\"white\",\"linecolor\":\"white\",\"showbackground\":true,\"ticks\":\"\",\"zerolinecolor\":\"white\",\"gridwidth\":2},\"yaxis\":{\"backgroundcolor\":\"#E5ECF6\",\"gridcolor\":\"white\",\"linecolor\":\"white\",\"showbackground\":true,\"ticks\":\"\",\"zerolinecolor\":\"white\",\"gridwidth\":2},\"zaxis\":{\"backgroundcolor\":\"#E5ECF6\",\"gridcolor\":\"white\",\"linecolor\":\"white\",\"showbackground\":true,\"ticks\":\"\",\"zerolinecolor\":\"white\",\"gridwidth\":2}},\"shapedefaults\":{\"line\":{\"color\":\"#2a3f5f\"}},\"annotationdefaults\":{\"arrowcolor\":\"#2a3f5f\",\"arrowhead\":0,\"arrowwidth\":1},\"geo\":{\"bgcolor\":\"white\",\"landcolor\":\"#E5ECF6\",\"subunitcolor\":\"white\",\"showland\":true,\"showlakes\":true,\"lakecolor\":\"white\"},\"title\":{\"x\":0.05},\"mapbox\":{\"style\":\"light\"}}},\"xaxis\":{\"anchor\":\"y\",\"domain\":[0.0,0.94],\"title\":{\"text\":\"Ano\"}},\"yaxis\":{\"anchor\":\"x\",\"domain\":[0.0,1.0],\"title\":{\"text\":\"<b>Pre\\u00e7o M\\u00e9dio de Revenda</b>\"}},\"yaxis2\":{\"anchor\":\"x\",\"overlaying\":\"y\",\"side\":\"right\",\"title\":{\"text\":\"<b> Pre\\u00e7o do Barril de Petr\\u00f3leo</b>\"}},\"title\":{\"text\":\"Pre\\u00e7o M\\u00e9dio de Revenda x Pre\\u00e7o do Barril de Petr\\u00f3leo\"}},                        {\"responsive\": true}                    ).then(function(){\n",
       "                            \n",
       "var gd = document.getElementById('d3a0c4ad-0d48-4ecd-9d11-48b2c44cddf7');\n",
       "var x = new MutationObserver(function (mutations, observer) {{\n",
       "        var display = window.getComputedStyle(gd).display;\n",
       "        if (!display || display === 'none') {{\n",
       "            console.log([gd, 'removed!']);\n",
       "            Plotly.purge(gd);\n",
       "            observer.disconnect();\n",
       "        }}\n",
       "}});\n",
       "\n",
       "// Listen for the removal of the full notebook cells\n",
       "var notebookContainer = gd.closest('#notebook-container');\n",
       "if (notebookContainer) {{\n",
       "    x.observe(notebookContainer, {childList: true});\n",
       "}}\n",
       "\n",
       "// Listen for the clearing of the current output cell\n",
       "var outputEl = gd.closest('.output');\n",
       "if (outputEl) {{\n",
       "    x.observe(outputEl, {childList: true});\n",
       "}}\n",
       "\n",
       "                        })                };                });            </script>        </div>"
      ]
     },
     "metadata": {},
     "output_type": "display_data"
    }
   ],
   "source": [
    "# Create figure with secondary y-axis\n",
    "fig = make_subplots(specs=[[{\"secondary_y\": True}]])\n",
    "\n",
    "# Add traces\n",
    "fig.add_trace(\n",
    "    go.Scatter(x=preco_anual_df.index, y=preco_anual_df['PREÇO MÉDIO REVENDA'], name=\"preço revenda\"),\n",
    "    secondary_y=False,\n",
    ")\n",
    "\n",
    "fig.add_trace(\n",
    "    go.Scatter(x=preco_anual_df.index, y=preco_anual_df['PRC_BARRIL_BRUTO'], name=\"preço barril\"), \n",
    "    secondary_y=True,\n",
    ")\n",
    "\n",
    "\n",
    "\n",
    "# Add figure title\n",
    "fig.update_layout(\n",
    "    title_text=\"Preço Médio de Revenda x Preço do Barril de Petróleo\"\n",
    ")\n",
    "\n",
    "#fig.update_traces(textposition=\"middle center\")\n",
    "\n",
    "# Set x-axis title\n",
    "fig.update_xaxes(title_text=\"Ano\")\n",
    "\n",
    "# Set y-axes titles\n",
    "fig.update_yaxes(title_text=\"<b>Preço Médio de Revenda</b>\", secondary_y=False)\n",
    "fig.update_yaxes(title_text=\"<b> Preço do Barril de Petróleo</b>\", secondary_y=True)\n",
    "\n",
    "fig.show()"
   ]
  },
  {
   "cell_type": "code",
   "execution_count": 184,
   "id": "6635df9a",
   "metadata": {},
   "outputs": [
    {
     "data": {
      "application/vnd.plotly.v1+json": {
       "config": {
        "plotlyServerURL": "https://plot.ly"
       },
       "data": [
        {
         "name": "preço revenda",
         "type": "scatter",
         "x": [
          2008,
          2009,
          2010,
          2011,
          2012,
          2014,
          2015,
          2016,
          2017,
          2019,
          2020,
          2021,
          2022
         ],
         "xaxis": "x",
         "y": [
          2.066459349593496,
          2.085803822937626,
          2.117118592964824,
          2.247339642481598,
          2.2718382936507937,
          2.592712202609363,
          2.7371063829787237,
          3.1824447115384613,
          3.27604,
          3.8470575342465754,
          3.770786259541985,
          5.410322154471545,
          6.288350326797385
         ],
         "yaxis": "y"
        },
        {
         "name": "Taxa do Câmbio",
         "type": "scatter",
         "x": [
          2008,
          2009,
          2010,
          2011,
          2012,
          2014,
          2015,
          2016,
          2017,
          2019,
          2020,
          2021,
          2022
         ],
         "xaxis": "x",
         "y": [
          1.839118503053069,
          1.9873829448486515,
          1.760825507437432,
          1.6701891559093118,
          1.9483979282125357,
          2.348241357196695,
          2.6342285714285714,
          3.383591489339465,
          3.196609090909091,
          4.118262031679855,
          4.706846132026371,
          5.378932209104375,
          5.081411767996938
         ],
         "yaxis": "y2"
        }
       ],
       "layout": {
        "template": {
         "data": {
          "bar": [
           {
            "error_x": {
             "color": "#2a3f5f"
            },
            "error_y": {
             "color": "#2a3f5f"
            },
            "marker": {
             "line": {
              "color": "#E5ECF6",
              "width": 0.5
             },
             "pattern": {
              "fillmode": "overlay",
              "size": 10,
              "solidity": 0.2
             }
            },
            "type": "bar"
           }
          ],
          "barpolar": [
           {
            "marker": {
             "line": {
              "color": "#E5ECF6",
              "width": 0.5
             },
             "pattern": {
              "fillmode": "overlay",
              "size": 10,
              "solidity": 0.2
             }
            },
            "type": "barpolar"
           }
          ],
          "carpet": [
           {
            "aaxis": {
             "endlinecolor": "#2a3f5f",
             "gridcolor": "white",
             "linecolor": "white",
             "minorgridcolor": "white",
             "startlinecolor": "#2a3f5f"
            },
            "baxis": {
             "endlinecolor": "#2a3f5f",
             "gridcolor": "white",
             "linecolor": "white",
             "minorgridcolor": "white",
             "startlinecolor": "#2a3f5f"
            },
            "type": "carpet"
           }
          ],
          "choropleth": [
           {
            "colorbar": {
             "outlinewidth": 0,
             "ticks": ""
            },
            "type": "choropleth"
           }
          ],
          "contour": [
           {
            "colorbar": {
             "outlinewidth": 0,
             "ticks": ""
            },
            "colorscale": [
             [
              0,
              "#0d0887"
             ],
             [
              0.1111111111111111,
              "#46039f"
             ],
             [
              0.2222222222222222,
              "#7201a8"
             ],
             [
              0.3333333333333333,
              "#9c179e"
             ],
             [
              0.4444444444444444,
              "#bd3786"
             ],
             [
              0.5555555555555556,
              "#d8576b"
             ],
             [
              0.6666666666666666,
              "#ed7953"
             ],
             [
              0.7777777777777778,
              "#fb9f3a"
             ],
             [
              0.8888888888888888,
              "#fdca26"
             ],
             [
              1,
              "#f0f921"
             ]
            ],
            "type": "contour"
           }
          ],
          "contourcarpet": [
           {
            "colorbar": {
             "outlinewidth": 0,
             "ticks": ""
            },
            "type": "contourcarpet"
           }
          ],
          "heatmap": [
           {
            "colorbar": {
             "outlinewidth": 0,
             "ticks": ""
            },
            "colorscale": [
             [
              0,
              "#0d0887"
             ],
             [
              0.1111111111111111,
              "#46039f"
             ],
             [
              0.2222222222222222,
              "#7201a8"
             ],
             [
              0.3333333333333333,
              "#9c179e"
             ],
             [
              0.4444444444444444,
              "#bd3786"
             ],
             [
              0.5555555555555556,
              "#d8576b"
             ],
             [
              0.6666666666666666,
              "#ed7953"
             ],
             [
              0.7777777777777778,
              "#fb9f3a"
             ],
             [
              0.8888888888888888,
              "#fdca26"
             ],
             [
              1,
              "#f0f921"
             ]
            ],
            "type": "heatmap"
           }
          ],
          "heatmapgl": [
           {
            "colorbar": {
             "outlinewidth": 0,
             "ticks": ""
            },
            "colorscale": [
             [
              0,
              "#0d0887"
             ],
             [
              0.1111111111111111,
              "#46039f"
             ],
             [
              0.2222222222222222,
              "#7201a8"
             ],
             [
              0.3333333333333333,
              "#9c179e"
             ],
             [
              0.4444444444444444,
              "#bd3786"
             ],
             [
              0.5555555555555556,
              "#d8576b"
             ],
             [
              0.6666666666666666,
              "#ed7953"
             ],
             [
              0.7777777777777778,
              "#fb9f3a"
             ],
             [
              0.8888888888888888,
              "#fdca26"
             ],
             [
              1,
              "#f0f921"
             ]
            ],
            "type": "heatmapgl"
           }
          ],
          "histogram": [
           {
            "marker": {
             "pattern": {
              "fillmode": "overlay",
              "size": 10,
              "solidity": 0.2
             }
            },
            "type": "histogram"
           }
          ],
          "histogram2d": [
           {
            "colorbar": {
             "outlinewidth": 0,
             "ticks": ""
            },
            "colorscale": [
             [
              0,
              "#0d0887"
             ],
             [
              0.1111111111111111,
              "#46039f"
             ],
             [
              0.2222222222222222,
              "#7201a8"
             ],
             [
              0.3333333333333333,
              "#9c179e"
             ],
             [
              0.4444444444444444,
              "#bd3786"
             ],
             [
              0.5555555555555556,
              "#d8576b"
             ],
             [
              0.6666666666666666,
              "#ed7953"
             ],
             [
              0.7777777777777778,
              "#fb9f3a"
             ],
             [
              0.8888888888888888,
              "#fdca26"
             ],
             [
              1,
              "#f0f921"
             ]
            ],
            "type": "histogram2d"
           }
          ],
          "histogram2dcontour": [
           {
            "colorbar": {
             "outlinewidth": 0,
             "ticks": ""
            },
            "colorscale": [
             [
              0,
              "#0d0887"
             ],
             [
              0.1111111111111111,
              "#46039f"
             ],
             [
              0.2222222222222222,
              "#7201a8"
             ],
             [
              0.3333333333333333,
              "#9c179e"
             ],
             [
              0.4444444444444444,
              "#bd3786"
             ],
             [
              0.5555555555555556,
              "#d8576b"
             ],
             [
              0.6666666666666666,
              "#ed7953"
             ],
             [
              0.7777777777777778,
              "#fb9f3a"
             ],
             [
              0.8888888888888888,
              "#fdca26"
             ],
             [
              1,
              "#f0f921"
             ]
            ],
            "type": "histogram2dcontour"
           }
          ],
          "mesh3d": [
           {
            "colorbar": {
             "outlinewidth": 0,
             "ticks": ""
            },
            "type": "mesh3d"
           }
          ],
          "parcoords": [
           {
            "line": {
             "colorbar": {
              "outlinewidth": 0,
              "ticks": ""
             }
            },
            "type": "parcoords"
           }
          ],
          "pie": [
           {
            "automargin": true,
            "type": "pie"
           }
          ],
          "scatter": [
           {
            "fillpattern": {
             "fillmode": "overlay",
             "size": 10,
             "solidity": 0.2
            },
            "type": "scatter"
           }
          ],
          "scatter3d": [
           {
            "line": {
             "colorbar": {
              "outlinewidth": 0,
              "ticks": ""
             }
            },
            "marker": {
             "colorbar": {
              "outlinewidth": 0,
              "ticks": ""
             }
            },
            "type": "scatter3d"
           }
          ],
          "scattercarpet": [
           {
            "marker": {
             "colorbar": {
              "outlinewidth": 0,
              "ticks": ""
             }
            },
            "type": "scattercarpet"
           }
          ],
          "scattergeo": [
           {
            "marker": {
             "colorbar": {
              "outlinewidth": 0,
              "ticks": ""
             }
            },
            "type": "scattergeo"
           }
          ],
          "scattergl": [
           {
            "marker": {
             "colorbar": {
              "outlinewidth": 0,
              "ticks": ""
             }
            },
            "type": "scattergl"
           }
          ],
          "scattermapbox": [
           {
            "marker": {
             "colorbar": {
              "outlinewidth": 0,
              "ticks": ""
             }
            },
            "type": "scattermapbox"
           }
          ],
          "scatterpolar": [
           {
            "marker": {
             "colorbar": {
              "outlinewidth": 0,
              "ticks": ""
             }
            },
            "type": "scatterpolar"
           }
          ],
          "scatterpolargl": [
           {
            "marker": {
             "colorbar": {
              "outlinewidth": 0,
              "ticks": ""
             }
            },
            "type": "scatterpolargl"
           }
          ],
          "scatterternary": [
           {
            "marker": {
             "colorbar": {
              "outlinewidth": 0,
              "ticks": ""
             }
            },
            "type": "scatterternary"
           }
          ],
          "surface": [
           {
            "colorbar": {
             "outlinewidth": 0,
             "ticks": ""
            },
            "colorscale": [
             [
              0,
              "#0d0887"
             ],
             [
              0.1111111111111111,
              "#46039f"
             ],
             [
              0.2222222222222222,
              "#7201a8"
             ],
             [
              0.3333333333333333,
              "#9c179e"
             ],
             [
              0.4444444444444444,
              "#bd3786"
             ],
             [
              0.5555555555555556,
              "#d8576b"
             ],
             [
              0.6666666666666666,
              "#ed7953"
             ],
             [
              0.7777777777777778,
              "#fb9f3a"
             ],
             [
              0.8888888888888888,
              "#fdca26"
             ],
             [
              1,
              "#f0f921"
             ]
            ],
            "type": "surface"
           }
          ],
          "table": [
           {
            "cells": {
             "fill": {
              "color": "#EBF0F8"
             },
             "line": {
              "color": "white"
             }
            },
            "header": {
             "fill": {
              "color": "#C8D4E3"
             },
             "line": {
              "color": "white"
             }
            },
            "type": "table"
           }
          ]
         },
         "layout": {
          "annotationdefaults": {
           "arrowcolor": "#2a3f5f",
           "arrowhead": 0,
           "arrowwidth": 1
          },
          "autotypenumbers": "strict",
          "coloraxis": {
           "colorbar": {
            "outlinewidth": 0,
            "ticks": ""
           }
          },
          "colorscale": {
           "diverging": [
            [
             0,
             "#8e0152"
            ],
            [
             0.1,
             "#c51b7d"
            ],
            [
             0.2,
             "#de77ae"
            ],
            [
             0.3,
             "#f1b6da"
            ],
            [
             0.4,
             "#fde0ef"
            ],
            [
             0.5,
             "#f7f7f7"
            ],
            [
             0.6,
             "#e6f5d0"
            ],
            [
             0.7,
             "#b8e186"
            ],
            [
             0.8,
             "#7fbc41"
            ],
            [
             0.9,
             "#4d9221"
            ],
            [
             1,
             "#276419"
            ]
           ],
           "sequential": [
            [
             0,
             "#0d0887"
            ],
            [
             0.1111111111111111,
             "#46039f"
            ],
            [
             0.2222222222222222,
             "#7201a8"
            ],
            [
             0.3333333333333333,
             "#9c179e"
            ],
            [
             0.4444444444444444,
             "#bd3786"
            ],
            [
             0.5555555555555556,
             "#d8576b"
            ],
            [
             0.6666666666666666,
             "#ed7953"
            ],
            [
             0.7777777777777778,
             "#fb9f3a"
            ],
            [
             0.8888888888888888,
             "#fdca26"
            ],
            [
             1,
             "#f0f921"
            ]
           ],
           "sequentialminus": [
            [
             0,
             "#0d0887"
            ],
            [
             0.1111111111111111,
             "#46039f"
            ],
            [
             0.2222222222222222,
             "#7201a8"
            ],
            [
             0.3333333333333333,
             "#9c179e"
            ],
            [
             0.4444444444444444,
             "#bd3786"
            ],
            [
             0.5555555555555556,
             "#d8576b"
            ],
            [
             0.6666666666666666,
             "#ed7953"
            ],
            [
             0.7777777777777778,
             "#fb9f3a"
            ],
            [
             0.8888888888888888,
             "#fdca26"
            ],
            [
             1,
             "#f0f921"
            ]
           ]
          },
          "colorway": [
           "#636efa",
           "#EF553B",
           "#00cc96",
           "#ab63fa",
           "#FFA15A",
           "#19d3f3",
           "#FF6692",
           "#B6E880",
           "#FF97FF",
           "#FECB52"
          ],
          "font": {
           "color": "#2a3f5f"
          },
          "geo": {
           "bgcolor": "white",
           "lakecolor": "white",
           "landcolor": "#E5ECF6",
           "showlakes": true,
           "showland": true,
           "subunitcolor": "white"
          },
          "hoverlabel": {
           "align": "left"
          },
          "hovermode": "closest",
          "mapbox": {
           "style": "light"
          },
          "paper_bgcolor": "white",
          "plot_bgcolor": "#E5ECF6",
          "polar": {
           "angularaxis": {
            "gridcolor": "white",
            "linecolor": "white",
            "ticks": ""
           },
           "bgcolor": "#E5ECF6",
           "radialaxis": {
            "gridcolor": "white",
            "linecolor": "white",
            "ticks": ""
           }
          },
          "scene": {
           "xaxis": {
            "backgroundcolor": "#E5ECF6",
            "gridcolor": "white",
            "gridwidth": 2,
            "linecolor": "white",
            "showbackground": true,
            "ticks": "",
            "zerolinecolor": "white"
           },
           "yaxis": {
            "backgroundcolor": "#E5ECF6",
            "gridcolor": "white",
            "gridwidth": 2,
            "linecolor": "white",
            "showbackground": true,
            "ticks": "",
            "zerolinecolor": "white"
           },
           "zaxis": {
            "backgroundcolor": "#E5ECF6",
            "gridcolor": "white",
            "gridwidth": 2,
            "linecolor": "white",
            "showbackground": true,
            "ticks": "",
            "zerolinecolor": "white"
           }
          },
          "shapedefaults": {
           "line": {
            "color": "#2a3f5f"
           }
          },
          "ternary": {
           "aaxis": {
            "gridcolor": "white",
            "linecolor": "white",
            "ticks": ""
           },
           "baxis": {
            "gridcolor": "white",
            "linecolor": "white",
            "ticks": ""
           },
           "bgcolor": "#E5ECF6",
           "caxis": {
            "gridcolor": "white",
            "linecolor": "white",
            "ticks": ""
           }
          },
          "title": {
           "x": 0.05
          },
          "xaxis": {
           "automargin": true,
           "gridcolor": "white",
           "linecolor": "white",
           "ticks": "",
           "title": {
            "standoff": 15
           },
           "zerolinecolor": "white",
           "zerolinewidth": 2
          },
          "yaxis": {
           "automargin": true,
           "gridcolor": "white",
           "linecolor": "white",
           "ticks": "",
           "title": {
            "standoff": 15
           },
           "zerolinecolor": "white",
           "zerolinewidth": 2
          }
         }
        },
        "title": {
         "text": "Preço Médio de Revenda x Taxa do Câmbio"
        },
        "xaxis": {
         "anchor": "y",
         "domain": [
          0,
          0.94
         ]
        },
        "yaxis": {
         "anchor": "x",
         "domain": [
          0,
          1
         ],
         "title": {
          "text": "<b>Preço Médio de Revenda</b>"
         }
        },
        "yaxis2": {
         "anchor": "x",
         "overlaying": "y",
         "side": "right",
         "title": {
          "text": "<b>Taxa do Câmbio</b>"
         }
        }
       }
      },
      "text/html": [
       "<div>                            <div id=\"573f6a83-7329-42cf-84df-4cf95e841b00\" class=\"plotly-graph-div\" style=\"height:525px; width:100%;\"></div>            <script type=\"text/javascript\">                require([\"plotly\"], function(Plotly) {                    window.PLOTLYENV=window.PLOTLYENV || {};                                    if (document.getElementById(\"573f6a83-7329-42cf-84df-4cf95e841b00\")) {                    Plotly.newPlot(                        \"573f6a83-7329-42cf-84df-4cf95e841b00\",                        [{\"name\":\"pre\\u00e7o revenda\",\"x\":[2008,2009,2010,2011,2012,2014,2015,2016,2017,2019,2020,2021,2022],\"y\":[2.066459349593496,2.085803822937626,2.117118592964824,2.247339642481598,2.2718382936507937,2.592712202609363,2.7371063829787237,3.1824447115384613,3.27604,3.8470575342465754,3.770786259541985,5.410322154471545,6.288350326797385],\"type\":\"scatter\",\"xaxis\":\"x\",\"yaxis\":\"y\"},{\"name\":\"Taxa do C\\u00e2mbio\",\"x\":[2008,2009,2010,2011,2012,2014,2015,2016,2017,2019,2020,2021,2022],\"y\":[1.839118503053069,1.9873829448486515,1.760825507437432,1.6701891559093118,1.9483979282125357,2.348241357196695,2.6342285714285714,3.383591489339465,3.196609090909091,4.118262031679855,4.706846132026371,5.378932209104375,5.081411767996938],\"type\":\"scatter\",\"xaxis\":\"x\",\"yaxis\":\"y2\"}],                        {\"template\":{\"data\":{\"histogram2dcontour\":[{\"type\":\"histogram2dcontour\",\"colorbar\":{\"outlinewidth\":0,\"ticks\":\"\"},\"colorscale\":[[0.0,\"#0d0887\"],[0.1111111111111111,\"#46039f\"],[0.2222222222222222,\"#7201a8\"],[0.3333333333333333,\"#9c179e\"],[0.4444444444444444,\"#bd3786\"],[0.5555555555555556,\"#d8576b\"],[0.6666666666666666,\"#ed7953\"],[0.7777777777777778,\"#fb9f3a\"],[0.8888888888888888,\"#fdca26\"],[1.0,\"#f0f921\"]]}],\"choropleth\":[{\"type\":\"choropleth\",\"colorbar\":{\"outlinewidth\":0,\"ticks\":\"\"}}],\"histogram2d\":[{\"type\":\"histogram2d\",\"colorbar\":{\"outlinewidth\":0,\"ticks\":\"\"},\"colorscale\":[[0.0,\"#0d0887\"],[0.1111111111111111,\"#46039f\"],[0.2222222222222222,\"#7201a8\"],[0.3333333333333333,\"#9c179e\"],[0.4444444444444444,\"#bd3786\"],[0.5555555555555556,\"#d8576b\"],[0.6666666666666666,\"#ed7953\"],[0.7777777777777778,\"#fb9f3a\"],[0.8888888888888888,\"#fdca26\"],[1.0,\"#f0f921\"]]}],\"heatmap\":[{\"type\":\"heatmap\",\"colorbar\":{\"outlinewidth\":0,\"ticks\":\"\"},\"colorscale\":[[0.0,\"#0d0887\"],[0.1111111111111111,\"#46039f\"],[0.2222222222222222,\"#7201a8\"],[0.3333333333333333,\"#9c179e\"],[0.4444444444444444,\"#bd3786\"],[0.5555555555555556,\"#d8576b\"],[0.6666666666666666,\"#ed7953\"],[0.7777777777777778,\"#fb9f3a\"],[0.8888888888888888,\"#fdca26\"],[1.0,\"#f0f921\"]]}],\"heatmapgl\":[{\"type\":\"heatmapgl\",\"colorbar\":{\"outlinewidth\":0,\"ticks\":\"\"},\"colorscale\":[[0.0,\"#0d0887\"],[0.1111111111111111,\"#46039f\"],[0.2222222222222222,\"#7201a8\"],[0.3333333333333333,\"#9c179e\"],[0.4444444444444444,\"#bd3786\"],[0.5555555555555556,\"#d8576b\"],[0.6666666666666666,\"#ed7953\"],[0.7777777777777778,\"#fb9f3a\"],[0.8888888888888888,\"#fdca26\"],[1.0,\"#f0f921\"]]}],\"contourcarpet\":[{\"type\":\"contourcarpet\",\"colorbar\":{\"outlinewidth\":0,\"ticks\":\"\"}}],\"contour\":[{\"type\":\"contour\",\"colorbar\":{\"outlinewidth\":0,\"ticks\":\"\"},\"colorscale\":[[0.0,\"#0d0887\"],[0.1111111111111111,\"#46039f\"],[0.2222222222222222,\"#7201a8\"],[0.3333333333333333,\"#9c179e\"],[0.4444444444444444,\"#bd3786\"],[0.5555555555555556,\"#d8576b\"],[0.6666666666666666,\"#ed7953\"],[0.7777777777777778,\"#fb9f3a\"],[0.8888888888888888,\"#fdca26\"],[1.0,\"#f0f921\"]]}],\"surface\":[{\"type\":\"surface\",\"colorbar\":{\"outlinewidth\":0,\"ticks\":\"\"},\"colorscale\":[[0.0,\"#0d0887\"],[0.1111111111111111,\"#46039f\"],[0.2222222222222222,\"#7201a8\"],[0.3333333333333333,\"#9c179e\"],[0.4444444444444444,\"#bd3786\"],[0.5555555555555556,\"#d8576b\"],[0.6666666666666666,\"#ed7953\"],[0.7777777777777778,\"#fb9f3a\"],[0.8888888888888888,\"#fdca26\"],[1.0,\"#f0f921\"]]}],\"mesh3d\":[{\"type\":\"mesh3d\",\"colorbar\":{\"outlinewidth\":0,\"ticks\":\"\"}}],\"scatter\":[{\"fillpattern\":{\"fillmode\":\"overlay\",\"size\":10,\"solidity\":0.2},\"type\":\"scatter\"}],\"parcoords\":[{\"type\":\"parcoords\",\"line\":{\"colorbar\":{\"outlinewidth\":0,\"ticks\":\"\"}}}],\"scatterpolargl\":[{\"type\":\"scatterpolargl\",\"marker\":{\"colorbar\":{\"outlinewidth\":0,\"ticks\":\"\"}}}],\"bar\":[{\"error_x\":{\"color\":\"#2a3f5f\"},\"error_y\":{\"color\":\"#2a3f5f\"},\"marker\":{\"line\":{\"color\":\"#E5ECF6\",\"width\":0.5},\"pattern\":{\"fillmode\":\"overlay\",\"size\":10,\"solidity\":0.2}},\"type\":\"bar\"}],\"scattergeo\":[{\"type\":\"scattergeo\",\"marker\":{\"colorbar\":{\"outlinewidth\":0,\"ticks\":\"\"}}}],\"scatterpolar\":[{\"type\":\"scatterpolar\",\"marker\":{\"colorbar\":{\"outlinewidth\":0,\"ticks\":\"\"}}}],\"histogram\":[{\"marker\":{\"pattern\":{\"fillmode\":\"overlay\",\"size\":10,\"solidity\":0.2}},\"type\":\"histogram\"}],\"scattergl\":[{\"type\":\"scattergl\",\"marker\":{\"colorbar\":{\"outlinewidth\":0,\"ticks\":\"\"}}}],\"scatter3d\":[{\"type\":\"scatter3d\",\"line\":{\"colorbar\":{\"outlinewidth\":0,\"ticks\":\"\"}},\"marker\":{\"colorbar\":{\"outlinewidth\":0,\"ticks\":\"\"}}}],\"scattermapbox\":[{\"type\":\"scattermapbox\",\"marker\":{\"colorbar\":{\"outlinewidth\":0,\"ticks\":\"\"}}}],\"scatterternary\":[{\"type\":\"scatterternary\",\"marker\":{\"colorbar\":{\"outlinewidth\":0,\"ticks\":\"\"}}}],\"scattercarpet\":[{\"type\":\"scattercarpet\",\"marker\":{\"colorbar\":{\"outlinewidth\":0,\"ticks\":\"\"}}}],\"carpet\":[{\"aaxis\":{\"endlinecolor\":\"#2a3f5f\",\"gridcolor\":\"white\",\"linecolor\":\"white\",\"minorgridcolor\":\"white\",\"startlinecolor\":\"#2a3f5f\"},\"baxis\":{\"endlinecolor\":\"#2a3f5f\",\"gridcolor\":\"white\",\"linecolor\":\"white\",\"minorgridcolor\":\"white\",\"startlinecolor\":\"#2a3f5f\"},\"type\":\"carpet\"}],\"table\":[{\"cells\":{\"fill\":{\"color\":\"#EBF0F8\"},\"line\":{\"color\":\"white\"}},\"header\":{\"fill\":{\"color\":\"#C8D4E3\"},\"line\":{\"color\":\"white\"}},\"type\":\"table\"}],\"barpolar\":[{\"marker\":{\"line\":{\"color\":\"#E5ECF6\",\"width\":0.5},\"pattern\":{\"fillmode\":\"overlay\",\"size\":10,\"solidity\":0.2}},\"type\":\"barpolar\"}],\"pie\":[{\"automargin\":true,\"type\":\"pie\"}]},\"layout\":{\"autotypenumbers\":\"strict\",\"colorway\":[\"#636efa\",\"#EF553B\",\"#00cc96\",\"#ab63fa\",\"#FFA15A\",\"#19d3f3\",\"#FF6692\",\"#B6E880\",\"#FF97FF\",\"#FECB52\"],\"font\":{\"color\":\"#2a3f5f\"},\"hovermode\":\"closest\",\"hoverlabel\":{\"align\":\"left\"},\"paper_bgcolor\":\"white\",\"plot_bgcolor\":\"#E5ECF6\",\"polar\":{\"bgcolor\":\"#E5ECF6\",\"angularaxis\":{\"gridcolor\":\"white\",\"linecolor\":\"white\",\"ticks\":\"\"},\"radialaxis\":{\"gridcolor\":\"white\",\"linecolor\":\"white\",\"ticks\":\"\"}},\"ternary\":{\"bgcolor\":\"#E5ECF6\",\"aaxis\":{\"gridcolor\":\"white\",\"linecolor\":\"white\",\"ticks\":\"\"},\"baxis\":{\"gridcolor\":\"white\",\"linecolor\":\"white\",\"ticks\":\"\"},\"caxis\":{\"gridcolor\":\"white\",\"linecolor\":\"white\",\"ticks\":\"\"}},\"coloraxis\":{\"colorbar\":{\"outlinewidth\":0,\"ticks\":\"\"}},\"colorscale\":{\"sequential\":[[0.0,\"#0d0887\"],[0.1111111111111111,\"#46039f\"],[0.2222222222222222,\"#7201a8\"],[0.3333333333333333,\"#9c179e\"],[0.4444444444444444,\"#bd3786\"],[0.5555555555555556,\"#d8576b\"],[0.6666666666666666,\"#ed7953\"],[0.7777777777777778,\"#fb9f3a\"],[0.8888888888888888,\"#fdca26\"],[1.0,\"#f0f921\"]],\"sequentialminus\":[[0.0,\"#0d0887\"],[0.1111111111111111,\"#46039f\"],[0.2222222222222222,\"#7201a8\"],[0.3333333333333333,\"#9c179e\"],[0.4444444444444444,\"#bd3786\"],[0.5555555555555556,\"#d8576b\"],[0.6666666666666666,\"#ed7953\"],[0.7777777777777778,\"#fb9f3a\"],[0.8888888888888888,\"#fdca26\"],[1.0,\"#f0f921\"]],\"diverging\":[[0,\"#8e0152\"],[0.1,\"#c51b7d\"],[0.2,\"#de77ae\"],[0.3,\"#f1b6da\"],[0.4,\"#fde0ef\"],[0.5,\"#f7f7f7\"],[0.6,\"#e6f5d0\"],[0.7,\"#b8e186\"],[0.8,\"#7fbc41\"],[0.9,\"#4d9221\"],[1,\"#276419\"]]},\"xaxis\":{\"gridcolor\":\"white\",\"linecolor\":\"white\",\"ticks\":\"\",\"title\":{\"standoff\":15},\"zerolinecolor\":\"white\",\"automargin\":true,\"zerolinewidth\":2},\"yaxis\":{\"gridcolor\":\"white\",\"linecolor\":\"white\",\"ticks\":\"\",\"title\":{\"standoff\":15},\"zerolinecolor\":\"white\",\"automargin\":true,\"zerolinewidth\":2},\"scene\":{\"xaxis\":{\"backgroundcolor\":\"#E5ECF6\",\"gridcolor\":\"white\",\"linecolor\":\"white\",\"showbackground\":true,\"ticks\":\"\",\"zerolinecolor\":\"white\",\"gridwidth\":2},\"yaxis\":{\"backgroundcolor\":\"#E5ECF6\",\"gridcolor\":\"white\",\"linecolor\":\"white\",\"showbackground\":true,\"ticks\":\"\",\"zerolinecolor\":\"white\",\"gridwidth\":2},\"zaxis\":{\"backgroundcolor\":\"#E5ECF6\",\"gridcolor\":\"white\",\"linecolor\":\"white\",\"showbackground\":true,\"ticks\":\"\",\"zerolinecolor\":\"white\",\"gridwidth\":2}},\"shapedefaults\":{\"line\":{\"color\":\"#2a3f5f\"}},\"annotationdefaults\":{\"arrowcolor\":\"#2a3f5f\",\"arrowhead\":0,\"arrowwidth\":1},\"geo\":{\"bgcolor\":\"white\",\"landcolor\":\"#E5ECF6\",\"subunitcolor\":\"white\",\"showland\":true,\"showlakes\":true,\"lakecolor\":\"white\"},\"title\":{\"x\":0.05},\"mapbox\":{\"style\":\"light\"}}},\"xaxis\":{\"anchor\":\"y\",\"domain\":[0.0,0.94]},\"yaxis\":{\"anchor\":\"x\",\"domain\":[0.0,1.0],\"title\":{\"text\":\"<b>Pre\\u00e7o M\\u00e9dio de Revenda</b>\"}},\"yaxis2\":{\"anchor\":\"x\",\"overlaying\":\"y\",\"side\":\"right\",\"title\":{\"text\":\"<b>Taxa do C\\u00e2mbio</b>\"}},\"title\":{\"text\":\"Pre\\u00e7o M\\u00e9dio de Revenda x Taxa do C\\u00e2mbio\"}},                        {\"responsive\": true}                    ).then(function(){\n",
       "                            \n",
       "var gd = document.getElementById('573f6a83-7329-42cf-84df-4cf95e841b00');\n",
       "var x = new MutationObserver(function (mutations, observer) {{\n",
       "        var display = window.getComputedStyle(gd).display;\n",
       "        if (!display || display === 'none') {{\n",
       "            console.log([gd, 'removed!']);\n",
       "            Plotly.purge(gd);\n",
       "            observer.disconnect();\n",
       "        }}\n",
       "}});\n",
       "\n",
       "// Listen for the removal of the full notebook cells\n",
       "var notebookContainer = gd.closest('#notebook-container');\n",
       "if (notebookContainer) {{\n",
       "    x.observe(notebookContainer, {childList: true});\n",
       "}}\n",
       "\n",
       "// Listen for the clearing of the current output cell\n",
       "var outputEl = gd.closest('.output');\n",
       "if (outputEl) {{\n",
       "    x.observe(outputEl, {childList: true});\n",
       "}}\n",
       "\n",
       "                        })                };                });            </script>        </div>"
      ]
     },
     "metadata": {},
     "output_type": "display_data"
    }
   ],
   "source": [
    "# Create figure with secondary y-axis\n",
    "fig_2 = make_subplots(specs=[[{\"secondary_y\": True}]])\n",
    "\n",
    "# Add traces\n",
    "fig_2.add_trace(\n",
    "    go.Scatter(x=preco_anual_df.index, y=preco_anual_df['PREÇO MÉDIO REVENDA'], name=\"preço revenda\"),\n",
    "    secondary_y=False,\n",
    ")\n",
    "\n",
    "fig_2.add_trace(\n",
    "    go.Scatter(x=preco_anual_df.index, y=preco_anual_df['TAXA CÂMBIO'], name=\"Taxa do Câmbio\"),\n",
    "    secondary_y=True,\n",
    ")\n",
    "\n",
    "# Add figure title\n",
    "fig_2.update_layout(\n",
    "    title_text=\"Preço Médio de Revenda x Taxa do Câmbio\"\n",
    ")\n",
    "\n",
    "#fg.update_traces(trendline=\"ols\")\n",
    "\n",
    "# Set x-axis title\n",
    "#fig.update_xaxes(title_text=\"Ano\")\n",
    "\n",
    "# Set y-axes titles\n",
    "fig_2.update_yaxes(title_text=\"<b>Preço Médio de Revenda</b>\", secondary_y=False)\n",
    "fig_2.update_yaxes(title_text=\"<b>Taxa do Câmbio</b>\", secondary_y=True)\n",
    "\n",
    "fig_2.show()"
   ]
  },
  {
   "cell_type": "code",
   "execution_count": 185,
   "id": "23cfb101",
   "metadata": {},
   "outputs": [
    {
     "data": {
      "text/html": [
       "<div>\n",
       "<style scoped>\n",
       "    .dataframe tbody tr th:only-of-type {\n",
       "        vertical-align: middle;\n",
       "    }\n",
       "\n",
       "    .dataframe tbody tr th {\n",
       "        vertical-align: top;\n",
       "    }\n",
       "\n",
       "    .dataframe thead th {\n",
       "        text-align: right;\n",
       "    }\n",
       "</style>\n",
       "<table border=\"1\" class=\"dataframe\">\n",
       "  <thead>\n",
       "    <tr style=\"text-align: right;\">\n",
       "      <th></th>\n",
       "      <th>PREÇO MÉDIO REVENDA</th>\n",
       "      <th>PREÇO MÉDIO DISTRIBUIÇÃO</th>\n",
       "      <th>PRC_BARRIL_BRUTO</th>\n",
       "      <th>TAXA CÂMBIO</th>\n",
       "    </tr>\n",
       "  </thead>\n",
       "  <tbody>\n",
       "    <tr>\n",
       "      <th>PREÇO MÉDIO REVENDA</th>\n",
       "      <td>1.000000</td>\n",
       "      <td>0.338222</td>\n",
       "      <td>-0.092542</td>\n",
       "      <td>0.932530</td>\n",
       "    </tr>\n",
       "    <tr>\n",
       "      <th>PREÇO MÉDIO DISTRIBUIÇÃO</th>\n",
       "      <td>0.338222</td>\n",
       "      <td>1.000000</td>\n",
       "      <td>-0.639369</td>\n",
       "      <td>0.577722</td>\n",
       "    </tr>\n",
       "    <tr>\n",
       "      <th>PRC_BARRIL_BRUTO</th>\n",
       "      <td>-0.092542</td>\n",
       "      <td>-0.639369</td>\n",
       "      <td>1.000000</td>\n",
       "      <td>-0.357999</td>\n",
       "    </tr>\n",
       "    <tr>\n",
       "      <th>TAXA CÂMBIO</th>\n",
       "      <td>0.932530</td>\n",
       "      <td>0.577722</td>\n",
       "      <td>-0.357999</td>\n",
       "      <td>1.000000</td>\n",
       "    </tr>\n",
       "  </tbody>\n",
       "</table>\n",
       "</div>"
      ],
      "text/plain": [
       "                          PREÇO MÉDIO REVENDA  PREÇO MÉDIO DISTRIBUIÇÃO  \\\n",
       "PREÇO MÉDIO REVENDA                  1.000000                  0.338222   \n",
       "PREÇO MÉDIO DISTRIBUIÇÃO             0.338222                  1.000000   \n",
       "PRC_BARRIL_BRUTO                    -0.092542                 -0.639369   \n",
       "TAXA CÂMBIO                          0.932530                  0.577722   \n",
       "\n",
       "                          PRC_BARRIL_BRUTO  TAXA CÂMBIO  \n",
       "PREÇO MÉDIO REVENDA              -0.092542     0.932530  \n",
       "PREÇO MÉDIO DISTRIBUIÇÃO         -0.639369     0.577722  \n",
       "PRC_BARRIL_BRUTO                  1.000000    -0.357999  \n",
       "TAXA CÂMBIO                      -0.357999     1.000000  "
      ]
     },
     "execution_count": 185,
     "metadata": {},
     "output_type": "execute_result"
    }
   ],
   "source": [
    "preco_anual_df.corr()"
   ]
  },
  {
   "cell_type": "code",
   "execution_count": 186,
   "id": "4ea16e52",
   "metadata": {},
   "outputs": [
    {
     "data": {
      "image/png": "[encoded data removed]",
      "text/plain": [
       "<Figure size 936x576 with 2 Axes>"
      ]
     },
     "metadata": {},
     "output_type": "display_data"
    }
   ],
   "source": [
    "plt.figure(figsize=(13,8))\n",
    "sns.heatmap(preco_anual_df.corr(),annot=True)\n",
    "plt.show()"
   ]
  },
  {
   "cell_type": "markdown",
   "id": "b17eae72",
   "metadata": {},
   "source": [
    "### Machine learning"
   ]
  },
  {
   "cell_type": "code",
   "execution_count": 187,
   "id": "f45b2277",
   "metadata": {},
   "outputs": [
    {
     "data": {
      "text/html": [
       "<div>\n",
       "<style scoped>\n",
       "    .dataframe tbody tr th:only-of-type {\n",
       "        vertical-align: middle;\n",
       "    }\n",
       "\n",
       "    .dataframe tbody tr th {\n",
       "        vertical-align: top;\n",
       "    }\n",
       "\n",
       "    .dataframe thead th {\n",
       "        text-align: right;\n",
       "    }\n",
       "</style>\n",
       "<table border=\"1\" class=\"dataframe\">\n",
       "  <thead>\n",
       "    <tr style=\"text-align: right;\">\n",
       "      <th></th>\n",
       "      <th>PRODUTO</th>\n",
       "      <th>REGIÃO</th>\n",
       "      <th>ESTADO</th>\n",
       "      <th>PREÇO MÉDIO REVENDA</th>\n",
       "      <th>PREÇO MÉDIO DISTRIBUIÇÃO</th>\n",
       "      <th>ANO</th>\n",
       "      <th>SIGLA_UF</th>\n",
       "      <th>PRC_BARRIL_BRUTO</th>\n",
       "      <th>TAXA CÂMBIO</th>\n",
       "    </tr>\n",
       "    <tr>\n",
       "      <th>MÊS</th>\n",
       "      <th></th>\n",
       "      <th></th>\n",
       "      <th></th>\n",
       "      <th></th>\n",
       "      <th></th>\n",
       "      <th></th>\n",
       "      <th></th>\n",
       "      <th></th>\n",
       "      <th></th>\n",
       "    </tr>\n",
       "  </thead>\n",
       "  <tbody>\n",
       "    <tr>\n",
       "      <th>2008-01</th>\n",
       "      <td>ETANOL HIDRATADO</td>\n",
       "      <td>NORTE</td>\n",
       "      <td>ACRE</td>\n",
       "      <td>2.098</td>\n",
       "      <td>1.790</td>\n",
       "      <td>2008</td>\n",
       "      <td>AC</td>\n",
       "      <td>94.007419</td>\n",
       "      <td>1.774259</td>\n",
       "    </tr>\n",
       "    <tr>\n",
       "      <th>2008-01</th>\n",
       "      <td>ETANOL HIDRATADO</td>\n",
       "      <td>NORDESTE</td>\n",
       "      <td>ALAGOAS</td>\n",
       "      <td>1.701</td>\n",
       "      <td>1.502</td>\n",
       "      <td>2008</td>\n",
       "      <td>AL</td>\n",
       "      <td>94.007419</td>\n",
       "      <td>1.774259</td>\n",
       "    </tr>\n",
       "    <tr>\n",
       "      <th>2008-01</th>\n",
       "      <td>ETANOL HIDRATADO</td>\n",
       "      <td>NORTE</td>\n",
       "      <td>AMAPÁ</td>\n",
       "      <td>1.950</td>\n",
       "      <td>1.730</td>\n",
       "      <td>2008</td>\n",
       "      <td>AP</td>\n",
       "      <td>94.007419</td>\n",
       "      <td>1.774259</td>\n",
       "    </tr>\n",
       "    <tr>\n",
       "      <th>2008-01</th>\n",
       "      <td>ETANOL HIDRATADO</td>\n",
       "      <td>NORTE</td>\n",
       "      <td>AMAZONAS</td>\n",
       "      <td>1.749</td>\n",
       "      <td>1.559</td>\n",
       "      <td>2008</td>\n",
       "      <td>AM</td>\n",
       "      <td>94.007419</td>\n",
       "      <td>1.774259</td>\n",
       "    </tr>\n",
       "    <tr>\n",
       "      <th>2008-01</th>\n",
       "      <td>ETANOL HIDRATADO</td>\n",
       "      <td>NORDESTE</td>\n",
       "      <td>BAHIA</td>\n",
       "      <td>1.653</td>\n",
       "      <td>1.384</td>\n",
       "      <td>2008</td>\n",
       "      <td>BA</td>\n",
       "      <td>94.007419</td>\n",
       "      <td>1.774259</td>\n",
       "    </tr>\n",
       "  </tbody>\n",
       "</table>\n",
       "</div>"
      ],
      "text/plain": [
       "                  PRODUTO    REGIÃO    ESTADO  PREÇO MÉDIO REVENDA  \\\n",
       "MÊS                                                                  \n",
       "2008-01  ETANOL HIDRATADO     NORTE      ACRE                2.098   \n",
       "2008-01  ETANOL HIDRATADO  NORDESTE   ALAGOAS                1.701   \n",
       "2008-01  ETANOL HIDRATADO     NORTE     AMAPÁ                1.950   \n",
       "2008-01  ETANOL HIDRATADO     NORTE  AMAZONAS                1.749   \n",
       "2008-01  ETANOL HIDRATADO  NORDESTE     BAHIA                1.653   \n",
       "\n",
       "         PREÇO MÉDIO DISTRIBUIÇÃO   ANO SIGLA_UF  PRC_BARRIL_BRUTO  \\\n",
       "MÊS                                                                  \n",
       "2008-01                     1.790  2008       AC         94.007419   \n",
       "2008-01                     1.502  2008       AL         94.007419   \n",
       "2008-01                     1.730  2008       AP         94.007419   \n",
       "2008-01                     1.559  2008       AM         94.007419   \n",
       "2008-01                     1.384  2008       BA         94.007419   \n",
       "\n",
       "         TAXA CÂMBIO  \n",
       "MÊS                   \n",
       "2008-01     1.774259  \n",
       "2008-01     1.774259  \n",
       "2008-01     1.774259  \n",
       "2008-01     1.774259  \n",
       "2008-01     1.774259  "
      ]
     },
     "execution_count": 187,
     "metadata": {},
     "output_type": "execute_result"
    }
   ],
   "source": [
    "df_prc_comb.head(5)"
   ]
  },
  {
   "cell_type": "code",
   "execution_count": 188,
   "id": "d184dbb7",
   "metadata": {},
   "outputs": [],
   "source": [
    "models = {}"
   ]
  },
  {
   "cell_type": "code",
   "execution_count": 189,
   "id": "34c08a8e",
   "metadata": {},
   "outputs": [],
   "source": [
    "reg_df = df_prc_comb[df_prc_comb.SIGLA_UF == 'RJ'].groupby(['PRODUTO', 'MÊS']).mean()"
   ]
  },
  {
   "cell_type": "code",
   "execution_count": 190,
   "id": "561d836a",
   "metadata": {},
   "outputs": [],
   "source": [
    "reg_df = reg_df.iloc[reg_df.index.get_level_values('PRODUTO') == 'GASOLINA COMUM'].groupby('MÊS').mean()"
   ]
  },
  {
   "cell_type": "code",
   "execution_count": 191,
   "id": "10bf2f6a",
   "metadata": {},
   "outputs": [],
   "source": [
    " # Separa eixos da regressão\n",
    "X = reg_df.drop(['PREÇO MÉDIO REVENDA','PREÇO MÉDIO DISTRIBUIÇÃO','ANO','PRC_BARRIL_BRUTO'] , axis =1)\n",
    "Y = reg_df['PREÇO MÉDIO REVENDA'].values"
   ]
  },
  {
   "cell_type": "code",
   "execution_count": 192,
   "id": "fb5d3adb",
   "metadata": {},
   "outputs": [],
   "source": [
    "x_train, x_test, y_train, y_test = train_test_split(X,Y,test_size=0.30)"
   ]
  },
  {
   "cell_type": "code",
   "execution_count": 193,
   "id": "9f4a5526",
   "metadata": {},
   "outputs": [],
   "source": [
    "# Cria model de regressão e faz o treinamento\n",
    "lr=LinearRegression()\n",
    "lr.fit(x_train,y_train)\n",
    "\n",
    "models = lr\n",
    "predicted_values = []\n",
    "for i in range(0, len(y_test)):\n",
    "    predicted_values.append(lr.predict(x_test.iloc[[i],:])[0])"
   ]
  },
  {
   "cell_type": "code",
   "execution_count": 194,
   "id": "d8bf92df",
   "metadata": {},
   "outputs": [],
   "source": [
    "predicted_df = pd.DataFrame({'Cambio':x_test['TAXA CÂMBIO'].values, \n",
    "                             'Valor Real':y_test, 'Valor Predito':predicted_values})"
   ]
  },
  {
   "cell_type": "code",
   "execution_count": 195,
   "id": "da8c7742",
   "metadata": {},
   "outputs": [
    {
     "data": {
      "text/html": [
       "<div>\n",
       "<style scoped>\n",
       "    .dataframe tbody tr th:only-of-type {\n",
       "        vertical-align: middle;\n",
       "    }\n",
       "\n",
       "    .dataframe tbody tr th {\n",
       "        vertical-align: top;\n",
       "    }\n",
       "\n",
       "    .dataframe thead th {\n",
       "        text-align: right;\n",
       "    }\n",
       "</style>\n",
       "<table border=\"1\" class=\"dataframe\">\n",
       "  <thead>\n",
       "    <tr style=\"text-align: right;\">\n",
       "      <th></th>\n",
       "      <th>Cambio</th>\n",
       "      <th>Valor Real</th>\n",
       "      <th>Valor Predito</th>\n",
       "    </tr>\n",
       "  </thead>\n",
       "  <tbody>\n",
       "    <tr>\n",
       "      <th>0</th>\n",
       "      <td>1.841633</td>\n",
       "      <td>2.687</td>\n",
       "      <td>2.628914</td>\n",
       "    </tr>\n",
       "    <tr>\n",
       "      <th>1</th>\n",
       "      <td>2.268029</td>\n",
       "      <td>3.128</td>\n",
       "      <td>3.112641</td>\n",
       "    </tr>\n",
       "    <tr>\n",
       "      <th>2</th>\n",
       "      <td>2.028736</td>\n",
       "      <td>2.851</td>\n",
       "      <td>2.841174</td>\n",
       "    </tr>\n",
       "    <tr>\n",
       "      <th>3</th>\n",
       "      <td>1.597009</td>\n",
       "      <td>2.854</td>\n",
       "      <td>2.351397</td>\n",
       "    </tr>\n",
       "    <tr>\n",
       "      <th>4</th>\n",
       "      <td>4.968382</td>\n",
       "      <td>7.517</td>\n",
       "      <td>6.176081</td>\n",
       "    </tr>\n",
       "  </tbody>\n",
       "</table>\n",
       "</div>"
      ],
      "text/plain": [
       "     Cambio  Valor Real  Valor Predito\n",
       "0  1.841633       2.687       2.628914\n",
       "1  2.268029       3.128       3.112641\n",
       "2  2.028736       2.851       2.841174\n",
       "3  1.597009       2.854       2.351397\n",
       "4  4.968382       7.517       6.176081"
      ]
     },
     "execution_count": 195,
     "metadata": {},
     "output_type": "execute_result"
    }
   ],
   "source": [
    "predicted_df.head(5)"
   ]
  },
  {
   "cell_type": "code",
   "execution_count": 196,
   "id": "403da133",
   "metadata": {},
   "outputs": [
    {
     "data": {
      "text/plain": [
       "0.9009673201528082"
      ]
     },
     "execution_count": 196,
     "metadata": {},
     "output_type": "execute_result"
    }
   ],
   "source": [
    "r2_score(predicted_df[\"Valor Real\"], predicted_df[\"Valor Predito\"])"
   ]
  },
  {
   "cell_type": "code",
   "execution_count": 197,
   "id": "81258ed9",
   "metadata": {},
   "outputs": [
    {
     "data": {
      "text/html": [
       "<div>\n",
       "<style scoped>\n",
       "    .dataframe tbody tr th:only-of-type {\n",
       "        vertical-align: middle;\n",
       "    }\n",
       "\n",
       "    .dataframe tbody tr th {\n",
       "        vertical-align: top;\n",
       "    }\n",
       "\n",
       "    .dataframe thead th {\n",
       "        text-align: right;\n",
       "    }\n",
       "</style>\n",
       "<table border=\"1\" class=\"dataframe\">\n",
       "  <thead>\n",
       "    <tr style=\"text-align: right;\">\n",
       "      <th></th>\n",
       "      <th>Valor Real</th>\n",
       "      <th>Valor Predito</th>\n",
       "    </tr>\n",
       "    <tr>\n",
       "      <th>Cambio</th>\n",
       "      <th></th>\n",
       "      <th></th>\n",
       "    </tr>\n",
       "  </thead>\n",
       "  <tbody>\n",
       "    <tr>\n",
       "      <th>1.563938</th>\n",
       "      <td>2.867</td>\n",
       "      <td>2.313880</td>\n",
       "    </tr>\n",
       "    <tr>\n",
       "      <th>1.586447</th>\n",
       "      <td>2.922</td>\n",
       "      <td>2.339416</td>\n",
       "    </tr>\n",
       "    <tr>\n",
       "      <th>1.591413</th>\n",
       "      <td>2.543</td>\n",
       "      <td>2.345049</td>\n",
       "    </tr>\n",
       "    <tr>\n",
       "      <th>1.597009</th>\n",
       "      <td>2.854</td>\n",
       "      <td>2.351397</td>\n",
       "    </tr>\n",
       "    <tr>\n",
       "      <th>1.726160</th>\n",
       "      <td>2.615</td>\n",
       "      <td>2.497914</td>\n",
       "    </tr>\n",
       "    <tr>\n",
       "      <th>1.772570</th>\n",
       "      <td>2.853</td>\n",
       "      <td>2.550564</td>\n",
       "    </tr>\n",
       "    <tr>\n",
       "      <th>1.806529</th>\n",
       "      <td>2.635</td>\n",
       "      <td>2.589089</td>\n",
       "    </tr>\n",
       "    <tr>\n",
       "      <th>1.841633</th>\n",
       "      <td>2.687</td>\n",
       "      <td>2.628914</td>\n",
       "    </tr>\n",
       "    <tr>\n",
       "      <th>1.854835</th>\n",
       "      <td>2.855</td>\n",
       "      <td>2.643890</td>\n",
       "    </tr>\n",
       "    <tr>\n",
       "      <th>2.028736</th>\n",
       "      <td>2.851</td>\n",
       "      <td>2.841174</td>\n",
       "    </tr>\n",
       "    <tr>\n",
       "      <th>2.205850</th>\n",
       "      <td>2.560</td>\n",
       "      <td>3.042102</td>\n",
       "    </tr>\n",
       "    <tr>\n",
       "      <th>2.268029</th>\n",
       "      <td>3.128</td>\n",
       "      <td>3.112641</td>\n",
       "    </tr>\n",
       "    <tr>\n",
       "      <th>2.332868</th>\n",
       "      <td>3.137</td>\n",
       "      <td>3.186199</td>\n",
       "    </tr>\n",
       "    <tr>\n",
       "      <th>2.448261</th>\n",
       "      <td>3.132</td>\n",
       "      <td>3.317108</td>\n",
       "    </tr>\n",
       "    <tr>\n",
       "      <th>2.548365</th>\n",
       "      <td>3.179</td>\n",
       "      <td>3.430672</td>\n",
       "    </tr>\n",
       "    <tr>\n",
       "      <th>2.639364</th>\n",
       "      <td>3.204</td>\n",
       "      <td>3.533906</td>\n",
       "    </tr>\n",
       "    <tr>\n",
       "      <th>3.209661</th>\n",
       "      <td>3.890</td>\n",
       "      <td>4.180884</td>\n",
       "    </tr>\n",
       "    <tr>\n",
       "      <th>3.539290</th>\n",
       "      <td>3.919</td>\n",
       "      <td>4.554836</td>\n",
       "    </tr>\n",
       "    <tr>\n",
       "      <th>3.565845</th>\n",
       "      <td>3.948</td>\n",
       "      <td>4.584961</td>\n",
       "    </tr>\n",
       "    <tr>\n",
       "      <th>3.703918</th>\n",
       "      <td>3.930</td>\n",
       "      <td>4.741599</td>\n",
       "    </tr>\n",
       "    <tr>\n",
       "      <th>4.086987</th>\n",
       "      <td>4.841</td>\n",
       "      <td>5.176175</td>\n",
       "    </tr>\n",
       "    <tr>\n",
       "      <th>4.883855</th>\n",
       "      <td>4.956</td>\n",
       "      <td>6.080188</td>\n",
       "    </tr>\n",
       "    <tr>\n",
       "      <th>4.968382</th>\n",
       "      <td>7.517</td>\n",
       "      <td>6.176081</td>\n",
       "    </tr>\n",
       "    <tr>\n",
       "      <th>5.156705</th>\n",
       "      <td>6.310</td>\n",
       "      <td>6.389725</td>\n",
       "    </tr>\n",
       "    <tr>\n",
       "      <th>5.251718</th>\n",
       "      <td>6.454</td>\n",
       "      <td>6.497514</td>\n",
       "    </tr>\n",
       "    <tr>\n",
       "      <th>5.539980</th>\n",
       "      <td>6.875</td>\n",
       "      <td>6.824535</td>\n",
       "    </tr>\n",
       "    <tr>\n",
       "      <th>5.556860</th>\n",
       "      <td>7.258</td>\n",
       "      <td>6.843685</td>\n",
       "    </tr>\n",
       "  </tbody>\n",
       "</table>\n",
       "</div>"
      ],
      "text/plain": [
       "          Valor Real  Valor Predito\n",
       "Cambio                             \n",
       "1.563938       2.867       2.313880\n",
       "1.586447       2.922       2.339416\n",
       "1.591413       2.543       2.345049\n",
       "1.597009       2.854       2.351397\n",
       "1.726160       2.615       2.497914\n",
       "1.772570       2.853       2.550564\n",
       "1.806529       2.635       2.589089\n",
       "1.841633       2.687       2.628914\n",
       "1.854835       2.855       2.643890\n",
       "2.028736       2.851       2.841174\n",
       "2.205850       2.560       3.042102\n",
       "2.268029       3.128       3.112641\n",
       "2.332868       3.137       3.186199\n",
       "2.448261       3.132       3.317108\n",
       "2.548365       3.179       3.430672\n",
       "2.639364       3.204       3.533906\n",
       "3.209661       3.890       4.180884\n",
       "3.539290       3.919       4.554836\n",
       "3.565845       3.948       4.584961\n",
       "3.703918       3.930       4.741599\n",
       "4.086987       4.841       5.176175\n",
       "4.883855       4.956       6.080188\n",
       "4.968382       7.517       6.176081\n",
       "5.156705       6.310       6.389725\n",
       "5.251718       6.454       6.497514\n",
       "5.539980       6.875       6.824535\n",
       "5.556860       7.258       6.843685"
      ]
     },
     "execution_count": 197,
     "metadata": {},
     "output_type": "execute_result"
    }
   ],
   "source": [
    "predicted_df.sort_values(by=['Cambio']).set_index('Cambio')"
   ]
  },
  {
   "cell_type": "code",
   "execution_count": 198,
   "id": "1677456c",
   "metadata": {},
   "outputs": [
    {
     "data": {
      "application/vnd.plotly.v1+json": {
       "config": {
        "plotlyServerURL": "https://plot.ly"
       },
       "data": [
        {
         "name": "Valor Real",
         "type": "bar",
         "x": [
          0,
          1,
          2,
          3,
          4,
          5,
          6,
          7,
          8,
          9,
          10,
          11,
          12,
          13,
          14,
          15,
          16,
          17,
          18,
          19,
          20,
          21,
          22,
          23,
          24,
          25,
          26
         ],
         "xaxis": "x",
         "y": [
          2.687,
          3.128,
          2.851,
          2.854,
          7.517,
          3.179,
          3.948,
          4.956,
          2.853,
          6.454,
          2.867,
          6.875,
          2.855,
          3.132,
          2.543,
          6.31,
          2.922,
          3.89,
          4.841,
          3.919,
          2.635,
          3.137,
          2.56,
          3.204,
          3.93,
          2.615,
          7.258
         ],
         "yaxis": "y2"
        },
        {
         "name": "Valor Predito",
         "type": "bar",
         "x": [
          0,
          1,
          2,
          3,
          4,
          5,
          6,
          7,
          8,
          9,
          10,
          11,
          12,
          13,
          14,
          15,
          16,
          17,
          18,
          19,
          20,
          21,
          22,
          23,
          24,
          25,
          26
         ],
         "xaxis": "x",
         "y": [
          2.6289136756947444,
          3.1126414662069677,
          2.841174337542031,
          2.351397125512422,
          6.1760807191629326,
          3.430671568509978,
          4.584960613784084,
          6.080188018632223,
          2.55056417585516,
          6.497514123921016,
          2.313879894924491,
          6.82453525347449,
          2.643890421392639,
          3.317107566124123,
          2.345049089181966,
          6.389725076857484,
          2.339415735876814,
          4.180884425690604,
          5.17617464398198,
          4.554835603036153,
          2.5890887728921124,
          3.186199326776776,
          3.0421024444563747,
          3.5339057638646065,
          4.741598937111192,
          2.497913947259835,
          6.843684916449906
         ],
         "yaxis": "y"
        }
       ],
       "layout": {
        "template": {
         "data": {
          "bar": [
           {
            "error_x": {
             "color": "#2a3f5f"
            },
            "error_y": {
             "color": "#2a3f5f"
            },
            "marker": {
             "line": {
              "color": "#E5ECF6",
              "width": 0.5
             },
             "pattern": {
              "fillmode": "overlay",
              "size": 10,
              "solidity": 0.2
             }
            },
            "type": "bar"
           }
          ],
          "barpolar": [
           {
            "marker": {
             "line": {
              "color": "#E5ECF6",
              "width": 0.5
             },
             "pattern": {
              "fillmode": "overlay",
              "size": 10,
              "solidity": 0.2
             }
            },
            "type": "barpolar"
           }
          ],
          "carpet": [
           {
            "aaxis": {
             "endlinecolor": "#2a3f5f",
             "gridcolor": "white",
             "linecolor": "white",
             "minorgridcolor": "white",
             "startlinecolor": "#2a3f5f"
            },
            "baxis": {
             "endlinecolor": "#2a3f5f",
             "gridcolor": "white",
             "linecolor": "white",
             "minorgridcolor": "white",
             "startlinecolor": "#2a3f5f"
            },
            "type": "carpet"
           }
          ],
          "choropleth": [
           {
            "colorbar": {
             "outlinewidth": 0,
             "ticks": ""
            },
            "type": "choropleth"
           }
          ],
          "contour": [
           {
            "colorbar": {
             "outlinewidth": 0,
             "ticks": ""
            },
            "colorscale": [
             [
              0,
              "#0d0887"
             ],
             [
              0.1111111111111111,
              "#46039f"
             ],
             [
              0.2222222222222222,
              "#7201a8"
             ],
             [
              0.3333333333333333,
              "#9c179e"
             ],
             [
              0.4444444444444444,
              "#bd3786"
             ],
             [
              0.5555555555555556,
              "#d8576b"
             ],
             [
              0.6666666666666666,
              "#ed7953"
             ],
             [
              0.7777777777777778,
              "#fb9f3a"
             ],
             [
              0.8888888888888888,
              "#fdca26"
             ],
             [
              1,
              "#f0f921"
             ]
            ],
            "type": "contour"
           }
          ],
          "contourcarpet": [
           {
            "colorbar": {
             "outlinewidth": 0,
             "ticks": ""
            },
            "type": "contourcarpet"
           }
          ],
          "heatmap": [
           {
            "colorbar": {
             "outlinewidth": 0,
             "ticks": ""
            },
            "colorscale": [
             [
              0,
              "#0d0887"
             ],
             [
              0.1111111111111111,
              "#46039f"
             ],
             [
              0.2222222222222222,
              "#7201a8"
             ],
             [
              0.3333333333333333,
              "#9c179e"
             ],
             [
              0.4444444444444444,
              "#bd3786"
             ],
             [
              0.5555555555555556,
              "#d8576b"
             ],
             [
              0.6666666666666666,
              "#ed7953"
             ],
             [
              0.7777777777777778,
              "#fb9f3a"
             ],
             [
              0.8888888888888888,
              "#fdca26"
             ],
             [
              1,
              "#f0f921"
             ]
            ],
            "type": "heatmap"
           }
          ],
          "heatmapgl": [
           {
            "colorbar": {
             "outlinewidth": 0,
             "ticks": ""
            },
            "colorscale": [
             [
              0,
              "#0d0887"
             ],
             [
              0.1111111111111111,
              "#46039f"
             ],
             [
              0.2222222222222222,
              "#7201a8"
             ],
             [
              0.3333333333333333,
              "#9c179e"
             ],
             [
              0.4444444444444444,
              "#bd3786"
             ],
             [
              0.5555555555555556,
              "#d8576b"
             ],
             [
              0.6666666666666666,
              "#ed7953"
             ],
             [
              0.7777777777777778,
              "#fb9f3a"
             ],
             [
              0.8888888888888888,
              "#fdca26"
             ],
             [
              1,
              "#f0f921"
             ]
            ],
            "type": "heatmapgl"
           }
          ],
          "histogram": [
           {
            "marker": {
             "pattern": {
              "fillmode": "overlay",
              "size": 10,
              "solidity": 0.2
             }
            },
            "type": "histogram"
           }
          ],
          "histogram2d": [
           {
            "colorbar": {
             "outlinewidth": 0,
             "ticks": ""
            },
            "colorscale": [
             [
              0,
              "#0d0887"
             ],
             [
              0.1111111111111111,
              "#46039f"
             ],
             [
              0.2222222222222222,
              "#7201a8"
             ],
             [
              0.3333333333333333,
              "#9c179e"
             ],
             [
              0.4444444444444444,
              "#bd3786"
             ],
             [
              0.5555555555555556,
              "#d8576b"
             ],
             [
              0.6666666666666666,
              "#ed7953"
             ],
             [
              0.7777777777777778,
              "#fb9f3a"
             ],
             [
              0.8888888888888888,
              "#fdca26"
             ],
             [
              1,
              "#f0f921"
             ]
            ],
            "type": "histogram2d"
           }
          ],
          "histogram2dcontour": [
           {
            "colorbar": {
             "outlinewidth": 0,
             "ticks": ""
            },
            "colorscale": [
             [
              0,
              "#0d0887"
             ],
             [
              0.1111111111111111,
              "#46039f"
             ],
             [
              0.2222222222222222,
              "#7201a8"
             ],
             [
              0.3333333333333333,
              "#9c179e"
             ],
             [
              0.4444444444444444,
              "#bd3786"
             ],
             [
              0.5555555555555556,
              "#d8576b"
             ],
             [
              0.6666666666666666,
              "#ed7953"
             ],
             [
              0.7777777777777778,
              "#fb9f3a"
             ],
             [
              0.8888888888888888,
              "#fdca26"
             ],
             [
              1,
              "#f0f921"
             ]
            ],
            "type": "histogram2dcontour"
           }
          ],
          "mesh3d": [
           {
            "colorbar": {
             "outlinewidth": 0,
             "ticks": ""
            },
            "type": "mesh3d"
           }
          ],
          "parcoords": [
           {
            "line": {
             "colorbar": {
              "outlinewidth": 0,
              "ticks": ""
             }
            },
            "type": "parcoords"
           }
          ],
          "pie": [
           {
            "automargin": true,
            "type": "pie"
           }
          ],
          "scatter": [
           {
            "fillpattern": {
             "fillmode": "overlay",
             "size": 10,
             "solidity": 0.2
            },
            "type": "scatter"
           }
          ],
          "scatter3d": [
           {
            "line": {
             "colorbar": {
              "outlinewidth": 0,
              "ticks": ""
             }
            },
            "marker": {
             "colorbar": {
              "outlinewidth": 0,
              "ticks": ""
             }
            },
            "type": "scatter3d"
           }
          ],
          "scattercarpet": [
           {
            "marker": {
             "colorbar": {
              "outlinewidth": 0,
              "ticks": ""
             }
            },
            "type": "scattercarpet"
           }
          ],
          "scattergeo": [
           {
            "marker": {
             "colorbar": {
              "outlinewidth": 0,
              "ticks": ""
             }
            },
            "type": "scattergeo"
           }
          ],
          "scattergl": [
           {
            "marker": {
             "colorbar": {
              "outlinewidth": 0,
              "ticks": ""
             }
            },
            "type": "scattergl"
           }
          ],
          "scattermapbox": [
           {
            "marker": {
             "colorbar": {
              "outlinewidth": 0,
              "ticks": ""
             }
            },
            "type": "scattermapbox"
           }
          ],
          "scatterpolar": [
           {
            "marker": {
             "colorbar": {
              "outlinewidth": 0,
              "ticks": ""
             }
            },
            "type": "scatterpolar"
           }
          ],
          "scatterpolargl": [
           {
            "marker": {
             "colorbar": {
              "outlinewidth": 0,
              "ticks": ""
             }
            },
            "type": "scatterpolargl"
           }
          ],
          "scatterternary": [
           {
            "marker": {
             "colorbar": {
              "outlinewidth": 0,
              "ticks": ""
             }
            },
            "type": "scatterternary"
           }
          ],
          "surface": [
           {
            "colorbar": {
             "outlinewidth": 0,
             "ticks": ""
            },
            "colorscale": [
             [
              0,
              "#0d0887"
             ],
             [
              0.1111111111111111,
              "#46039f"
             ],
             [
              0.2222222222222222,
              "#7201a8"
             ],
             [
              0.3333333333333333,
              "#9c179e"
             ],
             [
              0.4444444444444444,
              "#bd3786"
             ],
             [
              0.5555555555555556,
              "#d8576b"
             ],
             [
              0.6666666666666666,
              "#ed7953"
             ],
             [
              0.7777777777777778,
              "#fb9f3a"
             ],
             [
              0.8888888888888888,
              "#fdca26"
             ],
             [
              1,
              "#f0f921"
             ]
            ],
            "type": "surface"
           }
          ],
          "table": [
           {
            "cells": {
             "fill": {
              "color": "#EBF0F8"
             },
             "line": {
              "color": "white"
             }
            },
            "header": {
             "fill": {
              "color": "#C8D4E3"
             },
             "line": {
              "color": "white"
             }
            },
            "type": "table"
           }
          ]
         },
         "layout": {
          "annotationdefaults": {
           "arrowcolor": "#2a3f5f",
           "arrowhead": 0,
           "arrowwidth": 1
          },
          "autotypenumbers": "strict",
          "coloraxis": {
           "colorbar": {
            "outlinewidth": 0,
            "ticks": ""
           }
          },
          "colorscale": {
           "diverging": [
            [
             0,
             "#8e0152"
            ],
            [
             0.1,
             "#c51b7d"
            ],
            [
             0.2,
             "#de77ae"
            ],
            [
             0.3,
             "#f1b6da"
            ],
            [
             0.4,
             "#fde0ef"
            ],
            [
             0.5,
             "#f7f7f7"
            ],
            [
             0.6,
             "#e6f5d0"
            ],
            [
             0.7,
             "#b8e186"
            ],
            [
             0.8,
             "#7fbc41"
            ],
            [
             0.9,
             "#4d9221"
            ],
            [
             1,
             "#276419"
            ]
           ],
           "sequential": [
            [
             0,
             "#0d0887"
            ],
            [
             0.1111111111111111,
             "#46039f"
            ],
            [
             0.2222222222222222,
             "#7201a8"
            ],
            [
             0.3333333333333333,
             "#9c179e"
            ],
            [
             0.4444444444444444,
             "#bd3786"
            ],
            [
             0.5555555555555556,
             "#d8576b"
            ],
            [
             0.6666666666666666,
             "#ed7953"
            ],
            [
             0.7777777777777778,
             "#fb9f3a"
            ],
            [
             0.8888888888888888,
             "#fdca26"
            ],
            [
             1,
             "#f0f921"
            ]
           ],
           "sequentialminus": [
            [
             0,
             "#0d0887"
            ],
            [
             0.1111111111111111,
             "#46039f"
            ],
            [
             0.2222222222222222,
             "#7201a8"
            ],
            [
             0.3333333333333333,
             "#9c179e"
            ],
            [
             0.4444444444444444,
             "#bd3786"
            ],
            [
             0.5555555555555556,
             "#d8576b"
            ],
            [
             0.6666666666666666,
             "#ed7953"
            ],
            [
             0.7777777777777778,
             "#fb9f3a"
            ],
            [
             0.8888888888888888,
             "#fdca26"
            ],
            [
             1,
             "#f0f921"
            ]
           ]
          },
          "colorway": [
           "#636efa",
           "#EF553B",
           "#00cc96",
           "#ab63fa",
           "#FFA15A",
           "#19d3f3",
           "#FF6692",
           "#B6E880",
           "#FF97FF",
           "#FECB52"
          ],
          "font": {
           "color": "#2a3f5f"
          },
          "geo": {
           "bgcolor": "white",
           "lakecolor": "white",
           "landcolor": "#E5ECF6",
           "showlakes": true,
           "showland": true,
           "subunitcolor": "white"
          },
          "hoverlabel": {
           "align": "left"
          },
          "hovermode": "closest",
          "mapbox": {
           "style": "light"
          },
          "paper_bgcolor": "white",
          "plot_bgcolor": "#E5ECF6",
          "polar": {
           "angularaxis": {
            "gridcolor": "white",
            "linecolor": "white",
            "ticks": ""
           },
           "bgcolor": "#E5ECF6",
           "radialaxis": {
            "gridcolor": "white",
            "linecolor": "white",
            "ticks": ""
           }
          },
          "scene": {
           "xaxis": {
            "backgroundcolor": "#E5ECF6",
            "gridcolor": "white",
            "gridwidth": 2,
            "linecolor": "white",
            "showbackground": true,
            "ticks": "",
            "zerolinecolor": "white"
           },
           "yaxis": {
            "backgroundcolor": "#E5ECF6",
            "gridcolor": "white",
            "gridwidth": 2,
            "linecolor": "white",
            "showbackground": true,
            "ticks": "",
            "zerolinecolor": "white"
           },
           "zaxis": {
            "backgroundcolor": "#E5ECF6",
            "gridcolor": "white",
            "gridwidth": 2,
            "linecolor": "white",
            "showbackground": true,
            "ticks": "",
            "zerolinecolor": "white"
           }
          },
          "shapedefaults": {
           "line": {
            "color": "#2a3f5f"
           }
          },
          "ternary": {
           "aaxis": {
            "gridcolor": "white",
            "linecolor": "white",
            "ticks": ""
           },
           "baxis": {
            "gridcolor": "white",
            "linecolor": "white",
            "ticks": ""
           },
           "bgcolor": "#E5ECF6",
           "caxis": {
            "gridcolor": "white",
            "linecolor": "white",
            "ticks": ""
           }
          },
          "title": {
           "x": 0.05
          },
          "xaxis": {
           "automargin": true,
           "gridcolor": "white",
           "linecolor": "white",
           "ticks": "",
           "title": {
            "standoff": 15
           },
           "zerolinecolor": "white",
           "zerolinewidth": 2
          },
          "yaxis": {
           "automargin": true,
           "gridcolor": "white",
           "linecolor": "white",
           "ticks": "",
           "title": {
            "standoff": 15
           },
           "zerolinecolor": "white",
           "zerolinewidth": 2
          }
         }
        },
        "title": {
         "text": "Regressão - Gasolina Comum"
        },
        "xaxis": {
         "anchor": "y",
         "domain": [
          0,
          0.94
         ],
         "title": {
          "text": "Câmbio"
         }
        },
        "yaxis": {
         "anchor": "x",
         "domain": [
          0,
          1
         ],
         "title": {
          "text": "<b>Valor Real</b>"
         }
        },
        "yaxis2": {
         "anchor": "x",
         "overlaying": "y",
         "side": "right",
         "title": {
          "text": "<b>Valor Predito</b>"
         }
        }
       }
      },
      "text/html": [
       "<div>                            <div id=\"59260425-6298-4597-b72c-a2853c75c1aa\" class=\"plotly-graph-div\" style=\"height:525px; width:100%;\"></div>            <script type=\"text/javascript\">                require([\"plotly\"], function(Plotly) {                    window.PLOTLYENV=window.PLOTLYENV || {};                                    if (document.getElementById(\"59260425-6298-4597-b72c-a2853c75c1aa\")) {                    Plotly.newPlot(                        \"59260425-6298-4597-b72c-a2853c75c1aa\",                        [{\"name\":\"Valor Real\",\"x\":[0,1,2,3,4,5,6,7,8,9,10,11,12,13,14,15,16,17,18,19,20,21,22,23,24,25,26],\"y\":[2.687,3.128,2.851,2.854,7.517,3.179,3.948,4.956,2.853,6.454,2.867,6.875,2.855,3.132,2.543,6.31,2.922,3.89,4.841,3.919,2.635,3.137,2.56,3.204,3.93,2.615,7.258],\"type\":\"bar\",\"xaxis\":\"x\",\"yaxis\":\"y2\"},{\"name\":\"Valor Predito\",\"x\":[0,1,2,3,4,5,6,7,8,9,10,11,12,13,14,15,16,17,18,19,20,21,22,23,24,25,26],\"y\":[2.6289136756947444,3.1126414662069677,2.841174337542031,2.351397125512422,6.1760807191629326,3.430671568509978,4.584960613784084,6.080188018632223,2.55056417585516,6.497514123921016,2.313879894924491,6.82453525347449,2.643890421392639,3.317107566124123,2.345049089181966,6.389725076857484,2.339415735876814,4.180884425690604,5.17617464398198,4.554835603036153,2.5890887728921124,3.186199326776776,3.0421024444563747,3.5339057638646065,4.741598937111192,2.497913947259835,6.843684916449906],\"type\":\"bar\",\"xaxis\":\"x\",\"yaxis\":\"y\"}],                        {\"template\":{\"data\":{\"histogram2dcontour\":[{\"type\":\"histogram2dcontour\",\"colorbar\":{\"outlinewidth\":0,\"ticks\":\"\"},\"colorscale\":[[0.0,\"#0d0887\"],[0.1111111111111111,\"#46039f\"],[0.2222222222222222,\"#7201a8\"],[0.3333333333333333,\"#9c179e\"],[0.4444444444444444,\"#bd3786\"],[0.5555555555555556,\"#d8576b\"],[0.6666666666666666,\"#ed7953\"],[0.7777777777777778,\"#fb9f3a\"],[0.8888888888888888,\"#fdca26\"],[1.0,\"#f0f921\"]]}],\"choropleth\":[{\"type\":\"choropleth\",\"colorbar\":{\"outlinewidth\":0,\"ticks\":\"\"}}],\"histogram2d\":[{\"type\":\"histogram2d\",\"colorbar\":{\"outlinewidth\":0,\"ticks\":\"\"},\"colorscale\":[[0.0,\"#0d0887\"],[0.1111111111111111,\"#46039f\"],[0.2222222222222222,\"#7201a8\"],[0.3333333333333333,\"#9c179e\"],[0.4444444444444444,\"#bd3786\"],[0.5555555555555556,\"#d8576b\"],[0.6666666666666666,\"#ed7953\"],[0.7777777777777778,\"#fb9f3a\"],[0.8888888888888888,\"#fdca26\"],[1.0,\"#f0f921\"]]}],\"heatmap\":[{\"type\":\"heatmap\",\"colorbar\":{\"outlinewidth\":0,\"ticks\":\"\"},\"colorscale\":[[0.0,\"#0d0887\"],[0.1111111111111111,\"#46039f\"],[0.2222222222222222,\"#7201a8\"],[0.3333333333333333,\"#9c179e\"],[0.4444444444444444,\"#bd3786\"],[0.5555555555555556,\"#d8576b\"],[0.6666666666666666,\"#ed7953\"],[0.7777777777777778,\"#fb9f3a\"],[0.8888888888888888,\"#fdca26\"],[1.0,\"#f0f921\"]]}],\"heatmapgl\":[{\"type\":\"heatmapgl\",\"colorbar\":{\"outlinewidth\":0,\"ticks\":\"\"},\"colorscale\":[[0.0,\"#0d0887\"],[0.1111111111111111,\"#46039f\"],[0.2222222222222222,\"#7201a8\"],[0.3333333333333333,\"#9c179e\"],[0.4444444444444444,\"#bd3786\"],[0.5555555555555556,\"#d8576b\"],[0.6666666666666666,\"#ed7953\"],[0.7777777777777778,\"#fb9f3a\"],[0.8888888888888888,\"#fdca26\"],[1.0,\"#f0f921\"]]}],\"contourcarpet\":[{\"type\":\"contourcarpet\",\"colorbar\":{\"outlinewidth\":0,\"ticks\":\"\"}}],\"contour\":[{\"type\":\"contour\",\"colorbar\":{\"outlinewidth\":0,\"ticks\":\"\"},\"colorscale\":[[0.0,\"#0d0887\"],[0.1111111111111111,\"#46039f\"],[0.2222222222222222,\"#7201a8\"],[0.3333333333333333,\"#9c179e\"],[0.4444444444444444,\"#bd3786\"],[0.5555555555555556,\"#d8576b\"],[0.6666666666666666,\"#ed7953\"],[0.7777777777777778,\"#fb9f3a\"],[0.8888888888888888,\"#fdca26\"],[1.0,\"#f0f921\"]]}],\"surface\":[{\"type\":\"surface\",\"colorbar\":{\"outlinewidth\":0,\"ticks\":\"\"},\"colorscale\":[[0.0,\"#0d0887\"],[0.1111111111111111,\"#46039f\"],[0.2222222222222222,\"#7201a8\"],[0.3333333333333333,\"#9c179e\"],[0.4444444444444444,\"#bd3786\"],[0.5555555555555556,\"#d8576b\"],[0.6666666666666666,\"#ed7953\"],[0.7777777777777778,\"#fb9f3a\"],[0.8888888888888888,\"#fdca26\"],[1.0,\"#f0f921\"]]}],\"mesh3d\":[{\"type\":\"mesh3d\",\"colorbar\":{\"outlinewidth\":0,\"ticks\":\"\"}}],\"scatter\":[{\"fillpattern\":{\"fillmode\":\"overlay\",\"size\":10,\"solidity\":0.2},\"type\":\"scatter\"}],\"parcoords\":[{\"type\":\"parcoords\",\"line\":{\"colorbar\":{\"outlinewidth\":0,\"ticks\":\"\"}}}],\"scatterpolargl\":[{\"type\":\"scatterpolargl\",\"marker\":{\"colorbar\":{\"outlinewidth\":0,\"ticks\":\"\"}}}],\"bar\":[{\"error_x\":{\"color\":\"#2a3f5f\"},\"error_y\":{\"color\":\"#2a3f5f\"},\"marker\":{\"line\":{\"color\":\"#E5ECF6\",\"width\":0.5},\"pattern\":{\"fillmode\":\"overlay\",\"size\":10,\"solidity\":0.2}},\"type\":\"bar\"}],\"scattergeo\":[{\"type\":\"scattergeo\",\"marker\":{\"colorbar\":{\"outlinewidth\":0,\"ticks\":\"\"}}}],\"scatterpolar\":[{\"type\":\"scatterpolar\",\"marker\":{\"colorbar\":{\"outlinewidth\":0,\"ticks\":\"\"}}}],\"histogram\":[{\"marker\":{\"pattern\":{\"fillmode\":\"overlay\",\"size\":10,\"solidity\":0.2}},\"type\":\"histogram\"}],\"scattergl\":[{\"type\":\"scattergl\",\"marker\":{\"colorbar\":{\"outlinewidth\":0,\"ticks\":\"\"}}}],\"scatter3d\":[{\"type\":\"scatter3d\",\"line\":{\"colorbar\":{\"outlinewidth\":0,\"ticks\":\"\"}},\"marker\":{\"colorbar\":{\"outlinewidth\":0,\"ticks\":\"\"}}}],\"scattermapbox\":[{\"type\":\"scattermapbox\",\"marker\":{\"colorbar\":{\"outlinewidth\":0,\"ticks\":\"\"}}}],\"scatterternary\":[{\"type\":\"scatterternary\",\"marker\":{\"colorbar\":{\"outlinewidth\":0,\"ticks\":\"\"}}}],\"scattercarpet\":[{\"type\":\"scattercarpet\",\"marker\":{\"colorbar\":{\"outlinewidth\":0,\"ticks\":\"\"}}}],\"carpet\":[{\"aaxis\":{\"endlinecolor\":\"#2a3f5f\",\"gridcolor\":\"white\",\"linecolor\":\"white\",\"minorgridcolor\":\"white\",\"startlinecolor\":\"#2a3f5f\"},\"baxis\":{\"endlinecolor\":\"#2a3f5f\",\"gridcolor\":\"white\",\"linecolor\":\"white\",\"minorgridcolor\":\"white\",\"startlinecolor\":\"#2a3f5f\"},\"type\":\"carpet\"}],\"table\":[{\"cells\":{\"fill\":{\"color\":\"#EBF0F8\"},\"line\":{\"color\":\"white\"}},\"header\":{\"fill\":{\"color\":\"#C8D4E3\"},\"line\":{\"color\":\"white\"}},\"type\":\"table\"}],\"barpolar\":[{\"marker\":{\"line\":{\"color\":\"#E5ECF6\",\"width\":0.5},\"pattern\":{\"fillmode\":\"overlay\",\"size\":10,\"solidity\":0.2}},\"type\":\"barpolar\"}],\"pie\":[{\"automargin\":true,\"type\":\"pie\"}]},\"layout\":{\"autotypenumbers\":\"strict\",\"colorway\":[\"#636efa\",\"#EF553B\",\"#00cc96\",\"#ab63fa\",\"#FFA15A\",\"#19d3f3\",\"#FF6692\",\"#B6E880\",\"#FF97FF\",\"#FECB52\"],\"font\":{\"color\":\"#2a3f5f\"},\"hovermode\":\"closest\",\"hoverlabel\":{\"align\":\"left\"},\"paper_bgcolor\":\"white\",\"plot_bgcolor\":\"#E5ECF6\",\"polar\":{\"bgcolor\":\"#E5ECF6\",\"angularaxis\":{\"gridcolor\":\"white\",\"linecolor\":\"white\",\"ticks\":\"\"},\"radialaxis\":{\"gridcolor\":\"white\",\"linecolor\":\"white\",\"ticks\":\"\"}},\"ternary\":{\"bgcolor\":\"#E5ECF6\",\"aaxis\":{\"gridcolor\":\"white\",\"linecolor\":\"white\",\"ticks\":\"\"},\"baxis\":{\"gridcolor\":\"white\",\"linecolor\":\"white\",\"ticks\":\"\"},\"caxis\":{\"gridcolor\":\"white\",\"linecolor\":\"white\",\"ticks\":\"\"}},\"coloraxis\":{\"colorbar\":{\"outlinewidth\":0,\"ticks\":\"\"}},\"colorscale\":{\"sequential\":[[0.0,\"#0d0887\"],[0.1111111111111111,\"#46039f\"],[0.2222222222222222,\"#7201a8\"],[0.3333333333333333,\"#9c179e\"],[0.4444444444444444,\"#bd3786\"],[0.5555555555555556,\"#d8576b\"],[0.6666666666666666,\"#ed7953\"],[0.7777777777777778,\"#fb9f3a\"],[0.8888888888888888,\"#fdca26\"],[1.0,\"#f0f921\"]],\"sequentialminus\":[[0.0,\"#0d0887\"],[0.1111111111111111,\"#46039f\"],[0.2222222222222222,\"#7201a8\"],[0.3333333333333333,\"#9c179e\"],[0.4444444444444444,\"#bd3786\"],[0.5555555555555556,\"#d8576b\"],[0.6666666666666666,\"#ed7953\"],[0.7777777777777778,\"#fb9f3a\"],[0.8888888888888888,\"#fdca26\"],[1.0,\"#f0f921\"]],\"diverging\":[[0,\"#8e0152\"],[0.1,\"#c51b7d\"],[0.2,\"#de77ae\"],[0.3,\"#f1b6da\"],[0.4,\"#fde0ef\"],[0.5,\"#f7f7f7\"],[0.6,\"#e6f5d0\"],[0.7,\"#b8e186\"],[0.8,\"#7fbc41\"],[0.9,\"#4d9221\"],[1,\"#276419\"]]},\"xaxis\":{\"gridcolor\":\"white\",\"linecolor\":\"white\",\"ticks\":\"\",\"title\":{\"standoff\":15},\"zerolinecolor\":\"white\",\"automargin\":true,\"zerolinewidth\":2},\"yaxis\":{\"gridcolor\":\"white\",\"linecolor\":\"white\",\"ticks\":\"\",\"title\":{\"standoff\":15},\"zerolinecolor\":\"white\",\"automargin\":true,\"zerolinewidth\":2},\"scene\":{\"xaxis\":{\"backgroundcolor\":\"#E5ECF6\",\"gridcolor\":\"white\",\"linecolor\":\"white\",\"showbackground\":true,\"ticks\":\"\",\"zerolinecolor\":\"white\",\"gridwidth\":2},\"yaxis\":{\"backgroundcolor\":\"#E5ECF6\",\"gridcolor\":\"white\",\"linecolor\":\"white\",\"showbackground\":true,\"ticks\":\"\",\"zerolinecolor\":\"white\",\"gridwidth\":2},\"zaxis\":{\"backgroundcolor\":\"#E5ECF6\",\"gridcolor\":\"white\",\"linecolor\":\"white\",\"showbackground\":true,\"ticks\":\"\",\"zerolinecolor\":\"white\",\"gridwidth\":2}},\"shapedefaults\":{\"line\":{\"color\":\"#2a3f5f\"}},\"annotationdefaults\":{\"arrowcolor\":\"#2a3f5f\",\"arrowhead\":0,\"arrowwidth\":1},\"geo\":{\"bgcolor\":\"white\",\"landcolor\":\"#E5ECF6\",\"subunitcolor\":\"white\",\"showland\":true,\"showlakes\":true,\"lakecolor\":\"white\"},\"title\":{\"x\":0.05},\"mapbox\":{\"style\":\"light\"}}},\"xaxis\":{\"anchor\":\"y\",\"domain\":[0.0,0.94],\"title\":{\"text\":\"C\\u00e2mbio\"}},\"yaxis\":{\"anchor\":\"x\",\"domain\":[0.0,1.0],\"title\":{\"text\":\"<b>Valor Real</b>\"}},\"yaxis2\":{\"anchor\":\"x\",\"overlaying\":\"y\",\"side\":\"right\",\"title\":{\"text\":\"<b>Valor Predito</b>\"}},\"title\":{\"text\":\"Regress\\u00e3o - Gasolina Comum\"}},                        {\"responsive\": true}                    ).then(function(){\n",
       "                            \n",
       "var gd = document.getElementById('59260425-6298-4597-b72c-a2853c75c1aa');\n",
       "var x = new MutationObserver(function (mutations, observer) {{\n",
       "        var display = window.getComputedStyle(gd).display;\n",
       "        if (!display || display === 'none') {{\n",
       "            console.log([gd, 'removed!']);\n",
       "            Plotly.purge(gd);\n",
       "            observer.disconnect();\n",
       "        }}\n",
       "}});\n",
       "\n",
       "// Listen for the removal of the full notebook cells\n",
       "var notebookContainer = gd.closest('#notebook-container');\n",
       "if (notebookContainer) {{\n",
       "    x.observe(notebookContainer, {childList: true});\n",
       "}}\n",
       "\n",
       "// Listen for the clearing of the current output cell\n",
       "var outputEl = gd.closest('.output');\n",
       "if (outputEl) {{\n",
       "    x.observe(outputEl, {childList: true});\n",
       "}}\n",
       "\n",
       "                        })                };                });            </script>        </div>"
      ]
     },
     "metadata": {},
     "output_type": "display_data"
    }
   ],
   "source": [
    "# Create figure with secondary y-axis\n",
    "fig_3 = make_subplots(specs=[[{\"secondary_y\": True}]])\n",
    "\n",
    "# Add traces\n",
    "fig_3.add_trace(\n",
    "    go.Bar(x=predicted_df.index, y=predicted_df['Valor Real'], name=\"Valor Real\"),\n",
    "    secondary_y=True,\n",
    ")\n",
    "\n",
    "fig_3.add_trace(\n",
    "    go.Bar(x=predicted_df.index, y=predicted_df['Valor Predito'], name=\"Valor Predito\"),\n",
    "    secondary_y=False,\n",
    ")\n",
    "\n",
    "# Add figure title\n",
    "fig_3.update_layout(\n",
    "    title_text=\"Regressão - Gasolina Comum\"\n",
    ")\n",
    "\n",
    "# Set x-axis title\n",
    "fig_3.update_xaxes(title_text=\"Câmbio\")\n",
    "\n",
    "# Set y-axes titles\n",
    "fig_3.update_yaxes(title_text=\"<b>Valor Real</b>\", secondary_y=False)\n",
    "fig_3.update_yaxes(title_text=\"<b>Valor Predito</b>\", secondary_y=True)\n",
    "\n",
    "fig_3.show()"
   ]
  },
  {
   "cell_type": "markdown",
   "id": "7b0c2381",
   "metadata": {},
   "source": [
    "### Randon forest regressor"
   ]
  },
  {
   "cell_type": "code",
   "execution_count": 199,
   "id": "9b940966",
   "metadata": {},
   "outputs": [],
   "source": [
    "models_RF = {}"
   ]
  },
  {
   "cell_type": "code",
   "execution_count": 200,
   "id": "bba10395",
   "metadata": {},
   "outputs": [],
   "source": [
    " # Separa eixos da regressão\n",
    "X = reg_df.drop(['PREÇO MÉDIO REVENDA','PREÇO MÉDIO DISTRIBUIÇÃO','ANO','PRC_BARRIL_BRUTO'] , axis =1)\n",
    "Y = reg_df['PREÇO MÉDIO REVENDA'].values"
   ]
  },
  {
   "cell_type": "code",
   "execution_count": 201,
   "id": "6a2fb79b",
   "metadata": {},
   "outputs": [],
   "source": [
    "x_train, x_test, y_train, y_test = train_test_split(X,Y,test_size=0.30)"
   ]
  },
  {
   "cell_type": "code",
   "execution_count": 202,
   "id": "b0c89779",
   "metadata": {},
   "outputs": [],
   "source": [
    "rf = RandomForestRegressor()"
   ]
  },
  {
   "cell_type": "code",
   "execution_count": 203,
   "id": "ef57e810",
   "metadata": {},
   "outputs": [
    {
     "data": {
      "text/plain": [
       "RandomForestRegressor()"
      ]
     },
     "execution_count": 203,
     "metadata": {},
     "output_type": "execute_result"
    }
   ],
   "source": [
    "rf.fit(x_train, y_train)"
   ]
  },
  {
   "cell_type": "code",
   "execution_count": 204,
   "id": "72799ed0",
   "metadata": {},
   "outputs": [],
   "source": [
    "models_RF = rf\n",
    "predicted_values_rf = []\n",
    "for i in range(0, len(y_test)):\n",
    "    predicted_values_rf.append(rf.predict(x_test.iloc[[i],:])[0])"
   ]
  },
  {
   "cell_type": "code",
   "execution_count": 205,
   "id": "c3eebb5f",
   "metadata": {},
   "outputs": [],
   "source": [
    "predicted_rf_df = pd.DataFrame({'Cambio_rf':x_test['TAXA CÂMBIO'].values, \n",
    "                            'Valor_Real':y_test, 'Valor_Predito':predicted_values_rf})"
   ]
  },
  {
   "cell_type": "code",
   "execution_count": 206,
   "id": "544b93cb",
   "metadata": {},
   "outputs": [
    {
     "data": {
      "text/html": [
       "<div>\n",
       "<style scoped>\n",
       "    .dataframe tbody tr th:only-of-type {\n",
       "        vertical-align: middle;\n",
       "    }\n",
       "\n",
       "    .dataframe tbody tr th {\n",
       "        vertical-align: top;\n",
       "    }\n",
       "\n",
       "    .dataframe thead th {\n",
       "        text-align: right;\n",
       "    }\n",
       "</style>\n",
       "<table border=\"1\" class=\"dataframe\">\n",
       "  <thead>\n",
       "    <tr style=\"text-align: right;\">\n",
       "      <th></th>\n",
       "      <th>Cambio_rf</th>\n",
       "      <th>Valor_Real</th>\n",
       "      <th>Valor_Predito</th>\n",
       "    </tr>\n",
       "  </thead>\n",
       "  <tbody>\n",
       "    <tr>\n",
       "      <th>8</th>\n",
       "      <td>1.756570</td>\n",
       "      <td>2.651</td>\n",
       "      <td>2.64984</td>\n",
       "    </tr>\n",
       "    <tr>\n",
       "      <th>9</th>\n",
       "      <td>5.251718</td>\n",
       "      <td>6.454</td>\n",
       "      <td>7.18584</td>\n",
       "    </tr>\n",
       "    <tr>\n",
       "      <th>7</th>\n",
       "      <td>1.795309</td>\n",
       "      <td>2.849</td>\n",
       "      <td>2.65035</td>\n",
       "    </tr>\n",
       "    <tr>\n",
       "      <th>12</th>\n",
       "      <td>3.424477</td>\n",
       "      <td>3.907</td>\n",
       "      <td>3.95065</td>\n",
       "    </tr>\n",
       "    <tr>\n",
       "      <th>23</th>\n",
       "      <td>1.772570</td>\n",
       "      <td>2.853</td>\n",
       "      <td>2.59412</td>\n",
       "    </tr>\n",
       "  </tbody>\n",
       "</table>\n",
       "</div>"
      ],
      "text/plain": [
       "    Cambio_rf  Valor_Real  Valor_Predito\n",
       "8    1.756570       2.651        2.64984\n",
       "9    5.251718       6.454        7.18584\n",
       "7    1.795309       2.849        2.65035\n",
       "12   3.424477       3.907        3.95065\n",
       "23   1.772570       2.853        2.59412"
      ]
     },
     "execution_count": 206,
     "metadata": {},
     "output_type": "execute_result"
    }
   ],
   "source": [
    "predicted_rf_df.sample(5)"
   ]
  },
  {
   "cell_type": "code",
   "execution_count": 207,
   "id": "d4f59260",
   "metadata": {},
   "outputs": [
    {
     "data": {
      "text/plain": [
       "0.8371295616493034"
      ]
     },
     "execution_count": 207,
     "metadata": {},
     "output_type": "execute_result"
    }
   ],
   "source": [
    "r2_score(predicted_rf_df[\"Valor_Real\"], predicted_rf_df[\"Valor_Predito\"])"
   ]
  },
  {
   "cell_type": "markdown",
   "id": "cb38ce06",
   "metadata": {},
   "source": [
    "### Previsão dos valores"
   ]
  },
  {
   "cell_type": "code",
   "execution_count": 208,
   "id": "3b85daa3",
   "metadata": {},
   "outputs": [],
   "source": [
    "resultado = {}"
   ]
  },
  {
   "cell_type": "code",
   "execution_count": 209,
   "id": "593c059d",
   "metadata": {},
   "outputs": [],
   "source": [
    "resultado['2020-01'] = df_tx_cambio['cotacaoVenda'].iloc[-1]"
   ]
  },
  {
   "cell_type": "code",
   "execution_count": 210,
   "id": "93e28112",
   "metadata": {},
   "outputs": [],
   "source": [
    "for i in range(2021, 2031):\n",
    "    ano_passado = str(i - 1)+'-01'\n",
    "    ano_corrente = str(i)+'-01'\n",
    "    resultado[ano_corrente]  = (resultado[ano_passado] * 0.04) + resultado[ano_passado]"
   ]
  },
  {
   "cell_type": "code",
   "execution_count": 211,
   "id": "37cc2bd3",
   "metadata": {},
   "outputs": [],
   "source": [
    "resultado_df = pd.DataFrame(list(resultado.items()), columns = ['MÊS', 'TAXA CÂMBIO'])"
   ]
  },
  {
   "cell_type": "code",
   "execution_count": 212,
   "id": "e8d99521",
   "metadata": {},
   "outputs": [],
   "source": [
    "resultado_df['MÊS'] = pd.to_datetime(resultado_df['MÊS'])\n",
    "resultado_df.set_index('MÊS', inplace=True)"
   ]
  },
  {
   "cell_type": "code",
   "execution_count": 213,
   "id": "3da5ec72",
   "metadata": {},
   "outputs": [],
   "source": [
    "resultado_df['PREVISÃO'] = models.predict(resultado_df)"
   ]
  },
  {
   "cell_type": "code",
   "execution_count": 214,
   "id": "cd86d469",
   "metadata": {},
   "outputs": [
    {
     "data": {
      "text/html": [
       "<div>\n",
       "<style scoped>\n",
       "    .dataframe tbody tr th:only-of-type {\n",
       "        vertical-align: middle;\n",
       "    }\n",
       "\n",
       "    .dataframe tbody tr th {\n",
       "        vertical-align: top;\n",
       "    }\n",
       "\n",
       "    .dataframe thead th {\n",
       "        text-align: right;\n",
       "    }\n",
       "</style>\n",
       "<table border=\"1\" class=\"dataframe\">\n",
       "  <thead>\n",
       "    <tr style=\"text-align: right;\">\n",
       "      <th></th>\n",
       "      <th>TAXA CÂMBIO</th>\n",
       "      <th>PREVISÃO</th>\n",
       "    </tr>\n",
       "    <tr>\n",
       "      <th>MÊS</th>\n",
       "      <th></th>\n",
       "      <th></th>\n",
       "    </tr>\n",
       "  </thead>\n",
       "  <tbody>\n",
       "    <tr>\n",
       "      <th>2020-01-01</th>\n",
       "      <td>4.937617</td>\n",
       "      <td>6.141179</td>\n",
       "    </tr>\n",
       "    <tr>\n",
       "      <th>2021-01-01</th>\n",
       "      <td>5.135121</td>\n",
       "      <td>6.365240</td>\n",
       "    </tr>\n",
       "    <tr>\n",
       "      <th>2022-01-01</th>\n",
       "      <td>5.340526</td>\n",
       "      <td>6.598263</td>\n",
       "    </tr>\n",
       "    <tr>\n",
       "      <th>2023-01-01</th>\n",
       "      <td>5.554147</td>\n",
       "      <td>6.840607</td>\n",
       "    </tr>\n",
       "    <tr>\n",
       "      <th>2024-01-01</th>\n",
       "      <td>5.776313</td>\n",
       "      <td>7.092645</td>\n",
       "    </tr>\n",
       "    <tr>\n",
       "      <th>2025-01-01</th>\n",
       "      <td>6.007366</td>\n",
       "      <td>7.354765</td>\n",
       "    </tr>\n",
       "    <tr>\n",
       "      <th>2026-01-01</th>\n",
       "      <td>6.247660</td>\n",
       "      <td>7.627369</td>\n",
       "    </tr>\n",
       "    <tr>\n",
       "      <th>2027-01-01</th>\n",
       "      <td>6.497567</td>\n",
       "      <td>7.910878</td>\n",
       "    </tr>\n",
       "    <tr>\n",
       "      <th>2028-01-01</th>\n",
       "      <td>6.757469</td>\n",
       "      <td>8.205727</td>\n",
       "    </tr>\n",
       "    <tr>\n",
       "      <th>2029-01-01</th>\n",
       "      <td>7.027768</td>\n",
       "      <td>8.512369</td>\n",
       "    </tr>\n",
       "    <tr>\n",
       "      <th>2030-01-01</th>\n",
       "      <td>7.308879</td>\n",
       "      <td>8.831278</td>\n",
       "    </tr>\n",
       "  </tbody>\n",
       "</table>\n",
       "</div>"
      ],
      "text/plain": [
       "            TAXA CÂMBIO  PREVISÃO\n",
       "MÊS                              \n",
       "2020-01-01     4.937617  6.141179\n",
       "2021-01-01     5.135121  6.365240\n",
       "2022-01-01     5.340526  6.598263\n",
       "2023-01-01     5.554147  6.840607\n",
       "2024-01-01     5.776313  7.092645\n",
       "2025-01-01     6.007366  7.354765\n",
       "2026-01-01     6.247660  7.627369\n",
       "2027-01-01     6.497567  7.910878\n",
       "2028-01-01     6.757469  8.205727\n",
       "2029-01-01     7.027768  8.512369\n",
       "2030-01-01     7.308879  8.831278"
      ]
     },
     "execution_count": 214,
     "metadata": {},
     "output_type": "execute_result"
    }
   ],
   "source": [
    "resultado_df"
   ]
  },
  {
   "cell_type": "code",
   "execution_count": null,
   "id": "e4143af6",
   "metadata": {},
   "outputs": [],
   "source": []
  }
 ],
 "metadata": {
  "kernelspec": {
   "display_name": "Python 3 (ipykernel)",
   "language": "python",
   "name": "python3"
  },
  "language_info": {
   "codemirror_mode": {
    "name": "ipython",
    "version": 3
   },
   "file_extension": ".py",
   "mimetype": "text/x-python",
   "name": "python",
   "nbconvert_exporter": "python",
   "pygments_lexer": "ipython3",
   "version": "3.9.7"
  }
 },
 "nbformat": 4,
 "nbformat_minor": 5
}
